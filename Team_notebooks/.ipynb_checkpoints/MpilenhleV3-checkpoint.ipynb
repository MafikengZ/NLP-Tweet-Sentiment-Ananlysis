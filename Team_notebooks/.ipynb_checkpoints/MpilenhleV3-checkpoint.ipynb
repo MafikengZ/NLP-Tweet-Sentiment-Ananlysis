{
 "cells": [
  {
   "cell_type": "markdown",
   "metadata": {},
   "source": [
    "## Overview\n",
    "\n",
    "Many companies are built around lessening one’s environmental impact or carbon footprint. They offer products and services that are environmentally friendly and sustainable, in line with their values and ideals. They would like to determine how people perceive climate change and whether or not they believe it is a real threat. This would add to their market research efforts in gauging how their product/service may be received.\n",
    "\n",
    "With this context, EDSA is challenging you during the Classification Sprint with the task of creating a Machine Learning model that is able to classify whether or not a person believes in climate change, based on their novel tweet data.\n",
    "\n",
    "Providing an accurate and robust solution to this task gives companies access to a broad base of consumer sentiment, spanning multiple demographic and geographic categories - thus increasing their insights and informing future marketing strategies.\n",
    "\n",
    "\n",
    "\n",
    "<br></br>\n",
    "\n",
    "<div align=\"center\" style=\"width: 600px; font-size: 80%; text-align: center; margin: 0 auto\">\n",
    "<img src=\"C:/Users/Mpilenhle\\Documents/EDSA/Classification/classification-predict-streamlit-model/resources/imgs/worl.jpg\"\n",
    "\n",
    "     alt=\"Some fine wine for your fine model\"\n",
    "     style=\"float: center; padding-bottom=0.5em\"\n",
    "     width=600px/>\n",
    "Some fine wine for your fine modeling process. \n",
    "Photo by <a href=\"https://unsplash.com/@hermez777?utm_source=unsplash&utm_medium=referral&utm_content=creditCopyText\"> Hermes Rivera</a> on Unsplash\n",
    "</div>\n",
    "\n",
    "The structure of this notebook is as follows:\n",
    "\n",
    " - First, we'll load our data to get a view of the predictor and response variables we will be modeling. \n",
    " - We'll then preprocess our data, binarising the target variable and splitting up the data intro train and test sets. \n",
    " - We then model our data using a Support Vector Classifier.\n",
    " - Following this modeling, we define a custom metric as the log-loss in order to evaluate our produced model.\n",
    " - Using this metric, we then take several steps to improve our base model's performance by optimising the hyperparameters of the SVC through a grid search strategy. "
   ]
  },
  {
   "cell_type": "code",
   "execution_count": null,
   "metadata": {},
   "outputs": [],
   "source": [
    "image = Image.open(\"C:/Users/Mpilenhle\\Documents/EDSA/Classification/classification-predict-streamlit-model/resources/imgs/worl.jpg\")\n"
   ]
  },
  {
   "cell_type": "code",
   "execution_count": 1,
   "metadata": {},
   "outputs": [],
   "source": [
    "# import relevant libraries\n",
    "import nltk\n",
    "import warnings\n",
    "warnings.filterwarnings(\"ignore\")\n",
    "import numpy as np\n",
    "import pandas as pd\n",
    "\n",
    "import matplotlib.pyplot as plt\n",
    "%matplotlib inline\n",
    "import seaborn as sns\n",
    "import re\n",
    "pd.set_option('display.max_rows', 100)\n",
    "from sklearn.utils import resample\n",
    "from sklearn.pipeline import Pipeline\n",
    "\n",
    "\n",
    "from nltk.corpus import stopwords\n",
    "from sklearn.metrics import classification_report\n",
    "\n",
    "# set plot style\n",
    "# Style\n",
    "import matplotlib.style as style \n",
    "sns.set(font_scale=1.5)\n",
    "style.use('seaborn-pastel')\n",
    "style.use('seaborn-poster')\n",
    "from PIL import Image\n",
    "from wordcloud import WordCloud\n"
   ]
  },
  {
   "cell_type": "code",
   "execution_count": 2,
   "metadata": {},
   "outputs": [],
   "source": [
    "# Loading Data\n",
    "df_train = pd.read_csv('C:/Users/Mpilenhle/Documents/EDSA/Classification/Advanced_Classification_Predict-student_data-2780/train.csv')\n",
    "df_test = pd.read_csv('C:/Users/Mpilenhle/Documents/EDSA/Classification/Advanced_Classification_Predict-student_data-2780/test_with_no_labels.csv')"
   ]
  },
  {
   "cell_type": "markdown",
   "metadata": {},
   "source": [
    "## The Dataset \n",
    "\n",
    "For this coding challenge we'll be using the [Wine Quality dataset](https://archive.ics.uci.edu/ml/datasets/wine+quality) from the UCI Machine Learning Repository. The constituents of this dataset are red and white variants of the Portuguese \"Vinho Verde\" wine. \n",
    "\n",
    "This dataset consists of the following variables: \n",
    "\n",
    " - sentiments\n",
    " - message\n",
    " - tweetid\n",
    "\n"
   ]
  },
  {
   "cell_type": "code",
   "execution_count": 4,
   "metadata": {},
   "outputs": [
    {
     "data": {
      "text/plain": [
       "(15819, 3)"
      ]
     },
     "execution_count": 4,
     "metadata": {},
     "output_type": "execute_result"
    }
   ],
   "source": [
    "# looking at the data\n",
    "df_train.shape"
   ]
  },
  {
   "cell_type": "code",
   "execution_count": 5,
   "metadata": {},
   "outputs": [
    {
     "data": {
      "text/html": [
       "<div>\n",
       "<style scoped>\n",
       "    .dataframe tbody tr th:only-of-type {\n",
       "        vertical-align: middle;\n",
       "    }\n",
       "\n",
       "    .dataframe tbody tr th {\n",
       "        vertical-align: top;\n",
       "    }\n",
       "\n",
       "    .dataframe thead th {\n",
       "        text-align: right;\n",
       "    }\n",
       "</style>\n",
       "<table border=\"1\" class=\"dataframe\">\n",
       "  <thead>\n",
       "    <tr style=\"text-align: right;\">\n",
       "      <th></th>\n",
       "      <th>message</th>\n",
       "      <th>tweetid</th>\n",
       "    </tr>\n",
       "  </thead>\n",
       "  <tbody>\n",
       "    <tr>\n",
       "      <th>0</th>\n",
       "      <td>Europe will now be looking to China to make su...</td>\n",
       "      <td>169760</td>\n",
       "    </tr>\n",
       "    <tr>\n",
       "      <th>1</th>\n",
       "      <td>Combine this with the polling of staffers re c...</td>\n",
       "      <td>35326</td>\n",
       "    </tr>\n",
       "    <tr>\n",
       "      <th>2</th>\n",
       "      <td>The scary, unimpeachable evidence that climate...</td>\n",
       "      <td>224985</td>\n",
       "    </tr>\n",
       "    <tr>\n",
       "      <th>3</th>\n",
       "      <td>@Karoli @morgfair @OsborneInk @dailykos \\nPuti...</td>\n",
       "      <td>476263</td>\n",
       "    </tr>\n",
       "    <tr>\n",
       "      <th>4</th>\n",
       "      <td>RT @FakeWillMoore: 'Female orgasms cause globa...</td>\n",
       "      <td>872928</td>\n",
       "    </tr>\n",
       "  </tbody>\n",
       "</table>\n",
       "</div>"
      ],
      "text/plain": [
       "                                             message  tweetid\n",
       "0  Europe will now be looking to China to make su...   169760\n",
       "1  Combine this with the polling of staffers re c...    35326\n",
       "2  The scary, unimpeachable evidence that climate...   224985\n",
       "3  @Karoli @morgfair @OsborneInk @dailykos \\nPuti...   476263\n",
       "4  RT @FakeWillMoore: 'Female orgasms cause globa...   872928"
      ]
     },
     "execution_count": 5,
     "metadata": {},
     "output_type": "execute_result"
    }
   ],
   "source": [
    "df_test.head()"
   ]
  },
  {
   "cell_type": "code",
   "execution_count": 72,
   "metadata": {},
   "outputs": [
    {
     "data": {
      "image/png": "[encoded data removed]",
      "text/plain": [
       "<Figure size 2000x1000 with 2 Axes>"
      ]
     },
     "metadata": {},
     "output_type": "display_data"
    }
   ],
   "source": [
    "# Display target distribution\n",
    "style.use('seaborn-pastel')\n",
    "fig, axes = plt.subplots(ncols=2,nrows=1,figsize=(20, 10),dpi=100)\n",
    "sns.countplot(df['sentiment'], ax=axes[0])\n",
    "labels=['Pro', 'News', 'Neutral', 'Anti'] \n",
    "axes[1].pie(df['sentiment'].value_counts(),labels=labels,autopct='%1.0f%%',shadow=True,startangle=90,explode = (0.1, 0.1, 0.1, 0.1))\n",
    "fig.suptitle('Tweet distribution', fontsize=20)\n",
    "plt.show()"
   ]
  },
  {
   "cell_type": "code",
   "execution_count": 10,
   "metadata": {},
   "outputs": [],
   "source": [
    "\n",
    "\"\"\"\n",
    "The function uses some of the functions remove_emoji() which removes\n",
    "emojis in a tweet\n",
    "it also uses the function remove_punctuation() which removes\n",
    "punctuations\n",
    "\n",
    "The function data_cleaner() implements both these functions to make a \n",
    "clean data frame, with the use of the regular expressions it removes\n",
    "noise or unwanted charecters in the tweets\n",
    "\n",
    "\n",
    "\"\"\"\n",
    "import string\n",
    "import re\n",
    "\n",
    "\n",
    "#creating a function for removing emojis\n",
    "def remove_emoji(string):\n",
    "    emoji_pattern = re.compile(\"[\" \n",
    "                u\"\\U0001F600-\\U0001F64F\"  # emoticons\n",
    "                u\"\\U0001F300-\\U0001F5FF\"  # symbols & pictographs\n",
    "                u\"\\U0001F680-\\U0001F6FF\"  # transport & map symbols\n",
    "                u\"\\U0001F1E0-\\U0001F1FF\"  # flags (iOS)\n",
    "                u\"\\U00002702-\\U000027B0\"\n",
    "                u\"\\U000024C2-\\U0001F251\"\n",
    "                u\"\\U0001f926-\\U0001f937\"\n",
    "                u'\\U00010000-\\U0010ffff'\n",
    "                u\"\\u200d\"\n",
    "                u\"\\u2640-\\u2642\"\n",
    "                u\"\\u2600-\\u2B55\"\n",
    "                u\"\\u23cf\"\n",
    "                u\"\\u23e9\"\n",
    "                u\"\\u231a\"\n",
    "                u\"\\u3030\"\n",
    "                u\"\\ufe0f\"\n",
    "                           \"]+\", flags=re.UNICODE)\n",
    "    return emoji_pattern.sub(r'', string)\n",
    "\n",
    "\n",
    "# punctuation remover function\n",
    "def remove_punctuation(tweets):\n",
    "    return ''.join([l for l in tweets if l not in string.punctuation])\n",
    "\n",
    "\n",
    "\n",
    "def data_cleaner(df, column):\n",
    "    \n",
    "    #remmoving the urls\n",
    "    pattern_url = r'http[s]?://[A-Za-z0-9/.]+'\n",
    "    subs_url = r'url-web'\n",
    "    df[column] = df[column].replace(to_replace = pattern_url, value = subs_url, regex = True)\n",
    "    \n",
    "    #remmoving the Re Tweets \n",
    "    pattern_url = r'RT\\s\\@'\n",
    "    subs_url = r''\n",
    "    df[column] = df[column].replace(to_replace = pattern_url, value = subs_url, regex = True)\n",
    "    \n",
    "\n",
    "    #remmoving the mentions \n",
    "    pattern_url = r'@'\n",
    "    subs_url = r''\n",
    "    df[column] = df[column].replace(to_replace = pattern_url, value = subs_url, regex = True)\n",
    "\n",
    "\n",
    "    #remmoving the Hashtags \n",
    "    pattern_url = r'\\#'\n",
    "    subs_url = r''\n",
    "    df[column] = df[column].replace(to_replace = pattern_url, value = subs_url, regex = True)\n",
    "    \n",
    "\n",
    "    #remmoving the remaining https\n",
    "    pattern_url = r'https:[.*?]+'\n",
    "    subs_url = r''\n",
    "    df[column] = df[column].replace(to_replace = pattern_url, value = subs_url, regex = True)\n",
    "\n",
    "    # turning all tweets to lower case\n",
    "    df[column] = df[column].str.lower()\n",
    "    \n",
    "    # using apply method to remove the punctuation marks\n",
    "    df[column] = df[column].apply(remove_punctuation)\n",
    "    \n",
    "    # Removing the emojis using the apply method\n",
    "    df[column] = df[column].apply(remove_emoji)\n",
    "    \n",
    "    #remmoving the uknown charecters from words\n",
    "    pattern_url = r'[^A-Za-z ]'\n",
    "    subs_url = r''\n",
    "    df[column] = df[column].replace(to_replace = pattern_url, value = subs_url, regex = True)\n",
    "\n",
    "    \n",
    "    return df"
   ]
  },
  {
   "cell_type": "code",
   "execution_count": 11,
   "metadata": {},
   "outputs": [],
   "source": [
    "clean_df = data_cleaner(df_train, 'message')"
   ]
  },
  {
   "cell_type": "code",
   "execution_count": 12,
   "metadata": {},
   "outputs": [
    {
     "data": {
      "text/html": [
       "<div>\n",
       "<style scoped>\n",
       "    .dataframe tbody tr th:only-of-type {\n",
       "        vertical-align: middle;\n",
       "    }\n",
       "\n",
       "    .dataframe tbody tr th {\n",
       "        vertical-align: top;\n",
       "    }\n",
       "\n",
       "    .dataframe thead th {\n",
       "        text-align: right;\n",
       "    }\n",
       "</style>\n",
       "<table border=\"1\" class=\"dataframe\">\n",
       "  <thead>\n",
       "    <tr style=\"text-align: right;\">\n",
       "      <th></th>\n",
       "      <th>sentiment</th>\n",
       "      <th>message</th>\n",
       "      <th>tweetid</th>\n",
       "    </tr>\n",
       "  </thead>\n",
       "  <tbody>\n",
       "    <tr>\n",
       "      <th>0</th>\n",
       "      <td>1</td>\n",
       "      <td>polyscimajor epa chief doesnt think carbon dio...</td>\n",
       "      <td>625221</td>\n",
       "    </tr>\n",
       "    <tr>\n",
       "      <th>1</th>\n",
       "      <td>1</td>\n",
       "      <td>its not like we lack evidence of anthropogenic...</td>\n",
       "      <td>126103</td>\n",
       "    </tr>\n",
       "    <tr>\n",
       "      <th>2</th>\n",
       "      <td>2</td>\n",
       "      <td>rawstory researchers say we have three years t...</td>\n",
       "      <td>698562</td>\n",
       "    </tr>\n",
       "    <tr>\n",
       "      <th>3</th>\n",
       "      <td>1</td>\n",
       "      <td>todayinmaker wired   was a pivotal year in the...</td>\n",
       "      <td>573736</td>\n",
       "    </tr>\n",
       "    <tr>\n",
       "      <th>4</th>\n",
       "      <td>1</td>\n",
       "      <td>soynoviodetodas its  and a racist sexist clima...</td>\n",
       "      <td>466954</td>\n",
       "    </tr>\n",
       "  </tbody>\n",
       "</table>\n",
       "</div>"
      ],
      "text/plain": [
       "   sentiment                                            message  tweetid\n",
       "0          1  polyscimajor epa chief doesnt think carbon dio...   625221\n",
       "1          1  its not like we lack evidence of anthropogenic...   126103\n",
       "2          2  rawstory researchers say we have three years t...   698562\n",
       "3          1  todayinmaker wired   was a pivotal year in the...   573736\n",
       "4          1  soynoviodetodas its  and a racist sexist clima...   466954"
      ]
     },
     "execution_count": 12,
     "metadata": {},
     "output_type": "execute_result"
    }
   ],
   "source": [
    "clean_df.head()"
   ]
  },
  {
   "cell_type": "code",
   "execution_count": 26,
   "metadata": {},
   "outputs": [],
   "source": [
    "\n",
    "\"\"\"\n",
    "\n",
    "Pre processing the data by creating new columns each with feature\n",
    "normalization technique applied, the use of outer functions also help\n",
    "in cleaning and removing the stop words\n",
    "first tokenise tweets\n",
    "then remove stop words\n",
    "we then lemmatize the tokens\n",
    "we then stem the words\n",
    "we finally join the tokens to form a sentence\n",
    "\n",
    "\n",
    "\"\"\"\n",
    "\n",
    "# importing tokenizing library\n",
    "from nltk.tokenize import word_tokenize, TreebankWordTokenizer\n",
    "from nltk.stem import WordNetLemmatizer\n",
    "#importing stemmer library\n",
    "from nltk import SnowballStemmer\n",
    "#importing stemmer library\n",
    "from nltk import SnowballStemmer\n",
    "\n",
    "\n",
    "\n",
    "# lemmatizing function\n",
    "lemmatizer = WordNetLemmatizer()\n",
    "def tweet_lemma(words, lemmatizer):\n",
    "    return [lemmatizer.lemmatize(word) for word in words if word.isalpha()]    \n",
    "\n",
    "#Stemmer function\n",
    "stemmer = SnowballStemmer('english')\n",
    "def token_stemmer(words, stemmer):\n",
    "    return [stemmer.stem(word) for word in words]\n",
    "\n",
    "def remove_stop_words(tokens):    \n",
    "    return [t for t in tokens if t not in stopwords.words('english')]\n",
    "\n",
    "def token_lemmatizer_stemmer(df):\n",
    "    \n",
    "    #tokenise the tweets and create a column\n",
    "    tokeniser = TreebankWordTokenizer()\n",
    "    df['tokens'] = df['message'].apply(tokeniser.tokenize)\n",
    "     # Remove stop words first\n",
    "    df['token_no_stop_word'] = df['tokens'].apply(remove_stop_words)\n",
    "    \n",
    "    # Remove stop words first\n",
    "    df['lemma'] = df['token_no_stop_word'].apply(tweet_lemma, args=(lemmatizer, ))\n",
    "    \n",
    "    # Remove stop words first\n",
    "    df['stem'] = df['lemma'].apply(token_stemmer, args=(stemmer, ))\n",
    "    \n",
    "    # join the tokens to form a sentence\n",
    "    clean_sentences = [\" \".join(i) for i in df['stem']]\n",
    "    df['clean_sentences'] = clean_sentences\n",
    "    \n",
    "    return df\n",
    "    "
   ]
  },
  {
   "cell_type": "code",
   "execution_count": 27,
   "metadata": {},
   "outputs": [
    {
     "data": {
      "text/html": [
       "<div>\n",
       "<style scoped>\n",
       "    .dataframe tbody tr th:only-of-type {\n",
       "        vertical-align: middle;\n",
       "    }\n",
       "\n",
       "    .dataframe tbody tr th {\n",
       "        vertical-align: top;\n",
       "    }\n",
       "\n",
       "    .dataframe thead th {\n",
       "        text-align: right;\n",
       "    }\n",
       "</style>\n",
       "<table border=\"1\" class=\"dataframe\">\n",
       "  <thead>\n",
       "    <tr style=\"text-align: right;\">\n",
       "      <th></th>\n",
       "      <th>sentiment</th>\n",
       "      <th>message</th>\n",
       "      <th>tweetid</th>\n",
       "      <th>tokens</th>\n",
       "      <th>token_no_stop_word</th>\n",
       "      <th>lemma</th>\n",
       "      <th>stem</th>\n",
       "      <th>clean_sentences</th>\n",
       "    </tr>\n",
       "  </thead>\n",
       "  <tbody>\n",
       "    <tr>\n",
       "      <th>0</th>\n",
       "      <td>1</td>\n",
       "      <td>polyscimajor epa chief doesnt think carbon dio...</td>\n",
       "      <td>625221</td>\n",
       "      <td>[polyscimajor, epa, chief, doesnt, think, carb...</td>\n",
       "      <td>[polyscimajor, epa, chief, doesnt, think, carb...</td>\n",
       "      <td>[polyscimajor, epa, chief, doesnt, think, carb...</td>\n",
       "      <td>[polyscimajor, epa, chief, doesnt, think, carb...</td>\n",
       "      <td>polyscimajor epa chief doesnt think carbon dio...</td>\n",
       "    </tr>\n",
       "    <tr>\n",
       "      <th>1</th>\n",
       "      <td>1</td>\n",
       "      <td>its not like we lack evidence of anthropogenic...</td>\n",
       "      <td>126103</td>\n",
       "      <td>[its, not, like, we, lack, evidence, of, anthr...</td>\n",
       "      <td>[like, lack, evidence, anthropogenic, global, ...</td>\n",
       "      <td>[like, lack, evidence, anthropogenic, global, ...</td>\n",
       "      <td>[like, lack, evid, anthropogen, global, warm]</td>\n",
       "      <td>like lack evid anthropogen global warm</td>\n",
       "    </tr>\n",
       "    <tr>\n",
       "      <th>2</th>\n",
       "      <td>2</td>\n",
       "      <td>researchers say we have three years to act on...</td>\n",
       "      <td>698562</td>\n",
       "      <td>[researchers, say, we, have, three, years, to,...</td>\n",
       "      <td>[researchers, say, three, years, act, climate,...</td>\n",
       "      <td>[researcher, say, three, year, act, climate, c...</td>\n",
       "      <td>[research, say, three, year, act, climat, chan...</td>\n",
       "      <td>research say three year act climat chang late</td>\n",
       "    </tr>\n",
       "    <tr>\n",
       "      <th>3</th>\n",
       "      <td>1</td>\n",
       "      <td>wired  2016 was a pivotal year in the war on ...</td>\n",
       "      <td>573736</td>\n",
       "      <td>[wired, 2016, was, a, pivotal, year, in, the, ...</td>\n",
       "      <td>[wired, 2016, pivotal, year, war, climate, cha...</td>\n",
       "      <td>[wired, pivotal, year, war, climate, change]</td>\n",
       "      <td>[wire, pivot, year, war, climat, chang]</td>\n",
       "      <td>wire pivot year war climat chang</td>\n",
       "    </tr>\n",
       "    <tr>\n",
       "      <th>4</th>\n",
       "      <td>1</td>\n",
       "      <td>its 2016 and a racist sexist climate change d...</td>\n",
       "      <td>466954</td>\n",
       "      <td>[its, 2016, and, a, racist, sexist, climate, c...</td>\n",
       "      <td>[2016, racist, sexist, climate, change, denyin...</td>\n",
       "      <td>[racist, sexist, climate, change, denying, big...</td>\n",
       "      <td>[racist, sexist, climat, chang, deni, bigot, l...</td>\n",
       "      <td>racist sexist climat chang deni bigot lead poll</td>\n",
       "    </tr>\n",
       "  </tbody>\n",
       "</table>\n",
       "</div>"
      ],
      "text/plain": [
       "   sentiment                                            message  tweetid  \\\n",
       "0          1  polyscimajor epa chief doesnt think carbon dio...   625221   \n",
       "1          1  its not like we lack evidence of anthropogenic...   126103   \n",
       "2          2   researchers say we have three years to act on...   698562   \n",
       "3          1   wired  2016 was a pivotal year in the war on ...   573736   \n",
       "4          1   its 2016 and a racist sexist climate change d...   466954   \n",
       "\n",
       "                                              tokens  \\\n",
       "0  [polyscimajor, epa, chief, doesnt, think, carb...   \n",
       "1  [its, not, like, we, lack, evidence, of, anthr...   \n",
       "2  [researchers, say, we, have, three, years, to,...   \n",
       "3  [wired, 2016, was, a, pivotal, year, in, the, ...   \n",
       "4  [its, 2016, and, a, racist, sexist, climate, c...   \n",
       "\n",
       "                                  token_no_stop_word  \\\n",
       "0  [polyscimajor, epa, chief, doesnt, think, carb...   \n",
       "1  [like, lack, evidence, anthropogenic, global, ...   \n",
       "2  [researchers, say, three, years, act, climate,...   \n",
       "3  [wired, 2016, pivotal, year, war, climate, cha...   \n",
       "4  [2016, racist, sexist, climate, change, denyin...   \n",
       "\n",
       "                                               lemma  \\\n",
       "0  [polyscimajor, epa, chief, doesnt, think, carb...   \n",
       "1  [like, lack, evidence, anthropogenic, global, ...   \n",
       "2  [researcher, say, three, year, act, climate, c...   \n",
       "3       [wired, pivotal, year, war, climate, change]   \n",
       "4  [racist, sexist, climate, change, denying, big...   \n",
       "\n",
       "                                                stem  \\\n",
       "0  [polyscimajor, epa, chief, doesnt, think, carb...   \n",
       "1      [like, lack, evid, anthropogen, global, warm]   \n",
       "2  [research, say, three, year, act, climat, chan...   \n",
       "3            [wire, pivot, year, war, climat, chang]   \n",
       "4  [racist, sexist, climat, chang, deni, bigot, l...   \n",
       "\n",
       "                                     clean_sentences  \n",
       "0  polyscimajor epa chief doesnt think carbon dio...  \n",
       "1             like lack evid anthropogen global warm  \n",
       "2      research say three year act climat chang late  \n",
       "3                   wire pivot year war climat chang  \n",
       "4    racist sexist climat chang deni bigot lead poll  "
      ]
     },
     "execution_count": 27,
     "metadata": {},
     "output_type": "execute_result"
    }
   ],
   "source": [
    "df = token_lemmatizer_stemmer(df)\n",
    "df.head()"
   ]
  },
  {
   "cell_type": "code",
   "execution_count": null,
   "metadata": {},
   "outputs": [],
   "source": [
    "df.head()"
   ]
  },
  {
   "cell_type": "code",
   "execution_count": null,
   "metadata": {},
   "outputs": [],
   "source": [
    "from sklearn.impute import KNNImputer\n",
    "\n",
    "# define imputer\n",
    "imputer = KNNImputer() #default k is 5=> n_neighbors=5\n",
    "# fit on the dataset\n",
    "imputer.fit(X)\n",
    "# transform the dataset\n",
    "Xtrans = imputer.transform(X)"
   ]
  },
  {
   "cell_type": "code",
   "execution_count": 29,
   "metadata": {},
   "outputs": [],
   "source": [
    "# Pick a class size of roughly half the size of the largest size\n",
    "class_size = 5000\n",
    "\n",
    "# Downsample classes with more than 5000 observations\n",
    "pro_downsampled = resample(df[df['sentiment']==1],\n",
    "                          replace=False, # sample without replacement (no need to duplicate observations)\n",
    "                          n_samples= 8000, # match number in class_size\n",
    "                          random_state=27) # reproducible results\n",
    "\n",
    "# Upsample classes with less than 5000 observations\n",
    "neutral_upsampled = resample(df[df['sentiment']==0],\n",
    "                          replace=True, # sample with replacement (we need to duplicate observations)\n",
    "                          n_samples=class_size, # match number in class_size\n",
    "                          random_state=27) # reproducible results\n",
    "\n",
    "# Upsample classes with less than 5000 observations\n",
    "anti_upsampled = resample(df[df['sentiment']==-1],\n",
    "                          replace=True, # sample with replacement (we need to duplicate observations)\n",
    "                          n_samples=class_size, # match number in class_size\n",
    "                          random_state=27) # reproducible results\n",
    "\n",
    "# Upsample classes with less than 5000 observations\n",
    "news_upsampled = resample(df[df['sentiment']==2],\n",
    "                          replace=True, # sample with replacement (we need to duplicate observations)\n",
    "                          n_samples=class_size, # match number in class_size\n",
    "                          random_state=27) # reproducible results\n",
    "\n",
    "\n",
    "\n"
   ]
  },
  {
   "cell_type": "code",
   "execution_count": 30,
   "metadata": {},
   "outputs": [
    {
     "data": {
      "text/plain": [
       " 1    8000\n",
       " 0    5000\n",
       "-1    5000\n",
       " 2    5000\n",
       "Name: sentiment, dtype: int64"
      ]
     },
     "execution_count": 30,
     "metadata": {},
     "output_type": "execute_result"
    }
   ],
   "source": [
    "# Combine sampled classes with majority class\n",
    "sampled = pd.concat([pro_downsampled, neutral_upsampled, anti_upsampled, news_upsampled])\n",
    "\n",
    "# Check new class counts\n",
    "sampled['sentiment'].value_counts()\n"
   ]
  },
  {
   "cell_type": "code",
   "execution_count": 55,
   "metadata": {},
   "outputs": [
    {
     "data": {
      "text/plain": [
       "(23000, 8)"
      ]
     },
     "execution_count": 55,
     "metadata": {},
     "output_type": "execute_result"
    }
   ],
   "source": [
    "sampled.shape"
   ]
  },
  {
   "cell_type": "code",
   "execution_count": 28,
   "metadata": {},
   "outputs": [
    {
     "data": {
      "text/plain": [
       " 1    8530\n",
       " 2    3640\n",
       " 0    2353\n",
       "-1    1296\n",
       "Name: sentiment, dtype: int64"
      ]
     },
     "execution_count": 28,
     "metadata": {},
     "output_type": "execute_result"
    }
   ],
   "source": [
    "df['sentiment'].value_counts()\n"
   ]
  },
  {
   "cell_type": "code",
   "execution_count": 31,
   "metadata": {},
   "outputs": [
    {
     "data": {
      "text/html": [
       "<div>\n",
       "<style scoped>\n",
       "    .dataframe tbody tr th:only-of-type {\n",
       "        vertical-align: middle;\n",
       "    }\n",
       "\n",
       "    .dataframe tbody tr th {\n",
       "        vertical-align: top;\n",
       "    }\n",
       "\n",
       "    .dataframe thead th {\n",
       "        text-align: right;\n",
       "    }\n",
       "</style>\n",
       "<table border=\"1\" class=\"dataframe\">\n",
       "  <thead>\n",
       "    <tr style=\"text-align: right;\">\n",
       "      <th></th>\n",
       "      <th>sentiment</th>\n",
       "      <th>message</th>\n",
       "      <th>tweetid</th>\n",
       "      <th>tokens</th>\n",
       "      <th>token_no_stop_word</th>\n",
       "      <th>lemma</th>\n",
       "      <th>stem</th>\n",
       "      <th>clean_sentences</th>\n",
       "    </tr>\n",
       "  </thead>\n",
       "  <tbody>\n",
       "    <tr>\n",
       "      <th>11729</th>\n",
       "      <td>1</td>\n",
       "      <td>funding from  will support s team as they add...</td>\n",
       "      <td>977844</td>\n",
       "      <td>[funding, from, will, support, s, team, as, th...</td>\n",
       "      <td>[funding, support, team, address, impact, clim...</td>\n",
       "      <td>[funding, support, team, address, impact, clim...</td>\n",
       "      <td>[fund, support, team, address, impact, climat,...</td>\n",
       "      <td>fund support team address impact climat chang</td>\n",
       "    </tr>\n",
       "    <tr>\n",
       "      <th>8308</th>\n",
       "      <td>1</td>\n",
       "      <td>gag orders sure hes definitely green and does...</td>\n",
       "      <td>441956</td>\n",
       "      <td>[gag, orders, sure, hes, definitely, green, an...</td>\n",
       "      <td>[gag, orders, sure, hes, definitely, green, do...</td>\n",
       "      <td>[gag, order, sure, he, definitely, green, does...</td>\n",
       "      <td>[gag, order, sure, he, definit, green, doesnt,...</td>\n",
       "      <td>gag order sure he definit green doesnt think c...</td>\n",
       "    </tr>\n",
       "    <tr>\n",
       "      <th>7159</th>\n",
       "      <td>1</td>\n",
       "      <td>not ominous at all he also wants the names of...</td>\n",
       "      <td>978938</td>\n",
       "      <td>[not, ominous, at, all, he, also, wants, the, ...</td>\n",
       "      <td>[ominous, also, wants, names, anyone, working,...</td>\n",
       "      <td>[ominous, also, want, name, anyone, working, c...</td>\n",
       "      <td>[omin, also, want, name, anyon, work, climat, ...</td>\n",
       "      <td>omin also want name anyon work climat chang re...</td>\n",
       "    </tr>\n",
       "    <tr>\n",
       "      <th>5644</th>\n",
       "      <td>1</td>\n",
       "      <td>in case you forgot about that chinese hoax gl...</td>\n",
       "      <td>587737</td>\n",
       "      <td>[in, case, you, forgot, about, that, chinese, ...</td>\n",
       "      <td>[case, forgot, chinese, hoax, global, warming]</td>\n",
       "      <td>[case, forgot, chinese, hoax, global, warming]</td>\n",
       "      <td>[case, forgot, chines, hoax, global, warm]</td>\n",
       "      <td>case forgot chines hoax global warm</td>\n",
       "    </tr>\n",
       "    <tr>\n",
       "      <th>6732</th>\n",
       "      <td>1</td>\n",
       "      <td>hrc proposes installing half a billion solar ...</td>\n",
       "      <td>804767</td>\n",
       "      <td>[hrc, proposes, installing, half, a, billion, ...</td>\n",
       "      <td>[hrc, proposes, installing, half, billion, sol...</td>\n",
       "      <td>[hrc, proposes, installing, half, billion, sol...</td>\n",
       "      <td>[hrc, propos, instal, half, billion, solar, pa...</td>\n",
       "      <td>hrc propos instal half billion solar panel end...</td>\n",
       "    </tr>\n",
       "  </tbody>\n",
       "</table>\n",
       "</div>"
      ],
      "text/plain": [
       "       sentiment                                            message  tweetid  \\\n",
       "11729          1   funding from  will support s team as they add...   977844   \n",
       "8308           1   gag orders sure hes definitely green and does...   441956   \n",
       "7159           1   not ominous at all he also wants the names of...   978938   \n",
       "5644           1   in case you forgot about that chinese hoax gl...   587737   \n",
       "6732           1   hrc proposes installing half a billion solar ...   804767   \n",
       "\n",
       "                                                  tokens  \\\n",
       "11729  [funding, from, will, support, s, team, as, th...   \n",
       "8308   [gag, orders, sure, hes, definitely, green, an...   \n",
       "7159   [not, ominous, at, all, he, also, wants, the, ...   \n",
       "5644   [in, case, you, forgot, about, that, chinese, ...   \n",
       "6732   [hrc, proposes, installing, half, a, billion, ...   \n",
       "\n",
       "                                      token_no_stop_word  \\\n",
       "11729  [funding, support, team, address, impact, clim...   \n",
       "8308   [gag, orders, sure, hes, definitely, green, do...   \n",
       "7159   [ominous, also, wants, names, anyone, working,...   \n",
       "5644      [case, forgot, chinese, hoax, global, warming]   \n",
       "6732   [hrc, proposes, installing, half, billion, sol...   \n",
       "\n",
       "                                                   lemma  \\\n",
       "11729  [funding, support, team, address, impact, clim...   \n",
       "8308   [gag, order, sure, he, definitely, green, does...   \n",
       "7159   [ominous, also, want, name, anyone, working, c...   \n",
       "5644      [case, forgot, chinese, hoax, global, warming]   \n",
       "6732   [hrc, proposes, installing, half, billion, sol...   \n",
       "\n",
       "                                                    stem  \\\n",
       "11729  [fund, support, team, address, impact, climat,...   \n",
       "8308   [gag, order, sure, he, definit, green, doesnt,...   \n",
       "7159   [omin, also, want, name, anyon, work, climat, ...   \n",
       "5644          [case, forgot, chines, hoax, global, warm]   \n",
       "6732   [hrc, propos, instal, half, billion, solar, pa...   \n",
       "\n",
       "                                         clean_sentences  \n",
       "11729      fund support team address impact climat chang  \n",
       "8308   gag order sure he definit green doesnt think c...  \n",
       "7159   omin also want name anyon work climat chang re...  \n",
       "5644                 case forgot chines hoax global warm  \n",
       "6732   hrc propos instal half billion solar panel end...  "
      ]
     },
     "execution_count": 31,
     "metadata": {},
     "output_type": "execute_result"
    }
   ],
   "source": [
    "sampled.head()"
   ]
  },
  {
   "cell_type": "code",
   "execution_count": 73,
   "metadata": {},
   "outputs": [
    {
     "data": {
      "image/png": "[encoded data removed]",
      "text/plain": [
       "<Figure size 2000x1000 with 2 Axes>"
      ]
     },
     "metadata": {},
     "output_type": "display_data"
    }
   ],
   "source": [
    "# Display target distribution\n",
    "style.use('seaborn-pastel')\n",
    "fig, axes = plt.subplots(ncols=2,nrows=1,figsize=(20, 10),dpi=100)\n",
    "sns.countplot(sampled['sentiment'], ax=axes[0])\n",
    "labels=['Pro', 'News', 'Neutral', 'Anti'] \n",
    "axes[1].pie(sampled['sentiment'].value_counts(),labels=labels,autopct='%1.0f%%',shadow=True,startangle=90,explode = (0.1, 0.1, 0.1, 0.1))\n",
    "fig.suptitle('Tweet distribution', fontsize=20)\n",
    "plt.show()"
   ]
  },
  {
   "cell_type": "code",
   "execution_count": 32,
   "metadata": {},
   "outputs": [],
   "source": [
    "# importing necessary libraries\n",
    "from sklearn import datasets\n",
    "from sklearn.metrics import confusion_matrix\n",
    "from sklearn.model_selection import train_test_split\n",
    " \n",
    "# X -> features, y -> label\n",
    "y =  sampled['sentiment']\n",
    "X =  sampled['clean_sentences']\n",
    "\n",
    "# dividing X, y into train and test data\n",
    "X_train, X_test, y_train, y_test = train_test_split(X, y, \n",
    "                                random_state = 42)\n",
    "\n",
    "# extracting features\n",
    "from sklearn.feature_extraction.text import TfidfVectorizer\n",
    "\n",
    "vectorizer = TfidfVectorizer()\n",
    "V_train_X = vectorizer.fit_transform(X_train)\n",
    "V_test_X = vectorizer.transform(X_test)\n",
    "\n",
    "\n",
    "# Import the scaler module\n",
    "from sklearn import preprocessing\n",
    "scaler = preprocessing.MaxAbsScaler ()\n",
    "# Scale data\n",
    "X_train_scaled = scaler.fit_transform(V_train_X)\n",
    "x_test_scaled = scaler.transform(V_test_X)\n"
   ]
  },
  {
   "cell_type": "code",
   "execution_count": 33,
   "metadata": {},
   "outputs": [
    {
     "name": "stdout",
     "output_type": "stream",
     "text": [
      "Classification Report Decision Tree\n",
      "              precision    recall  f1-score   support\n",
      "\n",
      "          -1       0.35      0.47      0.40      1203\n",
      "           0       0.95      0.03      0.06      1266\n",
      "           1       0.41      0.75      0.53      2008\n",
      "           2       0.59      0.22      0.32      1273\n",
      "\n",
      "    accuracy                           0.41      5750\n",
      "   macro avg       0.58      0.36      0.33      5750\n",
      "weighted avg       0.56      0.41      0.35      5750\n",
      "\n"
     ]
    }
   ],
   "source": [
    "\n",
    " # training a DescisionTreeClassifier\n",
    "from sklearn.tree import DecisionTreeClassifier\n",
    "dtree_model = DecisionTreeClassifier(max_depth = 2).fit(X_train_scaled, y_train)\n",
    "dtree_predictions = dtree_model.predict(x_test_scaled)\n",
    " \n",
    "# creating a confusion matrix\n",
    "cm1 = confusion_matrix(y_test, dtree_predictions)\n",
    "print('Classification Report Decision Tree')\n",
    "print(classification_report(y_test, dtree_predictions))\n"
   ]
  },
  {
   "cell_type": "code",
   "execution_count": 34,
   "metadata": {},
   "outputs": [
    {
     "name": "stdout",
     "output_type": "stream",
     "text": [
      "Classification Report SVM\n",
      "              precision    recall  f1-score   support\n",
      "\n",
      "          -1       0.84      0.90      0.87      1203\n",
      "           0       0.77      0.73      0.75      1266\n",
      "           1       0.77      0.75      0.76      2008\n",
      "           2       0.81      0.82      0.82      1273\n",
      "\n",
      "    accuracy                           0.79      5750\n",
      "   macro avg       0.80      0.80      0.80      5750\n",
      "weighted avg       0.79      0.79      0.79      5750\n",
      "\n"
     ]
    }
   ],
   "source": [
    "\n",
    "# training a linear SVM classifier\n",
    "from sklearn.svm import SVC\n",
    "svm_model_linear = SVC(kernel = 'linear', C = 1).fit(V_train_X, y_train)\n",
    "svm_predictions = svm_model_linear.predict(V_test_X)\n",
    " \n",
    "# model accuracy for V_test_X \n",
    "accuracy = svm_model_linear.score(V_test_X, y_test)\n",
    " \n",
    "# creating a confusion matrix\n",
    "cm2 = confusion_matrix(y_test, svm_predictions)\n",
    "\n",
    "print('Classification Report SVM')\n",
    "print(classification_report(y_test, svm_predictions))"
   ]
  },
  {
   "cell_type": "code",
   "execution_count": 44,
   "metadata": {},
   "outputs": [
    {
     "name": "stdout",
     "output_type": "stream",
     "text": [
      "Classification Report poly_pred \n",
      "              precision    recall  f1-score   support\n",
      "\n",
      "          -1       0.98      0.97      0.98      1203\n",
      "           0       0.98      0.82      0.89      1266\n",
      "           1       0.79      0.96      0.87      2008\n",
      "           2       0.95      0.79      0.86      1273\n",
      "\n",
      "    accuracy                           0.89      5750\n",
      "   macro avg       0.93      0.89      0.90      5750\n",
      "weighted avg       0.91      0.89      0.89      5750\n",
      "\n"
     ]
    }
   ],
   "source": [
    "rbf = SVC(kernel='rbf', gamma=0.5, C=0.1).fit(V_train_X, y_train)\n",
    "poly = SVC(kernel='poly', degree=3, C=1).fit(V_train_X, y_train)\n",
    "\n",
    "poly_pred = poly.predict(V_test_X)\n",
    "rbf_pred = rbf.predict(V_test_X)\n",
    "print('Classification Report poly_pred ')\n",
    "print(classification_report(y_test, poly_pred))"
   ]
  },
  {
   "cell_type": "code",
   "execution_count": 45,
   "metadata": {},
   "outputs": [
    {
     "name": "stdout",
     "output_type": "stream",
     "text": [
      "Classification Report rbf_pred \n",
      "              precision    recall  f1-score   support\n",
      "\n",
      "          -1       0.81      0.48      0.60      1203\n",
      "           0       0.72      0.25      0.37      1266\n",
      "           1       0.45      0.91      0.60      2008\n",
      "           2       0.82      0.34      0.48      1273\n",
      "\n",
      "    accuracy                           0.55      5750\n",
      "   macro avg       0.70      0.49      0.51      5750\n",
      "weighted avg       0.66      0.55      0.52      5750\n",
      "\n"
     ]
    }
   ],
   "source": [
    "print('Classification Report rbf_pred ')\n",
    "print(classification_report(y_test, rbf_pred))"
   ]
  },
  {
   "cell_type": "code",
   "execution_count": 35,
   "metadata": {},
   "outputs": [
    {
     "name": "stdout",
     "output_type": "stream",
     "text": [
      "0.6466086956521739\n",
      "Classification Report KNN\n",
      "              precision    recall  f1-score   support\n",
      "\n",
      "          -1       0.64      0.81      0.71      1203\n",
      "           0       0.57      0.62      0.59      1266\n",
      "           1       0.70      0.53      0.61      2008\n",
      "           2       0.68      0.70      0.69      1273\n",
      "\n",
      "    accuracy                           0.65      5750\n",
      "   macro avg       0.65      0.67      0.65      5750\n",
      "weighted avg       0.65      0.65      0.64      5750\n",
      "\n"
     ]
    }
   ],
   "source": [
    "\n",
    "# training a KNN classifier\n",
    "from sklearn.neighbors import KNeighborsClassifier\n",
    "knn = KNeighborsClassifier(n_neighbors = 7).fit(V_train_X, y_train)\n",
    " \n",
    "# accuracy on V_test_X\n",
    "accuracy = knn.score(V_test_X, y_test)\n",
    "print(accuracy)\n",
    " \n",
    "# creating a confusion matrix\n",
    "knn_predictions = knn.predict(V_test_X)\n",
    "cm3 = confusion_matrix(y_test, knn_predictions)\n",
    "\n",
    "print('Classification Report KNN')\n",
    "print(classification_report(y_test, knn_predictions))\n"
   ]
  },
  {
   "cell_type": "code",
   "execution_count": 36,
   "metadata": {},
   "outputs": [
    {
     "name": "stdout",
     "output_type": "stream",
     "text": [
      "0.6052173913043478\n",
      "Classification Report Naive Bayes\n",
      "              precision    recall  f1-score   support\n",
      "\n",
      "          -1       0.49      0.99      0.65      1203\n",
      "           0       0.70      0.58      0.64      1266\n",
      "           1       0.83      0.31      0.45      2008\n",
      "           2       0.62      0.73      0.67      1273\n",
      "\n",
      "    accuracy                           0.61      5750\n",
      "   macro avg       0.66      0.65      0.60      5750\n",
      "weighted avg       0.68      0.61      0.58      5750\n",
      "\n"
     ]
    }
   ],
   "source": [
    "\n",
    "# training a Naive classifierBayes \n",
    "from sklearn.naive_bayes import GaussianNB\n",
    "gnb = GaussianNB().fit(V_train_X.toarray(), y_train)\n",
    "gnb_predictions = gnb.predict(V_test_X.toarray())\n",
    " \n",
    "# accuracy on V_test_X\n",
    "accuracy = gnb.score(V_test_X.toarray(), y_test)\n",
    "print(accuracy)\n",
    " \n",
    "# creating a confusion matrix\n",
    "cm4 = confusion_matrix(y_test, gnb_predictions)\n",
    "\n",
    "\n",
    "print('Classification Report Naive Bayes')\n",
    "print(classification_report(y_test, gnb_predictions))\n"
   ]
  },
  {
   "cell_type": "code",
   "execution_count": 41,
   "metadata": {},
   "outputs": [
    {
     "name": "stdout",
     "output_type": "stream",
     "text": [
      "0.6031304347826087\n",
      "Classification Report Naive Bayes\n",
      "              precision    recall  f1-score   support\n",
      "\n",
      "          -1       0.48      0.99      0.65      1203\n",
      "           0       0.70      0.58      0.63      1266\n",
      "           1       0.83      0.31      0.45      2008\n",
      "           2       0.62      0.72      0.67      1273\n",
      "\n",
      "    accuracy                           0.60      5750\n",
      "   macro avg       0.66      0.65      0.60      5750\n",
      "weighted avg       0.68      0.60      0.58      5750\n",
      "\n"
     ]
    }
   ],
   "source": [
    "\n",
    "# training a Naive classifierBayes \n",
    "from sklearn.naive_bayes import GaussianNB\n",
    "sgnb = GaussianNB().fit(X_train_scaled.toarray(), y_train)\n",
    "sgnb_predictions = sgnb.predict(V_test_X.toarray())\n",
    " \n",
    "# accuracy on V_test_X\n",
    "accuracy = sgnb.score(x_test_scaled.toarray(), y_test)\n",
    "print(accuracy)\n",
    " \n",
    "# creating a confusion matrix\n",
    "cm4 = confusion_matrix(y_test, sgnb_predictions)\n",
    "\n",
    "\n",
    "print('Classification Report Naive Bayes')\n",
    "print(classification_report(y_test, sgnb_predictions))\n"
   ]
  },
  {
   "cell_type": "code",
   "execution_count": 37,
   "metadata": {},
   "outputs": [],
   "source": [
    "\n",
    "# training a Naive classifierBayes \n",
    "from sklearn.linear_model import LogisticRegression\n",
    "lm_vt = LogisticRegression(multi_class='ovr').fit(V_train_X, y_train)\n",
    "pred_lr_vt = lm_vt.predict(V_test_X)\n",
    "\n"
   ]
  },
  {
   "cell_type": "code",
   "execution_count": null,
   "metadata": {},
   "outputs": [],
   "source": [
    "# accuracy on V_test_X\n",
    "accuracy = gnb.score(pred_lr_vt, y_test)\n",
    "print(accuracy)"
   ]
  },
  {
   "cell_type": "code",
   "execution_count": 38,
   "metadata": {},
   "outputs": [
    {
     "name": "stdout",
     "output_type": "stream",
     "text": [
      "Classification Report Linear logistics\n",
      "              precision    recall  f1-score   support\n",
      "\n",
      "          -1       0.84      0.85      0.85      1203\n",
      "           0       0.76      0.67      0.71      1266\n",
      "           1       0.73      0.77      0.75      2008\n",
      "           2       0.79      0.79      0.79      1273\n",
      "\n",
      "    accuracy                           0.77      5750\n",
      "   macro avg       0.78      0.77      0.77      5750\n",
      "weighted avg       0.77      0.77      0.77      5750\n",
      "\n"
     ]
    }
   ],
   "source": [
    "print('Classification Report Linear logistics')\n",
    "print(classification_report(y_test, pred_lr_vt))"
   ]
  },
  {
   "cell_type": "code",
   "execution_count": 40,
   "metadata": {},
   "outputs": [
    {
     "name": "stdout",
     "output_type": "stream",
     "text": [
      "Classification Report Linear logistics\n",
      "              precision    recall  f1-score   support\n",
      "\n",
      "          -1       0.88      0.92      0.90      1203\n",
      "           0       0.79      0.75      0.77      1266\n",
      "           1       0.79      0.78      0.78      2008\n",
      "           2       0.81      0.84      0.82      1273\n",
      "\n",
      "    accuracy                           0.81      5750\n",
      "   macro avg       0.82      0.82      0.82      5750\n",
      "weighted avg       0.81      0.81      0.81      5750\n",
      "\n"
     ]
    }
   ],
   "source": [
    "slm_vt = LogisticRegression(multi_class='ovr').fit(X_train_scaled, y_train)\n",
    "spred_lr_vt = slm_vt.predict(x_test_scaled)\n",
    "print('Classification Report Linear logistics')\n",
    "print(classification_report(y_test,spred_lr_vt))"
   ]
  },
  {
   "cell_type": "code",
   "execution_count": 84,
   "metadata": {},
   "outputs": [
    {
     "name": "stdout",
     "output_type": "stream",
     "text": [
      "Classification Report Linear logistics\n",
      "              precision    recall  f1-score   support\n",
      "\n",
      "          -1       0.94      0.93      0.93      1203\n",
      "           0       0.84      0.76      0.80      1266\n",
      "           1       0.78      0.80      0.79      2008\n",
      "           2       0.77      0.82      0.80      1273\n",
      "\n",
      "    accuracy                           0.82      5750\n",
      "   macro avg       0.83      0.83      0.83      5750\n",
      "weighted avg       0.83      0.82      0.82      5750\n",
      "\n"
     ]
    }
   ],
   "source": [
    "from sklearn.ensemble import RandomForestClassifier\n",
    "\n",
    "forest = RandomForestClassifier(n_estimators=100, random_state=42).fit(V_train_X, y_train)\n",
    "forest_pred = forest.predict(x_test_scaled)\n",
    "print('Classification Report Linear logistics')\n",
    "print(classification_report(y_test, forest_pred))"
   ]
  },
  {
   "cell_type": "markdown",
   "metadata": {},
   "source": [
    "# Creating A pipeline for modelling"
   ]
  },
  {
   "cell_type": "code",
   "execution_count": 99,
   "metadata": {},
   "outputs": [
    {
     "data": {
      "text/html": [
       "<div>\n",
       "<style scoped>\n",
       "    .dataframe tbody tr th:only-of-type {\n",
       "        vertical-align: middle;\n",
       "    }\n",
       "\n",
       "    .dataframe tbody tr th {\n",
       "        vertical-align: top;\n",
       "    }\n",
       "\n",
       "    .dataframe thead th {\n",
       "        text-align: right;\n",
       "    }\n",
       "</style>\n",
       "<table border=\"1\" class=\"dataframe\">\n",
       "  <thead>\n",
       "    <tr style=\"text-align: right;\">\n",
       "      <th></th>\n",
       "      <th>tweetid</th>\n",
       "      <th>sentiment</th>\n",
       "    </tr>\n",
       "  </thead>\n",
       "  <tbody>\n",
       "    <tr>\n",
       "      <th>0</th>\n",
       "      <td>169760</td>\n",
       "      <td>2</td>\n",
       "    </tr>\n",
       "    <tr>\n",
       "      <th>1</th>\n",
       "      <td>35326</td>\n",
       "      <td>0</td>\n",
       "    </tr>\n",
       "    <tr>\n",
       "      <th>2</th>\n",
       "      <td>224985</td>\n",
       "      <td>1</td>\n",
       "    </tr>\n",
       "    <tr>\n",
       "      <th>3</th>\n",
       "      <td>476263</td>\n",
       "      <td>2</td>\n",
       "    </tr>\n",
       "    <tr>\n",
       "      <th>4</th>\n",
       "      <td>872928</td>\n",
       "      <td>1</td>\n",
       "    </tr>\n",
       "  </tbody>\n",
       "</table>\n",
       "</div>"
      ],
      "text/plain": [
       "   tweetid  sentiment\n",
       "0   169760          2\n",
       "1    35326          0\n",
       "2   224985          1\n",
       "3   476263          2\n",
       "4   872928          1"
      ]
     },
     "execution_count": 99,
     "metadata": {},
     "output_type": "execute_result"
    }
   ],
   "source": [
    "df.head()"
   ]
  },
  {
   "cell_type": "code",
   "execution_count": 109,
   "metadata": {},
   "outputs": [],
   "source": [
    "# Seperate features and tagret variables\n",
    "tX = clean_df['message']\n",
    "ty = clean_df['sentiment']\n",
    "\n",
    "# Split the train data to create validation dataset\n",
    "tX_train, tX_test, ty_train, ty_test = train_test_split(tX, ty, test_size=0.20, random_state=42)"
   ]
  },
  {
   "cell_type": "code",
   "execution_count": 110,
   "metadata": {},
   "outputs": [],
   "source": [
    "from sklearn.svm import LinearSVC\n",
    "\n",
    "#Linear SVC:\n",
    "lsvc = Pipeline([('tfidf', TfidfVectorizer()), ('clf', LinearSVC(class_weight='balanced'))])"
   ]
  },
  {
   "cell_type": "code",
   "execution_count": 112,
   "metadata": {},
   "outputs": [
    {
     "name": "stdout",
     "output_type": "stream",
     "text": [
      "Classification Report Linear logistics\n",
      "              precision    recall  f1-score   support\n",
      "\n",
      "          -1       0.64      0.56      0.60       278\n",
      "           0       0.53      0.51      0.52       425\n",
      "           1       0.82      0.80      0.81      1755\n",
      "           2       0.73      0.83      0.77       706\n",
      "\n",
      "    accuracy                           0.74      3164\n",
      "   macro avg       0.68      0.67      0.68      3164\n",
      "weighted avg       0.74      0.74      0.74      3164\n",
      "\n"
     ]
    }
   ],
   "source": [
    "# Linear SVC\n",
    "lsvc.fit(tX_train, ty_train)\n",
    "lsvc_y_predict = lsvc.predict(tX_test)\n",
    "print('Classification Report Linear logistics')\n",
    "print(classification_report(ty_test, lsvc_y_predict))"
   ]
  },
  {
   "cell_type": "markdown",
   "metadata": {},
   "source": [
    "# Training with Sampled Data"
   ]
  },
  {
   "cell_type": "code",
   "execution_count": 115,
   "metadata": {},
   "outputs": [
    {
     "data": {
      "text/plain": [
       "(23000, 8)"
      ]
     },
     "execution_count": 115,
     "metadata": {},
     "output_type": "execute_result"
    }
   ],
   "source": [
    "sampled.shape"
   ]
  },
  {
   "cell_type": "code",
   "execution_count": 116,
   "metadata": {},
   "outputs": [],
   "source": [
    "# Seperate features and tagret variables\n",
    "sX = sampled['message']\n",
    "sy = sampled['sentiment']\n",
    "\n",
    "# Split the train data to create validation dataset\n",
    "sX_train, sX_test, sy_train, sy_test = train_test_split(sX, sy, test_size=0.20, random_state=42)"
   ]
  },
  {
   "cell_type": "code",
   "execution_count": 117,
   "metadata": {},
   "outputs": [
    {
     "name": "stdout",
     "output_type": "stream",
     "text": [
      "Classification Report Linear logistics\n",
      "              precision    recall  f1-score   support\n",
      "\n",
      "          -1       0.88      0.97      0.92       961\n",
      "           0       0.82      0.85      0.84      1003\n",
      "           1       0.88      0.75      0.81      1631\n",
      "           2       0.83      0.91      0.86      1005\n",
      "\n",
      "    accuracy                           0.85      4600\n",
      "   macro avg       0.85      0.87      0.86      4600\n",
      "weighted avg       0.86      0.85      0.85      4600\n",
      "\n"
     ]
    }
   ],
   "source": [
    "# Linear SVC\n",
    "lsvc.fit(sX_train, sy_train)\n",
    "slsvc_y_predict = lsvc.predict(sX_test)\n",
    "print('Classification Report Linear logistics')\n",
    "print(classification_report(sy_test, slsvc_y_predict))"
   ]
  },
  {
   "cell_type": "code",
   "execution_count": null,
   "metadata": {},
   "outputs": [],
   "source": []
  },
  {
   "cell_type": "code",
   "execution_count": null,
   "metadata": {},
   "outputs": [],
   "source": []
  },
  {
   "cell_type": "code",
   "execution_count": null,
   "metadata": {},
   "outputs": [],
   "source": []
  },
  {
   "cell_type": "markdown",
   "metadata": {},
   "source": [
    "# Hyperparameter tuning"
   ]
  },
  {
   "cell_type": "code",
   "execution_count": 79,
   "metadata": {},
   "outputs": [],
   "source": [
    "from sklearn.model_selection import GridSearchCV\n"
   ]
  },
  {
   "cell_type": "code",
   "execution_count": 80,
   "metadata": {},
   "outputs": [
    {
     "data": {
      "text/plain": [
       "GridSearchCV(cv=2, estimator=SVC(kernel='poly'),\n",
       "             param_grid={'C': [0.001, 0.01, 0.1, 1, 10],\n",
       "                         'gamma': [0.001, 0.01, 0.1, 1]},\n",
       "             scoring='f1')"
      ]
     },
     "execution_count": 80,
     "metadata": {},
     "output_type": "execute_result"
    }
   ],
   "source": [
    "nfolds = 2\n",
    "\n",
    "Cs = [0.001, 0.01, 0.1, 1, 10]\n",
    "gammas = [0.001, 0.01, 0.1, 1]\n",
    "\n",
    "param_grid = {\n",
    "    'C'     : Cs,\n",
    "    'gamma' : gammas\n",
    "    }\n",
    "\n",
    "grid_SVM = GridSearchCV(SVC(kernel='poly'), param_grid, scoring='f1', cv=nfolds)\n",
    "grid_SVM.fit(V_train_X, y_train)"
   ]
  },
  {
   "cell_type": "code",
   "execution_count": 81,
   "metadata": {},
   "outputs": [
    {
     "data": {
      "text/plain": [
       "{'C': 0.001, 'gamma': 0.001}"
      ]
     },
     "execution_count": 81,
     "metadata": {},
     "output_type": "execute_result"
    }
   ],
   "source": [
    "grid_SVM.best_params_\n"
   ]
  },
  {
   "cell_type": "code",
   "execution_count": 92,
   "metadata": {},
   "outputs": [
    {
     "name": "stdout",
     "output_type": "stream",
     "text": [
      "Classification Report poly_pred \n",
      "              precision    recall  f1-score   support\n",
      "\n",
      "          -1       0.00      0.00      0.00      1203\n",
      "           0       0.00      0.00      0.00      1266\n",
      "           1       0.35      1.00      0.52      2008\n",
      "           2       0.00      0.00      0.00      1273\n",
      "\n",
      "    accuracy                           0.35      5750\n",
      "   macro avg       0.09      0.25      0.13      5750\n",
      "weighted avg       0.12      0.35      0.18      5750\n",
      "\n"
     ]
    }
   ],
   "source": [
    "#rbf = SVC(kernel='rbf', gamma=0.001, C=0.001).fit(V_train_X, y_train)\n",
    "poly = SVC(kernel='poly', degree=0.001, C=0.100).fit(V_train_X, y_train)\n",
    "\n",
    "poly_pred = poly.predict(V_test_X)\n",
    "#rbf_pred = rbf.predict(V_test_X)\n",
    "print('Classification Report poly_pred ')\n",
    "print(classification_report(y_test, poly_pred))"
   ]
  },
  {
   "cell_type": "markdown",
   "metadata": {},
   "source": [
    "# Selecting Best Features"
   ]
  },
  {
   "cell_type": "code",
   "execution_count": 86,
   "metadata": {},
   "outputs": [],
   "source": [
    "# Import the feature selector module\n",
    "from sklearn import feature_selection\n",
    "from sklearn.feature_selection import f_classif\n",
    "\n",
    "# Set up selector, choosing score function and number of features to retain\n",
    "selector_kbest = feature_selection.SelectKBest(score_func=f_classif, k=20)\n",
    "\n",
    "# Transform (i.e.: run selection on) the training data\n",
    "X_train_kbest = selector_kbest.fit_transform(V_train_X, y_train)"
   ]
  },
  {
   "cell_type": "code",
   "execution_count": 87,
   "metadata": {},
   "outputs": [
    {
     "data": {
      "text/plain": [
       "(17250, 20)"
      ]
     },
     "execution_count": 87,
     "metadata": {},
     "output_type": "execute_result"
    }
   ],
   "source": [
    "X_train_kbest.shape"
   ]
  },
  {
   "cell_type": "code",
   "execution_count": 88,
   "metadata": {},
   "outputs": [],
   "source": [
    "# Fit model to the transformed data\n",
    "SVM_k_best = SVC(kernel='poly', degree=0.001, C=0.001).fit(X_train_kbest, y_train)"
   ]
  },
  {
   "cell_type": "code",
   "execution_count": 90,
   "metadata": {},
   "outputs": [],
   "source": [
    "# Before generating predictions, we'll need to transform the test data the same way we did the train data\n",
    "X_test_kbest = selector_kbest.transform(V_test_X)\n",
    "\n",
    "# Generate predictions from var thresh model\n",
    "pred_lm_kbest = SVM_k_best.predict(X_test_kbest)"
   ]
  },
  {
   "cell_type": "code",
   "execution_count": 91,
   "metadata": {},
   "outputs": [
    {
     "name": "stdout",
     "output_type": "stream",
     "text": [
      "Classification Report poly_pred \n",
      "              precision    recall  f1-score   support\n",
      "\n",
      "          -1       0.00      0.00      0.00      1203\n",
      "           0       0.00      0.00      0.00      1266\n",
      "           1       0.35      1.00      0.52      2008\n",
      "           2       0.00      0.00      0.00      1273\n",
      "\n",
      "    accuracy                           0.35      5750\n",
      "   macro avg       0.09      0.25      0.13      5750\n",
      "weighted avg       0.12      0.35      0.18      5750\n",
      "\n"
     ]
    }
   ],
   "source": [
    "#rbf_pred = rbf.predict(V_test_X)\n",
    "print('Classification Report poly_pred ')\n",
    "print(classification_report(y_test, pred_lm_kbest))"
   ]
  },
  {
   "cell_type": "markdown",
   "metadata": {},
   "source": [
    "# making a Submission"
   ]
  },
  {
   "cell_type": "code",
   "execution_count": 119,
   "metadata": {},
   "outputs": [],
   "source": [
    "#traing the model with the entire data\n",
    "yf = sampled['sentiment']\n",
    "Xf = sampled['message']"
   ]
  },
  {
   "cell_type": "code",
   "execution_count": 47,
   "metadata": {},
   "outputs": [],
   "source": [
    "clean_test = data_cleaner(df_test, 'message')\n"
   ]
  },
  {
   "cell_type": "code",
   "execution_count": 48,
   "metadata": {},
   "outputs": [
    {
     "data": {
      "text/html": [
       "<div>\n",
       "<style scoped>\n",
       "    .dataframe tbody tr th:only-of-type {\n",
       "        vertical-align: middle;\n",
       "    }\n",
       "\n",
       "    .dataframe tbody tr th {\n",
       "        vertical-align: top;\n",
       "    }\n",
       "\n",
       "    .dataframe thead th {\n",
       "        text-align: right;\n",
       "    }\n",
       "</style>\n",
       "<table border=\"1\" class=\"dataframe\">\n",
       "  <thead>\n",
       "    <tr style=\"text-align: right;\">\n",
       "      <th></th>\n",
       "      <th>message</th>\n",
       "      <th>tweetid</th>\n",
       "      <th>tokens</th>\n",
       "      <th>token_no_stop_word</th>\n",
       "      <th>lemma</th>\n",
       "      <th>stem</th>\n",
       "      <th>clean_sentences</th>\n",
       "    </tr>\n",
       "  </thead>\n",
       "  <tbody>\n",
       "    <tr>\n",
       "      <th>0</th>\n",
       "      <td>europe will now be looking to china to make su...</td>\n",
       "      <td>169760</td>\n",
       "      <td>[europe, will, now, be, looking, to, china, to...</td>\n",
       "      <td>[europe, looking, china, make, sure, alone, fi...</td>\n",
       "      <td>[europe, looking, china, make, sure, alone, fi...</td>\n",
       "      <td>[europ, look, china, make, sure, alon, fight, ...</td>\n",
       "      <td>europ look china make sure alon fight climat u...</td>\n",
       "    </tr>\n",
       "    <tr>\n",
       "      <th>1</th>\n",
       "      <td>combine this with the polling of staffers re c...</td>\n",
       "      <td>35326</td>\n",
       "      <td>[combine, this, with, the, polling, of, staffe...</td>\n",
       "      <td>[combine, polling, staffers, climate, change, ...</td>\n",
       "      <td>[combine, polling, staffer, climate, change, w...</td>\n",
       "      <td>[combin, poll, staffer, climat, chang, woman, ...</td>\n",
       "      <td>combin poll staffer climat chang woman right f...</td>\n",
       "    </tr>\n",
       "    <tr>\n",
       "      <th>2</th>\n",
       "      <td>the scary unimpeachable evidence that climate ...</td>\n",
       "      <td>224985</td>\n",
       "      <td>[the, scary, unimpeachable, evidence, that, cl...</td>\n",
       "      <td>[scary, unimpeachable, evidence, climate, chan...</td>\n",
       "      <td>[scary, unimpeachable, evidence, climate, chan...</td>\n",
       "      <td>[scari, unimpeach, evid, climat, chang, alread...</td>\n",
       "      <td>scari unimpeach evid climat chang alreadi urlw...</td>\n",
       "    </tr>\n",
       "    <tr>\n",
       "      <th>3</th>\n",
       "      <td>karoli morgfair osborneink dailykos \\nputin go...</td>\n",
       "      <td>476263</td>\n",
       "      <td>[karoli, morgfair, osborneink, dailykos, putin...</td>\n",
       "      <td>[karoli, morgfair, osborneink, dailykos, putin...</td>\n",
       "      <td>[karoli, morgfair, osborneink, dailykos, putin...</td>\n",
       "      <td>[karoli, morgfair, osborneink, dailyko, putin,...</td>\n",
       "      <td>karoli morgfair osborneink dailyko putin got j...</td>\n",
       "    </tr>\n",
       "    <tr>\n",
       "      <th>4</th>\n",
       "      <td>fakewillmoore female orgasms cause global warm...</td>\n",
       "      <td>872928</td>\n",
       "      <td>[fakewillmoore, female, orgasms, cause, global...</td>\n",
       "      <td>[fakewillmoore, female, orgasms, cause, global...</td>\n",
       "      <td>[fakewillmoore, female, orgasm, cause, global,...</td>\n",
       "      <td>[fakewillmoor, femal, orgasm, caus, global, wa...</td>\n",
       "      <td>fakewillmoor femal orgasm caus global warm sar...</td>\n",
       "    </tr>\n",
       "  </tbody>\n",
       "</table>\n",
       "</div>"
      ],
      "text/plain": [
       "                                             message  tweetid  \\\n",
       "0  europe will now be looking to china to make su...   169760   \n",
       "1  combine this with the polling of staffers re c...    35326   \n",
       "2  the scary unimpeachable evidence that climate ...   224985   \n",
       "3  karoli morgfair osborneink dailykos \\nputin go...   476263   \n",
       "4  fakewillmoore female orgasms cause global warm...   872928   \n",
       "\n",
       "                                              tokens  \\\n",
       "0  [europe, will, now, be, looking, to, china, to...   \n",
       "1  [combine, this, with, the, polling, of, staffe...   \n",
       "2  [the, scary, unimpeachable, evidence, that, cl...   \n",
       "3  [karoli, morgfair, osborneink, dailykos, putin...   \n",
       "4  [fakewillmoore, female, orgasms, cause, global...   \n",
       "\n",
       "                                  token_no_stop_word  \\\n",
       "0  [europe, looking, china, make, sure, alone, fi...   \n",
       "1  [combine, polling, staffers, climate, change, ...   \n",
       "2  [scary, unimpeachable, evidence, climate, chan...   \n",
       "3  [karoli, morgfair, osborneink, dailykos, putin...   \n",
       "4  [fakewillmoore, female, orgasms, cause, global...   \n",
       "\n",
       "                                               lemma  \\\n",
       "0  [europe, looking, china, make, sure, alone, fi...   \n",
       "1  [combine, polling, staffer, climate, change, w...   \n",
       "2  [scary, unimpeachable, evidence, climate, chan...   \n",
       "3  [karoli, morgfair, osborneink, dailykos, putin...   \n",
       "4  [fakewillmoore, female, orgasm, cause, global,...   \n",
       "\n",
       "                                                stem  \\\n",
       "0  [europ, look, china, make, sure, alon, fight, ...   \n",
       "1  [combin, poll, staffer, climat, chang, woman, ...   \n",
       "2  [scari, unimpeach, evid, climat, chang, alread...   \n",
       "3  [karoli, morgfair, osborneink, dailyko, putin,...   \n",
       "4  [fakewillmoor, femal, orgasm, caus, global, wa...   \n",
       "\n",
       "                                     clean_sentences  \n",
       "0  europ look china make sure alon fight climat u...  \n",
       "1  combin poll staffer climat chang woman right f...  \n",
       "2  scari unimpeach evid climat chang alreadi urlw...  \n",
       "3  karoli morgfair osborneink dailyko putin got j...  \n",
       "4  fakewillmoor femal orgasm caus global warm sar...  "
      ]
     },
     "execution_count": 48,
     "metadata": {},
     "output_type": "execute_result"
    }
   ],
   "source": [
    "clean_test = token_lemmatizer_stemmer(clean_test)\n",
    "clean_test.head()"
   ]
  },
  {
   "cell_type": "code",
   "execution_count": 118,
   "metadata": {},
   "outputs": [],
   "source": [
    "X_testf = clean_test['message']"
   ]
  },
  {
   "cell_type": "code",
   "execution_count": 124,
   "metadata": {},
   "outputs": [],
   "source": [
    "# extracting features\n",
    "from sklearn.feature_extraction.text import TfidfVectorizer\n",
    "\n",
    "vectorizer1 = TfidfVectorizer()\n",
    "V_train_Xf = vectorizer1.fit_transform(Xf)\n",
    "V_test_Xf = vectorizer1.transform(X_testf)"
   ]
  },
  {
   "cell_type": "code",
   "execution_count": 121,
   "metadata": {},
   "outputs": [],
   "source": [
    "# Linear SVC:\n",
    "flsvc = Pipeline([('tfidf', TfidfVectorizer()), ('clf', LinearSVC(class_weight='balanced'))])"
   ]
  },
  {
   "cell_type": "code",
   "execution_count": 54,
   "metadata": {},
   "outputs": [
    {
     "data": {
      "text/plain": [
       "(10546, 9689)"
      ]
     },
     "execution_count": 54,
     "metadata": {},
     "output_type": "execute_result"
    }
   ],
   "source": [
    "V_test_Xf.shape"
   ]
  },
  {
   "cell_type": "code",
   "execution_count": 125,
   "metadata": {},
   "outputs": [],
   "source": [
    "# Import the scaler module\n",
    "from sklearn import preprocessing\n",
    "scaler = preprocessing.MaxAbsScaler ()\n",
    "\n",
    "# Scale data\n",
    "X_Train_f = scaler.fit_transform(V_train_Xf)\n",
    "X_Test_f = scaler.transform(V_test_Xf)"
   ]
  },
  {
   "cell_type": "code",
   "execution_count": 127,
   "metadata": {},
   "outputs": [],
   "source": [
    "# training a linear SVM classifier\n",
    "from sklearn.svm import SVC\n",
    "svm_model_linear_f = SVC(kernel = 'linear', C = 1).fit(V_train_Xf,yf)\n",
    "final_preds = svm_model_linear_f.predict(V_test_Xf)\n"
   ]
  },
  {
   "cell_type": "code",
   "execution_count": 128,
   "metadata": {},
   "outputs": [],
   "source": [
    "\n",
    "# linear logistic \n",
    "slm_vt_f_o = LogisticRegression(multi_class='ovr').fit(X_Train_f, yf)\n",
    "spred_lr_vt_f = slm_vt_f_o.predict(X_Test_f)\n",
    "\n"
   ]
  },
  {
   "cell_type": "code",
   "execution_count": 129,
   "metadata": {},
   "outputs": [],
   "source": [
    "# SVC rbf \n",
    "rbf_f = SVC(kernel='rbf', gamma=0.5, C=0.1).fit(V_train_Xf, yf)\n",
    "rbf_predf = rbf_f.predict(V_test_Xf)\n"
   ]
  },
  {
   "cell_type": "code",
   "execution_count": 130,
   "metadata": {},
   "outputs": [],
   "source": [
    "\n",
    "# SVC poly\n",
    "poly_f = SVC(kernel='poly', degree=3, C=1).fit(V_train_Xf, yf)\n",
    "poly_predf = poly_f.predict(V_test_Xf)\n",
    "\n"
   ]
  },
  {
   "cell_type": "code",
   "execution_count": 135,
   "metadata": {},
   "outputs": [],
   "source": [
    "# training a Naive classifierBayes\n",
    "from sklearn.naive_bayes import MultinomialNB\n",
    "from sklearn import metrics\n",
    "\n",
    "final_classifier2 = MultinomialNB()\n",
    "final_classifier2.fit(V_train_Xf, yf)\n",
    "\n",
    "final_classifier2 = final_classifier2.predict(V_test_Xf)\n",
    "\n"
   ]
  },
  {
   "cell_type": "code",
   "execution_count": 134,
   "metadata": {},
   "outputs": [],
   "source": [
    "\n",
    "# Linear SVC\n",
    "flsvc.fit(Xf, yf)\n",
    "flsvc_y_predict = lsvc.predict(X_testf)\n"
   ]
  },
  {
   "cell_type": "code",
   "execution_count": 136,
   "metadata": {},
   "outputs": [],
   "source": [
    "import pickle\n",
    "\n",
    "# save the model to disk\n",
    "model_name = ['SVC_linear', 'Logistics_ovr','SVC_rbf', 'SVC_poly', 'guassian', \"Linear_svC\"]\n",
    "models = [svm_model_linear_f, slm_vt_f_o, rbf_f, poly_f, sgnbf, flsvc]\n",
    "for i in range(len(models)):\n",
    "        filename = model_name[i] + '2.pkl'\n",
    "        pickle.dump(models[i], open(filename, 'wb'))\n",
    "\n"
   ]
  },
  {
   "cell_type": "code",
   "execution_count": 141,
   "metadata": {},
   "outputs": [
    {
     "data": {
      "text/plain": [
       "array([1, 1, 1, ..., 0, 0, 1], dtype=int64)"
      ]
     },
     "execution_count": 141,
     "metadata": {},
     "output_type": "execute_result"
    }
   ],
   "source": [
    "preds = [final_preds, spred_lr_vt_f,rbf_predf, poly_predf, sgnb_predictionsf, flsvc_y_predict]\n",
    "preds[0]"
   ]
  },
  {
   "cell_type": "code",
   "execution_count": 142,
   "metadata": {},
   "outputs": [],
   "source": [
    "def submissions(preds):\n",
    "    \n",
    "    \n",
    "    model = ['SVC_linear', 'Logistics_ovr','SVC_rbf', 'SVC_poly', 'guassian', 'Linear_svC']\n",
    "    \n",
    "    for i in range(len(model)):\n",
    "        daf = pd.DataFrame(preds[i], columns=['sentiment'])\n",
    "        output = pd.DataFrame({\"tweetid\":df_test['tweetid']})\n",
    "        final = output.join(daf)\n",
    "        final_name = model[i] +\"_finalise.csv\"\n",
    "        final.to_csv(final_name, index=False)\n",
    "        \n",
    "\n",
    "    return final"
   ]
  },
  {
   "cell_type": "code",
   "execution_count": 144,
   "metadata": {},
   "outputs": [],
   "source": [
    "df = submissions([final_preds, spred_lr_vt_f, rbf_predf, poly_predf, sgnb_predictionsf, flsvc_y_predict])"
   ]
  },
  {
   "cell_type": "code",
   "execution_count": 139,
   "metadata": {},
   "outputs": [
    {
     "data": {
      "text/html": [
       "<div>\n",
       "<style scoped>\n",
       "    .dataframe tbody tr th:only-of-type {\n",
       "        vertical-align: middle;\n",
       "    }\n",
       "\n",
       "    .dataframe tbody tr th {\n",
       "        vertical-align: top;\n",
       "    }\n",
       "\n",
       "    .dataframe thead th {\n",
       "        text-align: right;\n",
       "    }\n",
       "</style>\n",
       "<table border=\"1\" class=\"dataframe\">\n",
       "  <thead>\n",
       "    <tr style=\"text-align: right;\">\n",
       "      <th></th>\n",
       "      <th>tweetid</th>\n",
       "      <th>sentiment</th>\n",
       "    </tr>\n",
       "  </thead>\n",
       "  <tbody>\n",
       "    <tr>\n",
       "      <th>0</th>\n",
       "      <td>169760</td>\n",
       "      <td>2</td>\n",
       "    </tr>\n",
       "    <tr>\n",
       "      <th>1</th>\n",
       "      <td>35326</td>\n",
       "      <td>0</td>\n",
       "    </tr>\n",
       "    <tr>\n",
       "      <th>2</th>\n",
       "      <td>224985</td>\n",
       "      <td>1</td>\n",
       "    </tr>\n",
       "    <tr>\n",
       "      <th>3</th>\n",
       "      <td>476263</td>\n",
       "      <td>2</td>\n",
       "    </tr>\n",
       "    <tr>\n",
       "      <th>4</th>\n",
       "      <td>872928</td>\n",
       "      <td>1</td>\n",
       "    </tr>\n",
       "  </tbody>\n",
       "</table>\n",
       "</div>"
      ],
      "text/plain": [
       "   tweetid  sentiment\n",
       "0   169760          2\n",
       "1    35326          0\n",
       "2   224985          1\n",
       "3   476263          2\n",
       "4   872928          1"
      ]
     },
     "execution_count": 139,
     "metadata": {},
     "output_type": "execute_result"
    }
   ],
   "source": [
    "df.head()"
   ]
  },
  {
   "cell_type": "code",
   "execution_count": null,
   "metadata": {},
   "outputs": [],
   "source": []
  }
 ],
 "metadata": {
  "kernelspec": {
   "display_name": "Python 3",
   "language": "python",
   "name": "python3"
  },
  "language_info": {
   "codemirror_mode": {
    "name": "ipython",
    "version": 3
   },
   "file_extension": ".py",
   "mimetype": "text/x-python",
   "name": "python",
   "nbconvert_exporter": "python",
   "pygments_lexer": "ipython3",
   "version": "3.8.5"
  }
 },
 "nbformat": 4,
 "nbformat_minor": 4
}
