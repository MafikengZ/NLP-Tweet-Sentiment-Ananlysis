{
  "nbformat": 4,
  "nbformat_minor": 0,
  "metadata": {
    "accelerator": "GPU",
    "colab": {
      "name": "Sello_model_v0.3.ipynb",
      "provenance": [],
      "collapsed_sections": [
        "uvEpqMpzCyrZ"
      ],
      "include_colab_link": true
    },
    "kernelspec": {
      "display_name": "Python 3",
      "language": "python",
      "name": "python3"
    },
    "language_info": {
      "codemirror_mode": {
        "name": "ipython",
        "version": 3
      },
      "file_extension": ".py",
      "mimetype": "text/x-python",
      "name": "python",
      "nbconvert_exporter": "python",
      "pygments_lexer": "ipython3",
      "version": "3.8.3"
    }
  },
  "cells": [
    {
      "cell_type": "markdown",
      "metadata": {
        "id": "view-in-github",
        "colab_type": "text"
      },
      "source": [
        "<a href=\"https://colab.research.google.com/github/MafikengZ/NLP-Tweet-Sentiment-Ananlysis/blob/main/Sello_model_v0_3.ipynb\" target=\"_parent\"><img src=\"https://colab.research.google.com/assets/colab-badge.svg\" alt=\"Open In Colab\"/></a>"
      ]
    },
    {
      "cell_type": "markdown",
      "metadata": {
        "id": "FNMHV7G1Cypc"
      },
      "source": [
        "# NLP Tweet Sentiment Analysis"
      ]
    },
    {
      "cell_type": "markdown",
      "metadata": {
        "id": "D3Lk-YImCypt"
      },
      "source": [
        "## Comet Configurations"
      ]
    },
    {
      "cell_type": "code",
      "metadata": {
        "colab": {
          "base_uri": "https://localhost:8080/"
        },
        "id": "LNqkYG50DYZe",
        "outputId": "868849fa-7d90-4278-8dcb-1e7dca536a73"
      },
      "source": [
        "!pip install comet_ml\n",
        "!pip install tweet-preprocessor\n",
        "!pip install nlppreprocess"
      ],
      "execution_count": null,
      "outputs": [
        {
          "output_type": "stream",
          "name": "stdout",
          "text": [
            "Requirement already satisfied: comet_ml in /usr/local/lib/python3.7/dist-packages (3.23.0)\n",
            "Requirement already satisfied: everett[ini]>=1.0.1 in /usr/local/lib/python3.7/dist-packages (from comet_ml) (2.0.1)\n",
            "Requirement already satisfied: wrapt>=1.11.2 in /usr/local/lib/python3.7/dist-packages (from comet_ml) (1.13.3)\n",
            "Requirement already satisfied: six in /usr/local/lib/python3.7/dist-packages (from comet_ml) (1.15.0)\n",
            "Requirement already satisfied: requests>=2.18.4 in /usr/local/lib/python3.7/dist-packages (from comet_ml) (2.23.0)\n",
            "Requirement already satisfied: dulwich>=0.20.6 in /usr/local/lib/python3.7/dist-packages (from comet_ml) (0.20.26)\n",
            "Requirement already satisfied: wurlitzer>=1.0.2 in /usr/local/lib/python3.7/dist-packages (from comet_ml) (3.0.2)\n",
            "Requirement already satisfied: websocket-client>=0.55.0 in /usr/local/lib/python3.7/dist-packages (from comet_ml) (1.2.1)\n",
            "Requirement already satisfied: requests-toolbelt>=0.8.0 in /usr/local/lib/python3.7/dist-packages (from comet_ml) (0.9.1)\n",
            "Requirement already satisfied: semantic-version>=2.8.0 in /usr/local/lib/python3.7/dist-packages (from comet_ml) (2.8.5)\n",
            "Requirement already satisfied: nvidia-ml-py3>=7.352.0 in /usr/local/lib/python3.7/dist-packages (from comet_ml) (7.352.0)\n",
            "Requirement already satisfied: jsonschema!=3.1.0,>=2.6.0 in /usr/local/lib/python3.7/dist-packages (from comet_ml) (2.6.0)\n",
            "Requirement already satisfied: urllib3>=1.24.1 in /usr/local/lib/python3.7/dist-packages (from dulwich>=0.20.6->comet_ml) (1.24.3)\n",
            "Requirement already satisfied: certifi in /usr/local/lib/python3.7/dist-packages (from dulwich>=0.20.6->comet_ml) (2021.10.8)\n",
            "Requirement already satisfied: configobj in /usr/local/lib/python3.7/dist-packages (from everett[ini]>=1.0.1->comet_ml) (5.0.6)\n",
            "Requirement already satisfied: idna<3,>=2.5 in /usr/local/lib/python3.7/dist-packages (from requests>=2.18.4->comet_ml) (2.10)\n",
            "Requirement already satisfied: chardet<4,>=3.0.2 in /usr/local/lib/python3.7/dist-packages (from requests>=2.18.4->comet_ml) (3.0.4)\n",
            "Requirement already satisfied: tweet-preprocessor in /usr/local/lib/python3.7/dist-packages (0.6.0)\n",
            "Requirement already satisfied: nlppreprocess in /usr/local/lib/python3.7/dist-packages (1.0.2)\n"
          ]
        }
      ]
    },
    {
      "cell_type": "code",
      "metadata": {
        "colab": {
          "base_uri": "https://localhost:8080/"
        },
        "id": "VRUk4jZMCypv",
        "outputId": "f84daf6d-9afe-45fb-c97e-42a3b8acad54"
      },
      "source": [
        "# import comet_ml\n",
        "from comet_ml import Experiment\n",
        "\n",
        "# Create an experiment with your api key\n",
        "experiment = Experiment(\n",
        "    api_key=\"HfSNpkY9koDD8GCccjV6a7o3K\",\n",
        "    project_name=\"nlp-tweet-sentiment-analysis\",\n",
        "    workspace=\"mafikengz\",\n",
        ")"
      ],
      "execution_count": null,
      "outputs": [
        {
          "output_type": "stream",
          "name": "stderr",
          "text": [
            "COMET WARNING: As you are running in a Jupyter environment, you will need to call `experiment.end()` when finished to ensure all metrics and code are logged before exiting.\n",
            "COMET INFO: Couldn't find a Git repository in '/content' nor in any parent directory. You can override where Comet is looking for a Git Patch by setting the configuration `COMET_GIT_DIRECTORY`\n",
            "COMET INFO: Experiment is live on comet.ml https://www.comet.ml/mafikengz/nlp-tweet-sentiment-analysis/dd35bdae1b4241fcbf72756611f09c3d\n",
            "\n"
          ]
        }
      ]
    },
    {
      "cell_type": "markdown",
      "metadata": {
        "id": "SAc5oCijCyp1"
      },
      "source": [
        "## Import Standard Libraries"
      ]
    },
    {
      "cell_type": "code",
      "metadata": {
        "id": "RpDiiYzeCyp2"
      },
      "source": [
        "#Regex string manipulation library\n",
        "import re\n",
        "import string\n",
        "\n",
        "#Data preprocessing libraries\n",
        "import numpy as np\n",
        "import pandas as pd\n",
        "import preprocessor as p\n",
        "\n",
        "#Data Visualization libraries\n",
        "import seaborn as sns\n",
        "import matplotlib.pyplot as plt\n",
        "# from jupyterthemes import jtplot\n",
        "%matplotlib inline\n",
        "\n",
        "#NLP libraries\n",
        "import tweepy\n",
        "from textblob import TextBlob\n",
        "import nltk\n",
        "\n",
        "# sklearn libraries\n",
        "from sklearn.svm import SVC\n",
        "from sklearn.naive_bayes import MultinomialNB\n",
        "from sklearn.linear_model import LogisticRegression\n",
        "\n",
        "from sklearn.model_selection import train_test_split\n",
        "from sklearn.pipeline import Pipeline\n",
        "from sklearn.feature_extraction.text import CountVectorizer , TfidfVectorizer , TfidfTransformer\n",
        "from sklearn.metrics import accuracy_score , classification_report, confusion_matrix"
      ],
      "execution_count": null,
      "outputs": []
    },
    {
      "cell_type": "code",
      "metadata": {
        "colab": {
          "base_uri": "https://localhost:8080/"
        },
        "id": "BdkKq_DhCyp6",
        "outputId": "fe64bc4c-a4bb-4210-eaae-ab32b971922d"
      },
      "source": [
        "# configurations\n",
        "pd.set_option('display.max_colwidth', 100)\n",
        "sns.set_style('darkgrid')\n",
        "plt.style.use('fivethirtyeight')\n",
        "# jtplot.style(theme='monokai' , context='notebook' , ticks=True , grid=False)\n",
        "\n",
        "#Warning filter\n",
        "import warnings\n",
        "warnings.filterwarnings(\"ignore\")\n",
        "\n",
        "#NLTK downloads\n",
        "nltk.download('stopwords')\n",
        "nltk.download('wordnet')"
      ],
      "execution_count": null,
      "outputs": [
        {
          "output_type": "stream",
          "name": "stdout",
          "text": [
            "[nltk_data] Downloading package stopwords to /root/nltk_data...\n",
            "[nltk_data]   Package stopwords is already up-to-date!\n",
            "[nltk_data] Downloading package wordnet to /root/nltk_data...\n",
            "[nltk_data]   Package wordnet is already up-to-date!\n"
          ]
        },
        {
          "output_type": "execute_result",
          "data": {
            "text/plain": [
              "True"
            ]
          },
          "metadata": {},
          "execution_count": 3
        }
      ]
    },
    {
      "cell_type": "markdown",
      "metadata": {
        "id": "ykPNDOJJCyp-"
      },
      "source": [
        "### Load Dataset"
      ]
    },
    {
      "cell_type": "code",
      "metadata": {
        "id": "QIqyj1GOCyqA"
      },
      "source": [
        "df_train = pd.read_csv('sample_data/train.csv' , encoding='UTF-8')\n",
        "df_test = pd.read_csv('sample_data/test_with_no_labels.csv' , encoding='UTF-8')"
      ],
      "execution_count": null,
      "outputs": []
    },
    {
      "cell_type": "code",
      "metadata": {
        "id": "bBcJJF81Cyqa"
      },
      "source": [
        "#Create a copy of tweetid column\n",
        "copy_df_test = df_test.tweetid.values.copy()\n",
        "\n",
        "#Drop tweetid column\n",
        "df_train.drop(['tweetid'], axis=1, inplace=True)\n",
        "df_test.drop(['tweetid'], axis=1, inplace=True)"
      ],
      "execution_count": null,
      "outputs": []
    },
    {
      "cell_type": "markdown",
      "metadata": {
        "id": "07FUsJy_Cyqd"
      },
      "source": [
        "   ***Drop tweetid column:***\n",
        "\n",
        "- \n",
        "    Represents an id for each uniques tweet\n",
        "    therefore all tweets in our dataset are unique,\n",
        "- Hence they have a value count of 1\n",
        "- Tweetid however does not add value to our model"
      ]
    },
    {
      "cell_type": "markdown",
      "metadata": {
        "id": "GkHFUdrlCyqe"
      },
      "source": [
        "### Data Exploration (EDA)"
      ]
    },
    {
      "cell_type": "code",
      "metadata": {
        "colab": {
          "base_uri": "https://localhost:8080/",
          "height": 346
        },
        "id": "RvAmGPjlCyqg",
        "outputId": "32756abb-4e63-4da3-95c8-260dac496abe"
      },
      "source": [
        "duplicated = df_train.message.duplicated().value_counts()\n",
        "#Create Bar plot\n",
        "duplicated.plot(kind='bar')\n",
        "plt.title('Duplicates Anaysis Bar plot')\n",
        "plt.xlabel('Duplicates')\n",
        "plt.ylabel('Conut of Tweets')\n",
        "plt.show()\n"
      ],
      "execution_count": null,
      "outputs": [
        {
          "data": {
            "image/png": "[encoded data removed]",
            "text/plain": [
              "<Figure size 432x288 with 1 Axes>"
            ]
          },
          "metadata": {},
          "output_type": "display_data"
        }
      ]
    },
    {
      "cell_type": "code",
      "metadata": {
        "id": "iyTDuJluCyqi"
      },
      "source": [
        "#Remove Duplicates\n",
        "# df_train.drop_duplicates(subset='message', keep='last', inplace=True)"
      ],
      "execution_count": null,
      "outputs": []
    },
    {
      "cell_type": "code",
      "metadata": {
        "id": "Vbf3UtdXCyqj"
      },
      "source": [
        ""
      ],
      "execution_count": null,
      "outputs": []
    },
    {
      "cell_type": "code",
      "metadata": {
        "id": "dfSYqDDhCyqk",
        "outputId": "6c92b5af-eeab-40af-a1d1-f507be790988"
      },
      "source": [
        "#Check for null values \n",
        "sns.heatmap(df_train.isna(), yticklabels=False , cbar=False , cmap='Accent')"
      ],
      "execution_count": null,
      "outputs": [
        {
          "data": {
            "text/plain": [
              "<AxesSubplot:>"
            ]
          },
          "execution_count": 6,
          "metadata": {},
          "output_type": "execute_result"
        },
        {
          "data": {
            "image/png": "[encoded data removed]",
            "text/plain": [
              "<Figure size 432x288 with 1 Axes>"
            ]
          },
          "metadata": {},
          "output_type": "display_data"
        }
      ]
    },
    {
      "cell_type": "code",
      "metadata": {
        "id": "pKNCPCjJCyql",
        "outputId": "710d0e7e-a10d-48bb-e2b4-1bce62f7698d"
      },
      "source": [
        "#Asses sentiment column\n",
        "def _get_sentiment(score):\n",
        "    if score == -1:\n",
        "        return 'Negative'\n",
        "    elif score == 0:\n",
        "        return 'Neutral'\n",
        "    elif score == 1:\n",
        "        return 'Positive'\n",
        "    elif score == 2:\n",
        "        return 'Factual'\n",
        "\n",
        "sens = df_train['sentiment'].apply(_get_sentiment)\n",
        "#Create Bar plot\n",
        "sens.value_counts().plot(kind='bar')\n",
        "plt.title('Sentiment Anaysis Bar plot')\n",
        "plt.xlabel('Sensitivity')\n",
        "plt.ylabel('NUmber of Tweets')\n",
        "plt.show()"
      ],
      "execution_count": null,
      "outputs": [
        {
          "data": {
            "image/png": "[encoded data removed]",
            "text/plain": [
              "<Figure size 432x288 with 1 Axes>"
            ]
          },
          "metadata": {},
          "output_type": "display_data"
        }
      ]
    },
    {
      "cell_type": "code",
      "metadata": {
        "id": "cUMHGHWoCyqn"
      },
      "source": [
        ""
      ],
      "execution_count": null,
      "outputs": []
    },
    {
      "cell_type": "code",
      "metadata": {
        "id": "kSx0EEmzCyqp",
        "outputId": "942b0874-c9b7-43d2-c7e8-4d78fc08e79e"
      },
      "source": [
        "data = [round((df_train.sentiment == 1).sum() / df_train.shape[0] *100,2),\n",
        "        round((df_train.sentiment == 2).sum() / df_train.shape[0] *100,2),\n",
        "        round((df_train.sentiment == 0).sum() / df_train.shape[0] *100,2),\n",
        "        round((df_train.sentiment == -1).sum() / df_train.shape[0] *100,2)]\n",
        "\n",
        "labels = ['Positive' , 'Factual' , 'Neutral', 'Negative']\n",
        "#define Seaborn color palette to use\n",
        "colors = sns.color_palette('pastel')[0:5]\n",
        "\n",
        "#create pie chart\n",
        "plt.pie(data, labels = labels, colors = colors, autopct='%.0f%%')\n",
        "plt.show()"
      ],
      "execution_count": null,
      "outputs": [
        {
          "data": {
            "image/png": "[encoded data removed]",
            "text/plain": [
              "<Figure size 432x288 with 1 Axes>"
            ]
          },
          "metadata": {},
          "output_type": "display_data"
        }
      ]
    },
    {
      "cell_type": "code",
      "metadata": {
        "id": "xxvyz0t-Cyqq"
      },
      "source": [
        "from collections import Counter"
      ],
      "execution_count": null,
      "outputs": []
    },
    {
      "cell_type": "code",
      "metadata": {
        "id": "w8d8SHr1Cyqv",
        "outputId": "7947621a-d869-4c83-94ae-b9f1013212fc"
      },
      "source": [
        "counter = Counter(df_train['sentiment'])\n",
        "for k ,v in counter.items():\n",
        "    dist = v / len(df_train['sentiment']) * 100\n",
        "    print(f'Class: {k}  N: {v}  Dist: {round(dist,2)}')\n"
      ],
      "execution_count": null,
      "outputs": [
        {
          "name": "stdout",
          "output_type": "stream",
          "text": [
            "Class: 1  N: 8530  Dist: 53.92\n",
            "Class: 2  N: 3640  Dist: 23.01\n",
            "Class: 0  N: 2353  Dist: 14.87\n",
            "Class: -1  N: 1296  Dist: 8.19\n"
          ]
        }
      ]
    },
    {
      "cell_type": "code",
      "metadata": {
        "id": "D8Xs_szOCyq1",
        "outputId": "57e31006-2962-4063-85fb-1d09e2d7a075"
      },
      "source": [
        "plt.figure(1 , figsize=(12,4))\n",
        "plt.bar(counter.keys() , counter.values())"
      ],
      "execution_count": null,
      "outputs": [
        {
          "data": {
            "text/plain": [
              "<BarContainer object of 4 artists>"
            ]
          },
          "execution_count": 13,
          "metadata": {},
          "output_type": "execute_result"
        },
        {
          "data": {
            "image/png": "[encoded data removed]",
            "text/plain": [
              "<Figure size 864x288 with 1 Axes>"
            ]
          },
          "metadata": {},
          "output_type": "display_data"
        }
      ]
    },
    {
      "cell_type": "code",
      "metadata": {
        "id": "ZGPnh9qhCyq4"
      },
      "source": [
        "# import numpy as np\n",
        "# plt.figure(1 , figsize=(20,10))\n",
        "# for label ,_ in counter.items():\n",
        "#     row = np.where(df_train['sentiment'] == label)[0]\n",
        "#     plt.scatter(df_train['message'][row ,0] , df_train['message'][row ,1]  , label=str(label))\n",
        "# plt.legend()"
      ],
      "execution_count": null,
      "outputs": []
    },
    {
      "cell_type": "markdown",
      "metadata": {
        "id": "fZLBBtwxCyq7"
      },
      "source": [
        "**Imbalance Dataset**\n",
        "\n",
        "**Slight Imbalance:** An imbalanced classification problem where the distribution of examples is uneven by a small amount in the training dataset (e.g. 4:6).\n",
        "\n",
        "\n",
        "- Positive (1): Above 8000 Tweets which are positvive **54%**\n",
        "- Factual news (2): Below 4000 Tweets are factual **23%**\n",
        "- Negative (-1): Below 2000 Tweets are negative **8%**\n",
        "- Neutral (0): Slightly above 2000 **15%**"
      ]
    },
    {
      "cell_type": "code",
      "metadata": {
        "id": "sqpKhXfbCyq_"
      },
      "source": [
        "#Assess the length of tweets\n",
        "df_train['length'] = df_train['message'].apply(lambda x: len(x))"
      ],
      "execution_count": null,
      "outputs": []
    },
    {
      "cell_type": "markdown",
      "metadata": {
        "id": "-_Cjw1SzCyrA"
      },
      "source": [
        "### Data Preprocessing"
      ]
    },
    {
      "cell_type": "code",
      "metadata": {
        "id": "5UVZkAPmCyrB"
      },
      "source": [
        "#Clean data using tweet preprocessor\n",
        "def _clean_tweet(data):\n",
        "    \"\"\"\n",
        "    Function clean dataset removing URLs\n",
        "    Hashtags\n",
        "    Mentions\n",
        "    Reserved words (RT, FAV)\n",
        "    Emojis\n",
        "    Smileys\n",
        "    \n",
        "    Args:\n",
        "        data: pandas dataframe\n",
        "    Return:\n",
        "        Dataframe: clean tweets\n",
        "    \"\"\"\n",
        "    return p.clean(data)\n",
        "#Apply the function to the dataset\n",
        "df_train['clean_tweets'] = df_train['message'].apply(_clean_tweet)"
      ],
      "execution_count": null,
      "outputs": []
    },
    {
      "cell_type": "code",
      "metadata": {
        "id": "5OI0YaI6CyrC"
      },
      "source": [
        "#Remove punctuations\n",
        "def _remove_punc(data):\n",
        "    \"\"\"\n",
        "    Func removes punctuation and ASCII character\n",
        "    using string.punctuation function\n",
        "    \n",
        "    Args:\n",
        "        data: pandas dataframe\n",
        "    Return:\n",
        "        Dataframe: clean tweets\n",
        "    \"\"\"\n",
        "    data = re.sub('\\\\n' , '' , data) #Remove any new lines\n",
        "    data  = \"\".join([char for char in data if char not in string.punctuation]) #Remove punctuations\n",
        "    data = re.sub(r'[^\\x00-\\x7f]',r'', data)\n",
        "    return data\n",
        "#Apply the function to the dataset\n",
        "df_train['cleaned'] = df_train['clean_tweets'].apply(_remove_punc)"
      ],
      "execution_count": null,
      "outputs": []
    },
    {
      "cell_type": "code",
      "metadata": {
        "id": "IqPJ-4TcCyrC"
      },
      "source": [
        "def _lower(data):\n",
        "    return data.lower()\n",
        "df_train['lower'] = df_train['cleaned'].apply(_lower)"
      ],
      "execution_count": null,
      "outputs": []
    },
    {
      "cell_type": "code",
      "metadata": {
        "id": "cWqAHy2PCyrD"
      },
      "source": [
        "# def _remove_numbers(data):\n",
        "#     data = re.sub('[0-9]+', '', data)\n",
        "#     return data\n",
        "# df_train['number'] = df_train['lower'].apply(_remove_numbers)"
      ],
      "execution_count": null,
      "outputs": []
    },
    {
      "cell_type": "code",
      "metadata": {
        "id": "BwY7mxJ2gRxb"
      },
      "source": [
        ""
      ],
      "execution_count": null,
      "outputs": []
    },
    {
      "cell_type": "code",
      "metadata": {
        "colab": {
          "base_uri": "https://localhost:8080/",
          "height": 35
        },
        "id": "Sasw2gGLj-FV",
        "outputId": "82b35d15-5849-4044-d014-3e05aaa7cc88"
      },
      "source": [
        "from nlppreprocess import NLP\n",
        "nlp = NLP()\n",
        "nlp.process('couldnt')"
      ],
      "execution_count": null,
      "outputs": [
        {
          "output_type": "execute_result",
          "data": {
            "application/vnd.google.colaboratory.intrinsic+json": {
              "type": "string"
            },
            "text/plain": [
              "'could not'"
            ]
          },
          "metadata": {},
          "execution_count": 9
        }
      ]
    },
    {
      "cell_type": "code",
      "metadata": {
        "colab": {
          "base_uri": "https://localhost:8080/",
          "height": 510
        },
        "id": "zZkZb4aRCyrM",
        "outputId": "5cf07a50-3244-4146-88c2-2463ce1abd19"
      },
      "source": [
        "#Remove Stopwords\n",
        "stopword = nltk.corpus.stopwords.words('english')\n",
        "def remove_stopwords(data):\n",
        "    \"\"\"\n",
        "    Remove stop-word in the dataset to reduce noise\n",
        "    Args:\n",
        "        Args:\n",
        "        data: pandas dataframe\n",
        "    Return:\n",
        "        Dataframe:non-stop word\n",
        "    \"\"\"\n",
        "    stopwords = NLP(replace_words=True, remove_stopwords=True, \n",
        "                            remove_numbers=True, remove_punctuations=False) \n",
        "    data = stopwords.process(data)\n",
        "    return data\n",
        "    \n",
        "df_train['Tweet_nonstop'] = df_train['lower'].apply(lambda x: remove_stopwords(x))\n",
        "df_train.head()"
      ],
      "execution_count": null,
      "outputs": [
        {
          "output_type": "execute_result",
          "data": {
            "text/html": [
              "<div>\n",
              "<style scoped>\n",
              "    .dataframe tbody tr th:only-of-type {\n",
              "        vertical-align: middle;\n",
              "    }\n",
              "\n",
              "    .dataframe tbody tr th {\n",
              "        vertical-align: top;\n",
              "    }\n",
              "\n",
              "    .dataframe thead th {\n",
              "        text-align: right;\n",
              "    }\n",
              "</style>\n",
              "<table border=\"1\" class=\"dataframe\">\n",
              "  <thead>\n",
              "    <tr style=\"text-align: right;\">\n",
              "      <th></th>\n",
              "      <th>sentiment</th>\n",
              "      <th>message</th>\n",
              "      <th>clean_tweets</th>\n",
              "      <th>cleaned</th>\n",
              "      <th>lower</th>\n",
              "      <th>Tweet_nonstop</th>\n",
              "    </tr>\n",
              "  </thead>\n",
              "  <tbody>\n",
              "    <tr>\n",
              "      <th>0</th>\n",
              "      <td>1</td>\n",
              "      <td>PolySciMajor EPA chief doesn't think carbon dioxide is main cause of global warming and.. wait, ...</td>\n",
              "      <td>PolySciMajor EPA chief doesn't think carbon dioxide is main cause of global warming and.. wait, ...</td>\n",
              "      <td>PolySciMajor EPA chief doesnt think carbon dioxide is main cause of global warming and wait what...</td>\n",
              "      <td>polyscimajor epa chief doesnt think carbon dioxide is main cause of global warming and wait what...</td>\n",
              "      <td>polyscimajor epa chief not think carbon dioxide main cause global warming and wait what via</td>\n",
              "    </tr>\n",
              "    <tr>\n",
              "      <th>1</th>\n",
              "      <td>1</td>\n",
              "      <td>It's not like we lack evidence of anthropogenic global warming</td>\n",
              "      <td>It's not like we lack evidence of anthropogenic global warming</td>\n",
              "      <td>Its not like we lack evidence of anthropogenic global warming</td>\n",
              "      <td>its not like we lack evidence of anthropogenic global warming</td>\n",
              "      <td>its not like we lack evidence anthropogenic global warming</td>\n",
              "    </tr>\n",
              "    <tr>\n",
              "      <th>2</th>\n",
              "      <td>2</td>\n",
              "      <td>RT @RawStory: Researchers say we have three years to act on climate change before it’s too late ...</td>\n",
              "      <td>: Researchers say we have three years to act on climate change before its too late</td>\n",
              "      <td>Researchers say we have three years to act on climate change before its too late</td>\n",
              "      <td>researchers say we have three years to act on climate change before its too late</td>\n",
              "      <td>researchers say we three years act climate change before its too late</td>\n",
              "    </tr>\n",
              "    <tr>\n",
              "      <th>3</th>\n",
              "      <td>1</td>\n",
              "      <td>#TodayinMaker# WIRED : 2016 was a pivotal year in the war on climate change https://t.co/44wOTxTLcD</td>\n",
              "      <td>WIRED : was a pivotal year in the war on climate change</td>\n",
              "      <td>WIRED  was a pivotal year in the war on climate change</td>\n",
              "      <td>wired  was a pivotal year in the war on climate change</td>\n",
              "      <td>wired pivotal year in war climate change</td>\n",
              "    </tr>\n",
              "    <tr>\n",
              "      <th>4</th>\n",
              "      <td>1</td>\n",
              "      <td>RT @SoyNovioDeTodas: It's 2016, and a racist, sexist, climate change denying bigot is leading in...</td>\n",
              "      <td>: It's , and a racist, sexist, climate change denying bigot is leading in the polls.</td>\n",
              "      <td>Its  and a racist sexist climate change denying bigot is leading in the polls</td>\n",
              "      <td>its  and a racist sexist climate change denying bigot is leading in the polls</td>\n",
              "      <td>its and racist sexist climate change denying bigot leading in polls</td>\n",
              "    </tr>\n",
              "  </tbody>\n",
              "</table>\n",
              "</div>"
            ],
            "text/plain": [
              "   sentiment  ...                                                                                Tweet_nonstop\n",
              "0          1  ...  polyscimajor epa chief not think carbon dioxide main cause global warming and wait what via\n",
              "1          1  ...                                   its not like we lack evidence anthropogenic global warming\n",
              "2          2  ...                        researchers say we three years act climate change before its too late\n",
              "3          1  ...                                                     wired pivotal year in war climate change\n",
              "4          1  ...                          its and racist sexist climate change denying bigot leading in polls\n",
              "\n",
              "[5 rows x 6 columns]"
            ]
          },
          "metadata": {},
          "execution_count": 10
        }
      ]
    },
    {
      "cell_type": "code",
      "metadata": {
        "colab": {
          "base_uri": "https://localhost:8080/",
          "height": 561
        },
        "id": "GpUe82JWJyyB",
        "outputId": "7249f242-1089-4971-8f65-3b01c592204e"
      },
      "source": [
        "#Tokenization\n",
        "def tokenization(data):\n",
        "    data = re.split('\\W+', data)\n",
        "    return data\n",
        "\n",
        "df_train['Tweet_tokenized'] = df_train['Tweet_nonstop'].apply(lambda x: tokenization(x))\n",
        "df_train.head()"
      ],
      "execution_count": null,
      "outputs": [
        {
          "output_type": "execute_result",
          "data": {
            "text/html": [
              "<div>\n",
              "<style scoped>\n",
              "    .dataframe tbody tr th:only-of-type {\n",
              "        vertical-align: middle;\n",
              "    }\n",
              "\n",
              "    .dataframe tbody tr th {\n",
              "        vertical-align: top;\n",
              "    }\n",
              "\n",
              "    .dataframe thead th {\n",
              "        text-align: right;\n",
              "    }\n",
              "</style>\n",
              "<table border=\"1\" class=\"dataframe\">\n",
              "  <thead>\n",
              "    <tr style=\"text-align: right;\">\n",
              "      <th></th>\n",
              "      <th>sentiment</th>\n",
              "      <th>message</th>\n",
              "      <th>clean_tweets</th>\n",
              "      <th>cleaned</th>\n",
              "      <th>lower</th>\n",
              "      <th>Tweet_nonstop</th>\n",
              "      <th>Tweet_tokenized</th>\n",
              "    </tr>\n",
              "  </thead>\n",
              "  <tbody>\n",
              "    <tr>\n",
              "      <th>0</th>\n",
              "      <td>1</td>\n",
              "      <td>PolySciMajor EPA chief doesn't think carbon dioxide is main cause of global warming and.. wait, ...</td>\n",
              "      <td>PolySciMajor EPA chief doesn't think carbon dioxide is main cause of global warming and.. wait, ...</td>\n",
              "      <td>PolySciMajor EPA chief doesnt think carbon dioxide is main cause of global warming and wait what...</td>\n",
              "      <td>polyscimajor epa chief doesnt think carbon dioxide is main cause of global warming and wait what...</td>\n",
              "      <td>polyscimajor epa chief not think carbon dioxide main cause global warming and wait what via</td>\n",
              "      <td>[polyscimajor, epa, chief, not, think, carbon, dioxide, main, cause, global, warming, and, wait,...</td>\n",
              "    </tr>\n",
              "    <tr>\n",
              "      <th>1</th>\n",
              "      <td>1</td>\n",
              "      <td>It's not like we lack evidence of anthropogenic global warming</td>\n",
              "      <td>It's not like we lack evidence of anthropogenic global warming</td>\n",
              "      <td>Its not like we lack evidence of anthropogenic global warming</td>\n",
              "      <td>its not like we lack evidence of anthropogenic global warming</td>\n",
              "      <td>its not like we lack evidence anthropogenic global warming</td>\n",
              "      <td>[its, not, like, we, lack, evidence, anthropogenic, global, warming]</td>\n",
              "    </tr>\n",
              "    <tr>\n",
              "      <th>2</th>\n",
              "      <td>2</td>\n",
              "      <td>RT @RawStory: Researchers say we have three years to act on climate change before it’s too late ...</td>\n",
              "      <td>: Researchers say we have three years to act on climate change before its too late</td>\n",
              "      <td>Researchers say we have three years to act on climate change before its too late</td>\n",
              "      <td>researchers say we have three years to act on climate change before its too late</td>\n",
              "      <td>researchers say we three years act climate change before its too late</td>\n",
              "      <td>[researchers, say, we, three, years, act, climate, change, before, its, too, late]</td>\n",
              "    </tr>\n",
              "    <tr>\n",
              "      <th>3</th>\n",
              "      <td>1</td>\n",
              "      <td>#TodayinMaker# WIRED : 2016 was a pivotal year in the war on climate change https://t.co/44wOTxTLcD</td>\n",
              "      <td>WIRED : was a pivotal year in the war on climate change</td>\n",
              "      <td>WIRED  was a pivotal year in the war on climate change</td>\n",
              "      <td>wired  was a pivotal year in the war on climate change</td>\n",
              "      <td>wired pivotal year in war climate change</td>\n",
              "      <td>[wired, pivotal, year, in, war, climate, change]</td>\n",
              "    </tr>\n",
              "    <tr>\n",
              "      <th>4</th>\n",
              "      <td>1</td>\n",
              "      <td>RT @SoyNovioDeTodas: It's 2016, and a racist, sexist, climate change denying bigot is leading in...</td>\n",
              "      <td>: It's , and a racist, sexist, climate change denying bigot is leading in the polls.</td>\n",
              "      <td>Its  and a racist sexist climate change denying bigot is leading in the polls</td>\n",
              "      <td>its  and a racist sexist climate change denying bigot is leading in the polls</td>\n",
              "      <td>its and racist sexist climate change denying bigot leading in polls</td>\n",
              "      <td>[its, and, racist, sexist, climate, change, denying, bigot, leading, in, polls]</td>\n",
              "    </tr>\n",
              "  </tbody>\n",
              "</table>\n",
              "</div>"
            ],
            "text/plain": [
              "   sentiment  ...                                                                                      Tweet_tokenized\n",
              "0          1  ...  [polyscimajor, epa, chief, not, think, carbon, dioxide, main, cause, global, warming, and, wait,...\n",
              "1          1  ...                                 [its, not, like, we, lack, evidence, anthropogenic, global, warming]\n",
              "2          2  ...                   [researchers, say, we, three, years, act, climate, change, before, its, too, late]\n",
              "3          1  ...                                                     [wired, pivotal, year, in, war, climate, change]\n",
              "4          1  ...                      [its, and, racist, sexist, climate, change, denying, bigot, leading, in, polls]\n",
              "\n",
              "[5 rows x 7 columns]"
            ]
          },
          "metadata": {},
          "execution_count": 11
        }
      ]
    },
    {
      "cell_type": "code",
      "metadata": {
        "id": "KhYuOw8dCyrN"
      },
      "source": [
        "# Lemmitization\n",
        "lem = nltk.WordNetLemmatizer()\n",
        "\n",
        "def lemmatizer(data):\n",
        "    data = [lem.lemmatize(word) for word in data]\n",
        "    return ' '.join(data)\n",
        "\n",
        "df_train['lemmatized'] = df_train['Tweet_tokenized'].apply(lambda x: lemmatizer(x))"
      ],
      "execution_count": null,
      "outputs": []
    },
    {
      "cell_type": "code",
      "metadata": {
        "id": "he6LpJ-pCyrO"
      },
      "source": [
        "# #Stemming\n",
        "# from nltk.stem.snowball import SnowballStemmer\n",
        "# stemmer = SnowballStemmer(\"english\")\n",
        "# def stemming(data):\n",
        "#     data = \" \".join([stemmer.stem(word) for word in data])\n",
        "#     return data\n",
        "\n",
        "# df_train['Tweet_stemmed'] = df_train['Tweet_lemmatized'].apply(lambda x: stemming(x))\n",
        "# df_train.head()"
      ],
      "execution_count": null,
      "outputs": []
    },
    {
      "cell_type": "code",
      "metadata": {
        "id": "92snp1Y1CyrU"
      },
      "source": [
        ""
      ],
      "execution_count": null,
      "outputs": []
    },
    {
      "cell_type": "code",
      "metadata": {
        "colab": {
          "base_uri": "https://localhost:8080/",
          "height": 561
        },
        "id": "RSAoRVRICyrV",
        "outputId": "daa5be92-a01b-4b41-c246-7f354b9eadeb"
      },
      "source": [
        "#Assess the length of tweets\n",
        "df_train['after_length'] = df_train['Tweet_lemmatized'].apply(lambda x: len(x))\n",
        "df_train.head()"
      ],
      "execution_count": null,
      "outputs": [
        {
          "output_type": "error",
          "ename": "KeyError",
          "evalue": "ignored",
          "traceback": [
            "\u001b[0;31m---------------------------------------------------------------------------\u001b[0m",
            "\u001b[0;31mKeyError\u001b[0m                                  Traceback (most recent call last)",
            "\u001b[0;32m/usr/local/lib/python3.7/dist-packages/pandas/core/indexes/base.py\u001b[0m in \u001b[0;36mget_loc\u001b[0;34m(self, key, method, tolerance)\u001b[0m\n\u001b[1;32m   2897\u001b[0m             \u001b[0;32mtry\u001b[0m\u001b[0;34m:\u001b[0m\u001b[0;34m\u001b[0m\u001b[0;34m\u001b[0m\u001b[0m\n\u001b[0;32m-> 2898\u001b[0;31m                 \u001b[0;32mreturn\u001b[0m \u001b[0mself\u001b[0m\u001b[0;34m.\u001b[0m\u001b[0m_engine\u001b[0m\u001b[0;34m.\u001b[0m\u001b[0mget_loc\u001b[0m\u001b[0;34m(\u001b[0m\u001b[0mcasted_key\u001b[0m\u001b[0;34m)\u001b[0m\u001b[0;34m\u001b[0m\u001b[0;34m\u001b[0m\u001b[0m\n\u001b[0m\u001b[1;32m   2899\u001b[0m             \u001b[0;32mexcept\u001b[0m \u001b[0mKeyError\u001b[0m \u001b[0;32mas\u001b[0m \u001b[0merr\u001b[0m\u001b[0;34m:\u001b[0m\u001b[0;34m\u001b[0m\u001b[0;34m\u001b[0m\u001b[0m\n",
            "\u001b[0;32mpandas/_libs/index.pyx\u001b[0m in \u001b[0;36mpandas._libs.index.IndexEngine.get_loc\u001b[0;34m()\u001b[0m\n",
            "\u001b[0;32mpandas/_libs/index.pyx\u001b[0m in \u001b[0;36mpandas._libs.index.IndexEngine.get_loc\u001b[0;34m()\u001b[0m\n",
            "\u001b[0;32mpandas/_libs/hashtable_class_helper.pxi\u001b[0m in \u001b[0;36mpandas._libs.hashtable.PyObjectHashTable.get_item\u001b[0;34m()\u001b[0m\n",
            "\u001b[0;32mpandas/_libs/hashtable_class_helper.pxi\u001b[0m in \u001b[0;36mpandas._libs.hashtable.PyObjectHashTable.get_item\u001b[0;34m()\u001b[0m\n",
            "\u001b[0;31mKeyError\u001b[0m: 'Tweet_lemmatized'",
            "\nThe above exception was the direct cause of the following exception:\n",
            "\u001b[0;31mKeyError\u001b[0m                                  Traceback (most recent call last)",
            "\u001b[0;32m<ipython-input-15-a3e7096335ce>\u001b[0m in \u001b[0;36m<module>\u001b[0;34m()\u001b[0m\n\u001b[1;32m      1\u001b[0m \u001b[0;31m#Assess the length of tweets\u001b[0m\u001b[0;34m\u001b[0m\u001b[0;34m\u001b[0m\u001b[0;34m\u001b[0m\u001b[0m\n\u001b[0;32m----> 2\u001b[0;31m \u001b[0mdf_train\u001b[0m\u001b[0;34m[\u001b[0m\u001b[0;34m'after_length'\u001b[0m\u001b[0;34m]\u001b[0m \u001b[0;34m=\u001b[0m \u001b[0mdf_train\u001b[0m\u001b[0;34m[\u001b[0m\u001b[0;34m'Tweet_lemmatized'\u001b[0m\u001b[0;34m]\u001b[0m\u001b[0;34m.\u001b[0m\u001b[0mapply\u001b[0m\u001b[0;34m(\u001b[0m\u001b[0;32mlambda\u001b[0m \u001b[0mx\u001b[0m\u001b[0;34m:\u001b[0m \u001b[0mlen\u001b[0m\u001b[0;34m(\u001b[0m\u001b[0mx\u001b[0m\u001b[0;34m)\u001b[0m\u001b[0;34m)\u001b[0m\u001b[0;34m\u001b[0m\u001b[0;34m\u001b[0m\u001b[0m\n\u001b[0m\u001b[1;32m      3\u001b[0m \u001b[0mdf_train\u001b[0m\u001b[0;34m.\u001b[0m\u001b[0mhead\u001b[0m\u001b[0;34m(\u001b[0m\u001b[0;34m)\u001b[0m\u001b[0;34m\u001b[0m\u001b[0;34m\u001b[0m\u001b[0m\n",
            "\u001b[0;32m/usr/local/lib/python3.7/dist-packages/pandas/core/frame.py\u001b[0m in \u001b[0;36m__getitem__\u001b[0;34m(self, key)\u001b[0m\n\u001b[1;32m   2904\u001b[0m             \u001b[0;32mif\u001b[0m \u001b[0mself\u001b[0m\u001b[0;34m.\u001b[0m\u001b[0mcolumns\u001b[0m\u001b[0;34m.\u001b[0m\u001b[0mnlevels\u001b[0m \u001b[0;34m>\u001b[0m \u001b[0;36m1\u001b[0m\u001b[0;34m:\u001b[0m\u001b[0;34m\u001b[0m\u001b[0;34m\u001b[0m\u001b[0m\n\u001b[1;32m   2905\u001b[0m                 \u001b[0;32mreturn\u001b[0m \u001b[0mself\u001b[0m\u001b[0;34m.\u001b[0m\u001b[0m_getitem_multilevel\u001b[0m\u001b[0;34m(\u001b[0m\u001b[0mkey\u001b[0m\u001b[0;34m)\u001b[0m\u001b[0;34m\u001b[0m\u001b[0;34m\u001b[0m\u001b[0m\n\u001b[0;32m-> 2906\u001b[0;31m             \u001b[0mindexer\u001b[0m \u001b[0;34m=\u001b[0m \u001b[0mself\u001b[0m\u001b[0;34m.\u001b[0m\u001b[0mcolumns\u001b[0m\u001b[0;34m.\u001b[0m\u001b[0mget_loc\u001b[0m\u001b[0;34m(\u001b[0m\u001b[0mkey\u001b[0m\u001b[0;34m)\u001b[0m\u001b[0;34m\u001b[0m\u001b[0;34m\u001b[0m\u001b[0m\n\u001b[0m\u001b[1;32m   2907\u001b[0m             \u001b[0;32mif\u001b[0m \u001b[0mis_integer\u001b[0m\u001b[0;34m(\u001b[0m\u001b[0mindexer\u001b[0m\u001b[0;34m)\u001b[0m\u001b[0;34m:\u001b[0m\u001b[0;34m\u001b[0m\u001b[0;34m\u001b[0m\u001b[0m\n\u001b[1;32m   2908\u001b[0m                 \u001b[0mindexer\u001b[0m \u001b[0;34m=\u001b[0m \u001b[0;34m[\u001b[0m\u001b[0mindexer\u001b[0m\u001b[0;34m]\u001b[0m\u001b[0;34m\u001b[0m\u001b[0;34m\u001b[0m\u001b[0m\n",
            "\u001b[0;32m/usr/local/lib/python3.7/dist-packages/pandas/core/indexes/base.py\u001b[0m in \u001b[0;36mget_loc\u001b[0;34m(self, key, method, tolerance)\u001b[0m\n\u001b[1;32m   2898\u001b[0m                 \u001b[0;32mreturn\u001b[0m \u001b[0mself\u001b[0m\u001b[0;34m.\u001b[0m\u001b[0m_engine\u001b[0m\u001b[0;34m.\u001b[0m\u001b[0mget_loc\u001b[0m\u001b[0;34m(\u001b[0m\u001b[0mcasted_key\u001b[0m\u001b[0;34m)\u001b[0m\u001b[0;34m\u001b[0m\u001b[0;34m\u001b[0m\u001b[0m\n\u001b[1;32m   2899\u001b[0m             \u001b[0;32mexcept\u001b[0m \u001b[0mKeyError\u001b[0m \u001b[0;32mas\u001b[0m \u001b[0merr\u001b[0m\u001b[0;34m:\u001b[0m\u001b[0;34m\u001b[0m\u001b[0;34m\u001b[0m\u001b[0m\n\u001b[0;32m-> 2900\u001b[0;31m                 \u001b[0;32mraise\u001b[0m \u001b[0mKeyError\u001b[0m\u001b[0;34m(\u001b[0m\u001b[0mkey\u001b[0m\u001b[0;34m)\u001b[0m \u001b[0;32mfrom\u001b[0m \u001b[0merr\u001b[0m\u001b[0;34m\u001b[0m\u001b[0;34m\u001b[0m\u001b[0m\n\u001b[0m\u001b[1;32m   2901\u001b[0m \u001b[0;34m\u001b[0m\u001b[0m\n\u001b[1;32m   2902\u001b[0m         \u001b[0;32mif\u001b[0m \u001b[0mtolerance\u001b[0m \u001b[0;32mis\u001b[0m \u001b[0;32mnot\u001b[0m \u001b[0;32mNone\u001b[0m\u001b[0;34m:\u001b[0m\u001b[0;34m\u001b[0m\u001b[0;34m\u001b[0m\u001b[0m\n",
            "\u001b[0;31mKeyError\u001b[0m: 'Tweet_lemmatized'"
          ]
        }
      ]
    },
    {
      "cell_type": "code",
      "metadata": {
        "id": "GfpkefmcCyrW",
        "outputId": "13bd1db7-d68c-4268-a0af-1b84862ddbfb"
      },
      "source": [
        "df_train.shape"
      ],
      "execution_count": null,
      "outputs": [
        {
          "data": {
            "text/plain": [
              "(15819, 9)"
            ]
          },
          "execution_count": 23,
          "metadata": {},
          "output_type": "execute_result"
        }
      ]
    },
    {
      "cell_type": "code",
      "metadata": {
        "id": "U0Rm3d2UCyrX"
      },
      "source": [
        "def _analyzer (data):\n",
        "    \"\"\"\n",
        "    Function \n",
        "    \"\"\"\n",
        "    data  = _clean_tweet(data)\n",
        "    data = _remove_punc(data)\n",
        "    data = _lower(data)\n",
        "    # data = _remove_numbers(data)\n",
        "    data = remove_stopwords(data)\n",
        "    data = tokenization(data)\n",
        "    data = lemmatizer(data)\n",
        "    # data = stemming(data)\n",
        "    return data"
      ],
      "execution_count": null,
      "outputs": []
    },
    {
      "cell_type": "markdown",
      "metadata": {
        "id": "drbhRBriCyrY"
      },
      "source": [
        "### Feature Extraction "
      ]
    },
    {
      "cell_type": "markdown",
      "metadata": {
        "id": "uvEpqMpzCyrZ"
      },
      "source": [
        "#### Train Test Split"
      ]
    },
    {
      "cell_type": "markdown",
      "metadata": {
        "id": "5ZrlsaC7CyrZ"
      },
      "source": [
        "#### Apply Logistic Regression "
      ]
    },
    {
      "cell_type": "code",
      "metadata": {
        "id": "Vc9VNVgqCyra"
      },
      "source": [
        "# from nltk.tokenize import word_tokenize\n",
        "# log_reg = Pipeline([('vect' , CountVectorizer(analyzer=_analyzer)),\n",
        "#                     ('tfid' , TfidfVectorizer()),\n",
        "#                     ('clf' , LogisticRegression(multi_class='ovr'))])\n",
        "\n",
        "# log_reg.fit(X_train.values.ravel(), y_train.values.ravel())\n",
        "# log_pred = log_reg.predict(X_test.values.ravel())\n",
        "countVector = TfidfVectorizer(ngram_range=(1, 2), analyzer='word')\n",
        "countVectorized = countVector.fit_transform(df_train['message'].apply(_analyzer)).toarray()\n"
      ],
      "execution_count": null,
      "outputs": []
    },
    {
      "cell_type": "code",
      "metadata": {
        "id": "sYZFyIjZCyrb"
      },
      "source": [
        "from sklearn.preprocessing import MaxAbsScaler"
      ],
      "execution_count": null,
      "outputs": []
    },
    {
      "cell_type": "code",
      "metadata": {
        "id": "217way-M67NU"
      },
      "source": [
        "#Scaler\n",
        "scale = MaxAbsScaler().fit(countVectorized)\n",
        "transform = scale.transform(countVectorized)"
      ],
      "execution_count": null,
      "outputs": []
    },
    {
      "cell_type": "code",
      "metadata": {
        "id": "Ubq4Ra-I7aMD"
      },
      "source": [
        "X = transform\n",
        "y = df_train.sentiment"
      ],
      "execution_count": null,
      "outputs": []
    },
    {
      "cell_type": "markdown",
      "metadata": {
        "id": "Thm4zOOnCyrc"
      },
      "source": [
        "#### Data Resampling"
      ]
    },
    {
      "cell_type": "code",
      "metadata": {
        "id": "tu0Ona3jCyrc"
      },
      "source": [
        ""
      ],
      "execution_count": null,
      "outputs": []
    },
    {
      "cell_type": "code",
      "metadata": {
        "id": "NSj-awCfCyrd",
        "scrolled": true
      },
      "source": [
        "from imblearn.over_sampling import SMOTE\n",
        "from imblearn.under_sampling import RandomUnderSampler\n",
        "from imblearn.pipeline import Pipeline"
      ],
      "execution_count": null,
      "outputs": []
    },
    {
      "cell_type": "code",
      "metadata": {
        "id": "1S3VFeojCyrg"
      },
      "source": [
        "oversample= SMOTE()\n",
        "undersample = RandomUnderSampler()\n",
        "\n",
        "steps = [('o' , oversample),\n",
        "      ('u' , undersample)]\n",
        "pipeline = Pipeline(steps=steps)\n",
        "X , y = pipeline.fit_resample(X , y)"
      ],
      "execution_count": null,
      "outputs": []
    },
    {
      "cell_type": "code",
      "metadata": {
        "id": "fprQLIL5ui-L"
      },
      "source": [
        ""
      ],
      "execution_count": null,
      "outputs": []
    },
    {
      "cell_type": "code",
      "metadata": {
        "id": "5cm-0vQmC4Fs"
      },
      "source": [
        "# use 70% for the training and 30% for the test\n",
        "X_train, X_test, y_train, y_test = train_test_split(X, y,\n",
        "                                                    random_state=42, test_size=0.3)"
      ],
      "execution_count": null,
      "outputs": []
    },
    {
      "cell_type": "code",
      "metadata": {
        "colab": {
          "base_uri": "https://localhost:8080/"
        },
        "id": "ZjAhSZ1TSFnD",
        "outputId": "a2ff9c7f-4626-42b5-fa80-4750e89b6aa4"
      },
      "source": [
        "X_train"
      ],
      "execution_count": null,
      "outputs": [
        {
          "output_type": "execute_result",
          "data": {
            "text/plain": [
              "array([[0.75334056, 0.54628382, 0.09846815, ..., 0.        , 0.13319222,\n",
              "        0.        ],\n",
              "       [0.84833736, 0.48680668, 0.16922991, ..., 0.        , 0.40691645,\n",
              "        0.        ],\n",
              "       [0.84868943, 0.42286415, 0.0438784 , ..., 0.        , 0.        ,\n",
              "        0.        ],\n",
              "       ...,\n",
              "       [0.85326035, 0.3046912 , 0.18894372, ..., 0.        , 0.2496141 ,\n",
              "        0.        ],\n",
              "       [0.6864696 , 0.3882781 , 0.        , ..., 0.        , 0.        ,\n",
              "        0.        ],\n",
              "       [0.83909694, 0.30761536, 0.23763405, ..., 0.        , 0.10714465,\n",
              "        0.        ]])"
            ]
          },
          "metadata": {},
          "execution_count": 47
        }
      ]
    },
    {
      "cell_type": "code",
      "metadata": {
        "id": "wHMwBWlsDIHr"
      },
      "source": [
        "from sklearn.linear_model import LogisticRegression\n",
        "from sklearn.svm import SVC\n",
        "from sklearn.naive_bayes import MultinomialNB\n",
        "from sklearn.neighbors import KNeighborsClassifier\n",
        "from sklearn.tree import DecisionTreeClassifier\n",
        "from sklearn.ensemble import RandomForestClassifier\n",
        "from sklearn import metrics\n",
        "from sklearn.pipeline import Pipeline\n",
        "from sklearn.decomposition import LatentDirichletAllocation as LDA\n",
        "from sklearn.model_selection import GridSearchCV\n",
        "from sklearn import metrics"
      ],
      "execution_count": null,
      "outputs": []
    },
    {
      "cell_type": "code",
      "metadata": {
        "id": "FzpvsbvoofeZ"
      },
      "source": [
        "# Creating a list of all the models to train\n",
        "algs = [LogisticRegression(multi_class='ovr'),RandomForestClassifier()]"
      ],
      "execution_count": null,
      "outputs": []
    },
    {
      "cell_type": "code",
      "metadata": {
        "colab": {
          "base_uri": "https://localhost:8080/"
        },
        "id": "BLrWeJ3bolDW",
        "outputId": "c9482c7c-ac51-4c5c-fd85-709a9dc50fc8"
      },
      "source": [
        "# Fitting models onto the training data and predicting.\n",
        "for i in range(0, len(algs)):\n",
        "    text_clf = Pipeline([\n",
        "                         ('clf', algs[i])])\n",
        "    text_clf.fit(X_train, y_train)  \n",
        "    predictions = text_clf.predict(X_test)\n",
        "\n",
        "    print(algs[i])\n",
        "    print(metrics.confusion_matrix(y_test,predictions))\n",
        "    print(metrics.classification_report(y_test,predictions))\n",
        "    print('F1_score: ',round(metrics.f1_score(y_test,predictions, average = 'weighted'),3))\n",
        "    print('-------------------------------------------------------')"
      ],
      "execution_count": null,
      "outputs": [
        {
          "output_type": "stream",
          "name": "stdout",
          "text": [
            "LogisticRegression(multi_class='ovr')\n",
            "[[1050  395  553  578]\n",
            " [ 641  803  626  512]\n",
            " [ 469  335  954  700]\n",
            " [ 361  197  440 1622]]\n",
            "              precision    recall  f1-score   support\n",
            "\n",
            "          -1       0.42      0.41      0.41      2576\n",
            "           0       0.46      0.31      0.37      2582\n",
            "           1       0.37      0.39      0.38      2458\n",
            "           2       0.48      0.62      0.54      2620\n",
            "\n",
            "    accuracy                           0.43     10236\n",
            "   macro avg       0.43      0.43      0.43     10236\n",
            "weighted avg       0.43      0.43      0.43     10236\n",
            "\n",
            "F1_score:  0.426\n",
            "-------------------------------------------------------\n",
            "RandomForestClassifier()\n",
            "[[2379   47   76   74]\n",
            " [  83 2178  186  135]\n",
            " [ 144  243 1714  357]\n",
            " [  76   67  300 2177]]\n",
            "              precision    recall  f1-score   support\n",
            "\n",
            "          -1       0.89      0.92      0.90      2576\n",
            "           0       0.86      0.84      0.85      2582\n",
            "           1       0.75      0.70      0.72      2458\n",
            "           2       0.79      0.83      0.81      2620\n",
            "\n",
            "    accuracy                           0.83     10236\n",
            "   macro avg       0.82      0.82      0.82     10236\n",
            "weighted avg       0.82      0.83      0.82     10236\n",
            "\n",
            "F1_score:  0.824\n",
            "-------------------------------------------------------\n"
          ]
        }
      ]
    },
    {
      "cell_type": "code",
      "metadata": {
        "id": "ev3L3mqjovf1"
      },
      "source": [
        ""
      ],
      "execution_count": null,
      "outputs": []
    },
    {
      "cell_type": "code",
      "metadata": {
        "id": "PNrHrglACyrh"
      },
      "source": [
        "# print('Classification Report: LogisticRegression()') \n",
        "# print(classification_report(y_test, log_pred))\n",
        "# print('Accuracy Score: {}'.format(round(accuracy_score(y_test, log_pred) * 100,2)))\n"
      ],
      "execution_count": null,
      "outputs": []
    },
    {
      "cell_type": "code",
      "metadata": {
        "id": "j-js6-m3Cyrh"
      },
      "source": [
        ""
      ],
      "execution_count": null,
      "outputs": []
    },
    {
      "cell_type": "code",
      "metadata": {
        "id": "SRzshB6dCyrp"
      },
      "source": [
        ""
      ],
      "execution_count": null,
      "outputs": []
    }
  ]
}