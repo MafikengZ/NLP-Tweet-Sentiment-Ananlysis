{
 "cells": [
  {
   "cell_type": "markdown",
   "metadata": {},
   "source": [
    "## Overview\n",
    "\n",
    "Many companies are built around lessening one’s environmental impact or carbon footprint. They offer products and services that are environmentally friendly and sustainable, in line with their values and ideals. They would like to determine how people perceive climate change and whether or not they believe it is a real threat. This would add to their market research efforts in gauging how their product/service may be received.\n",
    "\n",
    "With this context, EDSA is challenging you during the Classification Sprint with the task of creating a Machine Learning model that is able to classify whether or not a person believes in climate change, based on their novel tweet data.\n",
    "\n",
    "Providing an accurate and robust solution to this task gives companies access to a broad base of consumer sentiment, spanning multiple demographic and geographic categories - thus increasing their insights and informing future marketing strategies.\n",
    "\n",
    "\n",
    "\n",
    "\n",
    "The structure of this notebook is as follows:\n",
    "\n",
    " - First, we'll load our data to get a view of the predictor and response variables we will be modeling. \n",
    " - We'll then preprocess our data, binarising the target variable and splitting up the data intro train and test sets. \n",
    " - We then model our data using a Support Vector Classifier.\n",
    " - Following this modeling, we define a custom metric as the log-loss in order to evaluate our produced model.\n",
    " - Using this metric, we then take several steps to improve our base model's performance by optimising the hyperparameters of the SVC through a grid search strategy. "
   ]
  },
  {
   "cell_type": "code",
   "execution_count": null,
   "metadata": {},
   "outputs": [],
   "source": [
    "image = Image.open(\"C:/Users/Mpilenhle\\Documents/EDSA/Classification/classification-predict-streamlit-model/resources/imgs/worl.jpg\")\n"
   ]
  },
  {
   "cell_type": "code",
   "execution_count": 93,
   "metadata": {},
   "outputs": [],
   "source": [
    "# import relevant libraries\n",
    "import nltk\n",
    "import warnings\n",
    "warnings.filterwarnings(\"ignore\")\n",
    "import numpy as np\n",
    "import pandas as pd\n",
    "\n",
    "import matplotlib.pyplot as plt\n",
    "%matplotlib inline\n",
    "import seaborn as sns\n",
    "import re\n",
    "pd.set_option('display.max_rows', 100)\n",
    "from sklearn.utils import resample\n",
    "from sklearn.pipeline import Pipeline\n",
    "\n",
    "\n",
    "from nltk.corpus import stopwords\n",
    "from sklearn.metrics import classification_report\n",
    "\n",
    "# set plot style\n",
    "# Style\n",
    "import matplotlib.style as style \n",
    "sns.set(font_scale=1.5)\n",
    "style.use('seaborn-pastel')\n",
    "style.use('seaborn-poster')\n",
    "from PIL import Image\n",
    "from wordcloud import WordCloud\n"
   ]
  },
  {
   "cell_type": "code",
   "execution_count": 148,
   "metadata": {},
   "outputs": [],
   "source": [
    "b"
   ]
  },
  {
   "cell_type": "markdown",
   "metadata": {},
   "source": [
    "## The Dataset \n",
    "\n",
    "Data The collection of this data was funded by a Canada Foundation for Innovation JELF Grant to Chris Bauch, University of Waterloo. The dataset aggregates tweets pertaining to climate change collected between Apr 27, 2015 and Feb 21, 2018. In total, 43943 tweets were collected. Each tweet is labelled as one of the following classes:\n",
    "## Class description:\n",
    " \n",
    " - 0 -->  Neutral: the tweet neither supports nor refutes the belief of man-made climate change\n",
    " - 1 -->  Pro: the tweet supports the belief of man-made climate change\n",
    " - 2 -->  News: the tweet links to factual news about climate change\n",
    " - -1 --> Anti: the tweet does not believe in man-made climate change\n",
    "\n",
    " \n",
    "## Columns of the training data:\n",
    "This dataset consists of the following Columns: \n",
    "\n",
    " - sentiments\n",
    " - message\n",
    " - tweetid\n",
    "\n"
   ]
  },
  {
   "cell_type": "code",
   "execution_count": 150,
   "metadata": {},
   "outputs": [
    {
     "data": {
      "text/plain": [
       "(15819, 3)"
      ]
     },
     "execution_count": 150,
     "metadata": {},
     "output_type": "execute_result"
    }
   ],
   "source": [
    "# looking at the data\n",
    "df_train.shape"
   ]
  },
  {
   "cell_type": "code",
   "execution_count": 151,
   "metadata": {},
   "outputs": [
    {
     "data": {
      "text/plain": [
       "(10546, 2)"
      ]
     },
     "execution_count": 151,
     "metadata": {},
     "output_type": "execute_result"
    }
   ],
   "source": [
    "df_test.shape"
   ]
  },
  {
   "cell_type": "code",
   "execution_count": 152,
   "metadata": {},
   "outputs": [
    {
     "data": {
      "text/html": [
       "<div>\n",
       "<style scoped>\n",
       "    .dataframe tbody tr th:only-of-type {\n",
       "        vertical-align: middle;\n",
       "    }\n",
       "\n",
       "    .dataframe tbody tr th {\n",
       "        vertical-align: top;\n",
       "    }\n",
       "\n",
       "    .dataframe thead th {\n",
       "        text-align: right;\n",
       "    }\n",
       "</style>\n",
       "<table border=\"1\" class=\"dataframe\">\n",
       "  <thead>\n",
       "    <tr style=\"text-align: right;\">\n",
       "      <th></th>\n",
       "      <th>sentiment</th>\n",
       "      <th>message</th>\n",
       "      <th>tweetid</th>\n",
       "    </tr>\n",
       "  </thead>\n",
       "  <tbody>\n",
       "    <tr>\n",
       "      <th>0</th>\n",
       "      <td>1</td>\n",
       "      <td>PolySciMajor EPA chief doesn't think carbon di...</td>\n",
       "      <td>625221</td>\n",
       "    </tr>\n",
       "    <tr>\n",
       "      <th>1</th>\n",
       "      <td>1</td>\n",
       "      <td>It's not like we lack evidence of anthropogeni...</td>\n",
       "      <td>126103</td>\n",
       "    </tr>\n",
       "    <tr>\n",
       "      <th>2</th>\n",
       "      <td>2</td>\n",
       "      <td>RT @RawStory: Researchers say we have three ye...</td>\n",
       "      <td>698562</td>\n",
       "    </tr>\n",
       "    <tr>\n",
       "      <th>3</th>\n",
       "      <td>1</td>\n",
       "      <td>#TodayinMaker# WIRED : 2016 was a pivotal year...</td>\n",
       "      <td>573736</td>\n",
       "    </tr>\n",
       "    <tr>\n",
       "      <th>4</th>\n",
       "      <td>1</td>\n",
       "      <td>RT @SoyNovioDeTodas: It's 2016, and a racist, ...</td>\n",
       "      <td>466954</td>\n",
       "    </tr>\n",
       "  </tbody>\n",
       "</table>\n",
       "</div>"
      ],
      "text/plain": [
       "   sentiment                                            message  tweetid\n",
       "0          1  PolySciMajor EPA chief doesn't think carbon di...   625221\n",
       "1          1  It's not like we lack evidence of anthropogeni...   126103\n",
       "2          2  RT @RawStory: Researchers say we have three ye...   698562\n",
       "3          1  #TodayinMaker# WIRED : 2016 was a pivotal year...   573736\n",
       "4          1  RT @SoyNovioDeTodas: It's 2016, and a racist, ...   466954"
      ]
     },
     "execution_count": 152,
     "metadata": {},
     "output_type": "execute_result"
    }
   ],
   "source": [
    "df_train.head()"
   ]
  },
  {
   "cell_type": "code",
   "execution_count": 153,
   "metadata": {},
   "outputs": [
    {
     "data": {
      "text/html": [
       "<div>\n",
       "<style scoped>\n",
       "    .dataframe tbody tr th:only-of-type {\n",
       "        vertical-align: middle;\n",
       "    }\n",
       "\n",
       "    .dataframe tbody tr th {\n",
       "        vertical-align: top;\n",
       "    }\n",
       "\n",
       "    .dataframe thead th {\n",
       "        text-align: right;\n",
       "    }\n",
       "</style>\n",
       "<table border=\"1\" class=\"dataframe\">\n",
       "  <thead>\n",
       "    <tr style=\"text-align: right;\">\n",
       "      <th></th>\n",
       "      <th>message</th>\n",
       "      <th>tweetid</th>\n",
       "    </tr>\n",
       "  </thead>\n",
       "  <tbody>\n",
       "    <tr>\n",
       "      <th>0</th>\n",
       "      <td>Europe will now be looking to China to make su...</td>\n",
       "      <td>169760</td>\n",
       "    </tr>\n",
       "    <tr>\n",
       "      <th>1</th>\n",
       "      <td>Combine this with the polling of staffers re c...</td>\n",
       "      <td>35326</td>\n",
       "    </tr>\n",
       "    <tr>\n",
       "      <th>2</th>\n",
       "      <td>The scary, unimpeachable evidence that climate...</td>\n",
       "      <td>224985</td>\n",
       "    </tr>\n",
       "    <tr>\n",
       "      <th>3</th>\n",
       "      <td>@Karoli @morgfair @OsborneInk @dailykos \\nPuti...</td>\n",
       "      <td>476263</td>\n",
       "    </tr>\n",
       "    <tr>\n",
       "      <th>4</th>\n",
       "      <td>RT @FakeWillMoore: 'Female orgasms cause globa...</td>\n",
       "      <td>872928</td>\n",
       "    </tr>\n",
       "  </tbody>\n",
       "</table>\n",
       "</div>"
      ],
      "text/plain": [
       "                                             message  tweetid\n",
       "0  Europe will now be looking to China to make su...   169760\n",
       "1  Combine this with the polling of staffers re c...    35326\n",
       "2  The scary, unimpeachable evidence that climate...   224985\n",
       "3  @Karoli @morgfair @OsborneInk @dailykos \\nPuti...   476263\n",
       "4  RT @FakeWillMoore: 'Female orgasms cause globa...   872928"
      ]
     },
     "execution_count": 153,
     "metadata": {},
     "output_type": "execute_result"
    }
   ],
   "source": [
    "df_test.head()"
   ]
  },
  {
   "cell_type": "markdown",
   "metadata": {},
   "source": [
    "# Data distribution of classes \n",
    "\n",
    " By looking at the value count of classes we suddenly see imbalance in the data"
   ]
  },
  {
   "cell_type": "code",
   "execution_count": 210,
   "metadata": {},
   "outputs": [
    {
     "data": {
      "image/png": "[encoded data removed]",
      "text/plain": [
       "<Figure size 921.6x633.6 with 1 Axes>"
      ]
     },
     "metadata": {},
     "output_type": "display_data"
    }
   ],
   "source": [
    "labels = ['Pro', 'News', 'Neutral', 'Anti'] \n",
    "\n",
    "# Get all possible labels\n",
    "plt.bar(labels,df_train['sentiment'].value_counts() ,color='green')\n",
    "plt.xticks(labels, ['Pro', 'News', 'Neutral', 'Anti'] )\n",
    "plt.ylabel(\"# of observations\")\n",
    "plt.show()"
   ]
  },
  {
   "cell_type": "markdown",
   "metadata": {},
   "source": [
    "# Data Cleaning\n",
    "The tweets have a lot of charecters that might cause noise in our data, with the use of regualr expressions we can remove those charecters which include:\n",
    " - Hashtags\n",
    " - RT for retweets\n",
    " - @ for mentions\n",
    " - url webs\n",
    " - emojis\n",
    " - digits\n",
    " - spelling charecters eg. ã¢â‚¬â¦\n",
    "\n",
    "By removing these charecters we atrying to remove words that do not make sense for the model, the lesser the noise the more precise the results we are getting, this is also done to avoid learning wrong patterns from the data\n"
   ]
  },
  {
   "cell_type": "code",
   "execution_count": 234,
   "metadata": {},
   "outputs": [],
   "source": [
    "\n",
    "\n",
    "                        \"\"\"\n",
    "                        The function uses some of the functions remove_emoji() which removes\n",
    "                        emojis in a tweet\n",
    "                        it also uses the function remove_punctuation() which removes\n",
    "                        punctuations\n",
    "\n",
    "                        The function data_cleaner() implements both these functions to make a \n",
    "                        clean data frame, with the use of the regular expressions it removes\n",
    "                        noise or unwanted charecters in the tweets\n",
    "\n",
    "\n",
    "                        \"\"\"\n",
    "\n",
    "import string\n",
    "import re\n",
    "#creating a function for removing emojis\n",
    "def remove_emoji(string):\n",
    "    emoji_pattern = re.compile(\"[\" \n",
    "                u\"\\U0001F600-\\U0001F64F\"  # emoticons\n",
    "                u\"\\U0001F300-\\U0001F5FF\"  # symbols & pictographs\n",
    "                u\"\\U0001F680-\\U0001F6FF\"  # transport & map symbols\n",
    "                u\"\\U0001F1E0-\\U0001F1FF\"  # flags (iOS)\n",
    "                u\"\\U00002702-\\U000027B0\"\n",
    "                u\"\\U000024C2-\\U0001F251\"\n",
    "                u\"\\U0001f926-\\U0001f937\"\n",
    "                u'\\U00010000-\\U0010ffff'\n",
    "                u\"\\u200d\"\n",
    "                u\"\\u2640-\\u2642\"\n",
    "                u\"\\u2600-\\u2B55\"\n",
    "                u\"\\u23cf\"\n",
    "                u\"\\u23e9\"\n",
    "                u\"\\u231a\"\n",
    "                u\"\\u3030\"\n",
    "                u\"\\ufe0f\"\n",
    "                           \"]+\", flags=re.UNICODE)\n",
    "    return emoji_pattern.sub(r'', string)\n",
    "\n",
    "\n",
    "# punctuation remover function\n",
    "def remove_punctuation(tweets):\n",
    "    return ''.join([l for l in tweets if l not in string.punctuation])\n",
    "\n",
    "\n",
    "\n",
    "def data_cleaner(df, column):\n",
    "    \n",
    "    #remmoving the urls\n",
    "    pattern_url = r'http[s]?://[A-Za-z0-9/.]+'\n",
    "    subs_url = r'url-web'\n",
    "    df[column] = df[column].replace(to_replace = pattern_url, value = subs_url, regex = True)\n",
    "    \n",
    "    #remmoving the Re Tweets \n",
    "    pattern_url = r'RT\\s'\n",
    "    subs_url = r''\n",
    "    df[column] = df[column].replace(to_replace = pattern_url, value = subs_url, regex = True)\n",
    "    \n",
    "\n",
    "    #remmoving the mentions \n",
    "    pattern_url = r'@'\n",
    "    subs_url = r''\n",
    "    df[column] = df[column].replace(to_replace = pattern_url, value = subs_url, regex = True)\n",
    "\n",
    "\n",
    "    #remmoving the Hashtags \n",
    "    pattern_url = r'\\#'\n",
    "    subs_url = r''\n",
    "    df[column] = df[column].replace(to_replace = pattern_url, value = subs_url, regex = True)\n",
    "    \n",
    "\n",
    "    #remmoving the remaining https\n",
    "    pattern_url = r'https:[.*?]+'\n",
    "    subs_url = r''\n",
    "    df[column] = df[column].replace(to_replace = pattern_url, value = subs_url, regex = True)\n",
    "\n",
    "    #remmoving the digits\n",
    "    pattern_url = r'\\d'\n",
    "    subs_url = r''\n",
    "    df[column] = df[column].replace(to_replace = pattern_url, value = subs_url, regex = True)\n",
    "\n",
    "    # turning all tweets to lower case\n",
    "    df[column] = df[column].str.lower()\n",
    "    \n",
    "    # using apply method to remove the punctuation marks\n",
    "    df[column] = df[column].apply(remove_punctuation)\n",
    "    \n",
    "    # Removing the emojis using the apply method\n",
    "    df[column] = df[column].apply(remove_emoji)\n",
    "    \n",
    "    #remmoving the uknown charecters from words\n",
    "    pattern_url = r'[^A-Za-z ]'\n",
    "    subs_url = r''\n",
    "    df[column] = df[column].replace(to_replace = pattern_url, value = subs_url, regex = True)\n",
    "\n",
    "    \n",
    "    return df"
   ]
  },
  {
   "cell_type": "code",
   "execution_count": 165,
   "metadata": {},
   "outputs": [],
   "source": [
    "# Call the function data_cleaner() and clean the training data frame \n",
    "clean_df_train = data_cleaner(df_train, 'message')"
   ]
  },
  {
   "cell_type": "code",
   "execution_count": 166,
   "metadata": {},
   "outputs": [],
   "source": [
    "# Call the function data_cleaner and clean the testing data frame \n",
    "clean_df_test = data_cleaner(df_test, 'message')"
   ]
  },
  {
   "cell_type": "code",
   "execution_count": 167,
   "metadata": {},
   "outputs": [
    {
     "data": {
      "text/html": [
       "<div>\n",
       "<style scoped>\n",
       "    .dataframe tbody tr th:only-of-type {\n",
       "        vertical-align: middle;\n",
       "    }\n",
       "\n",
       "    .dataframe tbody tr th {\n",
       "        vertical-align: top;\n",
       "    }\n",
       "\n",
       "    .dataframe thead th {\n",
       "        text-align: right;\n",
       "    }\n",
       "</style>\n",
       "<table border=\"1\" class=\"dataframe\">\n",
       "  <thead>\n",
       "    <tr style=\"text-align: right;\">\n",
       "      <th></th>\n",
       "      <th>sentiment</th>\n",
       "      <th>message</th>\n",
       "      <th>tweetid</th>\n",
       "      <th>tokens</th>\n",
       "      <th>token_no_stop_word</th>\n",
       "      <th>lemma</th>\n",
       "      <th>stem</th>\n",
       "      <th>clean_sentences</th>\n",
       "      <th>stem_clean_sentences</th>\n",
       "      <th>lemma_stem_clean_sentences</th>\n",
       "    </tr>\n",
       "  </thead>\n",
       "  <tbody>\n",
       "    <tr>\n",
       "      <th>0</th>\n",
       "      <td>1</td>\n",
       "      <td>polyscimajor epa chief doesnt think carbon dio...</td>\n",
       "      <td>625221</td>\n",
       "      <td>[polyscimajor, epa, chief, doesnt, think, carb...</td>\n",
       "      <td>[polyscimajor, epa, chief, doesnt, think, carb...</td>\n",
       "      <td>[polyscimajor, epa, chief, doesnt, think, carb...</td>\n",
       "      <td>[polyscimajor, epa, chief, doesnt, think, carb...</td>\n",
       "      <td>polyscimajor epa chief doesnt think carbon dio...</td>\n",
       "      <td>polyscimajor epa chief doesnt think carbon dio...</td>\n",
       "      <td>polyscimajor epa chief doesnt think carbon dio...</td>\n",
       "    </tr>\n",
       "    <tr>\n",
       "      <th>1</th>\n",
       "      <td>1</td>\n",
       "      <td>its not like we lack evidence of anthropogenic...</td>\n",
       "      <td>126103</td>\n",
       "      <td>[its, not, like, we, lack, evidence, of, anthr...</td>\n",
       "      <td>[like, lack, evidence, anthropogenic, global, ...</td>\n",
       "      <td>[like, lack, evidence, anthropogenic, global, ...</td>\n",
       "      <td>[like, lack, evid, anthropogen, global, warm]</td>\n",
       "      <td>like lack evidence anthropogenic global warming</td>\n",
       "      <td>like lack evid anthropogen global warm</td>\n",
       "      <td>like lack evid anthropogen global warm</td>\n",
       "    </tr>\n",
       "    <tr>\n",
       "      <th>2</th>\n",
       "      <td>2</td>\n",
       "      <td>rawstory researchers say we have three years t...</td>\n",
       "      <td>698562</td>\n",
       "      <td>[rawstory, researchers, say, we, have, three, ...</td>\n",
       "      <td>[rawstory, researchers, say, three, years, act...</td>\n",
       "      <td>[rawstory, researcher, say, three, year, act, ...</td>\n",
       "      <td>[rawstori, research, say, three, year, act, cl...</td>\n",
       "      <td>rawstory researchers say three years act clima...</td>\n",
       "      <td>rawstori research say three year act climat ch...</td>\n",
       "      <td>rawstori research say three year act climat ch...</td>\n",
       "    </tr>\n",
       "    <tr>\n",
       "      <th>3</th>\n",
       "      <td>1</td>\n",
       "      <td>todayinmaker wired   was a pivotal year in the...</td>\n",
       "      <td>573736</td>\n",
       "      <td>[todayinmaker, wired, was, a, pivotal, year, i...</td>\n",
       "      <td>[todayinmaker, wired, pivotal, year, war, clim...</td>\n",
       "      <td>[todayinmaker, wired, pivotal, year, war, clim...</td>\n",
       "      <td>[todayinmak, wire, pivot, year, war, climat, c...</td>\n",
       "      <td>todayinmaker wired pivotal year war climate ch...</td>\n",
       "      <td>todayinmak wire pivot year war climat chang ur...</td>\n",
       "      <td>todayinmak wire pivot year war climat chang ur...</td>\n",
       "    </tr>\n",
       "    <tr>\n",
       "      <th>4</th>\n",
       "      <td>1</td>\n",
       "      <td>soynoviodetodas its  and a racist sexist clima...</td>\n",
       "      <td>466954</td>\n",
       "      <td>[soynoviodetodas, its, and, a, racist, sexist,...</td>\n",
       "      <td>[soynoviodetodas, racist, sexist, climate, cha...</td>\n",
       "      <td>[soynoviodetodas, racist, sexist, climate, cha...</td>\n",
       "      <td>[soynoviodetoda, racist, sexist, climat, chang...</td>\n",
       "      <td>soynoviodetodas racist sexist climate change d...</td>\n",
       "      <td>soynoviodetoda racist sexist climat chang deni...</td>\n",
       "      <td>soynoviodetoda racist sexist climat chang deni...</td>\n",
       "    </tr>\n",
       "    <tr>\n",
       "      <th>...</th>\n",
       "      <td>...</td>\n",
       "      <td>...</td>\n",
       "      <td>...</td>\n",
       "      <td>...</td>\n",
       "      <td>...</td>\n",
       "      <td>...</td>\n",
       "      <td>...</td>\n",
       "      <td>...</td>\n",
       "      <td>...</td>\n",
       "      <td>...</td>\n",
       "    </tr>\n",
       "    <tr>\n",
       "      <th>15814</th>\n",
       "      <td>1</td>\n",
       "      <td>ezlusztig they took down the material on globa...</td>\n",
       "      <td>22001</td>\n",
       "      <td>[ezlusztig, they, took, down, the, material, o...</td>\n",
       "      <td>[ezlusztig, took, material, global, warming, l...</td>\n",
       "      <td>[ezlusztig, took, material, global, warming, l...</td>\n",
       "      <td>[ezlusztig, took, materi, global, warm, lgbt, ...</td>\n",
       "      <td>ezlusztig took material global warming lgbt ri...</td>\n",
       "      <td>ezlusztig took materi global warm lgbt right h...</td>\n",
       "      <td>ezlusztig took materi global warm lgbt right h...</td>\n",
       "    </tr>\n",
       "    <tr>\n",
       "      <th>15815</th>\n",
       "      <td>2</td>\n",
       "      <td>washingtonpost how climate change could be bre...</td>\n",
       "      <td>17856</td>\n",
       "      <td>[washingtonpost, how, climate, change, could, ...</td>\n",
       "      <td>[washingtonpost, climate, change, could, break...</td>\n",
       "      <td>[washingtonpost, climate, change, could, break...</td>\n",
       "      <td>[washingtonpost, climat, chang, could, break, ...</td>\n",
       "      <td>washingtonpost climate change could breaking m...</td>\n",
       "      <td>washingtonpost climat chang could break millio...</td>\n",
       "      <td>washingtonpost climat chang could break millio...</td>\n",
       "    </tr>\n",
       "    <tr>\n",
       "      <th>15816</th>\n",
       "      <td>0</td>\n",
       "      <td>notiven rt nytimesworld what does trump actual...</td>\n",
       "      <td>384248</td>\n",
       "      <td>[notiven, rt, nytimesworld, what, does, trump,...</td>\n",
       "      <td>[notiven, rt, nytimesworld, trump, actually, b...</td>\n",
       "      <td>[notiven, rt, nytimesworld, trump, actually, b...</td>\n",
       "      <td>[notiven, rt, nytimesworld, trump, actual, bel...</td>\n",
       "      <td>notiven rt nytimesworld trump actually believe...</td>\n",
       "      <td>notiven rt nytimesworld trump actual believ cl...</td>\n",
       "      <td>notiven rt nytimesworld trump actual believ cl...</td>\n",
       "    </tr>\n",
       "    <tr>\n",
       "      <th>15817</th>\n",
       "      <td>-1</td>\n",
       "      <td>sarasmiles hey liberals the climate change cra...</td>\n",
       "      <td>819732</td>\n",
       "      <td>[sarasmiles, hey, liberals, the, climate, chan...</td>\n",
       "      <td>[sarasmiles, hey, liberals, climate, change, c...</td>\n",
       "      <td>[sarasmiles, hey, liberal, climate, change, cr...</td>\n",
       "      <td>[sarasmil, hey, liber, climat, chang, crap, ho...</td>\n",
       "      <td>sarasmiles hey liberals climate change crap ho...</td>\n",
       "      <td>sarasmil hey liber climat chang crap hoax tie ...</td>\n",
       "      <td>sarasmil hey liber climat chang crap hoax tie ...</td>\n",
       "    </tr>\n",
       "    <tr>\n",
       "      <th>15818</th>\n",
       "      <td>0</td>\n",
       "      <td>chetcannon kurteichenwalds climate change equa...</td>\n",
       "      <td>806319</td>\n",
       "      <td>[chetcannon, kurteichenwalds, climate, change,...</td>\n",
       "      <td>[chetcannon, kurteichenwalds, climate, change,...</td>\n",
       "      <td>[chetcannon, kurteichenwalds, climate, change,...</td>\n",
       "      <td>[chetcannon, kurteichenwald, climat, chang, eq...</td>\n",
       "      <td>chetcannon kurteichenwalds climate change equa...</td>\n",
       "      <td>chetcannon kurteichenwald climat chang equat s...</td>\n",
       "      <td>chetcannon kurteichenwald climat chang equat s...</td>\n",
       "    </tr>\n",
       "  </tbody>\n",
       "</table>\n",
       "<p>15819 rows × 10 columns</p>\n",
       "</div>"
      ],
      "text/plain": [
       "       sentiment                                            message  tweetid  \\\n",
       "0              1  polyscimajor epa chief doesnt think carbon dio...   625221   \n",
       "1              1  its not like we lack evidence of anthropogenic...   126103   \n",
       "2              2  rawstory researchers say we have three years t...   698562   \n",
       "3              1  todayinmaker wired   was a pivotal year in the...   573736   \n",
       "4              1  soynoviodetodas its  and a racist sexist clima...   466954   \n",
       "...          ...                                                ...      ...   \n",
       "15814          1  ezlusztig they took down the material on globa...    22001   \n",
       "15815          2  washingtonpost how climate change could be bre...    17856   \n",
       "15816          0  notiven rt nytimesworld what does trump actual...   384248   \n",
       "15817         -1  sarasmiles hey liberals the climate change cra...   819732   \n",
       "15818          0  chetcannon kurteichenwalds climate change equa...   806319   \n",
       "\n",
       "                                                  tokens  \\\n",
       "0      [polyscimajor, epa, chief, doesnt, think, carb...   \n",
       "1      [its, not, like, we, lack, evidence, of, anthr...   \n",
       "2      [rawstory, researchers, say, we, have, three, ...   \n",
       "3      [todayinmaker, wired, was, a, pivotal, year, i...   \n",
       "4      [soynoviodetodas, its, and, a, racist, sexist,...   \n",
       "...                                                  ...   \n",
       "15814  [ezlusztig, they, took, down, the, material, o...   \n",
       "15815  [washingtonpost, how, climate, change, could, ...   \n",
       "15816  [notiven, rt, nytimesworld, what, does, trump,...   \n",
       "15817  [sarasmiles, hey, liberals, the, climate, chan...   \n",
       "15818  [chetcannon, kurteichenwalds, climate, change,...   \n",
       "\n",
       "                                      token_no_stop_word  \\\n",
       "0      [polyscimajor, epa, chief, doesnt, think, carb...   \n",
       "1      [like, lack, evidence, anthropogenic, global, ...   \n",
       "2      [rawstory, researchers, say, three, years, act...   \n",
       "3      [todayinmaker, wired, pivotal, year, war, clim...   \n",
       "4      [soynoviodetodas, racist, sexist, climate, cha...   \n",
       "...                                                  ...   \n",
       "15814  [ezlusztig, took, material, global, warming, l...   \n",
       "15815  [washingtonpost, climate, change, could, break...   \n",
       "15816  [notiven, rt, nytimesworld, trump, actually, b...   \n",
       "15817  [sarasmiles, hey, liberals, climate, change, c...   \n",
       "15818  [chetcannon, kurteichenwalds, climate, change,...   \n",
       "\n",
       "                                                   lemma  \\\n",
       "0      [polyscimajor, epa, chief, doesnt, think, carb...   \n",
       "1      [like, lack, evidence, anthropogenic, global, ...   \n",
       "2      [rawstory, researcher, say, three, year, act, ...   \n",
       "3      [todayinmaker, wired, pivotal, year, war, clim...   \n",
       "4      [soynoviodetodas, racist, sexist, climate, cha...   \n",
       "...                                                  ...   \n",
       "15814  [ezlusztig, took, material, global, warming, l...   \n",
       "15815  [washingtonpost, climate, change, could, break...   \n",
       "15816  [notiven, rt, nytimesworld, trump, actually, b...   \n",
       "15817  [sarasmiles, hey, liberal, climate, change, cr...   \n",
       "15818  [chetcannon, kurteichenwalds, climate, change,...   \n",
       "\n",
       "                                                    stem  \\\n",
       "0      [polyscimajor, epa, chief, doesnt, think, carb...   \n",
       "1          [like, lack, evid, anthropogen, global, warm]   \n",
       "2      [rawstori, research, say, three, year, act, cl...   \n",
       "3      [todayinmak, wire, pivot, year, war, climat, c...   \n",
       "4      [soynoviodetoda, racist, sexist, climat, chang...   \n",
       "...                                                  ...   \n",
       "15814  [ezlusztig, took, materi, global, warm, lgbt, ...   \n",
       "15815  [washingtonpost, climat, chang, could, break, ...   \n",
       "15816  [notiven, rt, nytimesworld, trump, actual, bel...   \n",
       "15817  [sarasmil, hey, liber, climat, chang, crap, ho...   \n",
       "15818  [chetcannon, kurteichenwald, climat, chang, eq...   \n",
       "\n",
       "                                         clean_sentences  \\\n",
       "0      polyscimajor epa chief doesnt think carbon dio...   \n",
       "1        like lack evidence anthropogenic global warming   \n",
       "2      rawstory researchers say three years act clima...   \n",
       "3      todayinmaker wired pivotal year war climate ch...   \n",
       "4      soynoviodetodas racist sexist climate change d...   \n",
       "...                                                  ...   \n",
       "15814  ezlusztig took material global warming lgbt ri...   \n",
       "15815  washingtonpost climate change could breaking m...   \n",
       "15816  notiven rt nytimesworld trump actually believe...   \n",
       "15817  sarasmiles hey liberals climate change crap ho...   \n",
       "15818  chetcannon kurteichenwalds climate change equa...   \n",
       "\n",
       "                                    stem_clean_sentences  \\\n",
       "0      polyscimajor epa chief doesnt think carbon dio...   \n",
       "1                 like lack evid anthropogen global warm   \n",
       "2      rawstori research say three year act climat ch...   \n",
       "3      todayinmak wire pivot year war climat chang ur...   \n",
       "4      soynoviodetoda racist sexist climat chang deni...   \n",
       "...                                                  ...   \n",
       "15814  ezlusztig took materi global warm lgbt right h...   \n",
       "15815  washingtonpost climat chang could break millio...   \n",
       "15816  notiven rt nytimesworld trump actual believ cl...   \n",
       "15817  sarasmil hey liber climat chang crap hoax tie ...   \n",
       "15818  chetcannon kurteichenwald climat chang equat s...   \n",
       "\n",
       "                              lemma_stem_clean_sentences  \n",
       "0      polyscimajor epa chief doesnt think carbon dio...  \n",
       "1                 like lack evid anthropogen global warm  \n",
       "2      rawstori research say three year act climat ch...  \n",
       "3      todayinmak wire pivot year war climat chang ur...  \n",
       "4      soynoviodetoda racist sexist climat chang deni...  \n",
       "...                                                  ...  \n",
       "15814  ezlusztig took materi global warm lgbt right h...  \n",
       "15815  washingtonpost climat chang could break millio...  \n",
       "15816  notiven rt nytimesworld trump actual believ cl...  \n",
       "15817  sarasmil hey liber climat chang crap hoax tie ...  \n",
       "15818  chetcannon kurteichenwald climat chang equat s...  \n",
       "\n",
       "[15819 rows x 10 columns]"
      ]
     },
     "execution_count": 167,
     "metadata": {},
     "output_type": "execute_result"
    }
   ],
   "source": [
    "# looking at the clean training data\n",
    "clean_df_train"
   ]
  },
  {
   "cell_type": "code",
   "execution_count": 168,
   "metadata": {},
   "outputs": [
    {
     "data": {
      "text/html": [
       "<div>\n",
       "<style scoped>\n",
       "    .dataframe tbody tr th:only-of-type {\n",
       "        vertical-align: middle;\n",
       "    }\n",
       "\n",
       "    .dataframe tbody tr th {\n",
       "        vertical-align: top;\n",
       "    }\n",
       "\n",
       "    .dataframe thead th {\n",
       "        text-align: right;\n",
       "    }\n",
       "</style>\n",
       "<table border=\"1\" class=\"dataframe\">\n",
       "  <thead>\n",
       "    <tr style=\"text-align: right;\">\n",
       "      <th></th>\n",
       "      <th>message</th>\n",
       "      <th>tweetid</th>\n",
       "    </tr>\n",
       "  </thead>\n",
       "  <tbody>\n",
       "    <tr>\n",
       "      <th>0</th>\n",
       "      <td>europe will now be looking to china to make su...</td>\n",
       "      <td>169760</td>\n",
       "    </tr>\n",
       "    <tr>\n",
       "      <th>1</th>\n",
       "      <td>combine this with the polling of staffers re c...</td>\n",
       "      <td>35326</td>\n",
       "    </tr>\n",
       "    <tr>\n",
       "      <th>2</th>\n",
       "      <td>the scary unimpeachable evidence that climate ...</td>\n",
       "      <td>224985</td>\n",
       "    </tr>\n",
       "    <tr>\n",
       "      <th>3</th>\n",
       "      <td>karoli morgfair osborneink dailykos \\nputin go...</td>\n",
       "      <td>476263</td>\n",
       "    </tr>\n",
       "    <tr>\n",
       "      <th>4</th>\n",
       "      <td>fakewillmoore female orgasms cause global warm...</td>\n",
       "      <td>872928</td>\n",
       "    </tr>\n",
       "    <tr>\n",
       "      <th>...</th>\n",
       "      <td>...</td>\n",
       "      <td>...</td>\n",
       "    </tr>\n",
       "    <tr>\n",
       "      <th>10541</th>\n",
       "      <td>brittanybohrer brb writing a poem about climat...</td>\n",
       "      <td>895714</td>\n",
       "    </tr>\n",
       "    <tr>\n",
       "      <th>10542</th>\n",
       "      <td>the year climate change came home during the ...</td>\n",
       "      <td>875167</td>\n",
       "    </tr>\n",
       "    <tr>\n",
       "      <th>10543</th>\n",
       "      <td>loopvanuatu pacific countries positive about f...</td>\n",
       "      <td>78329</td>\n",
       "    </tr>\n",
       "    <tr>\n",
       "      <th>10544</th>\n",
       "      <td>xanria you’re so hot you must be the cause for...</td>\n",
       "      <td>867455</td>\n",
       "    </tr>\n",
       "    <tr>\n",
       "      <th>10545</th>\n",
       "      <td>chloebalaoing climate change is a global issue...</td>\n",
       "      <td>470892</td>\n",
       "    </tr>\n",
       "  </tbody>\n",
       "</table>\n",
       "<p>10546 rows × 2 columns</p>\n",
       "</div>"
      ],
      "text/plain": [
       "                                                 message  tweetid\n",
       "0      europe will now be looking to china to make su...   169760\n",
       "1      combine this with the polling of staffers re c...    35326\n",
       "2      the scary unimpeachable evidence that climate ...   224985\n",
       "3      karoli morgfair osborneink dailykos \\nputin go...   476263\n",
       "4      fakewillmoore female orgasms cause global warm...   872928\n",
       "...                                                  ...      ...\n",
       "10541  brittanybohrer brb writing a poem about climat...   895714\n",
       "10542   the year climate change came home during the ...   875167\n",
       "10543  loopvanuatu pacific countries positive about f...    78329\n",
       "10544  xanria you’re so hot you must be the cause for...   867455\n",
       "10545  chloebalaoing climate change is a global issue...   470892\n",
       "\n",
       "[10546 rows x 2 columns]"
      ]
     },
     "execution_count": 168,
     "metadata": {},
     "output_type": "execute_result"
    }
   ],
   "source": [
    "# looking at the clean testing data\n",
    "clean_df_test"
   ]
  },
  {
   "cell_type": "markdown",
   "metadata": {},
   "source": [
    "# Data Normalization\n",
    "\n",
    "The tweets have a lot of words that might mean the same thing but depending on the grammar of the language the word can be used to describe a state or a doing ability of someone e.g coded, code and coder, mean the same thing code and that is what we want the machine to learn rather than letting it learn them as different words. There are two precesses used here the lemma and stemmer and the original words as they are, the choice of the word normalization technique will depend on the perfomance of that column, we are going to create a column for each normalization technique used and for the original words. The columns are:\n",
    "\n",
    "\n",
    "  - tokens --> the tokens columns\n",
    "  - token_no_stop_word --> tokens with no dictionary stopwords\n",
    "  - lemma --> lemmatized tokens from the column token_no_stop_word\n",
    "  - stem --> stemmed tokens from the column token_no_stop_word\n",
    "  - clean_sentences --> original tokens column joined to form a sentence\n",
    "  - stem_clean_sentences --> stem tokens column joined to form a sentence\n",
    "  - lemma_clean_sentences --> lemma tokens column joined to form a sentence\n",
    "\n",
    "\n",
    "Using the following functions we are able to create a column for each normalization techniques done on each word,\n",
    "and thus can investigate each perfomance, all the columns will not have stop words."
   ]
  },
  {
   "cell_type": "code",
   "execution_count": 172,
   "metadata": {},
   "outputs": [],
   "source": [
    "\n",
    "            \"\"\"\n",
    "                Pre processing the data by creating new columns each with feature\n",
    "                normalization technique applied, the use of outer functions also help\n",
    "                in cleaning and removing the stop words\n",
    "                first tokenise tweets\n",
    "                then remove stop words\n",
    "                we then lemmatize the tokens\n",
    "                we then stem the words\n",
    "                we finally join the tokens to form a sentence\n",
    "                \n",
    "                all this is done by creating a new column for each technique used\n",
    "            \"\"\"\n",
    "\n",
    "\n",
    "\n",
    "# importing tokenizing library\n",
    "from nltk.tokenize import word_tokenize, TreebankWordTokenizer\n",
    "from nltk.stem import WordNetLemmatizer\n",
    "#importing stemmer library\n",
    "from nltk import SnowballStemmer\n",
    "#importing stemmer library\n",
    "from nltk import SnowballStemmer\n",
    "\n",
    "\n",
    "\n",
    "# lemmatizing function\n",
    "lemmatizer = WordNetLemmatizer()\n",
    "def tweet_lemma(words, lemmatizer):\n",
    "    return [lemmatizer.lemmatize(word) for word in words]    \n",
    "\n",
    "#Stemmer function\n",
    "stemmer = SnowballStemmer('english')\n",
    "def token_stemmer(words, stemmer):\n",
    "    return [stemmer.stem(word) for word in words]\n",
    "\n",
    "\n",
    "# remove the stop words in the tokens\n",
    "def remove_stop_words(tokens):    \n",
    "    return [t for t in tokens if t not in stopwords.words('english')]\n",
    "\n",
    "def token_lemmatizer_stemmer(df):\n",
    "    \n",
    "    #tokenise the tweets and create a column of tokens\n",
    "    tokeniser = TreebankWordTokenizer()\n",
    "    df['tokens'] = df['message'].apply(tokeniser.tokenize)\n",
    "    \n",
    "     # Remove stop words first \n",
    "    df['token_no_stop_word'] = df['tokens'].apply(remove_stop_words)\n",
    "    \n",
    "    # Remove stop words first\n",
    "    df['lemma'] = df['token_no_stop_word'].apply(tweet_lemma, args=(lemmatizer, ))\n",
    "    \n",
    "    # Remove stop words first\n",
    "    df['stem'] = df['token_no_stop_word'].apply(token_stemmer, args=(stemmer, ))\n",
    "    \n",
    "    # join the tokens to form a sentence\n",
    "    clean_sentences = [\" \".join(i) for i in df['token_no_stop_word']]\n",
    "    df['clean_sentences'] = clean_sentences\n",
    "    \n",
    "    # join the stemmed tokens to form a sentence\n",
    "    stem_clean_sentences = [\" \".join(i) for i in df['stem']]\n",
    "    df['stem_clean_sentences'] = stem_clean_sentences\n",
    "    \n",
    "    # join the lemma tokens to form a sentence\n",
    "    lemma_clean_sentences = [\" \".join(i) for i in df['lemma']]\n",
    "    df['lemma_clean_sentences'] = lemma_clean_sentences\n",
    "    \n",
    "    \n",
    "    return df\n",
    "    "
   ]
  },
  {
   "cell_type": "code",
   "execution_count": 173,
   "metadata": {},
   "outputs": [
    {
     "data": {
      "text/html": [
       "<div>\n",
       "<style scoped>\n",
       "    .dataframe tbody tr th:only-of-type {\n",
       "        vertical-align: middle;\n",
       "    }\n",
       "\n",
       "    .dataframe tbody tr th {\n",
       "        vertical-align: top;\n",
       "    }\n",
       "\n",
       "    .dataframe thead th {\n",
       "        text-align: right;\n",
       "    }\n",
       "</style>\n",
       "<table border=\"1\" class=\"dataframe\">\n",
       "  <thead>\n",
       "    <tr style=\"text-align: right;\">\n",
       "      <th></th>\n",
       "      <th>sentiment</th>\n",
       "      <th>message</th>\n",
       "      <th>tweetid</th>\n",
       "      <th>tokens</th>\n",
       "      <th>token_no_stop_word</th>\n",
       "      <th>lemma</th>\n",
       "      <th>stem</th>\n",
       "      <th>clean_sentences</th>\n",
       "      <th>stem_clean_sentences</th>\n",
       "      <th>lemma_stem_clean_sentences</th>\n",
       "      <th>lemma_clean_sentences</th>\n",
       "    </tr>\n",
       "  </thead>\n",
       "  <tbody>\n",
       "    <tr>\n",
       "      <th>0</th>\n",
       "      <td>1</td>\n",
       "      <td>polyscimajor epa chief doesnt think carbon dio...</td>\n",
       "      <td>625221</td>\n",
       "      <td>[polyscimajor, epa, chief, doesnt, think, carb...</td>\n",
       "      <td>[polyscimajor, epa, chief, doesnt, think, carb...</td>\n",
       "      <td>[polyscimajor, epa, chief, doesnt, think, carb...</td>\n",
       "      <td>[polyscimajor, epa, chief, doesnt, think, carb...</td>\n",
       "      <td>polyscimajor epa chief doesnt think carbon dio...</td>\n",
       "      <td>polyscimajor epa chief doesnt think carbon dio...</td>\n",
       "      <td>polyscimajor epa chief doesnt think carbon dio...</td>\n",
       "      <td>polyscimajor epa chief doesnt think carbon dio...</td>\n",
       "    </tr>\n",
       "    <tr>\n",
       "      <th>1</th>\n",
       "      <td>1</td>\n",
       "      <td>its not like we lack evidence of anthropogenic...</td>\n",
       "      <td>126103</td>\n",
       "      <td>[its, not, like, we, lack, evidence, of, anthr...</td>\n",
       "      <td>[like, lack, evidence, anthropogenic, global, ...</td>\n",
       "      <td>[like, lack, evidence, anthropogenic, global, ...</td>\n",
       "      <td>[like, lack, evid, anthropogen, global, warm]</td>\n",
       "      <td>like lack evidence anthropogenic global warming</td>\n",
       "      <td>like lack evid anthropogen global warm</td>\n",
       "      <td>like lack evid anthropogen global warm</td>\n",
       "      <td>like lack evidence anthropogenic global warming</td>\n",
       "    </tr>\n",
       "    <tr>\n",
       "      <th>2</th>\n",
       "      <td>2</td>\n",
       "      <td>rawstory researchers say we have three years t...</td>\n",
       "      <td>698562</td>\n",
       "      <td>[rawstory, researchers, say, we, have, three, ...</td>\n",
       "      <td>[rawstory, researchers, say, three, years, act...</td>\n",
       "      <td>[rawstory, researcher, say, three, year, act, ...</td>\n",
       "      <td>[rawstori, research, say, three, year, act, cl...</td>\n",
       "      <td>rawstory researchers say three years act clima...</td>\n",
       "      <td>rawstori research say three year act climat ch...</td>\n",
       "      <td>rawstori research say three year act climat ch...</td>\n",
       "      <td>rawstory researcher say three year act climate...</td>\n",
       "    </tr>\n",
       "    <tr>\n",
       "      <th>3</th>\n",
       "      <td>1</td>\n",
       "      <td>todayinmaker wired   was a pivotal year in the...</td>\n",
       "      <td>573736</td>\n",
       "      <td>[todayinmaker, wired, was, a, pivotal, year, i...</td>\n",
       "      <td>[todayinmaker, wired, pivotal, year, war, clim...</td>\n",
       "      <td>[todayinmaker, wired, pivotal, year, war, clim...</td>\n",
       "      <td>[todayinmak, wire, pivot, year, war, climat, c...</td>\n",
       "      <td>todayinmaker wired pivotal year war climate ch...</td>\n",
       "      <td>todayinmak wire pivot year war climat chang ur...</td>\n",
       "      <td>todayinmak wire pivot year war climat chang ur...</td>\n",
       "      <td>todayinmaker wired pivotal year war climate ch...</td>\n",
       "    </tr>\n",
       "    <tr>\n",
       "      <th>4</th>\n",
       "      <td>1</td>\n",
       "      <td>soynoviodetodas its  and a racist sexist clima...</td>\n",
       "      <td>466954</td>\n",
       "      <td>[soynoviodetodas, its, and, a, racist, sexist,...</td>\n",
       "      <td>[soynoviodetodas, racist, sexist, climate, cha...</td>\n",
       "      <td>[soynoviodetodas, racist, sexist, climate, cha...</td>\n",
       "      <td>[soynoviodetoda, racist, sexist, climat, chang...</td>\n",
       "      <td>soynoviodetodas racist sexist climate change d...</td>\n",
       "      <td>soynoviodetoda racist sexist climat chang deni...</td>\n",
       "      <td>soynoviodetoda racist sexist climat chang deni...</td>\n",
       "      <td>soynoviodetodas racist sexist climate change d...</td>\n",
       "    </tr>\n",
       "  </tbody>\n",
       "</table>\n",
       "</div>"
      ],
      "text/plain": [
       "   sentiment                                            message  tweetid  \\\n",
       "0          1  polyscimajor epa chief doesnt think carbon dio...   625221   \n",
       "1          1  its not like we lack evidence of anthropogenic...   126103   \n",
       "2          2  rawstory researchers say we have three years t...   698562   \n",
       "3          1  todayinmaker wired   was a pivotal year in the...   573736   \n",
       "4          1  soynoviodetodas its  and a racist sexist clima...   466954   \n",
       "\n",
       "                                              tokens  \\\n",
       "0  [polyscimajor, epa, chief, doesnt, think, carb...   \n",
       "1  [its, not, like, we, lack, evidence, of, anthr...   \n",
       "2  [rawstory, researchers, say, we, have, three, ...   \n",
       "3  [todayinmaker, wired, was, a, pivotal, year, i...   \n",
       "4  [soynoviodetodas, its, and, a, racist, sexist,...   \n",
       "\n",
       "                                  token_no_stop_word  \\\n",
       "0  [polyscimajor, epa, chief, doesnt, think, carb...   \n",
       "1  [like, lack, evidence, anthropogenic, global, ...   \n",
       "2  [rawstory, researchers, say, three, years, act...   \n",
       "3  [todayinmaker, wired, pivotal, year, war, clim...   \n",
       "4  [soynoviodetodas, racist, sexist, climate, cha...   \n",
       "\n",
       "                                               lemma  \\\n",
       "0  [polyscimajor, epa, chief, doesnt, think, carb...   \n",
       "1  [like, lack, evidence, anthropogenic, global, ...   \n",
       "2  [rawstory, researcher, say, three, year, act, ...   \n",
       "3  [todayinmaker, wired, pivotal, year, war, clim...   \n",
       "4  [soynoviodetodas, racist, sexist, climate, cha...   \n",
       "\n",
       "                                                stem  \\\n",
       "0  [polyscimajor, epa, chief, doesnt, think, carb...   \n",
       "1      [like, lack, evid, anthropogen, global, warm]   \n",
       "2  [rawstori, research, say, three, year, act, cl...   \n",
       "3  [todayinmak, wire, pivot, year, war, climat, c...   \n",
       "4  [soynoviodetoda, racist, sexist, climat, chang...   \n",
       "\n",
       "                                     clean_sentences  \\\n",
       "0  polyscimajor epa chief doesnt think carbon dio...   \n",
       "1    like lack evidence anthropogenic global warming   \n",
       "2  rawstory researchers say three years act clima...   \n",
       "3  todayinmaker wired pivotal year war climate ch...   \n",
       "4  soynoviodetodas racist sexist climate change d...   \n",
       "\n",
       "                                stem_clean_sentences  \\\n",
       "0  polyscimajor epa chief doesnt think carbon dio...   \n",
       "1             like lack evid anthropogen global warm   \n",
       "2  rawstori research say three year act climat ch...   \n",
       "3  todayinmak wire pivot year war climat chang ur...   \n",
       "4  soynoviodetoda racist sexist climat chang deni...   \n",
       "\n",
       "                          lemma_stem_clean_sentences  \\\n",
       "0  polyscimajor epa chief doesnt think carbon dio...   \n",
       "1             like lack evid anthropogen global warm   \n",
       "2  rawstori research say three year act climat ch...   \n",
       "3  todayinmak wire pivot year war climat chang ur...   \n",
       "4  soynoviodetoda racist sexist climat chang deni...   \n",
       "\n",
       "                               lemma_clean_sentences  \n",
       "0  polyscimajor epa chief doesnt think carbon dio...  \n",
       "1    like lack evidence anthropogenic global warming  \n",
       "2  rawstory researcher say three year act climate...  \n",
       "3  todayinmaker wired pivotal year war climate ch...  \n",
       "4  soynoviodetodas racist sexist climate change d...  "
      ]
     },
     "execution_count": 173,
     "metadata": {},
     "output_type": "execute_result"
    }
   ],
   "source": [
    "# getting the processed for training data\n",
    "processed_df_train = token_lemmatizer_stemmer(clean_df_train)\n",
    "clean_df_train.head()"
   ]
  },
  {
   "cell_type": "code",
   "execution_count": 175,
   "metadata": {},
   "outputs": [
    {
     "data": {
      "text/html": [
       "<div>\n",
       "<style scoped>\n",
       "    .dataframe tbody tr th:only-of-type {\n",
       "        vertical-align: middle;\n",
       "    }\n",
       "\n",
       "    .dataframe tbody tr th {\n",
       "        vertical-align: top;\n",
       "    }\n",
       "\n",
       "    .dataframe thead th {\n",
       "        text-align: right;\n",
       "    }\n",
       "</style>\n",
       "<table border=\"1\" class=\"dataframe\">\n",
       "  <thead>\n",
       "    <tr style=\"text-align: right;\">\n",
       "      <th></th>\n",
       "      <th>message</th>\n",
       "      <th>tweetid</th>\n",
       "      <th>tokens</th>\n",
       "      <th>token_no_stop_word</th>\n",
       "      <th>lemma</th>\n",
       "      <th>stem</th>\n",
       "      <th>clean_sentences</th>\n",
       "      <th>stem_clean_sentences</th>\n",
       "      <th>lemma_clean_sentences</th>\n",
       "    </tr>\n",
       "  </thead>\n",
       "  <tbody>\n",
       "    <tr>\n",
       "      <th>0</th>\n",
       "      <td>europe will now be looking to china to make su...</td>\n",
       "      <td>169760</td>\n",
       "      <td>[europe, will, now, be, looking, to, china, to...</td>\n",
       "      <td>[europe, looking, china, make, sure, alone, fi...</td>\n",
       "      <td>[europe, looking, china, make, sure, alone, fi...</td>\n",
       "      <td>[europ, look, china, make, sure, alon, fight, ...</td>\n",
       "      <td>europe looking china make sure alone fighting ...</td>\n",
       "      <td>europ look china make sure alon fight climat c...</td>\n",
       "      <td>europe looking china make sure alone fighting ...</td>\n",
       "    </tr>\n",
       "    <tr>\n",
       "      <th>1</th>\n",
       "      <td>combine this with the polling of staffers re c...</td>\n",
       "      <td>35326</td>\n",
       "      <td>[combine, this, with, the, polling, of, staffe...</td>\n",
       "      <td>[combine, polling, staffers, climate, change, ...</td>\n",
       "      <td>[combine, polling, staffer, climate, change, w...</td>\n",
       "      <td>[combin, poll, staffer, climat, chang, women, ...</td>\n",
       "      <td>combine polling staffers climate change womens...</td>\n",
       "      <td>combin poll staffer climat chang women right f...</td>\n",
       "      <td>combine polling staffer climate change woman r...</td>\n",
       "    </tr>\n",
       "    <tr>\n",
       "      <th>2</th>\n",
       "      <td>the scary unimpeachable evidence that climate ...</td>\n",
       "      <td>224985</td>\n",
       "      <td>[the, scary, unimpeachable, evidence, that, cl...</td>\n",
       "      <td>[scary, unimpeachable, evidence, climate, chan...</td>\n",
       "      <td>[scary, unimpeachable, evidence, climate, chan...</td>\n",
       "      <td>[scari, unimpeach, evid, climat, chang, alread...</td>\n",
       "      <td>scary unimpeachable evidence climate change al...</td>\n",
       "      <td>scari unimpeach evid climat chang alreadi urlw...</td>\n",
       "      <td>scary unimpeachable evidence climate change al...</td>\n",
       "    </tr>\n",
       "    <tr>\n",
       "      <th>3</th>\n",
       "      <td>karoli morgfair osborneink dailykos \\nputin go...</td>\n",
       "      <td>476263</td>\n",
       "      <td>[karoli, morgfair, osborneink, dailykos, putin...</td>\n",
       "      <td>[karoli, morgfair, osborneink, dailykos, putin...</td>\n",
       "      <td>[karoli, morgfair, osborneink, dailykos, putin...</td>\n",
       "      <td>[karoli, morgfair, osborneink, dailyko, putin,...</td>\n",
       "      <td>karoli morgfair osborneink dailykos putin got ...</td>\n",
       "      <td>karoli morgfair osborneink dailyko putin got j...</td>\n",
       "      <td>karoli morgfair osborneink dailykos putin got ...</td>\n",
       "    </tr>\n",
       "    <tr>\n",
       "      <th>4</th>\n",
       "      <td>fakewillmoore female orgasms cause global warm...</td>\n",
       "      <td>872928</td>\n",
       "      <td>[fakewillmoore, female, orgasms, cause, global...</td>\n",
       "      <td>[fakewillmoore, female, orgasms, cause, global...</td>\n",
       "      <td>[fakewillmoore, female, orgasm, cause, global,...</td>\n",
       "      <td>[fakewillmoor, femal, orgasm, caus, global, wa...</td>\n",
       "      <td>fakewillmoore female orgasms cause global warm...</td>\n",
       "      <td>fakewillmoor femal orgasm caus global warm sar...</td>\n",
       "      <td>fakewillmoore female orgasm cause global warmi...</td>\n",
       "    </tr>\n",
       "  </tbody>\n",
       "</table>\n",
       "</div>"
      ],
      "text/plain": [
       "                                             message  tweetid  \\\n",
       "0  europe will now be looking to china to make su...   169760   \n",
       "1  combine this with the polling of staffers re c...    35326   \n",
       "2  the scary unimpeachable evidence that climate ...   224985   \n",
       "3  karoli morgfair osborneink dailykos \\nputin go...   476263   \n",
       "4  fakewillmoore female orgasms cause global warm...   872928   \n",
       "\n",
       "                                              tokens  \\\n",
       "0  [europe, will, now, be, looking, to, china, to...   \n",
       "1  [combine, this, with, the, polling, of, staffe...   \n",
       "2  [the, scary, unimpeachable, evidence, that, cl...   \n",
       "3  [karoli, morgfair, osborneink, dailykos, putin...   \n",
       "4  [fakewillmoore, female, orgasms, cause, global...   \n",
       "\n",
       "                                  token_no_stop_word  \\\n",
       "0  [europe, looking, china, make, sure, alone, fi...   \n",
       "1  [combine, polling, staffers, climate, change, ...   \n",
       "2  [scary, unimpeachable, evidence, climate, chan...   \n",
       "3  [karoli, morgfair, osborneink, dailykos, putin...   \n",
       "4  [fakewillmoore, female, orgasms, cause, global...   \n",
       "\n",
       "                                               lemma  \\\n",
       "0  [europe, looking, china, make, sure, alone, fi...   \n",
       "1  [combine, polling, staffer, climate, change, w...   \n",
       "2  [scary, unimpeachable, evidence, climate, chan...   \n",
       "3  [karoli, morgfair, osborneink, dailykos, putin...   \n",
       "4  [fakewillmoore, female, orgasm, cause, global,...   \n",
       "\n",
       "                                                stem  \\\n",
       "0  [europ, look, china, make, sure, alon, fight, ...   \n",
       "1  [combin, poll, staffer, climat, chang, women, ...   \n",
       "2  [scari, unimpeach, evid, climat, chang, alread...   \n",
       "3  [karoli, morgfair, osborneink, dailyko, putin,...   \n",
       "4  [fakewillmoor, femal, orgasm, caus, global, wa...   \n",
       "\n",
       "                                     clean_sentences  \\\n",
       "0  europe looking china make sure alone fighting ...   \n",
       "1  combine polling staffers climate change womens...   \n",
       "2  scary unimpeachable evidence climate change al...   \n",
       "3  karoli morgfair osborneink dailykos putin got ...   \n",
       "4  fakewillmoore female orgasms cause global warm...   \n",
       "\n",
       "                                stem_clean_sentences  \\\n",
       "0  europ look china make sure alon fight climat c...   \n",
       "1  combin poll staffer climat chang women right f...   \n",
       "2  scari unimpeach evid climat chang alreadi urlw...   \n",
       "3  karoli morgfair osborneink dailyko putin got j...   \n",
       "4  fakewillmoor femal orgasm caus global warm sar...   \n",
       "\n",
       "                               lemma_clean_sentences  \n",
       "0  europe looking china make sure alone fighting ...  \n",
       "1  combine polling staffer climate change woman r...  \n",
       "2  scary unimpeachable evidence climate change al...  \n",
       "3  karoli morgfair osborneink dailykos putin got ...  \n",
       "4  fakewillmoore female orgasm cause global warmi...  "
      ]
     },
     "execution_count": 175,
     "metadata": {},
     "output_type": "execute_result"
    }
   ],
   "source": [
    "# getting the processed columns for testing data\n",
    "processed_df_test = token_lemmatizer_stemmer(clean_df_test)\n",
    "processed_df_test.head()"
   ]
  },
  {
   "cell_type": "code",
   "execution_count": null,
   "metadata": {},
   "outputs": [],
   "source": []
  },
  {
   "cell_type": "markdown",
   "metadata": {},
   "source": [
    "# Dealing with Imbalanced Data\n",
    "\n",
    "The tweets have four classes with each class having a value count different from the other, with this imbalance available, we can train the model to be ble to presict more on who are the Pros(1) but lack the predicting ability to predict if one is Anti(-1) this leads to a problem of bias, thus with sampling our data in three follo wing ways:\n",
    "\n",
    "\n",
    "  - Upsampling the classes with less data \n",
    "  - downsampling the class with the most data \n",
    "  - Using SMOTE\n",
    "\n",
    "By investigating each type of sampling we can then pick which one is better perfoming from the f1 score, we can then follow that sammpling to make the model perfom better"
   ]
  },
  {
   "cell_type": "code",
   "execution_count": 178,
   "metadata": {},
   "outputs": [
    {
     "data": {
      "text/plain": [
       " 1    8530\n",
       " 2    3640\n",
       " 0    2353\n",
       "-1    1296\n",
       "Name: sentiment, dtype: int64"
      ]
     },
     "execution_count": 178,
     "metadata": {},
     "output_type": "execute_result"
    }
   ],
   "source": [
    "processed_df_train.sentiment.value_counts()"
   ]
  },
  {
   "cell_type": "markdown",
   "metadata": {},
   "source": [
    "## Creating the sampled data for upsampling the data to max class\n",
    "\n",
    "creating the sampled data to the maximum class and investigate the perfomance of the model, since we used duplicated data we should also expect the model to overfit"
   ]
  },
  {
   "cell_type": "code",
   "execution_count": null,
   "metadata": {},
   "outputs": [],
   "source": [
    "from sklearn.impute import KNNImputer\n",
    "\n",
    "# define imputer\n",
    "imputer = KNNImputer() #default k is 5=> n_neighbors=5\n",
    "# fit on the dataset\n",
    "imputer.fit(X)\n",
    "# transform the dataset\n",
    "Xtrans = imputer.transform(X)"
   ]
  },
  {
   "cell_type": "code",
   "execution_count": 216,
   "metadata": {},
   "outputs": [],
   "source": [
    "# Pick a class size of roughly half the size of the largest size\n",
    "class_size = 8530\n",
    "\n",
    "# Downsample classes with more than 5000 observations\n",
    "pro_downsampled = resample(processed_df_train[processed_df_train['sentiment']==1],\n",
    "                          replace=False, # sample without replacement (no need to duplicate observations)\n",
    "                          n_samples= class_size, # match number in class_size\n",
    "                          random_state=27) # reproducible results\n",
    "\n",
    "# Upsample classes with less than 5000 observations\n",
    "neutral_upsampled = resample(processed_df_train[processed_df_train['sentiment']==0],\n",
    "                          replace=True, # sample with replacement (we need to duplicate observations)\n",
    "                          n_samples=class_size, # match number in class_size\n",
    "                          random_state=27) # reproducible results\n",
    "\n",
    "# Upsample classes with less than 5000 observations\n",
    "anti_upsampled = resample(processed_df_train[processed_df_train['sentiment']==-1],\n",
    "                          replace=True, # sample with replacement (we need to duplicate observations)\n",
    "                          n_samples=class_size, # match number in class_size\n",
    "                          random_state=27) # reproducible results\n",
    "\n",
    "# Upsample classes with less than 5000 observations\n",
    "news_upsampled = resample(processed_df_train[processed_df_train['sentiment']==2],\n",
    "                          replace=True, # sample with replacement (we need to duplicate observations)\n",
    "                          n_samples=class_size, # match number in class_size\n",
    "                          random_state=27) # reproducible results\n",
    "\n",
    "\n",
    "\n"
   ]
  },
  {
   "cell_type": "code",
   "execution_count": 217,
   "metadata": {},
   "outputs": [
    {
     "data": {
      "text/plain": [
       " 1    8530\n",
       " 0    8530\n",
       "-1    8530\n",
       " 2    8530\n",
       "Name: sentiment, dtype: int64"
      ]
     },
     "execution_count": 217,
     "metadata": {},
     "output_type": "execute_result"
    }
   ],
   "source": [
    "# Combine sampled classes with majority class\n",
    "up_sampled = pd.concat([pro_downsampled, neutral_upsampled, anti_upsampled, news_upsampled])\n",
    "\n",
    "# Check new class counts\n",
    "up_sampled['sentiment'].value_counts()\n"
   ]
  },
  {
   "cell_type": "code",
   "execution_count": 205,
   "metadata": {},
   "outputs": [
    {
     "data": {
      "text/plain": [
       "(34120, 11)"
      ]
     },
     "execution_count": 205,
     "metadata": {},
     "output_type": "execute_result"
    }
   ],
   "source": [
    "up_sampled.shape"
   ]
  },
  {
   "cell_type": "code",
   "execution_count": 206,
   "metadata": {},
   "outputs": [
    {
     "data": {
      "text/html": [
       "<div>\n",
       "<style scoped>\n",
       "    .dataframe tbody tr th:only-of-type {\n",
       "        vertical-align: middle;\n",
       "    }\n",
       "\n",
       "    .dataframe tbody tr th {\n",
       "        vertical-align: top;\n",
       "    }\n",
       "\n",
       "    .dataframe thead th {\n",
       "        text-align: right;\n",
       "    }\n",
       "</style>\n",
       "<table border=\"1\" class=\"dataframe\">\n",
       "  <thead>\n",
       "    <tr style=\"text-align: right;\">\n",
       "      <th></th>\n",
       "      <th>sentiment</th>\n",
       "      <th>message</th>\n",
       "      <th>tweetid</th>\n",
       "      <th>tokens</th>\n",
       "      <th>token_no_stop_word</th>\n",
       "      <th>lemma</th>\n",
       "      <th>stem</th>\n",
       "      <th>clean_sentences</th>\n",
       "      <th>stem_clean_sentences</th>\n",
       "      <th>lemma_stem_clean_sentences</th>\n",
       "      <th>lemma_clean_sentences</th>\n",
       "    </tr>\n",
       "  </thead>\n",
       "  <tbody>\n",
       "    <tr>\n",
       "      <th>11729</th>\n",
       "      <td>1</td>\n",
       "      <td>ubcforestry funding from genomebc will support...</td>\n",
       "      <td>977844</td>\n",
       "      <td>[ubcforestry, funding, from, genomebc, will, s...</td>\n",
       "      <td>[ubcforestry, funding, genomebc, support, sall...</td>\n",
       "      <td>[ubcforestry, funding, genomebc, support, sall...</td>\n",
       "      <td>[ubcforestri, fund, genomebc, support, sallyna...</td>\n",
       "      <td>ubcforestry funding genomebc support sallynait...</td>\n",
       "      <td>ubcforestri fund genomebc support sallynaitken...</td>\n",
       "      <td>ubcforestri fund genomebc support sallynaitken...</td>\n",
       "      <td>ubcforestry funding genomebc support sallynait...</td>\n",
       "    </tr>\n",
       "    <tr>\n",
       "      <th>8308</th>\n",
       "      <td>1</td>\n",
       "      <td>yadimoiina gag orders sure hes definitely gree...</td>\n",
       "      <td>441956</td>\n",
       "      <td>[yadimoiina, gag, orders, sure, hes, definitel...</td>\n",
       "      <td>[yadimoiina, gag, orders, sure, hes, definitel...</td>\n",
       "      <td>[yadimoiina, gag, order, sure, he, definitely,...</td>\n",
       "      <td>[yadimoiina, gag, order, sure, hes, definit, g...</td>\n",
       "      <td>yadimoiina gag orders sure hes definitely gree...</td>\n",
       "      <td>yadimoiina gag order sure hes definit green do...</td>\n",
       "      <td>yadimoiina gag order sure hes definit green do...</td>\n",
       "      <td>yadimoiina gag order sure he definitely green ...</td>\n",
       "    </tr>\n",
       "    <tr>\n",
       "      <th>7159</th>\n",
       "      <td>1</td>\n",
       "      <td>pattonoswalt not ominous at all he also wants ...</td>\n",
       "      <td>978938</td>\n",
       "      <td>[pattonoswalt, not, ominous, at, all, he, also...</td>\n",
       "      <td>[pattonoswalt, ominous, also, wants, names, an...</td>\n",
       "      <td>[pattonoswalt, ominous, also, want, name, anyo...</td>\n",
       "      <td>[pattonoswalt, omin, also, want, name, anyon, ...</td>\n",
       "      <td>pattonoswalt ominous also wants names anyone w...</td>\n",
       "      <td>pattonoswalt omin also want name anyon work cl...</td>\n",
       "      <td>pattonoswalt omin also want name anyon work cl...</td>\n",
       "      <td>pattonoswalt ominous also want name anyone wor...</td>\n",
       "    </tr>\n",
       "    <tr>\n",
       "      <th>5644</th>\n",
       "      <td>1</td>\n",
       "      <td>melissajpeltier in case you forgot about that ...</td>\n",
       "      <td>587737</td>\n",
       "      <td>[melissajpeltier, in, case, you, forgot, about...</td>\n",
       "      <td>[melissajpeltier, case, forgot, chinese, hoax,...</td>\n",
       "      <td>[melissajpeltier, case, forgot, chinese, hoax,...</td>\n",
       "      <td>[melissajpelti, case, forgot, chines, hoax, gl...</td>\n",
       "      <td>melissajpeltier case forgot chinese hoax globa...</td>\n",
       "      <td>melissajpelti case forgot chines hoax global w...</td>\n",
       "      <td>melissajpelti case forgot chines hoax global w...</td>\n",
       "      <td>melissajpeltier case forgot chinese hoax globa...</td>\n",
       "    </tr>\n",
       "    <tr>\n",
       "      <th>6732</th>\n",
       "      <td>1</td>\n",
       "      <td>sethmacfarlane hrc proposes installing half a ...</td>\n",
       "      <td>804767</td>\n",
       "      <td>[sethmacfarlane, hrc, proposes, installing, ha...</td>\n",
       "      <td>[sethmacfarlane, hrc, proposes, installing, ha...</td>\n",
       "      <td>[sethmacfarlane, hrc, proposes, installing, ha...</td>\n",
       "      <td>[sethmacfarlan, hrc, propos, instal, half, bil...</td>\n",
       "      <td>sethmacfarlane hrc proposes installing half bi...</td>\n",
       "      <td>sethmacfarlan hrc propos instal half billion s...</td>\n",
       "      <td>sethmacfarlan hrc propos instal half billion s...</td>\n",
       "      <td>sethmacfarlane hrc proposes installing half bi...</td>\n",
       "    </tr>\n",
       "  </tbody>\n",
       "</table>\n",
       "</div>"
      ],
      "text/plain": [
       "       sentiment                                            message  tweetid  \\\n",
       "11729          1  ubcforestry funding from genomebc will support...   977844   \n",
       "8308           1  yadimoiina gag orders sure hes definitely gree...   441956   \n",
       "7159           1  pattonoswalt not ominous at all he also wants ...   978938   \n",
       "5644           1  melissajpeltier in case you forgot about that ...   587737   \n",
       "6732           1  sethmacfarlane hrc proposes installing half a ...   804767   \n",
       "\n",
       "                                                  tokens  \\\n",
       "11729  [ubcforestry, funding, from, genomebc, will, s...   \n",
       "8308   [yadimoiina, gag, orders, sure, hes, definitel...   \n",
       "7159   [pattonoswalt, not, ominous, at, all, he, also...   \n",
       "5644   [melissajpeltier, in, case, you, forgot, about...   \n",
       "6732   [sethmacfarlane, hrc, proposes, installing, ha...   \n",
       "\n",
       "                                      token_no_stop_word  \\\n",
       "11729  [ubcforestry, funding, genomebc, support, sall...   \n",
       "8308   [yadimoiina, gag, orders, sure, hes, definitel...   \n",
       "7159   [pattonoswalt, ominous, also, wants, names, an...   \n",
       "5644   [melissajpeltier, case, forgot, chinese, hoax,...   \n",
       "6732   [sethmacfarlane, hrc, proposes, installing, ha...   \n",
       "\n",
       "                                                   lemma  \\\n",
       "11729  [ubcforestry, funding, genomebc, support, sall...   \n",
       "8308   [yadimoiina, gag, order, sure, he, definitely,...   \n",
       "7159   [pattonoswalt, ominous, also, want, name, anyo...   \n",
       "5644   [melissajpeltier, case, forgot, chinese, hoax,...   \n",
       "6732   [sethmacfarlane, hrc, proposes, installing, ha...   \n",
       "\n",
       "                                                    stem  \\\n",
       "11729  [ubcforestri, fund, genomebc, support, sallyna...   \n",
       "8308   [yadimoiina, gag, order, sure, hes, definit, g...   \n",
       "7159   [pattonoswalt, omin, also, want, name, anyon, ...   \n",
       "5644   [melissajpelti, case, forgot, chines, hoax, gl...   \n",
       "6732   [sethmacfarlan, hrc, propos, instal, half, bil...   \n",
       "\n",
       "                                         clean_sentences  \\\n",
       "11729  ubcforestry funding genomebc support sallynait...   \n",
       "8308   yadimoiina gag orders sure hes definitely gree...   \n",
       "7159   pattonoswalt ominous also wants names anyone w...   \n",
       "5644   melissajpeltier case forgot chinese hoax globa...   \n",
       "6732   sethmacfarlane hrc proposes installing half bi...   \n",
       "\n",
       "                                    stem_clean_sentences  \\\n",
       "11729  ubcforestri fund genomebc support sallynaitken...   \n",
       "8308   yadimoiina gag order sure hes definit green do...   \n",
       "7159   pattonoswalt omin also want name anyon work cl...   \n",
       "5644   melissajpelti case forgot chines hoax global w...   \n",
       "6732   sethmacfarlan hrc propos instal half billion s...   \n",
       "\n",
       "                              lemma_stem_clean_sentences  \\\n",
       "11729  ubcforestri fund genomebc support sallynaitken...   \n",
       "8308   yadimoiina gag order sure hes definit green do...   \n",
       "7159   pattonoswalt omin also want name anyon work cl...   \n",
       "5644   melissajpelti case forgot chines hoax global w...   \n",
       "6732   sethmacfarlan hrc propos instal half billion s...   \n",
       "\n",
       "                                   lemma_clean_sentences  \n",
       "11729  ubcforestry funding genomebc support sallynait...  \n",
       "8308   yadimoiina gag order sure he definitely green ...  \n",
       "7159   pattonoswalt ominous also want name anyone wor...  \n",
       "5644   melissajpeltier case forgot chinese hoax globa...  \n",
       "6732   sethmacfarlane hrc proposes installing half bi...  "
      ]
     },
     "execution_count": 206,
     "metadata": {},
     "output_type": "execute_result"
    }
   ],
   "source": [
    "up_sampled.head()"
   ]
  },
  {
   "cell_type": "markdown",
   "metadata": {},
   "source": [
    "## let us have a look at the new distribution of data after upsampling"
   ]
  },
  {
   "cell_type": "code",
   "execution_count": 211,
   "metadata": {},
   "outputs": [
    {
     "data": {
      "image/png": "[encoded data removed]",
      "text/plain": [
       "<Figure size 921.6x633.6 with 1 Axes>"
      ]
     },
     "metadata": {},
     "output_type": "display_data"
    }
   ],
   "source": [
    "labels = ['Pro', 'News', 'Neutral', 'Anti'] \n",
    "\n",
    "# Get all possible labels\n",
    "plt.bar(labels,df_train['sentiment'].value_counts() ,color='green')\n",
    "plt.bar(labels,up_sampled['sentiment'].value_counts() ,color='orange')\n",
    "plt.xticks(labels, ['Pro', 'News', 'Neutral', 'Anti'] )\n",
    "plt.ylabel(\"# of observations\")\n",
    "plt.legend(['original','resampled'])\n",
    "plt.show()"
   ]
  },
  {
   "cell_type": "markdown",
   "metadata": {},
   "source": [
    "# Train Test split with balanced upsampled data "
   ]
  },
  {
   "cell_type": "code",
   "execution_count": 218,
   "metadata": {},
   "outputs": [],
   "source": [
    "# importing necessary libraries\n",
    "from sklearn import datasets\n",
    "from sklearn.metrics import confusion_matrix\n",
    "from sklearn.model_selection import train_test_split\n",
    " \n",
    "# X -> features, y -> label\n",
    "up_y =  up_sampled['sentiment']\n",
    "up_X =  up_sampled['clean_sentences']\n",
    "\n",
    "# dividing X, y into train and test data\n",
    "up_X_train, up_X_test, up_y_train, up_y_test = train_test_split(up_X, up_y, \n",
    "                                random_state = 42)\n",
    "\n",
    "# extracting features\n",
    "from sklearn.feature_extraction.text import TfidfVectorizer\n",
    "\n",
    "vectorizer = TfidfVectorizer()\n",
    "up_V_train_X = vectorizer.fit_transform(up_X_train)\n",
    "up_V_test_X = vectorizer.transform(up_X_test)\n",
    "\n",
    "\n",
    "# Import the scaler module\n",
    "from sklearn import preprocessing\n",
    "scaler = preprocessing.MaxAbsScaler ()\n",
    "# Scale data\n",
    "up_X_train_scaled = scaler.fit_transform(up_V_train_X)\n",
    "up_X_test_scaled = scaler.transform(up_V_test_X)\n"
   ]
  },
  {
   "cell_type": "markdown",
   "metadata": {},
   "source": [
    "# modelling "
   ]
  },
  {
   "cell_type": "code",
   "execution_count": 220,
   "metadata": {},
   "outputs": [
    {
     "name": "stdout",
     "output_type": "stream",
     "text": [
      "Classification Report SVM\n",
      "              precision    recall  f1-score   support\n",
      "\n",
      "          -1       0.94      0.99      0.96      2070\n",
      "           0       0.88      0.93      0.90      2134\n",
      "           1       0.89      0.75      0.82      2147\n",
      "           2       0.89      0.95      0.92      2179\n",
      "\n",
      "    accuracy                           0.90      8530\n",
      "   macro avg       0.90      0.90      0.90      8530\n",
      "weighted avg       0.90      0.90      0.90      8530\n",
      "\n"
     ]
    }
   ],
   "source": [
    "# training a linear SVM classifier\n",
    "from sklearn.svm import SVC\n",
    "svm_model_linear = SVC(kernel = 'linear', C = 1).fit(up_V_train_X,up_y_train)\n",
    "up_svm_predictions = svm_model_linear.predict(up_V_test_X)\n",
    " \n",
    "# model accuracy for V_test_X \n",
    "accuracy = svm_model_linear.score(up_V_test_X, up_y_test)\n",
    " \n",
    "# creating a confusion matrix\n",
    "cm2 = confusion_matrix(up_y_test, up_svm_predictions)\n",
    "\n",
    "print('Classification Report SVM')\n",
    "print(classification_report(up_y_test, up_svm_predictions))"
   ]
  },
  {
   "cell_type": "code",
   "execution_count": 221,
   "metadata": {},
   "outputs": [
    {
     "name": "stdout",
     "output_type": "stream",
     "text": [
      "Classification Report Linear logistics\n",
      "              precision    recall  f1-score   support\n",
      "\n",
      "          -1       0.91      0.96      0.94      2070\n",
      "           0       0.84      0.87      0.86      2134\n",
      "           1       0.86      0.69      0.77      2147\n",
      "           2       0.84      0.93      0.89      2179\n",
      "\n",
      "    accuracy                           0.86      8530\n",
      "   macro avg       0.86      0.86      0.86      8530\n",
      "weighted avg       0.86      0.86      0.86      8530\n",
      "\n"
     ]
    }
   ],
   "source": [
    "# training a Linear Logistics \n",
    "from sklearn.linear_model import LogisticRegression\n",
    "lm_vt = LogisticRegression(multi_class='ovr').fit(up_V_train_X, up_y_train)\n",
    "up_pred_lr_vt = lm_vt.predict(up_V_test_X)\n",
    "\n",
    "# printing the classification report\n",
    "print('Classification Report Linear logistics')\n",
    "print(classification_report(up_y_test, up_pred_lr_vt))"
   ]
  },
  {
   "cell_type": "code",
   "execution_count": 223,
   "metadata": {},
   "outputs": [
    {
     "name": "stdout",
     "output_type": "stream",
     "text": [
      "Classification Report Linear logistics\n",
      "              precision    recall  f1-score   support\n",
      "\n",
      "          -1       0.94      0.99      0.97      2070\n",
      "           0       0.88      0.95      0.92      2134\n",
      "           1       0.93      0.75      0.83      2147\n",
      "           2       0.90      0.96      0.93      2179\n",
      "\n",
      "    accuracy                           0.91      8530\n",
      "   macro avg       0.91      0.91      0.91      8530\n",
      "weighted avg       0.91      0.91      0.91      8530\n",
      "\n"
     ]
    }
   ],
   "source": [
    "# Training the scaled data for the Linear Logistics\n",
    "\n",
    "slm_vt = LogisticRegression(multi_class='ovr').fit(up_X_train_scaled, up_y_train)\n",
    "up_spred_lr_vt = slm_vt.predict(up_X_test_scaled)\n",
    "print('Classification Report Linear logistics')\n",
    "print(classification_report(up_y_test,up_spred_lr_vt))"
   ]
  },
  {
   "cell_type": "markdown",
   "metadata": {},
   "source": [
    "# Hyperparameter tuning\n",
    "\n",
    "Getting the best hyperparameters for the upsampled data"
   ]
  },
  {
   "cell_type": "code",
   "execution_count": null,
   "metadata": {},
   "outputs": [],
   "source": [
    "# Import Grid search for hyperparameter tuning\n",
    "from sklearn.model_selection import GridSearchCV\n",
    "\n",
    "# number of folds to be tested on\n",
    "nfolds = 5\n",
    "\n",
    "# the values of c to check for\n",
    "Cs = [0.001, 0.01, 0.1, 1, 10]\n",
    "\n",
    "# the values of gamma\n",
    "gammas = [0.001, 0.01, 0.1, 1]\n",
    "\n",
    "# Creating the parameters dictionary\n",
    "param_grid = {\n",
    "    'C'     : Cs,\n",
    "    'gamma' : gammas\n",
    "    }\n",
    "\n",
    "# Applying the grid search and comparing based on the f1 score\n",
    "grid_SVM = GridSearchCV(SVC(kernel = 'linear'), param_grid, scoring='f1', cv=nfolds)\n",
    "grid_SVM.fit(V_train_X, y_train)\n",
    "\n",
    "# Getting the best parameters of grid search\n",
    "grid_SVM.best_params_\n"
   ]
  },
  {
   "cell_type": "markdown",
   "metadata": {},
   "source": [
    "# Beast feature selection"
   ]
  },
  {
   "cell_type": "code",
   "execution_count": null,
   "metadata": {},
   "outputs": [],
   "source": [
    "# Import the feature selector module\n",
    "from sklearn import feature_selection\n",
    "from sklearn.feature_selection import f_classif\n",
    "\n",
    "# Set up selector, choosing score function and number of features to retain\n",
    "selector_kbest = feature_selection.SelectKBest(score_func=f_classif, k=20)\n",
    "\n",
    "\n",
    "# Transform (i.e.: run selection on) the training data\n",
    "X_train_kbest = selector_kbest.fit_transform(V_train_X, y_train)\n",
    "\n",
    "# Fit model to the transformed data\n",
    "SVM_k_best = SVC(kernel='linear', degree=0.001, C=0.001).fit(X_train_kbest, y_train)\n",
    "\n",
    "\n",
    "# Before generating predictions, we'll need to transform the test data the same way we did the train data\n",
    "X_test_kbest = selector_kbest.transform(V_test_X)\n",
    "\n",
    "# Generate predictions from var thresh model\n",
    "pred_lm_kbest = SVM_k_best.predict(X_test_kbest)\n",
    "\n",
    "\n",
    "#rbf_pred = rbf.predict(V_test_X)\n",
    "print('Classification Report poly_pred ')\n",
    "print(classification_report(y_test, pred_lm_kbest))"
   ]
  },
  {
   "cell_type": "markdown",
   "metadata": {},
   "source": [
    "## Creating the Data for donwsampling to min class\n",
    "\n",
    "Creating a data frame with down sampled data to min data available in the classes, which is class Anti(-1) with the count of 1296"
   ]
  },
  {
   "cell_type": "code",
   "execution_count": 194,
   "metadata": {},
   "outputs": [],
   "source": [
    "# Pick a class size of roughly half the size of the largest size\n",
    "min_class_size = 1296\n",
    "\n",
    "# Downsample classes with more than 5000 observations\n",
    "pro_down_sampled = resample(processed_df_train[processed_df_train['sentiment']==1],\n",
    "                          replace=False, # sample without replacement (no need to duplicate observations)\n",
    "                          n_samples= min_class_size, # match number in class_size\n",
    "                          random_state=27) # reproducible results\n",
    "\n",
    "# Upsample classes with less than 5000 observations\n",
    "neutral_down_sampled = resample(processed_df_train[processed_df_train['sentiment']==0],\n",
    "                          replace=True, # sample with replacement (we need to duplicate observations)\n",
    "                          n_samples= min_class_size, # match number in class_size\n",
    "                          random_state=27) # reproducible results\n",
    "\n",
    "# Upsample classes with less than 5000 observations\n",
    "anti_down_sampled = resample(processed_df_train[processed_df_train['sentiment']==-1],\n",
    "                          replace=True, # sample with replacement (we need to duplicate observations)\n",
    "                          n_samples= min_class_size, # match number in class_size\n",
    "                          random_state=27) # reproducible results\n",
    "\n",
    "# Upsample classes with less than 5000 observations\n",
    "news_down_sampled = resample(processed_df_train[processed_df_train['sentiment']==2],\n",
    "                          replace=True, # sample with replacement (we need to duplicate observations)\n",
    "                          n_samples= min_class_size, # match number in class_size\n",
    "                          random_state=27) # reproducible results\n",
    "\n",
    "\n",
    "\n"
   ]
  },
  {
   "cell_type": "code",
   "execution_count": 195,
   "metadata": {},
   "outputs": [
    {
     "data": {
      "text/plain": [
       " 1    1296\n",
       " 0    1296\n",
       "-1    1296\n",
       " 2    1296\n",
       "Name: sentiment, dtype: int64"
      ]
     },
     "execution_count": 195,
     "metadata": {},
     "output_type": "execute_result"
    }
   ],
   "source": [
    "# Combine sampled classes with majority class\n",
    "down_sampled = pd.concat([pro_down_sampled, neutral_down_sampled, anti_down_sampled, news_down_sampled])\n",
    "\n",
    "# Check new class counts\n",
    "down_sampled['sentiment'].value_counts()\n"
   ]
  },
  {
   "cell_type": "code",
   "execution_count": 196,
   "metadata": {},
   "outputs": [
    {
     "data": {
      "text/plain": [
       "(5184, 11)"
      ]
     },
     "execution_count": 196,
     "metadata": {},
     "output_type": "execute_result"
    }
   ],
   "source": [
    "down_sampled.shape"
   ]
  },
  {
   "cell_type": "code",
   "execution_count": 197,
   "metadata": {},
   "outputs": [
    {
     "data": {
      "text/html": [
       "<div>\n",
       "<style scoped>\n",
       "    .dataframe tbody tr th:only-of-type {\n",
       "        vertical-align: middle;\n",
       "    }\n",
       "\n",
       "    .dataframe tbody tr th {\n",
       "        vertical-align: top;\n",
       "    }\n",
       "\n",
       "    .dataframe thead th {\n",
       "        text-align: right;\n",
       "    }\n",
       "</style>\n",
       "<table border=\"1\" class=\"dataframe\">\n",
       "  <thead>\n",
       "    <tr style=\"text-align: right;\">\n",
       "      <th></th>\n",
       "      <th>sentiment</th>\n",
       "      <th>message</th>\n",
       "      <th>tweetid</th>\n",
       "      <th>tokens</th>\n",
       "      <th>token_no_stop_word</th>\n",
       "      <th>lemma</th>\n",
       "      <th>stem</th>\n",
       "      <th>clean_sentences</th>\n",
       "      <th>stem_clean_sentences</th>\n",
       "      <th>lemma_stem_clean_sentences</th>\n",
       "      <th>lemma_clean_sentences</th>\n",
       "    </tr>\n",
       "  </thead>\n",
       "  <tbody>\n",
       "    <tr>\n",
       "      <th>11729</th>\n",
       "      <td>1</td>\n",
       "      <td>ubcforestry funding from genomebc will support...</td>\n",
       "      <td>977844</td>\n",
       "      <td>[ubcforestry, funding, from, genomebc, will, s...</td>\n",
       "      <td>[ubcforestry, funding, genomebc, support, sall...</td>\n",
       "      <td>[ubcforestry, funding, genomebc, support, sall...</td>\n",
       "      <td>[ubcforestri, fund, genomebc, support, sallyna...</td>\n",
       "      <td>ubcforestry funding genomebc support sallynait...</td>\n",
       "      <td>ubcforestri fund genomebc support sallynaitken...</td>\n",
       "      <td>ubcforestri fund genomebc support sallynaitken...</td>\n",
       "      <td>ubcforestry funding genomebc support sallynait...</td>\n",
       "    </tr>\n",
       "    <tr>\n",
       "      <th>8308</th>\n",
       "      <td>1</td>\n",
       "      <td>yadimoiina gag orders sure hes definitely gree...</td>\n",
       "      <td>441956</td>\n",
       "      <td>[yadimoiina, gag, orders, sure, hes, definitel...</td>\n",
       "      <td>[yadimoiina, gag, orders, sure, hes, definitel...</td>\n",
       "      <td>[yadimoiina, gag, order, sure, he, definitely,...</td>\n",
       "      <td>[yadimoiina, gag, order, sure, hes, definit, g...</td>\n",
       "      <td>yadimoiina gag orders sure hes definitely gree...</td>\n",
       "      <td>yadimoiina gag order sure hes definit green do...</td>\n",
       "      <td>yadimoiina gag order sure hes definit green do...</td>\n",
       "      <td>yadimoiina gag order sure he definitely green ...</td>\n",
       "    </tr>\n",
       "    <tr>\n",
       "      <th>7159</th>\n",
       "      <td>1</td>\n",
       "      <td>pattonoswalt not ominous at all he also wants ...</td>\n",
       "      <td>978938</td>\n",
       "      <td>[pattonoswalt, not, ominous, at, all, he, also...</td>\n",
       "      <td>[pattonoswalt, ominous, also, wants, names, an...</td>\n",
       "      <td>[pattonoswalt, ominous, also, want, name, anyo...</td>\n",
       "      <td>[pattonoswalt, omin, also, want, name, anyon, ...</td>\n",
       "      <td>pattonoswalt ominous also wants names anyone w...</td>\n",
       "      <td>pattonoswalt omin also want name anyon work cl...</td>\n",
       "      <td>pattonoswalt omin also want name anyon work cl...</td>\n",
       "      <td>pattonoswalt ominous also want name anyone wor...</td>\n",
       "    </tr>\n",
       "    <tr>\n",
       "      <th>5644</th>\n",
       "      <td>1</td>\n",
       "      <td>melissajpeltier in case you forgot about that ...</td>\n",
       "      <td>587737</td>\n",
       "      <td>[melissajpeltier, in, case, you, forgot, about...</td>\n",
       "      <td>[melissajpeltier, case, forgot, chinese, hoax,...</td>\n",
       "      <td>[melissajpeltier, case, forgot, chinese, hoax,...</td>\n",
       "      <td>[melissajpelti, case, forgot, chines, hoax, gl...</td>\n",
       "      <td>melissajpeltier case forgot chinese hoax globa...</td>\n",
       "      <td>melissajpelti case forgot chines hoax global w...</td>\n",
       "      <td>melissajpelti case forgot chines hoax global w...</td>\n",
       "      <td>melissajpeltier case forgot chinese hoax globa...</td>\n",
       "    </tr>\n",
       "    <tr>\n",
       "      <th>6732</th>\n",
       "      <td>1</td>\n",
       "      <td>sethmacfarlane hrc proposes installing half a ...</td>\n",
       "      <td>804767</td>\n",
       "      <td>[sethmacfarlane, hrc, proposes, installing, ha...</td>\n",
       "      <td>[sethmacfarlane, hrc, proposes, installing, ha...</td>\n",
       "      <td>[sethmacfarlane, hrc, proposes, installing, ha...</td>\n",
       "      <td>[sethmacfarlan, hrc, propos, instal, half, bil...</td>\n",
       "      <td>sethmacfarlane hrc proposes installing half bi...</td>\n",
       "      <td>sethmacfarlan hrc propos instal half billion s...</td>\n",
       "      <td>sethmacfarlan hrc propos instal half billion s...</td>\n",
       "      <td>sethmacfarlane hrc proposes installing half bi...</td>\n",
       "    </tr>\n",
       "  </tbody>\n",
       "</table>\n",
       "</div>"
      ],
      "text/plain": [
       "       sentiment                                            message  tweetid  \\\n",
       "11729          1  ubcforestry funding from genomebc will support...   977844   \n",
       "8308           1  yadimoiina gag orders sure hes definitely gree...   441956   \n",
       "7159           1  pattonoswalt not ominous at all he also wants ...   978938   \n",
       "5644           1  melissajpeltier in case you forgot about that ...   587737   \n",
       "6732           1  sethmacfarlane hrc proposes installing half a ...   804767   \n",
       "\n",
       "                                                  tokens  \\\n",
       "11729  [ubcforestry, funding, from, genomebc, will, s...   \n",
       "8308   [yadimoiina, gag, orders, sure, hes, definitel...   \n",
       "7159   [pattonoswalt, not, ominous, at, all, he, also...   \n",
       "5644   [melissajpeltier, in, case, you, forgot, about...   \n",
       "6732   [sethmacfarlane, hrc, proposes, installing, ha...   \n",
       "\n",
       "                                      token_no_stop_word  \\\n",
       "11729  [ubcforestry, funding, genomebc, support, sall...   \n",
       "8308   [yadimoiina, gag, orders, sure, hes, definitel...   \n",
       "7159   [pattonoswalt, ominous, also, wants, names, an...   \n",
       "5644   [melissajpeltier, case, forgot, chinese, hoax,...   \n",
       "6732   [sethmacfarlane, hrc, proposes, installing, ha...   \n",
       "\n",
       "                                                   lemma  \\\n",
       "11729  [ubcforestry, funding, genomebc, support, sall...   \n",
       "8308   [yadimoiina, gag, order, sure, he, definitely,...   \n",
       "7159   [pattonoswalt, ominous, also, want, name, anyo...   \n",
       "5644   [melissajpeltier, case, forgot, chinese, hoax,...   \n",
       "6732   [sethmacfarlane, hrc, proposes, installing, ha...   \n",
       "\n",
       "                                                    stem  \\\n",
       "11729  [ubcforestri, fund, genomebc, support, sallyna...   \n",
       "8308   [yadimoiina, gag, order, sure, hes, definit, g...   \n",
       "7159   [pattonoswalt, omin, also, want, name, anyon, ...   \n",
       "5644   [melissajpelti, case, forgot, chines, hoax, gl...   \n",
       "6732   [sethmacfarlan, hrc, propos, instal, half, bil...   \n",
       "\n",
       "                                         clean_sentences  \\\n",
       "11729  ubcforestry funding genomebc support sallynait...   \n",
       "8308   yadimoiina gag orders sure hes definitely gree...   \n",
       "7159   pattonoswalt ominous also wants names anyone w...   \n",
       "5644   melissajpeltier case forgot chinese hoax globa...   \n",
       "6732   sethmacfarlane hrc proposes installing half bi...   \n",
       "\n",
       "                                    stem_clean_sentences  \\\n",
       "11729  ubcforestri fund genomebc support sallynaitken...   \n",
       "8308   yadimoiina gag order sure hes definit green do...   \n",
       "7159   pattonoswalt omin also want name anyon work cl...   \n",
       "5644   melissajpelti case forgot chines hoax global w...   \n",
       "6732   sethmacfarlan hrc propos instal half billion s...   \n",
       "\n",
       "                              lemma_stem_clean_sentences  \\\n",
       "11729  ubcforestri fund genomebc support sallynaitken...   \n",
       "8308   yadimoiina gag order sure hes definit green do...   \n",
       "7159   pattonoswalt omin also want name anyon work cl...   \n",
       "5644   melissajpelti case forgot chines hoax global w...   \n",
       "6732   sethmacfarlan hrc propos instal half billion s...   \n",
       "\n",
       "                                   lemma_clean_sentences  \n",
       "11729  ubcforestry funding genomebc support sallynait...  \n",
       "8308   yadimoiina gag order sure he definitely green ...  \n",
       "7159   pattonoswalt ominous also want name anyone wor...  \n",
       "5644   melissajpeltier case forgot chinese hoax globa...  \n",
       "6732   sethmacfarlane hrc proposes installing half bi...  "
      ]
     },
     "execution_count": 197,
     "metadata": {},
     "output_type": "execute_result"
    }
   ],
   "source": [
    "down_sampled.head()"
   ]
  },
  {
   "cell_type": "code",
   "execution_count": 199,
   "metadata": {},
   "outputs": [
    {
     "data": {
      "text/plain": [
       " 1    8530\n",
       " 2    3640\n",
       " 0    2353\n",
       "-1    1296\n",
       "Name: sentiment, dtype: int64"
      ]
     },
     "execution_count": 199,
     "metadata": {},
     "output_type": "execute_result"
    }
   ],
   "source": [
    "df_train.sentiment.value_counts()"
   ]
  },
  {
   "cell_type": "markdown",
   "metadata": {},
   "source": [
    "## let us have a look at the new distribution of data after downsampling"
   ]
  },
  {
   "cell_type": "code",
   "execution_count": 212,
   "metadata": {},
   "outputs": [
    {
     "data": {
      "image/png": "[encoded data removed]",
      "text/plain": [
       "<Figure size 921.6x633.6 with 1 Axes>"
      ]
     },
     "metadata": {},
     "output_type": "display_data"
    }
   ],
   "source": [
    "labels = ['Pro', 'News', 'Neutral', 'Anti'] \n",
    "\n",
    "# Get all possible labels\n",
    "plt.bar(labels,df_train['sentiment'].value_counts() ,color='green')\n",
    "plt.bar(labels,down_sampled['sentiment'].value_counts() ,color='orange')\n",
    "plt.xticks(labels, ['Pro', 'News', 'Neutral', 'Anti'] )\n",
    "plt.ylabel(\"# of observations\")\n",
    "plt.legend(['original','resampled'])\n",
    "plt.show()"
   ]
  },
  {
   "cell_type": "markdown",
   "metadata": {},
   "source": [
    "# Train Test split with balanced downsampled data \n",
    "\n",
    "spliting and transforming the down sampled data and scaling it at the same town for those algorithms that need scaled data\n"
   ]
  },
  {
   "cell_type": "code",
   "execution_count": 224,
   "metadata": {},
   "outputs": [],
   "source": [
    "# importing necessary libraries\n",
    "from sklearn import datasets\n",
    "from sklearn.metrics import confusion_matrix\n",
    "from sklearn.model_selection import train_test_split\n",
    " \n",
    "# X -> features, y -> label\n",
    "down_y =  down_sampled['sentiment']\n",
    "down_X =  down_sampled['clean_sentences']\n",
    "\n",
    "# dividing X, y into train and test data\n",
    "down_X_train, down_X_test, down_y_train, down_y_test = train_test_split(down_X, down_y, \n",
    "                                random_state = 42)\n",
    "\n",
    "# extracting features\n",
    "from sklearn.feature_extraction.text import TfidfVectorizer\n",
    "\n",
    "vectorizer = TfidfVectorizer()\n",
    "down_V_train_X = vectorizer.fit_transform(down_X_train)\n",
    "down_V_test_X = vectorizer.transform(down_X_test)\n",
    "\n",
    "\n",
    "# Import the scaler module\n",
    "from sklearn import preprocessing\n",
    "scaler = preprocessing.MaxAbsScaler ()\n",
    "# Scale data\n",
    "down_X_train_scaled = scaler.fit_transform(down_V_train_X)\n",
    "down_X_test_scaled = scaler.transform(down_V_test_X)\n"
   ]
  },
  {
   "cell_type": "markdown",
   "metadata": {},
   "source": [
    "# modelling the down scaled data"
   ]
  },
  {
   "cell_type": "code",
   "execution_count": 225,
   "metadata": {},
   "outputs": [
    {
     "name": "stdout",
     "output_type": "stream",
     "text": [
      "Classification Report SVM\n",
      "              precision    recall  f1-score   support\n",
      "\n",
      "          -1       0.84      0.78      0.81       294\n",
      "           0       0.63      0.70      0.67       306\n",
      "           1       0.70      0.58      0.63       352\n",
      "           2       0.77      0.87      0.81       344\n",
      "\n",
      "    accuracy                           0.73      1296\n",
      "   macro avg       0.73      0.73      0.73      1296\n",
      "weighted avg       0.73      0.73      0.73      1296\n",
      "\n"
     ]
    }
   ],
   "source": [
    "# training a linear SVM classifier\n",
    "from sklearn.svm import SVC\n",
    "svm_model_linear = SVC(kernel = 'linear', C = 1).fit(down_V_train_X,down_y_train)\n",
    "down_svm_predictions = svm_model_linear.predict(down_V_test_X)\n",
    " \n",
    "# model accuracy for V_test_X \n",
    "accuracy = svm_model_linear.score(down_V_test_X, down_y_test)\n",
    " \n",
    "# creating a confusion matrix\n",
    "cm2 = confusion_matrix(down_y_test, down_svm_predictions)\n",
    "\n",
    "print('Classification Report SVM')\n",
    "print(classification_report(down_y_test, down_svm_predictions))"
   ]
  },
  {
   "cell_type": "code",
   "execution_count": 226,
   "metadata": {},
   "outputs": [
    {
     "name": "stdout",
     "output_type": "stream",
     "text": [
      "Classification Report Linear logistics\n",
      "              precision    recall  f1-score   support\n",
      "\n",
      "          -1       0.77      0.77      0.77       294\n",
      "           0       0.65      0.66      0.66       306\n",
      "           1       0.70      0.53      0.60       352\n",
      "           2       0.72      0.88      0.79       344\n",
      "\n",
      "    accuracy                           0.71      1296\n",
      "   macro avg       0.71      0.71      0.71      1296\n",
      "weighted avg       0.71      0.71      0.70      1296\n",
      "\n"
     ]
    }
   ],
   "source": [
    "# training a Linear Logistics \n",
    "from sklearn.linear_model import LogisticRegression\n",
    "lm_vt = LogisticRegression(multi_class='ovr').fit(down_V_train_X, down_y_train)\n",
    "down_pred_lr_vt = lm_vt.predict(down_V_test_X)\n",
    "\n",
    "# printing the classification report\n",
    "print('Classification Report Linear logistics')\n",
    "print(classification_report(down_y_test, down_pred_lr_vt))"
   ]
  },
  {
   "cell_type": "code",
   "execution_count": 228,
   "metadata": {},
   "outputs": [
    {
     "name": "stdout",
     "output_type": "stream",
     "text": [
      "Classification Report Linear logistics\n",
      "              precision    recall  f1-score   support\n",
      "\n",
      "          -1       0.83      0.81      0.82       294\n",
      "           0       0.65      0.73      0.69       306\n",
      "           1       0.74      0.56      0.64       352\n",
      "           2       0.76      0.87      0.81       344\n",
      "\n",
      "    accuracy                           0.74      1296\n",
      "   macro avg       0.74      0.74      0.74      1296\n",
      "weighted avg       0.74      0.74      0.74      1296\n",
      "\n"
     ]
    }
   ],
   "source": [
    "# Training the scaled data for the Linear Logistics\n",
    "\n",
    "slm_vt = LogisticRegression(multi_class='ovr').fit(down_X_train_scaled, down_y_train)\n",
    "down_spred_lr_vt = slm_vt.predict(down_X_test_scaled)\n",
    "print('Classification Report Linear logistics')\n",
    "print(classification_report(down_y_test,down_spred_lr_vt))"
   ]
  },
  {
   "cell_type": "markdown",
   "metadata": {},
   "source": [
    "# Hyperparameter tuning\n",
    "\n",
    "Getting the best hyperparameters for the downsampled data"
   ]
  },
  {
   "cell_type": "code",
   "execution_count": null,
   "metadata": {},
   "outputs": [],
   "source": [
    "# Import Grid search for hyperparameter tuning\n",
    "from sklearn.model_selection import GridSearchCV\n",
    "\n",
    "# number of folds to be tested on\n",
    "nfolds = 2\n",
    "\n",
    "# the values of c to check for\n",
    "Cs = [0.001, 0.01, 0.1, 1, 10]\n",
    "\n",
    "# the values of gamma\n",
    "gammas = [0.001, 0.01, 0.1, 1]\n",
    "\n",
    "# Creating the parameters dictionary\n",
    "param_grid = {\n",
    "    'C'     : Cs,\n",
    "    'gamma' : gammas\n",
    "    }\n",
    "\n",
    "# Applying the grid search and comparing based on the f1 score\n",
    "grid_SVM = GridSearchCV(SVC(kernel='poly'), param_grid, scoring='f1', cv=nfolds)\n",
    "grid_SVM.fit(V_train_X, y_train)\n",
    "\n",
    "# Getting the best parameters of grid search\n",
    "grid_SVM.best_params_\n"
   ]
  },
  {
   "cell_type": "markdown",
   "metadata": {},
   "source": [
    "# Best feature selection"
   ]
  },
  {
   "cell_type": "code",
   "execution_count": null,
   "metadata": {},
   "outputs": [],
   "source": [
    "# Import the feature selector module\n",
    "from sklearn import feature_selection\n",
    "from sklearn.feature_selection import f_classif\n",
    "\n",
    "# Set up selector, choosing score function and number of features to retain\n",
    "selector_kbest = feature_selection.SelectKBest(score_func=f_classif, k=20)\n",
    "\n",
    "\n",
    "# Transform (i.e.: run selection on) the training data\n",
    "X_train_kbest = selector_kbest.fit_transform(V_train_X, y_train)\n",
    "\n",
    "# Fit model to the transformed data\n",
    "SVM_k_best = SVC(kernel='linear', degree=0.001, C=0.001).fit(X_train_kbest, y_train)\n",
    "\n",
    "\n",
    "# Before generating predictions, we'll need to transform the test data the same way we did the train data\n",
    "X_test_kbest = selector_kbest.transform(V_test_X)\n",
    "\n",
    "# Generate predictions from var thresh model\n",
    "pred_lm_kbest = SVM_k_best.predict(X_test_kbest)\n",
    "\n",
    "\n",
    "#rbf_pred = rbf.predict(V_test_X)\n",
    "print('Classification Report poly_pred ')\n",
    "print(classification_report(y_test, pred_lm_kbest))"
   ]
  },
  {
   "cell_type": "code",
   "execution_count": null,
   "metadata": {},
   "outputs": [],
   "source": []
  },
  {
   "cell_type": "code",
   "execution_count": null,
   "metadata": {},
   "outputs": [],
   "source": []
  },
  {
   "cell_type": "code",
   "execution_count": null,
   "metadata": {},
   "outputs": [],
   "source": []
  },
  {
   "cell_type": "markdown",
   "metadata": {},
   "source": [
    "# Creating sample data with SMOTE"
   ]
  },
  {
   "cell_type": "code",
   "execution_count": 32,
   "metadata": {},
   "outputs": [],
   "source": [
    "# importing necessary libraries\n",
    "from sklearn import datasets\n",
    "from sklearn.metrics import confusion_matrix\n",
    "from sklearn.model_selection import train_test_split\n",
    " \n",
    "# X -> features, y -> label\n",
    "y =  sampled['sentiment']\n",
    "X =  sampled['clean_sentences']\n",
    "\n",
    "# dividing X, y into train and test data\n",
    "X_train, X_test, y_train, y_test = train_test_split(X, y, \n",
    "                                random_state = 42)\n",
    "\n",
    "# extracting features\n",
    "from sklearn.feature_extraction.text import TfidfVectorizer\n",
    "\n",
    "vectorizer = TfidfVectorizer()\n",
    "V_train_X = vectorizer.fit_transform(X_train)\n",
    "V_test_X = vectorizer.transform(X_test)\n",
    "\n",
    "\n",
    "# Import the scaler module\n",
    "from sklearn import preprocessing\n",
    "scaler = preprocessing.MaxAbsScaler ()\n",
    "# Scale data\n",
    "X_train_scaled = scaler.fit_transform(V_train_X)\n",
    "x_test_scaled = scaler.transform(V_test_X)\n"
   ]
  },
  {
   "cell_type": "code",
   "execution_count": 33,
   "metadata": {},
   "outputs": [
    {
     "name": "stdout",
     "output_type": "stream",
     "text": [
      "Classification Report Decision Tree\n",
      "              precision    recall  f1-score   support\n",
      "\n",
      "          -1       0.35      0.47      0.40      1203\n",
      "           0       0.95      0.03      0.06      1266\n",
      "           1       0.41      0.75      0.53      2008\n",
      "           2       0.59      0.22      0.32      1273\n",
      "\n",
      "    accuracy                           0.41      5750\n",
      "   macro avg       0.58      0.36      0.33      5750\n",
      "weighted avg       0.56      0.41      0.35      5750\n",
      "\n"
     ]
    }
   ],
   "source": [
    "\n",
    " # training a DescisionTreeClassifier\n",
    "from sklearn.tree import DecisionTreeClassifier\n",
    "dtree_model = DecisionTreeClassifier(max_depth = 2).fit(X_train_scaled, y_train)\n",
    "dtree_predictions = dtree_model.predict(x_test_scaled)\n",
    " \n",
    "# creating a confusion matrix\n",
    "cm1 = confusion_matrix(y_test, dtree_predictions)\n",
    "print('Classification Report Decision Tree')\n",
    "print(classification_report(y_test, dtree_predictions))\n"
   ]
  },
  {
   "cell_type": "code",
   "execution_count": 34,
   "metadata": {},
   "outputs": [
    {
     "name": "stdout",
     "output_type": "stream",
     "text": [
      "Classification Report SVM\n",
      "              precision    recall  f1-score   support\n",
      "\n",
      "          -1       0.84      0.90      0.87      1203\n",
      "           0       0.77      0.73      0.75      1266\n",
      "           1       0.77      0.75      0.76      2008\n",
      "           2       0.81      0.82      0.82      1273\n",
      "\n",
      "    accuracy                           0.79      5750\n",
      "   macro avg       0.80      0.80      0.80      5750\n",
      "weighted avg       0.79      0.79      0.79      5750\n",
      "\n"
     ]
    }
   ],
   "source": [
    "\n",
    "# training a linear SVM classifier\n",
    "from sklearn.svm import SVC\n",
    "svm_model_linear = SVC(kernel = 'linear', C = 1).fit(V_train_X, y_train)\n",
    "svm_predictions = svm_model_linear.predict(V_test_X)\n",
    " \n",
    "# model accuracy for V_test_X \n",
    "accuracy = svm_model_linear.score(V_test_X, y_test)\n",
    " \n",
    "# creating a confusion matrix\n",
    "cm2 = confusion_matrix(y_test, svm_predictions)\n",
    "\n",
    "print('Classification Report SVM')\n",
    "print(classification_report(y_test, svm_predictions))"
   ]
  },
  {
   "cell_type": "code",
   "execution_count": 44,
   "metadata": {},
   "outputs": [
    {
     "name": "stdout",
     "output_type": "stream",
     "text": [
      "Classification Report poly_pred \n",
      "              precision    recall  f1-score   support\n",
      "\n",
      "          -1       0.98      0.97      0.98      1203\n",
      "           0       0.98      0.82      0.89      1266\n",
      "           1       0.79      0.96      0.87      2008\n",
      "           2       0.95      0.79      0.86      1273\n",
      "\n",
      "    accuracy                           0.89      5750\n",
      "   macro avg       0.93      0.89      0.90      5750\n",
      "weighted avg       0.91      0.89      0.89      5750\n",
      "\n"
     ]
    }
   ],
   "source": [
    "rbf = SVC(kernel='rbf', gamma=0.5, C=0.1).fit(V_train_X, y_train)\n",
    "poly = SVC(kernel='poly', degree=3, C=1).fit(V_train_X, y_train)\n",
    "\n",
    "poly_pred = poly.predict(V_test_X)\n",
    "rbf_pred = rbf.predict(V_test_X)\n",
    "print('Classification Report poly_pred ')\n",
    "print(classification_report(y_test, poly_pred))"
   ]
  },
  {
   "cell_type": "code",
   "execution_count": 45,
   "metadata": {},
   "outputs": [
    {
     "name": "stdout",
     "output_type": "stream",
     "text": [
      "Classification Report rbf_pred \n",
      "              precision    recall  f1-score   support\n",
      "\n",
      "          -1       0.81      0.48      0.60      1203\n",
      "           0       0.72      0.25      0.37      1266\n",
      "           1       0.45      0.91      0.60      2008\n",
      "           2       0.82      0.34      0.48      1273\n",
      "\n",
      "    accuracy                           0.55      5750\n",
      "   macro avg       0.70      0.49      0.51      5750\n",
      "weighted avg       0.66      0.55      0.52      5750\n",
      "\n"
     ]
    }
   ],
   "source": [
    "print('Classification Report rbf_pred ')\n",
    "print(classification_report(y_test, rbf_pred))"
   ]
  },
  {
   "cell_type": "code",
   "execution_count": 35,
   "metadata": {},
   "outputs": [
    {
     "name": "stdout",
     "output_type": "stream",
     "text": [
      "0.6466086956521739\n",
      "Classification Report KNN\n",
      "              precision    recall  f1-score   support\n",
      "\n",
      "          -1       0.64      0.81      0.71      1203\n",
      "           0       0.57      0.62      0.59      1266\n",
      "           1       0.70      0.53      0.61      2008\n",
      "           2       0.68      0.70      0.69      1273\n",
      "\n",
      "    accuracy                           0.65      5750\n",
      "   macro avg       0.65      0.67      0.65      5750\n",
      "weighted avg       0.65      0.65      0.64      5750\n",
      "\n"
     ]
    }
   ],
   "source": [
    "\n",
    "# training a KNN classifier\n",
    "from sklearn.neighbors import KNeighborsClassifier\n",
    "knn = KNeighborsClassifier(n_neighbors = 7).fit(V_train_X, y_train)\n",
    " \n",
    "# accuracy on V_test_X\n",
    "accuracy = knn.score(V_test_X, y_test)\n",
    "print(accuracy)\n",
    " \n",
    "# creating a confusion matrix\n",
    "knn_predictions = knn.predict(V_test_X)\n",
    "cm3 = confusion_matrix(y_test, knn_predictions)\n",
    "\n",
    "print('Classification Report KNN')\n",
    "print(classification_report(y_test, knn_predictions))\n"
   ]
  },
  {
   "cell_type": "code",
   "execution_count": 36,
   "metadata": {},
   "outputs": [
    {
     "name": "stdout",
     "output_type": "stream",
     "text": [
      "0.6052173913043478\n",
      "Classification Report Naive Bayes\n",
      "              precision    recall  f1-score   support\n",
      "\n",
      "          -1       0.49      0.99      0.65      1203\n",
      "           0       0.70      0.58      0.64      1266\n",
      "           1       0.83      0.31      0.45      2008\n",
      "           2       0.62      0.73      0.67      1273\n",
      "\n",
      "    accuracy                           0.61      5750\n",
      "   macro avg       0.66      0.65      0.60      5750\n",
      "weighted avg       0.68      0.61      0.58      5750\n",
      "\n"
     ]
    }
   ],
   "source": [
    "\n",
    "# training a Naive classifierBayes \n",
    "from sklearn.naive_bayes import GaussianNB\n",
    "gnb = GaussianNB().fit(V_train_X.toarray(), y_train)\n",
    "gnb_predictions = gnb.predict(V_test_X.toarray())\n",
    " \n",
    "# accuracy on V_test_X\n",
    "accuracy = gnb.score(V_test_X.toarray(), y_test)\n",
    "print(accuracy)\n",
    " \n",
    "# creating a confusion matrix\n",
    "cm4 = confusion_matrix(y_test, gnb_predictions)\n",
    "\n",
    "\n",
    "print('Classification Report Naive Bayes')\n",
    "print(classification_report(y_test, gnb_predictions))\n"
   ]
  },
  {
   "cell_type": "code",
   "execution_count": 41,
   "metadata": {},
   "outputs": [
    {
     "name": "stdout",
     "output_type": "stream",
     "text": [
      "0.6031304347826087\n",
      "Classification Report Naive Bayes\n",
      "              precision    recall  f1-score   support\n",
      "\n",
      "          -1       0.48      0.99      0.65      1203\n",
      "           0       0.70      0.58      0.63      1266\n",
      "           1       0.83      0.31      0.45      2008\n",
      "           2       0.62      0.72      0.67      1273\n",
      "\n",
      "    accuracy                           0.60      5750\n",
      "   macro avg       0.66      0.65      0.60      5750\n",
      "weighted avg       0.68      0.60      0.58      5750\n",
      "\n"
     ]
    }
   ],
   "source": [
    "\n",
    "# training a Naive classifierBayes \n",
    "from sklearn.naive_bayes import GaussianNB\n",
    "sgnb = GaussianNB().fit(X_train_scaled.toarray(), y_train)\n",
    "sgnb_predictions = sgnb.predict(V_test_X.toarray())\n",
    " \n",
    "# accuracy on V_test_X\n",
    "accuracy = sgnb.score(x_test_scaled.toarray(), y_test)\n",
    "print(accuracy)\n",
    " \n",
    "# creating a confusion matrix\n",
    "cm4 = confusion_matrix(y_test, sgnb_predictions)\n",
    "\n",
    "\n",
    "print('Classification Report Naive Bayes')\n",
    "print(classification_report(y_test, sgnb_predictions))\n"
   ]
  },
  {
   "cell_type": "code",
   "execution_count": 37,
   "metadata": {},
   "outputs": [],
   "source": [
    "b"
   ]
  },
  {
   "cell_type": "code",
   "execution_count": null,
   "metadata": {},
   "outputs": [],
   "source": [
    "# accuracy on V_test_X\n",
    "accuracy = gnb.score(pred_lr_vt, y_test)\n",
    "print(accuracy)"
   ]
  },
  {
   "cell_type": "code",
   "execution_count": 38,
   "metadata": {},
   "outputs": [
    {
     "name": "stdout",
     "output_type": "stream",
     "text": [
      "Classification Report Linear logistics\n",
      "              precision    recall  f1-score   support\n",
      "\n",
      "          -1       0.84      0.85      0.85      1203\n",
      "           0       0.76      0.67      0.71      1266\n",
      "           1       0.73      0.77      0.75      2008\n",
      "           2       0.79      0.79      0.79      1273\n",
      "\n",
      "    accuracy                           0.77      5750\n",
      "   macro avg       0.78      0.77      0.77      5750\n",
      "weighted avg       0.77      0.77      0.77      5750\n",
      "\n"
     ]
    }
   ],
   "source": [
    "print('Classification Report Linear logistics')\n",
    "print(classification_report(y_test, pred_lr_vt))"
   ]
  },
  {
   "cell_type": "code",
   "execution_count": 40,
   "metadata": {},
   "outputs": [
    {
     "name": "stdout",
     "output_type": "stream",
     "text": [
      "Classification Report Linear logistics\n",
      "              precision    recall  f1-score   support\n",
      "\n",
      "          -1       0.88      0.92      0.90      1203\n",
      "           0       0.79      0.75      0.77      1266\n",
      "           1       0.79      0.78      0.78      2008\n",
      "           2       0.81      0.84      0.82      1273\n",
      "\n",
      "    accuracy                           0.81      5750\n",
      "   macro avg       0.82      0.82      0.82      5750\n",
      "weighted avg       0.81      0.81      0.81      5750\n",
      "\n"
     ]
    }
   ],
   "source": [
    "slm_vt = LogisticRegression(multi_class='ovr').fit(X_train_scaled, y_train)\n",
    "spred_lr_vt = slm_vt.predict(x_test_scaled)\n",
    "print('Classification Report Linear logistics')\n",
    "print(classification_report(y_test,spred_lr_vt))"
   ]
  },
  {
   "cell_type": "code",
   "execution_count": 84,
   "metadata": {},
   "outputs": [
    {
     "name": "stdout",
     "output_type": "stream",
     "text": [
      "Classification Report Linear logistics\n",
      "              precision    recall  f1-score   support\n",
      "\n",
      "          -1       0.94      0.93      0.93      1203\n",
      "           0       0.84      0.76      0.80      1266\n",
      "           1       0.78      0.80      0.79      2008\n",
      "           2       0.77      0.82      0.80      1273\n",
      "\n",
      "    accuracy                           0.82      5750\n",
      "   macro avg       0.83      0.83      0.83      5750\n",
      "weighted avg       0.83      0.82      0.82      5750\n",
      "\n"
     ]
    }
   ],
   "source": [
    "from sklearn.ensemble import RandomForestClassifier\n",
    "\n",
    "forest = RandomForestClassifier(n_estimators=100, random_state=42).fit(V_train_X, y_train)\n",
    "forest_pred = forest.predict(x_test_scaled)\n",
    "print('Classification Report Linear logistics')\n",
    "print(classification_report(y_test, forest_pred))"
   ]
  },
  {
   "cell_type": "markdown",
   "metadata": {},
   "source": [
    "# Creating A pipeline for modelling"
   ]
  },
  {
   "cell_type": "code",
   "execution_count": 99,
   "metadata": {},
   "outputs": [
    {
     "data": {
      "text/html": [
       "<div>\n",
       "<style scoped>\n",
       "    .dataframe tbody tr th:only-of-type {\n",
       "        vertical-align: middle;\n",
       "    }\n",
       "\n",
       "    .dataframe tbody tr th {\n",
       "        vertical-align: top;\n",
       "    }\n",
       "\n",
       "    .dataframe thead th {\n",
       "        text-align: right;\n",
       "    }\n",
       "</style>\n",
       "<table border=\"1\" class=\"dataframe\">\n",
       "  <thead>\n",
       "    <tr style=\"text-align: right;\">\n",
       "      <th></th>\n",
       "      <th>tweetid</th>\n",
       "      <th>sentiment</th>\n",
       "    </tr>\n",
       "  </thead>\n",
       "  <tbody>\n",
       "    <tr>\n",
       "      <th>0</th>\n",
       "      <td>169760</td>\n",
       "      <td>2</td>\n",
       "    </tr>\n",
       "    <tr>\n",
       "      <th>1</th>\n",
       "      <td>35326</td>\n",
       "      <td>0</td>\n",
       "    </tr>\n",
       "    <tr>\n",
       "      <th>2</th>\n",
       "      <td>224985</td>\n",
       "      <td>1</td>\n",
       "    </tr>\n",
       "    <tr>\n",
       "      <th>3</th>\n",
       "      <td>476263</td>\n",
       "      <td>2</td>\n",
       "    </tr>\n",
       "    <tr>\n",
       "      <th>4</th>\n",
       "      <td>872928</td>\n",
       "      <td>1</td>\n",
       "    </tr>\n",
       "  </tbody>\n",
       "</table>\n",
       "</div>"
      ],
      "text/plain": [
       "   tweetid  sentiment\n",
       "0   169760          2\n",
       "1    35326          0\n",
       "2   224985          1\n",
       "3   476263          2\n",
       "4   872928          1"
      ]
     },
     "execution_count": 99,
     "metadata": {},
     "output_type": "execute_result"
    }
   ],
   "source": [
    "df.head()"
   ]
  },
  {
   "cell_type": "code",
   "execution_count": 109,
   "metadata": {},
   "outputs": [],
   "source": [
    "# Seperate features and tagret variables\n",
    "tX = clean_df['message']\n",
    "ty = clean_df['sentiment']\n",
    "\n",
    "# Split the train data to create validation dataset\n",
    "tX_train, tX_test, ty_train, ty_test = train_test_split(tX, ty, test_size=0.20, random_state=42)"
   ]
  },
  {
   "cell_type": "code",
   "execution_count": 110,
   "metadata": {},
   "outputs": [],
   "source": [
    "from sklearn.svm import LinearSVC\n",
    "\n",
    "#Linear SVC:\n",
    "lsvc = Pipeline([('tfidf', TfidfVectorizer()), ('clf', LinearSVC(class_weight='balanced'))])"
   ]
  },
  {
   "cell_type": "code",
   "execution_count": 112,
   "metadata": {},
   "outputs": [
    {
     "name": "stdout",
     "output_type": "stream",
     "text": [
      "Classification Report Linear logistics\n",
      "              precision    recall  f1-score   support\n",
      "\n",
      "          -1       0.64      0.56      0.60       278\n",
      "           0       0.53      0.51      0.52       425\n",
      "           1       0.82      0.80      0.81      1755\n",
      "           2       0.73      0.83      0.77       706\n",
      "\n",
      "    accuracy                           0.74      3164\n",
      "   macro avg       0.68      0.67      0.68      3164\n",
      "weighted avg       0.74      0.74      0.74      3164\n",
      "\n"
     ]
    }
   ],
   "source": [
    "# Linear SVC\n",
    "lsvc.fit(tX_train, ty_train)\n",
    "lsvc_y_predict = lsvc.predict(tX_test)\n",
    "print('Classification Report Linear logistics')\n",
    "print(classification_report(ty_test, lsvc_y_predict))"
   ]
  },
  {
   "cell_type": "markdown",
   "metadata": {},
   "source": [
    "# Training with Sampled Data"
   ]
  },
  {
   "cell_type": "code",
   "execution_count": 115,
   "metadata": {},
   "outputs": [
    {
     "data": {
      "text/plain": [
       "(23000, 8)"
      ]
     },
     "execution_count": 115,
     "metadata": {},
     "output_type": "execute_result"
    }
   ],
   "source": [
    "sampled.shape"
   ]
  },
  {
   "cell_type": "code",
   "execution_count": 116,
   "metadata": {},
   "outputs": [],
   "source": [
    "# Seperate features and tagret variables\n",
    "sX = sampled['message']\n",
    "sy = sampled['sentiment']\n",
    "\n",
    "# Split the train data to create validation dataset\n",
    "sX_train, sX_test, sy_train, sy_test = train_test_split(sX, sy, test_size=0.20, random_state=42)"
   ]
  },
  {
   "cell_type": "code",
   "execution_count": 117,
   "metadata": {},
   "outputs": [
    {
     "name": "stdout",
     "output_type": "stream",
     "text": [
      "Classification Report Linear logistics\n",
      "              precision    recall  f1-score   support\n",
      "\n",
      "          -1       0.88      0.97      0.92       961\n",
      "           0       0.82      0.85      0.84      1003\n",
      "           1       0.88      0.75      0.81      1631\n",
      "           2       0.83      0.91      0.86      1005\n",
      "\n",
      "    accuracy                           0.85      4600\n",
      "   macro avg       0.85      0.87      0.86      4600\n",
      "weighted avg       0.86      0.85      0.85      4600\n",
      "\n"
     ]
    }
   ],
   "source": [
    "# Linear SVC\n",
    "lsvc.fit(sX_train, sy_train)\n",
    "slsvc_y_predict = lsvc.predict(sX_test)\n",
    "print('Classification Report Linear logistics')\n",
    "print(classification_report(sy_test, slsvc_y_predict))"
   ]
  },
  {
   "cell_type": "code",
   "execution_count": null,
   "metadata": {},
   "outputs": [],
   "source": []
  },
  {
   "cell_type": "code",
   "execution_count": null,
   "metadata": {},
   "outputs": [],
   "source": []
  },
  {
   "cell_type": "code",
   "execution_count": null,
   "metadata": {},
   "outputs": [],
   "source": []
  },
  {
   "cell_type": "markdown",
   "metadata": {},
   "source": [
    "# Hyperparameter tuning"
   ]
  },
  {
   "cell_type": "code",
   "execution_count": 79,
   "metadata": {},
   "outputs": [],
   "source": []
  },
  {
   "cell_type": "code",
   "execution_count": 80,
   "metadata": {},
   "outputs": [
    {
     "data": {
      "text/plain": [
       "GridSearchCV(cv=2, estimator=SVC(kernel='poly'),\n",
       "             param_grid={'C': [0.001, 0.01, 0.1, 1, 10],\n",
       "                         'gamma': [0.001, 0.01, 0.1, 1]},\n",
       "             scoring='f1')"
      ]
     },
     "execution_count": 80,
     "metadata": {},
     "output_type": "execute_result"
    }
   ],
   "source": [
    "# Import Grid search for hyperparameter tuning\n",
    "from sklearn.model_selection import GridSearchCV\n",
    "\n",
    "# number of folds to be tested on\n",
    "nfolds = 2\n",
    "\n",
    "# the values of c to check for\n",
    "Cs = [0.001, 0.01, 0.1, 1, 10]\n",
    "\n",
    "# the values of gamma\n",
    "gammas = [0.001, 0.01, 0.1, 1]\n",
    "\n",
    "# Creating the parameters dictionary\n",
    "param_grid = {\n",
    "    'C'     : Cs,\n",
    "    'gamma' : gammas\n",
    "    }\n",
    "\n",
    "# Applying the grid search and comparing based on the f1 score\n",
    "grid_SVM = GridSearchCV(SVC(kernel='poly'), param_grid, scoring='f1', cv=nfolds)\n",
    "grid_SVM.fit(V_train_X, y_train)\n",
    "\n",
    "# Getting the best parameters of grid search\n",
    "grid_SVM.best_params_\n"
   ]
  },
  {
   "cell_type": "code",
   "execution_count": 81,
   "metadata": {},
   "outputs": [
    {
     "data": {
      "text/plain": [
       "{'C': 0.001, 'gamma': 0.001}"
      ]
     },
     "execution_count": 81,
     "metadata": {},
     "output_type": "execute_result"
    }
   ],
   "source": [
    "grid_SVM.best_params_\n"
   ]
  },
  {
   "cell_type": "code",
   "execution_count": 92,
   "metadata": {},
   "outputs": [
    {
     "name": "stdout",
     "output_type": "stream",
     "text": [
      "Classification Report poly_pred \n",
      "              precision    recall  f1-score   support\n",
      "\n",
      "          -1       0.00      0.00      0.00      1203\n",
      "           0       0.00      0.00      0.00      1266\n",
      "           1       0.35      1.00      0.52      2008\n",
      "           2       0.00      0.00      0.00      1273\n",
      "\n",
      "    accuracy                           0.35      5750\n",
      "   macro avg       0.09      0.25      0.13      5750\n",
      "weighted avg       0.12      0.35      0.18      5750\n",
      "\n"
     ]
    }
   ],
   "source": [
    "#rbf = SVC(kernel='rbf', gamma=0.001, C=0.001).fit(V_train_X, y_train)\n",
    "poly = SVC(kernel='poly', degree=0.001, C=0.100).fit(V_train_X, y_train)\n",
    "\n",
    "poly_pred = poly.predict(V_test_X)\n",
    "#rbf_pred = rbf.predict(V_test_X)\n",
    "print('Classification Report poly_pred ')\n",
    "print(classification_report(y_test, poly_pred))"
   ]
  },
  {
   "cell_type": "markdown",
   "metadata": {},
   "source": [
    "# Selecting Best Features"
   ]
  },
  {
   "cell_type": "code",
   "execution_count": 86,
   "metadata": {},
   "outputs": [],
   "source": [
    "# Import the feature selector module\n",
    "from sklearn import feature_selection\n",
    "from sklearn.feature_selection import f_classif\n",
    "\n",
    "# Set up selector, choosing score function and number of features to retain\n",
    "selector_kbest = feature_selection.SelectKBest(score_func=f_classif, k=20)\n",
    "\n",
    "\n",
    "# Transform (i.e.: run selection on) the training data\n",
    "X_train_kbest = selector_kbest.fit_transform(V_train_X, y_train)\n",
    "\n",
    "# Fit model to the transformed data\n",
    "SVM_k_best = SVC(kernel='linear', degree=0.001, C=0.001).fit(X_train_kbest, y_train)\n",
    "\n",
    "\n",
    "# Before generating predictions, we'll need to transform the test data the same way we did the train data\n",
    "X_test_kbest = selector_kbest.transform(V_test_X)\n",
    "\n",
    "# Generate predictions from var thresh model\n",
    "pred_lm_kbest = SVM_k_best.predict(X_test_kbest)\n",
    "\n",
    "\n",
    "#rbf_pred = rbf.predict(V_test_X)\n",
    "print('Classification Report poly_pred ')\n",
    "print(classification_report(y_test, pred_lm_kbest))"
   ]
  },
  {
   "cell_type": "code",
   "execution_count": 87,
   "metadata": {},
   "outputs": [
    {
     "data": {
      "text/plain": [
       "(17250, 20)"
      ]
     },
     "execution_count": 87,
     "metadata": {},
     "output_type": "execute_result"
    }
   ],
   "source": [
    "X_train_kbest.shape"
   ]
  },
  {
   "cell_type": "code",
   "execution_count": 88,
   "metadata": {},
   "outputs": [],
   "source": [
    "# Fit model to the transformed data\n",
    "SVM_k_best = SVC(kernel='poly', degree=0.001, C=0.001).fit(X_train_kbest, y_train)"
   ]
  },
  {
   "cell_type": "code",
   "execution_count": 90,
   "metadata": {},
   "outputs": [],
   "source": [
    "# Before generating predictions, we'll need to transform the test data the same way we did the train data\n",
    "X_test_kbest = selector_kbest.transform(V_test_X)\n",
    "\n",
    "# Generate predictions from var thresh model\n",
    "pred_lm_kbest = SVM_k_best.predict(X_test_kbest)"
   ]
  },
  {
   "cell_type": "code",
   "execution_count": 91,
   "metadata": {},
   "outputs": [
    {
     "name": "stdout",
     "output_type": "stream",
     "text": [
      "Classification Report poly_pred \n",
      "              precision    recall  f1-score   support\n",
      "\n",
      "          -1       0.00      0.00      0.00      1203\n",
      "           0       0.00      0.00      0.00      1266\n",
      "           1       0.35      1.00      0.52      2008\n",
      "           2       0.00      0.00      0.00      1273\n",
      "\n",
      "    accuracy                           0.35      5750\n",
      "   macro avg       0.09      0.25      0.13      5750\n",
      "weighted avg       0.12      0.35      0.18      5750\n",
      "\n"
     ]
    }
   ],
   "source": [
    "#rbf_pred = rbf.predict(V_test_X)\n",
    "print('Classification Report poly_pred ')\n",
    "print(classification_report(y_test, pred_lm_kbest))"
   ]
  },
  {
   "cell_type": "markdown",
   "metadata": {},
   "source": [
    "# making a Submission"
   ]
  },
  {
   "cell_type": "code",
   "execution_count": 235,
   "metadata": {},
   "outputs": [],
   "source": [
    "#traing the model with the entire data\n",
    "yf = up_sampled['sentiment']\n",
    "Xf = up_sampled['message']"
   ]
  },
  {
   "cell_type": "code",
   "execution_count": 47,
   "metadata": {},
   "outputs": [],
   "source": [
    "clean_test = data_cleaner(df_test, 'message')\n"
   ]
  },
  {
   "cell_type": "code",
   "execution_count": 48,
   "metadata": {},
   "outputs": [
    {
     "data": {
      "text/html": [
       "<div>\n",
       "<style scoped>\n",
       "    .dataframe tbody tr th:only-of-type {\n",
       "        vertical-align: middle;\n",
       "    }\n",
       "\n",
       "    .dataframe tbody tr th {\n",
       "        vertical-align: top;\n",
       "    }\n",
       "\n",
       "    .dataframe thead th {\n",
       "        text-align: right;\n",
       "    }\n",
       "</style>\n",
       "<table border=\"1\" class=\"dataframe\">\n",
       "  <thead>\n",
       "    <tr style=\"text-align: right;\">\n",
       "      <th></th>\n",
       "      <th>message</th>\n",
       "      <th>tweetid</th>\n",
       "      <th>tokens</th>\n",
       "      <th>token_no_stop_word</th>\n",
       "      <th>lemma</th>\n",
       "      <th>stem</th>\n",
       "      <th>clean_sentences</th>\n",
       "    </tr>\n",
       "  </thead>\n",
       "  <tbody>\n",
       "    <tr>\n",
       "      <th>0</th>\n",
       "      <td>europe will now be looking to china to make su...</td>\n",
       "      <td>169760</td>\n",
       "      <td>[europe, will, now, be, looking, to, china, to...</td>\n",
       "      <td>[europe, looking, china, make, sure, alone, fi...</td>\n",
       "      <td>[europe, looking, china, make, sure, alone, fi...</td>\n",
       "      <td>[europ, look, china, make, sure, alon, fight, ...</td>\n",
       "      <td>europ look china make sure alon fight climat u...</td>\n",
       "    </tr>\n",
       "    <tr>\n",
       "      <th>1</th>\n",
       "      <td>combine this with the polling of staffers re c...</td>\n",
       "      <td>35326</td>\n",
       "      <td>[combine, this, with, the, polling, of, staffe...</td>\n",
       "      <td>[combine, polling, staffers, climate, change, ...</td>\n",
       "      <td>[combine, polling, staffer, climate, change, w...</td>\n",
       "      <td>[combin, poll, staffer, climat, chang, woman, ...</td>\n",
       "      <td>combin poll staffer climat chang woman right f...</td>\n",
       "    </tr>\n",
       "    <tr>\n",
       "      <th>2</th>\n",
       "      <td>the scary unimpeachable evidence that climate ...</td>\n",
       "      <td>224985</td>\n",
       "      <td>[the, scary, unimpeachable, evidence, that, cl...</td>\n",
       "      <td>[scary, unimpeachable, evidence, climate, chan...</td>\n",
       "      <td>[scary, unimpeachable, evidence, climate, chan...</td>\n",
       "      <td>[scari, unimpeach, evid, climat, chang, alread...</td>\n",
       "      <td>scari unimpeach evid climat chang alreadi urlw...</td>\n",
       "    </tr>\n",
       "    <tr>\n",
       "      <th>3</th>\n",
       "      <td>karoli morgfair osborneink dailykos \\nputin go...</td>\n",
       "      <td>476263</td>\n",
       "      <td>[karoli, morgfair, osborneink, dailykos, putin...</td>\n",
       "      <td>[karoli, morgfair, osborneink, dailykos, putin...</td>\n",
       "      <td>[karoli, morgfair, osborneink, dailykos, putin...</td>\n",
       "      <td>[karoli, morgfair, osborneink, dailyko, putin,...</td>\n",
       "      <td>karoli morgfair osborneink dailyko putin got j...</td>\n",
       "    </tr>\n",
       "    <tr>\n",
       "      <th>4</th>\n",
       "      <td>fakewillmoore female orgasms cause global warm...</td>\n",
       "      <td>872928</td>\n",
       "      <td>[fakewillmoore, female, orgasms, cause, global...</td>\n",
       "      <td>[fakewillmoore, female, orgasms, cause, global...</td>\n",
       "      <td>[fakewillmoore, female, orgasm, cause, global,...</td>\n",
       "      <td>[fakewillmoor, femal, orgasm, caus, global, wa...</td>\n",
       "      <td>fakewillmoor femal orgasm caus global warm sar...</td>\n",
       "    </tr>\n",
       "  </tbody>\n",
       "</table>\n",
       "</div>"
      ],
      "text/plain": [
       "                                             message  tweetid  \\\n",
       "0  europe will now be looking to china to make su...   169760   \n",
       "1  combine this with the polling of staffers re c...    35326   \n",
       "2  the scary unimpeachable evidence that climate ...   224985   \n",
       "3  karoli morgfair osborneink dailykos \\nputin go...   476263   \n",
       "4  fakewillmoore female orgasms cause global warm...   872928   \n",
       "\n",
       "                                              tokens  \\\n",
       "0  [europe, will, now, be, looking, to, china, to...   \n",
       "1  [combine, this, with, the, polling, of, staffe...   \n",
       "2  [the, scary, unimpeachable, evidence, that, cl...   \n",
       "3  [karoli, morgfair, osborneink, dailykos, putin...   \n",
       "4  [fakewillmoore, female, orgasms, cause, global...   \n",
       "\n",
       "                                  token_no_stop_word  \\\n",
       "0  [europe, looking, china, make, sure, alone, fi...   \n",
       "1  [combine, polling, staffers, climate, change, ...   \n",
       "2  [scary, unimpeachable, evidence, climate, chan...   \n",
       "3  [karoli, morgfair, osborneink, dailykos, putin...   \n",
       "4  [fakewillmoore, female, orgasms, cause, global...   \n",
       "\n",
       "                                               lemma  \\\n",
       "0  [europe, looking, china, make, sure, alone, fi...   \n",
       "1  [combine, polling, staffer, climate, change, w...   \n",
       "2  [scary, unimpeachable, evidence, climate, chan...   \n",
       "3  [karoli, morgfair, osborneink, dailykos, putin...   \n",
       "4  [fakewillmoore, female, orgasm, cause, global,...   \n",
       "\n",
       "                                                stem  \\\n",
       "0  [europ, look, china, make, sure, alon, fight, ...   \n",
       "1  [combin, poll, staffer, climat, chang, woman, ...   \n",
       "2  [scari, unimpeach, evid, climat, chang, alread...   \n",
       "3  [karoli, morgfair, osborneink, dailyko, putin,...   \n",
       "4  [fakewillmoor, femal, orgasm, caus, global, wa...   \n",
       "\n",
       "                                     clean_sentences  \n",
       "0  europ look china make sure alon fight climat u...  \n",
       "1  combin poll staffer climat chang woman right f...  \n",
       "2  scari unimpeach evid climat chang alreadi urlw...  \n",
       "3  karoli morgfair osborneink dailyko putin got j...  \n",
       "4  fakewillmoor femal orgasm caus global warm sar...  "
      ]
     },
     "execution_count": 48,
     "metadata": {},
     "output_type": "execute_result"
    }
   ],
   "source": [
    "clean_test = token_lemmatizer_stemmer(clean_test)\n",
    "clean_test.head()"
   ]
  },
  {
   "cell_type": "code",
   "execution_count": 118,
   "metadata": {},
   "outputs": [],
   "source": [
    "X_testf = clean_test['message']"
   ]
  },
  {
   "cell_type": "code",
   "execution_count": 260,
   "metadata": {},
   "outputs": [],
   "source": [
    "# extracting features\n",
    "from sklearn.feature_extraction.text import TfidfVectorizer\n",
    "\n",
    "vectorizer1 = TfidfVectorizer(ngram_range = (1, 3))\n",
    "V_train_Xf = vectorizer1.fit_transform(Xf)\n",
    "V_test_Xf = vectorizer1.transform(X_testf)"
   ]
  },
  {
   "cell_type": "code",
   "execution_count": 261,
   "metadata": {},
   "outputs": [],
   "source": [
    "# Linear SVC:\n",
    "flsvc = Pipeline([('tfidf', TfidfVectorizer()), ('clf', LinearSVC(class_weight='balanced'))])"
   ]
  },
  {
   "cell_type": "code",
   "execution_count": 54,
   "metadata": {},
   "outputs": [
    {
     "data": {
      "text/plain": [
       "(10546, 9689)"
      ]
     },
     "execution_count": 54,
     "metadata": {},
     "output_type": "execute_result"
    }
   ],
   "source": [
    "V_test_Xf.shape"
   ]
  },
  {
   "cell_type": "code",
   "execution_count": 262,
   "metadata": {},
   "outputs": [],
   "source": [
    "# Import the scaler module\n",
    "from sklearn import preprocessing\n",
    "scaler = preprocessing.MaxAbsScaler ()\n",
    "\n",
    "# Scale data\n",
    "X_Train_f = scaler.fit_transform(V_train_Xf)\n",
    "X_Test_f = scaler.transform(V_test_Xf)"
   ]
  },
  {
   "cell_type": "code",
   "execution_count": 263,
   "metadata": {},
   "outputs": [],
   "source": [
    "# training a linear SVM classifier\n",
    "from sklearn.svm import SVC\n",
    "svm_model_linear_f = SVC(kernel = 'linear', C = 1).fit(V_train_Xf,yf)\n",
    "final_preds = svm_model_linear_f.predict(V_test_Xf)\n"
   ]
  },
  {
   "cell_type": "code",
   "execution_count": 252,
   "metadata": {},
   "outputs": [],
   "source": [
    "# linear logistic \n",
    "slm_vt_f_o = LogisticRegression(multi_class='ovr').fit(X_Train_f, yf)\n",
    "spred_lr_vt_f = slm_vt_f_o.predict(X_Test_f)"
   ]
  },
  {
   "cell_type": "code",
   "execution_count": 253,
   "metadata": {},
   "outputs": [],
   "source": [
    "# Linear SVC\n",
    "flsvc.fit(Xf, yf)\n",
    "flsvc_y_predict = lsvc.predict(X_testf)"
   ]
  },
  {
   "cell_type": "code",
   "execution_count": 136,
   "metadata": {},
   "outputs": [],
   "source": [
    "import pickle\n",
    "\n",
    "# save the model to disk\n",
    "model_name = ['SVC_linear', \"Linear_svC\"]\n",
    "models = [svm_model_linear_f, slm_vt_f_o, rbf_f, poly_f, sgnbf, flsvc]\n",
    "for i in range(len(models)):\n",
    "        filename = model_name[i] + '2.pkl'\n",
    "        pickle.dump(models[i], open(filename, 'wb'))\n",
    "\n"
   ]
  },
  {
   "cell_type": "code",
   "execution_count": 254,
   "metadata": {},
   "outputs": [
    {
     "data": {
      "text/plain": [
       "array([1, 1, 1, ..., 1, 0, 1], dtype=int64)"
      ]
     },
     "execution_count": 254,
     "metadata": {},
     "output_type": "execute_result"
    }
   ],
   "source": [
    "preds = [final_preds, spred_lr_vt_f, flsvc_y_predict]\n",
    "preds[0]"
   ]
  },
  {
   "cell_type": "code",
   "execution_count": 258,
   "metadata": {},
   "outputs": [],
   "source": [
    "def submissions(preds):\n",
    "    \n",
    "    \n",
    "    model = ['SVC_linear', 'SVC_balanced', 'LogisticRegression']\n",
    "    \n",
    "    for i in range(len(model)):\n",
    "        daf = pd.DataFrame(preds[i], columns=['sentiment'])\n",
    "        output = pd.DataFrame({\"tweetid\":df_test['tweetid']})\n",
    "        final = output.join(daf)\n",
    "        final_name = model[i] +\"_finalise4.csv\"\n",
    "        final.to_csv(final_name, index=False)\n",
    "        \n",
    "\n",
    "    return final"
   ]
  },
  {
   "cell_type": "code",
   "execution_count": 259,
   "metadata": {},
   "outputs": [],
   "source": [
    "df = submissions([final_preds, spred_lr_vt_f, rbf_predf, poly_predf, sgnb_predictionsf, flsvc_y_predict])"
   ]
  },
  {
   "cell_type": "code",
   "execution_count": 257,
   "metadata": {},
   "outputs": [
    {
     "data": {
      "text/html": [
       "<div>\n",
       "<style scoped>\n",
       "    .dataframe tbody tr th:only-of-type {\n",
       "        vertical-align: middle;\n",
       "    }\n",
       "\n",
       "    .dataframe tbody tr th {\n",
       "        vertical-align: top;\n",
       "    }\n",
       "\n",
       "    .dataframe thead th {\n",
       "        text-align: right;\n",
       "    }\n",
       "</style>\n",
       "<table border=\"1\" class=\"dataframe\">\n",
       "  <thead>\n",
       "    <tr style=\"text-align: right;\">\n",
       "      <th></th>\n",
       "      <th>tweetid</th>\n",
       "      <th>sentiment</th>\n",
       "    </tr>\n",
       "  </thead>\n",
       "  <tbody>\n",
       "    <tr>\n",
       "      <th>0</th>\n",
       "      <td>169760</td>\n",
       "      <td>1</td>\n",
       "    </tr>\n",
       "    <tr>\n",
       "      <th>1</th>\n",
       "      <td>35326</td>\n",
       "      <td>1</td>\n",
       "    </tr>\n",
       "    <tr>\n",
       "      <th>2</th>\n",
       "      <td>224985</td>\n",
       "      <td>1</td>\n",
       "    </tr>\n",
       "    <tr>\n",
       "      <th>3</th>\n",
       "      <td>476263</td>\n",
       "      <td>1</td>\n",
       "    </tr>\n",
       "    <tr>\n",
       "      <th>4</th>\n",
       "      <td>872928</td>\n",
       "      <td>0</td>\n",
       "    </tr>\n",
       "  </tbody>\n",
       "</table>\n",
       "</div>"
      ],
      "text/plain": [
       "   tweetid  sentiment\n",
       "0   169760          1\n",
       "1    35326          1\n",
       "2   224985          1\n",
       "3   476263          1\n",
       "4   872928          0"
      ]
     },
     "execution_count": 257,
     "metadata": {},
     "output_type": "execute_result"
    }
   ],
   "source": [
    "df.head()"
   ]
  },
  {
   "cell_type": "code",
   "execution_count": 232,
   "metadata": {},
   "outputs": [
    {
     "data": {
      "text/plain": [
       "'mplio gets that9808'"
      ]
     },
     "execution_count": 232,
     "metadata": {},
     "output_type": "execute_result"
    }
   ],
   "source": [
    "stri = 'mplio getã¢â‚¬â¦s that9808'\n",
    "p = re.sub(r'[^a-z0-9 ]', r'', stri)\n",
    "p"
   ]
  }
 ],
 "metadata": {
  "kernelspec": {
   "display_name": "Python 3",
   "language": "python",
   "name": "python3"
  },
  "language_info": {
   "codemirror_mode": {
    "name": "ipython",
    "version": 3
   },
   "file_extension": ".py",
   "mimetype": "text/x-python",
   "name": "python",
   "nbconvert_exporter": "python",
   "pygments_lexer": "ipython3",
   "version": "3.8.5"
  }
 },
 "nbformat": 4,
 "nbformat_minor": 4
}
