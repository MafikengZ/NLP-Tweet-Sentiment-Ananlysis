{
 "cells": [
  {
   "cell_type": "markdown",
   "metadata": {},
   "source": [
    "# Team 12 - Classification Predict\n",
    "\n",
    "© Explore Data Science Academy\n",
    "\n",
    "---\n",
    "\n",
    "## Team Members\n",
    "\n",
    " - [Blessing Mvana Nhlozi](https://www.linkedin.com/in/blessingmvananhlozi/)\n",
    " - [Rebecca Kekana](https://www.linkedin.com/in/rebeccakekana/)\n",
    " - [Sello Tebogo Mafikeng](https://www.linkedin.com/in/sello-sydney-mafikeng-46a664110/)\n",
    " - [Mpilenhle Hlatshwayo](https://www.linkedin.com/in/mpilenhle-hlatshwayo-70544b169/)\n",
    "\n",
    "\n",
    "## Introduction: Climate Change Belief Analysis\n",
    "\n",
    "Many businesses are based on reducing one's carbon footprint or environmental impact. They provide ecologically friendly and sustainable products and services that are consistent with their principles and goals. Such companies would like to determine how people perceive climate change and whether or not they believe it is a real threat. This would add to their market research efforts in gauging how their product/service may be received.\n",
    " \n",
    "\n",
    "<img src=\"https://github.com/MafikengZ/NLP-Tweet-Sentiment-Ananlysis/blob/main/API/resources/imgs/worl.jpg?raw=true\" width=75%/>\n",
    "\n",
    "\n",
    "## Predict Overview\n",
    "\n",
    "We have been tasked with creating a Machine Learning model that is able to classify whether or not a person believes in climate change, based on their novel tweet data. Providing an accurate and robust solution to this task gives companies access to a broad base of consumer sentiment, spanning multiple demographic and geographic categories - thus increasing their insights and informing future marketing strategies.\n",
    "\n",
    "\n",
    "The structure of this notebook is as follows:\n",
    "\n",
    " - First, we'll load our data to get a view of the predictor and response variables we will be modeling. \n",
    " \n",
    " - We will then preprocess our data, cleaning or removing unwanted charecters such as `Hashtags #` `RT` `@ mentions` `urls` `emojis`.\n",
    " \n",
    " - We will preprocess our data, normalising the tokens in the tweets using processes such as  `Stemming` and `Lemmatizing`.\n",
    "  \n",
    " - Then vectorise the tweets and splitting up the data into train and test sets.\n",
    "\n",
    " - We then model our data using a various models such as `SVC` `Naive Bayes` and `Linear Logistics`, paying attention to multiclass versus binary classification model parameters.\n",
    " \n",
    " - Following this modeling, we use the f1 score to determine the best performing model.\n",
    " \n",
    " - Using this metric, we then take several steps to improve our base model's performance by optimising the hyperparameters of the model through a `grid search strategy` , then use the `K best` for best feature selection."
   ]
  },
  {
   "cell_type": "markdown",
   "metadata": {},
   "source": [
    "<a id=\"cont\"></a>\n",
    "\n",
    "## Table of Contents\n",
    "\n",
    "<a href=#one>1. Importing Packages</a>\n",
    "\n",
    "<a href=#two>2. Loading Data</a>\n",
    "\n",
    "<a href=#three>3. Exploratory Data Analysis (EDA)</a>\n",
    "\n",
    "<a href=#four>4. Data Engineering</a>\n",
    "\n",
    "<a href=#five>5. Modeling</a>\n",
    "\n",
    "<a href=#six>6. Model Performance</a>\n",
    "\n",
    "<a href=#seven>7. Model Explanations</a>"
   ]
  },
  {
   "cell_type": "markdown",
   "metadata": {},
   "source": [
    " <a id=\"one\"></a>\n",
    "## 1. Importing Packages"
   ]
  },
  {
   "cell_type": "markdown",
   "metadata": {},
   "source": [
    "In this section we import the necessary libraries needed for Data Analysis, Data Preprocessing, Data Visualization, Feature Engineering and Model Building."
   ]
  },
  {
   "cell_type": "code",
   "execution_count": 4,
   "metadata": {},
   "outputs": [],
   "source": [
    "# import relevant libraries\n",
    "import nltk\n",
    "import warnings\n",
    "warnings.filterwarnings(\"ignore\")\n",
    "import numpy as np\n",
    "import pandas as pd\n",
    "\n",
    "from textblob import TextBlob\n",
    "from wordcloud import WordCloud\n",
    "\n",
    "import matplotlib.pyplot as plt\n",
    "%matplotlib inline\n",
    "import seaborn as sns\n",
    "import re\n",
    "import string\n",
    "pd.set_option('display.max_rows', 100)\n",
    "from sklearn.utils import resample\n",
    "from sklearn.pipeline import Pipeline\n",
    "\n",
    "\n",
    "from nltk.corpus import stopwords\n",
    "from sklearn.metrics import classification_report\n",
    "\n",
    "# set plot style\n",
    "# Style\n",
    "import matplotlib.style as style \n",
    "sns.set(font_scale=1.5)\n",
    "style.use('seaborn-pastel')\n",
    "style.use('seaborn-poster')\n",
    "from PIL import Image\n",
    "from wordcloud import WordCloud\n"
   ]
  },
  {
   "cell_type": "markdown",
   "metadata": {},
   "source": [
    "<a id=\"two\"></a>\n",
    "## 2. Loading the Data\n",
    "<a class=\"anchor\" id=\"1.1\"></a>\n",
    "<a href=#cont>Back to Table of Contents</a>\n",
    "\n",
    "Load the Train and Test datasets from the github repository"
   ]
  },
  {
   "cell_type": "code",
   "execution_count": 5,
   "metadata": {},
   "outputs": [],
   "source": [
    "# Loading Data\n",
    "df_train = pd.read_csv('https://raw.githubusercontent.com/MafikengZ/NLP-Tweet-Sentiment-Ananlysis/main/data/train.csv')\n",
    "df_test = pd.read_csv('https://raw.githubusercontent.com/MafikengZ/NLP-Tweet-Sentiment-Ananlysis/main/data/test.csv')"
   ]
  },
  {
   "cell_type": "markdown",
   "metadata": {},
   "source": [
    "#### The Dataset \n",
    "\n",
    "The collection of this data was funded by a Canada Foundation for Innovation JELF Grant to Chris Bauch, University of Waterloo. The dataset aggregates tweets pertaining to climate change collected between Apr 27, 2015 and Feb 21, 2018. In total, 43943 tweets were collected. Each tweet is labelled as one of the following classes:\n",
    "\n",
    "#### Class description:\n",
    " \n",
    " - 0 -->  Neutral: the tweet neither supports nor refutes the belief of man-made climate change.\n",
    " - 1 -->  Pro: the tweet supports the belief of man-made climate change.\n",
    " - 2 -->  News: the tweet links to factual news about climate change.\n",
    " - -1 --> Anti: the tweet does not believe in man-made climate change.\n",
    " \n",
    " \n",
    "#### Training data columns:\n",
    "This dataset consists of the following Columns: \n",
    "\n",
    " - sentiments --> the sentiment class that each tweet can be characterised described above.\n",
    " - message    --> the novel tweet data.\n",
    " - tweetid    --> the tweet unique id.\n"
   ]
  },
  {
   "cell_type": "markdown",
   "metadata": {},
   "source": [
    "#### Basic Analysis\n",
    "\n",
    "Let us take a look at the Train and Test data frames below."
   ]
  },
  {
   "cell_type": "code",
   "execution_count": 2,
   "metadata": {},
   "outputs": [],
   "source": [
    "df_train.head()"
   ]
  },
  {
   "cell_type": "code",
   "execution_count": null,
   "metadata": {},
   "outputs": [],
   "source": [
    "df_train.shape"
   ]
  },
  {
   "cell_type": "code",
   "execution_count": 7,
   "metadata": {},
   "outputs": [
    {
     "data": {
      "text/html": [
       "<div>\n",
       "<style scoped>\n",
       "    .dataframe tbody tr th:only-of-type {\n",
       "        vertical-align: middle;\n",
       "    }\n",
       "\n",
       "    .dataframe tbody tr th {\n",
       "        vertical-align: top;\n",
       "    }\n",
       "\n",
       "    .dataframe thead th {\n",
       "        text-align: right;\n",
       "    }\n",
       "</style>\n",
       "<table border=\"1\" class=\"dataframe\">\n",
       "  <thead>\n",
       "    <tr style=\"text-align: right;\">\n",
       "      <th></th>\n",
       "      <th>message</th>\n",
       "      <th>tweetid</th>\n",
       "    </tr>\n",
       "  </thead>\n",
       "  <tbody>\n",
       "    <tr>\n",
       "      <th>0</th>\n",
       "      <td>Europe will now be looking to China to make su...</td>\n",
       "      <td>169760</td>\n",
       "    </tr>\n",
       "    <tr>\n",
       "      <th>1</th>\n",
       "      <td>Combine this with the polling of staffers re c...</td>\n",
       "      <td>35326</td>\n",
       "    </tr>\n",
       "    <tr>\n",
       "      <th>2</th>\n",
       "      <td>The scary, unimpeachable evidence that climate...</td>\n",
       "      <td>224985</td>\n",
       "    </tr>\n",
       "    <tr>\n",
       "      <th>3</th>\n",
       "      <td>@Karoli @morgfair @OsborneInk @dailykos \\nPuti...</td>\n",
       "      <td>476263</td>\n",
       "    </tr>\n",
       "    <tr>\n",
       "      <th>4</th>\n",
       "      <td>RT @FakeWillMoore: 'Female orgasms cause globa...</td>\n",
       "      <td>872928</td>\n",
       "    </tr>\n",
       "  </tbody>\n",
       "</table>\n",
       "</div>"
      ],
      "text/plain": [
       "                                             message  tweetid\n",
       "0  Europe will now be looking to China to make su...   169760\n",
       "1  Combine this with the polling of staffers re c...    35326\n",
       "2  The scary, unimpeachable evidence that climate...   224985\n",
       "3  @Karoli @morgfair @OsborneInk @dailykos \\nPuti...   476263\n",
       "4  RT @FakeWillMoore: 'Female orgasms cause globa...   872928"
      ]
     },
     "execution_count": 7,
     "metadata": {},
     "output_type": "execute_result"
    }
   ],
   "source": [
    "df_test.head()"
   ]
  },
  {
   "cell_type": "code",
   "execution_count": null,
   "metadata": {},
   "outputs": [],
   "source": [
    "df_test.shape"
   ]
  },
  {
   "cell_type": "markdown",
   "metadata": {},
   "source": [
    "#### Sentiment Data Distribution\n",
    "\n",
    "The code cells below allows us to visualise how the data is ditributed amongst the four disctinct classes."
   ]
  },
  {
   "cell_type": "code",
   "execution_count": 8,
   "metadata": {},
   "outputs": [
    {
     "data": {
      "image/png": "[encoded data removed]",
      "text/plain": [
       "<Figure size 921.6x633.6 with 1 Axes>"
      ]
     },
     "metadata": {},
     "output_type": "display_data"
    }
   ],
   "source": [
    "labels = ['Pro', 'News', 'Neutral', 'Anti'] \n",
    "\n",
    "# Get all possible labels\n",
    "plt.bar(labels,df_train['sentiment'].value_counts() ,color='green')\n",
    "plt.xticks(labels, ['Pro', 'News', 'Neutral', 'Anti'] )\n",
    "plt.ylabel(\"# of observations\")\n",
    "plt.show()"
   ]
  },
  {
   "cell_type": "markdown",
   "metadata": {},
   "source": [
    "We can clearly see that there is an imbalance in the data: there are 8530 observations in class 1 (AKA 'Pro') and only 1296 in class -1 (AKA Anti). We will address this at a later stage in the notebook."
   ]
  },
  {
   "cell_type": "markdown",
   "metadata": {},
   "source": [
    "## 3. Data Preprocessing\n",
    "<a class=\"anchor\" id=\"1.1\"></a>\n",
    "<a href=#cont>Back to Table of Contents</a>\n",
    "\n",
    "Before we can do Exploratory Data Analysis (EDA) in section 4, we need to ensure that our data is in a clean format that can actually be used. The tweets have a lot of charecters that are not very usefull and may cause noise in our data, therefore, with the use of regualar expressions we can remove these charecters which include:\n",
    "\n",
    " - Hashtags.\n",
    " - RT for retweets.\n",
    " - @ for mentions.\n",
    " - Web urls.\n",
    " - Eemojis.\n",
    " - Digits.\n",
    " - Spelling charecters eg. ã¢â‚¬â¦.\n",
    "\n",
    "By removing these charecters, we are trying to remove words that will not be very usefull during the modeling phase."
   ]
  },
  {
   "cell_type": "code",
   "execution_count": 8,
   "metadata": {},
   "outputs": [],
   "source": [
    "def remove_emoji(string):    \n",
    "    \"\"\"\n",
    "    This function removes selected emojis from the string data.\n",
    "    \n",
    "    Function takes in a string object as its input argument and when called, outputs the string without selected emojis.\n",
    "    \"\"\"    \n",
    "    \n",
    "    emoji_pattern = re.compile(\"[\" \n",
    "                u\"\\U0001F600-\\U0001F64F\"  # emoticons\n",
    "                u\"\\U0001F300-\\U0001F5FF\"  # symbols & pictographs\n",
    "                u\"\\U0001F680-\\U0001F6FF\"  # transport & map symbols\n",
    "                u\"\\U0001F1E0-\\U0001F1FF\"  # flags (iOS)\n",
    "                u\"\\U00002702-\\U000027B0\"\n",
    "                u\"\\U000024C2-\\U0001F251\"\n",
    "                u\"\\U0001f926-\\U0001f937\"\n",
    "                u'\\U00010000-\\U0010ffff'\n",
    "                u\"\\u200d\"\n",
    "                u\"\\u2640-\\u2642\"\n",
    "                u\"\\u2600-\\u2B55\"\n",
    "                u\"\\u23cf\"\n",
    "                u\"\\u23e9\"\n",
    "                u\"\\u231a\"\n",
    "                u\"\\u3030\"\n",
    "                u\"\\ufe0f\"\n",
    "                           \"]+\", flags=re.UNICODE)\n",
    "    return emoji_pattern.sub(r'', string)"
   ]
  },
  {
   "cell_type": "code",
   "execution_count": null,
   "metadata": {},
   "outputs": [],
   "source": [
    "def remove_punctuation(tweets):\n",
    "    \"\"\"\n",
    "    This function removes the following punctuation marks: !\"#$%&\\'()*+,-./:;<=>?@[\\\\]^_`{|}~\n",
    "    \n",
    "    Function takes in a string object as its input argument and when called, outputs the string without punctuation.    \n",
    "    \"\"\"\n",
    "    return ''.join([l for l in tweets if l not in string.punctuation])"
   ]
  },
  {
   "cell_type": "code",
   "execution_count": null,
   "metadata": {},
   "outputs": [],
   "source": [
    "def data_cleaner(df, column):\n",
    "    \"\"\"\n",
    "    This function, data_cleaner(), calls the two functions created above, remove_emoji() and remove_punctuation(), to remove \n",
    "    emojis and puctuations. With the use of regular expressions, it further removes noise or unwanted charecters in \n",
    "    the tweet data such as digits, hashtags etc.\n",
    "    \n",
    "    Function takes in a dataframe and a corresponding column name as its arguments. When called, returns the updated cleaned\n",
    "    column within the dataframe.\n",
    "    \"\"\"\n",
    "    \n",
    "    # turn all to lower\n",
    "    df[column] = df[column].str.lower()\n",
    "    \n",
    "    #remmoving the urls\n",
    "    pattern_url = r'http[s]?://[A-Za-z0-9/.]+'\n",
    "    subs_url = r'url-web'\n",
    "    df[column] = df[column].replace(to_replace = pattern_url, value = subs_url, regex = True)\n",
    "    \n",
    "    #remmoving the Re Tweets \n",
    "    pattern_url = r'rt\\s'\n",
    "    subs_url = r''\n",
    "    df[column] = df[column].replace(to_replace = pattern_url, value = subs_url, regex = True)\n",
    "    \n",
    "\n",
    "    #remmoving the mentions \n",
    "    pattern_url = r'@'\n",
    "    subs_url = r''\n",
    "    df[column] = df[column].replace(to_replace = pattern_url, value = subs_url, regex = True)\n",
    "\n",
    "\n",
    "    #remmoving the Hashtags \n",
    "    pattern_url = r'\\#'\n",
    "    subs_url = r''\n",
    "    df[column] = df[column].replace(to_replace = pattern_url, value = subs_url, regex = True)\n",
    "    \n",
    "\n",
    "    #remmoving the remaining https\n",
    "    pattern_url = r'https:[.*?]+'\n",
    "    subs_url = r''\n",
    "    df[column] = df[column].replace(to_replace = pattern_url, value = subs_url, regex = True)\n",
    "\n",
    "    #remmoving the digits\n",
    "    pattern_url = r'\\d'\n",
    "    subs_url = r''\n",
    "    df[column] = df[column].replace(to_replace = pattern_url, value = subs_url, regex = True)\n",
    "\n",
    "    # using apply method to remove the punctuation marks\n",
    "    df[column] = df[column].apply(remove_punctuation)\n",
    "    \n",
    "    # Removing the emojis using the apply method\n",
    "    df[column] = df[column].apply(remove_emoji)\n",
    "    \n",
    "    #remmoving the uknown charecters from words\n",
    "    pattern_url = r'[^A-Za-z ]'\n",
    "    subs_url = r''\n",
    "    df[column] = df[column].replace(to_replace = pattern_url, value = subs_url, regex = True)\n",
    "    \n",
    "    \n",
    "    return df"
   ]
  },
  {
   "cell_type": "markdown",
   "metadata": {},
   "source": [
    "Applying the `data_cleaner` function to clean both the training and testing data sets."
   ]
  },
  {
   "cell_type": "code",
   "execution_count": 10,
   "metadata": {},
   "outputs": [],
   "source": [
    "# Call the function data_cleaner() to clean the training data frame \n",
    "clean_df_train = data_cleaner(df_train, 'message')"
   ]
  },
  {
   "cell_type": "code",
   "execution_count": 11,
   "metadata": {},
   "outputs": [],
   "source": [
    "# Call the function data_cleaner() to clean the testing data frame \n",
    "clean_df_test = data_cleaner(df_test, 'message')"
   ]
  },
  {
   "cell_type": "markdown",
   "metadata": {},
   "source": [
    "Let us take a look at both the Training and Testing data frames."
   ]
  },
  {
   "cell_type": "code",
   "execution_count": 12,
   "metadata": {},
   "outputs": [
    {
     "data": {
      "text/html": [
       "<div>\n",
       "<style scoped>\n",
       "    .dataframe tbody tr th:only-of-type {\n",
       "        vertical-align: middle;\n",
       "    }\n",
       "\n",
       "    .dataframe tbody tr th {\n",
       "        vertical-align: top;\n",
       "    }\n",
       "\n",
       "    .dataframe thead th {\n",
       "        text-align: right;\n",
       "    }\n",
       "</style>\n",
       "<table border=\"1\" class=\"dataframe\">\n",
       "  <thead>\n",
       "    <tr style=\"text-align: right;\">\n",
       "      <th></th>\n",
       "      <th>sentiment</th>\n",
       "      <th>message</th>\n",
       "      <th>tweetid</th>\n",
       "    </tr>\n",
       "  </thead>\n",
       "  <tbody>\n",
       "    <tr>\n",
       "      <th>0</th>\n",
       "      <td>1</td>\n",
       "      <td>polyscimajor epa chief doesnt think carbon dio...</td>\n",
       "      <td>625221</td>\n",
       "    </tr>\n",
       "    <tr>\n",
       "      <th>1</th>\n",
       "      <td>1</td>\n",
       "      <td>its not like we lack evidence of anthropogenic...</td>\n",
       "      <td>126103</td>\n",
       "    </tr>\n",
       "    <tr>\n",
       "      <th>2</th>\n",
       "      <td>2</td>\n",
       "      <td>rawstory researchers say we have three years t...</td>\n",
       "      <td>698562</td>\n",
       "    </tr>\n",
       "    <tr>\n",
       "      <th>3</th>\n",
       "      <td>1</td>\n",
       "      <td>todayinmaker wired   was a pivotal year in the...</td>\n",
       "      <td>573736</td>\n",
       "    </tr>\n",
       "    <tr>\n",
       "      <th>4</th>\n",
       "      <td>1</td>\n",
       "      <td>soynoviodetodas its  and a racist sexist clima...</td>\n",
       "      <td>466954</td>\n",
       "    </tr>\n",
       "    <tr>\n",
       "      <th>...</th>\n",
       "      <td>...</td>\n",
       "      <td>...</td>\n",
       "      <td>...</td>\n",
       "    </tr>\n",
       "    <tr>\n",
       "      <th>15814</th>\n",
       "      <td>1</td>\n",
       "      <td>ezlusztig they took down the material on globa...</td>\n",
       "      <td>22001</td>\n",
       "    </tr>\n",
       "    <tr>\n",
       "      <th>15815</th>\n",
       "      <td>2</td>\n",
       "      <td>washingtonpost how climate change could be bre...</td>\n",
       "      <td>17856</td>\n",
       "    </tr>\n",
       "    <tr>\n",
       "      <th>15816</th>\n",
       "      <td>0</td>\n",
       "      <td>notiven rt nytimesworld what does trump actual...</td>\n",
       "      <td>384248</td>\n",
       "    </tr>\n",
       "    <tr>\n",
       "      <th>15817</th>\n",
       "      <td>-1</td>\n",
       "      <td>sarasmiles hey liberals the climate change cra...</td>\n",
       "      <td>819732</td>\n",
       "    </tr>\n",
       "    <tr>\n",
       "      <th>15818</th>\n",
       "      <td>0</td>\n",
       "      <td>chetcannon kurteichenwalds climate change equa...</td>\n",
       "      <td>806319</td>\n",
       "    </tr>\n",
       "  </tbody>\n",
       "</table>\n",
       "<p>15819 rows × 3 columns</p>\n",
       "</div>"
      ],
      "text/plain": [
       "       sentiment                                            message  tweetid\n",
       "0              1  polyscimajor epa chief doesnt think carbon dio...   625221\n",
       "1              1  its not like we lack evidence of anthropogenic...   126103\n",
       "2              2  rawstory researchers say we have three years t...   698562\n",
       "3              1  todayinmaker wired   was a pivotal year in the...   573736\n",
       "4              1  soynoviodetodas its  and a racist sexist clima...   466954\n",
       "...          ...                                                ...      ...\n",
       "15814          1  ezlusztig they took down the material on globa...    22001\n",
       "15815          2  washingtonpost how climate change could be bre...    17856\n",
       "15816          0  notiven rt nytimesworld what does trump actual...   384248\n",
       "15817         -1  sarasmiles hey liberals the climate change cra...   819732\n",
       "15818          0  chetcannon kurteichenwalds climate change equa...   806319\n",
       "\n",
       "[15819 rows x 3 columns]"
      ]
     },
     "execution_count": 12,
     "metadata": {},
     "output_type": "execute_result"
    }
   ],
   "source": [
    "# Clean training dataframe\n",
    "clean_df_train"
   ]
  },
  {
   "cell_type": "code",
   "execution_count": 13,
   "metadata": {},
   "outputs": [
    {
     "data": {
      "text/html": [
       "<div>\n",
       "<style scoped>\n",
       "    .dataframe tbody tr th:only-of-type {\n",
       "        vertical-align: middle;\n",
       "    }\n",
       "\n",
       "    .dataframe tbody tr th {\n",
       "        vertical-align: top;\n",
       "    }\n",
       "\n",
       "    .dataframe thead th {\n",
       "        text-align: right;\n",
       "    }\n",
       "</style>\n",
       "<table border=\"1\" class=\"dataframe\">\n",
       "  <thead>\n",
       "    <tr style=\"text-align: right;\">\n",
       "      <th></th>\n",
       "      <th>message</th>\n",
       "      <th>tweetid</th>\n",
       "    </tr>\n",
       "  </thead>\n",
       "  <tbody>\n",
       "    <tr>\n",
       "      <th>0</th>\n",
       "      <td>europe will now be looking to china to make su...</td>\n",
       "      <td>169760</td>\n",
       "    </tr>\n",
       "    <tr>\n",
       "      <th>1</th>\n",
       "      <td>combine this with the polling of staffers re c...</td>\n",
       "      <td>35326</td>\n",
       "    </tr>\n",
       "    <tr>\n",
       "      <th>2</th>\n",
       "      <td>the scary unimpeachable evidence that climate ...</td>\n",
       "      <td>224985</td>\n",
       "    </tr>\n",
       "    <tr>\n",
       "      <th>3</th>\n",
       "      <td>karoli morgfair osborneink dailykos putin got ...</td>\n",
       "      <td>476263</td>\n",
       "    </tr>\n",
       "    <tr>\n",
       "      <th>4</th>\n",
       "      <td>fakewillmoore female orgasms cause global warm...</td>\n",
       "      <td>872928</td>\n",
       "    </tr>\n",
       "    <tr>\n",
       "      <th>...</th>\n",
       "      <td>...</td>\n",
       "      <td>...</td>\n",
       "    </tr>\n",
       "    <tr>\n",
       "      <th>10541</th>\n",
       "      <td>brittanybohrer brb writing a poem about climat...</td>\n",
       "      <td>895714</td>\n",
       "    </tr>\n",
       "    <tr>\n",
       "      <th>10542</th>\n",
       "      <td>the year climate change came home during the ...</td>\n",
       "      <td>875167</td>\n",
       "    </tr>\n",
       "    <tr>\n",
       "      <th>10543</th>\n",
       "      <td>loopvanuatu pacific countries positive about f...</td>\n",
       "      <td>78329</td>\n",
       "    </tr>\n",
       "    <tr>\n",
       "      <th>10544</th>\n",
       "      <td>xanria youre so hot you must be the cause for ...</td>\n",
       "      <td>867455</td>\n",
       "    </tr>\n",
       "    <tr>\n",
       "      <th>10545</th>\n",
       "      <td>chloebalaoing climate change is a global issue...</td>\n",
       "      <td>470892</td>\n",
       "    </tr>\n",
       "  </tbody>\n",
       "</table>\n",
       "<p>10546 rows × 2 columns</p>\n",
       "</div>"
      ],
      "text/plain": [
       "                                                 message  tweetid\n",
       "0      europe will now be looking to china to make su...   169760\n",
       "1      combine this with the polling of staffers re c...    35326\n",
       "2      the scary unimpeachable evidence that climate ...   224985\n",
       "3      karoli morgfair osborneink dailykos putin got ...   476263\n",
       "4      fakewillmoore female orgasms cause global warm...   872928\n",
       "...                                                  ...      ...\n",
       "10541  brittanybohrer brb writing a poem about climat...   895714\n",
       "10542   the year climate change came home during the ...   875167\n",
       "10543  loopvanuatu pacific countries positive about f...    78329\n",
       "10544  xanria youre so hot you must be the cause for ...   867455\n",
       "10545  chloebalaoing climate change is a global issue...   470892\n",
       "\n",
       "[10546 rows x 2 columns]"
      ]
     },
     "execution_count": 13,
     "metadata": {},
     "output_type": "execute_result"
    }
   ],
   "source": [
    "# Clean testing dataframe\n",
    "clean_df_test"
   ]
  },
  {
   "cell_type": "markdown",
   "metadata": {},
   "source": [
    "#### Data Normalization\n",
    "\n",
    "The tweets have a lot of words that might mean the same thing but depending on the grammar of the language the word can be used to describe a state or a doing ability of someone e.g coded, code and coder, mean the same thing code and that is what we want the machine to learn rather than letting it learn them as different words. There are two precesses used here the lemma and stemmer and the original words as they are, the choice of the word normalization technique will depend on the perfomance of that column, we are going to create a column for each normalization technique used and for the original words. The columns are:\n",
    "\n",
    "\n",
    "  - tokens --> the tokens columns\n",
    "  - token_no_stop_word --> tokens with no dictionary stopwords\n",
    "  - lemma --> lemmatized tokens from the column token_no_stop_word\n",
    "  - stem --> stemmed tokens from the column token_no_stop_word\n",
    "  - clean_sentences --> original tokens column joined to form a sentence\n",
    "  - stem_clean_sentences --> stem tokens column joined to form a sentence\n",
    "  - lemma_clean_sentences --> lemma tokens column joined to form a sentence\n",
    "\n",
    "\n",
    "Using the following functions we are able to create a column for each normalization techniques done on each word,\n",
    "and thus can investigate each perfomance, all the columns will not have stop words.\n",
    "\n",
    "We included the polarity subjectivity to investigate it's perfomance as well in predicting the tweet sentiment"
   ]
  },
  {
   "cell_type": "code",
   "execution_count": 14,
   "metadata": {},
   "outputs": [],
   "source": [
    "\n",
    "            \"\"\"\n",
    "                Pre processing the data by creating new columns each with feature\n",
    "                normalization technique applied, the use of outer functions also help\n",
    "                in cleaning and removing the stop words\n",
    "                first tokenise tweets\n",
    "                then remove stop words\n",
    "                we then lemmatize the tokens\n",
    "                we then stem the words\n",
    "                we finally join the tokens to form a sentence\n",
    "                \n",
    "                all this is done by creating a new column for each technique used\n",
    "            \"\"\"\n",
    "\n",
    "\n",
    "\n",
    "# importing tokenizing library\n",
    "from nltk.tokenize import word_tokenize, TreebankWordTokenizer\n",
    "from nltk.stem import WordNetLemmatizer\n",
    "#importing stemmer library\n",
    "from nltk import SnowballStemmer\n",
    "#importing stemmer library\n",
    "from nltk import SnowballStemmer\n",
    "\n",
    "\n",
    "\n",
    "# lemmatizing function\n",
    "lemmatizer = WordNetLemmatizer()\n",
    "def tweet_lemma(words, lemmatizer):\n",
    "    return [lemmatizer.lemmatize(word) for word in words]    \n",
    "\n",
    "#Stemmer function\n",
    "stemmer = SnowballStemmer('english')\n",
    "def token_stemmer(words, stemmer):\n",
    "    return [stemmer.stem(word) for word in words]\n",
    "\n",
    "\n",
    "# remove the stop words in the tokens\n",
    "def remove_stop_words(tokens):    \n",
    "    return [t for t in tokens if t not in stopwords.words('english')]\n",
    "\n",
    "def token_lemmatizer_stemmer(df):\n",
    "    \n",
    "    #tokenise the tweets and create a column of tokens\n",
    "    tokeniser = TreebankWordTokenizer()\n",
    "    df['tokens'] = df['message'].apply(tokeniser.tokenize)\n",
    "    \n",
    "     # Remove stop words first \n",
    "    df['token_no_stop_word'] = df['tokens'].apply(remove_stop_words)\n",
    "    \n",
    "    # Remove stop words first\n",
    "    df['lemma'] = df['token_no_stop_word'].apply(tweet_lemma, args=(lemmatizer, ))\n",
    "    \n",
    "    # Remove stop words first\n",
    "    df['stem'] = df['token_no_stop_word'].apply(token_stemmer, args=(stemmer, ))\n",
    "    \n",
    "    # join the tokens to form a sentence\n",
    "    clean_sentences = [\" \".join(i) for i in df['token_no_stop_word']]\n",
    "    df['clean_sentences'] = clean_sentences\n",
    "    \n",
    "    # join the stemmed tokens to form a sentence\n",
    "    stem_clean_sentences = [\" \".join(i) for i in df['stem']]\n",
    "    df['stem_clean_sentences'] = stem_clean_sentences\n",
    "    \n",
    "    \n",
    "    # creating polarity list\n",
    "    df['polarity'] = [TextBlob(tweet_text).sentiment[0] for tweet_text in df['message']]\n",
    "\n",
    "    # creating subjectivity list\n",
    "    df['subjectivity'] = [TextBlob(tweet_text).sentiment[1] for tweet_text in df['message']]\n",
    "    \n",
    "    # join the lemma tokens to form a sentence\n",
    "    lemma_clean_sentences = [\" \".join(i) for i in df['lemma']]\n",
    "    df['lemma_clean_sentences'] = lemma_clean_sentences\n",
    "    \n",
    "    \n",
    "    \n",
    "    return df\n",
    "    "
   ]
  },
  {
   "cell_type": "code",
   "execution_count": 15,
   "metadata": {},
   "outputs": [
    {
     "data": {
      "text/html": [
       "<div>\n",
       "<style scoped>\n",
       "    .dataframe tbody tr th:only-of-type {\n",
       "        vertical-align: middle;\n",
       "    }\n",
       "\n",
       "    .dataframe tbody tr th {\n",
       "        vertical-align: top;\n",
       "    }\n",
       "\n",
       "    .dataframe thead th {\n",
       "        text-align: right;\n",
       "    }\n",
       "</style>\n",
       "<table border=\"1\" class=\"dataframe\">\n",
       "  <thead>\n",
       "    <tr style=\"text-align: right;\">\n",
       "      <th></th>\n",
       "      <th>sentiment</th>\n",
       "      <th>message</th>\n",
       "      <th>tweetid</th>\n",
       "      <th>tokens</th>\n",
       "      <th>token_no_stop_word</th>\n",
       "      <th>lemma</th>\n",
       "      <th>stem</th>\n",
       "      <th>clean_sentences</th>\n",
       "      <th>stem_clean_sentences</th>\n",
       "      <th>polarity</th>\n",
       "      <th>subjectivity</th>\n",
       "      <th>lemma_clean_sentences</th>\n",
       "    </tr>\n",
       "  </thead>\n",
       "  <tbody>\n",
       "    <tr>\n",
       "      <th>0</th>\n",
       "      <td>1</td>\n",
       "      <td>polyscimajor epa chief doesnt think carbon dio...</td>\n",
       "      <td>625221</td>\n",
       "      <td>[polyscimajor, epa, chief, doesnt, think, carb...</td>\n",
       "      <td>[polyscimajor, epa, chief, doesnt, think, carb...</td>\n",
       "      <td>[polyscimajor, epa, chief, doesnt, think, carb...</td>\n",
       "      <td>[polyscimajor, epa, chief, doesnt, think, carb...</td>\n",
       "      <td>polyscimajor epa chief doesnt think carbon dio...</td>\n",
       "      <td>polyscimajor epa chief doesnt think carbon dio...</td>\n",
       "      <td>0.083333</td>\n",
       "      <td>0.166667</td>\n",
       "      <td>polyscimajor epa chief doesnt think carbon dio...</td>\n",
       "    </tr>\n",
       "    <tr>\n",
       "      <th>1</th>\n",
       "      <td>1</td>\n",
       "      <td>its not like we lack evidence of anthropogenic...</td>\n",
       "      <td>126103</td>\n",
       "      <td>[its, not, like, we, lack, evidence, of, anthr...</td>\n",
       "      <td>[like, lack, evidence, anthropogenic, global, ...</td>\n",
       "      <td>[like, lack, evidence, anthropogenic, global, ...</td>\n",
       "      <td>[like, lack, evid, anthropogen, global, warm]</td>\n",
       "      <td>like lack evidence anthropogenic global warming</td>\n",
       "      <td>like lack evid anthropogen global warm</td>\n",
       "      <td>0.000000</td>\n",
       "      <td>0.000000</td>\n",
       "      <td>like lack evidence anthropogenic global warming</td>\n",
       "    </tr>\n",
       "    <tr>\n",
       "      <th>2</th>\n",
       "      <td>2</td>\n",
       "      <td>rawstory researchers say we have three years t...</td>\n",
       "      <td>698562</td>\n",
       "      <td>[rawstory, researchers, say, we, have, three, ...</td>\n",
       "      <td>[rawstory, researchers, say, three, years, act...</td>\n",
       "      <td>[rawstory, researcher, say, three, year, act, ...</td>\n",
       "      <td>[rawstori, research, say, three, year, act, cl...</td>\n",
       "      <td>rawstory researchers say three years act clima...</td>\n",
       "      <td>rawstori research say three year act climat ch...</td>\n",
       "      <td>-0.300000</td>\n",
       "      <td>0.600000</td>\n",
       "      <td>rawstory researcher say three year act climate...</td>\n",
       "    </tr>\n",
       "    <tr>\n",
       "      <th>3</th>\n",
       "      <td>1</td>\n",
       "      <td>todayinmaker wired   was a pivotal year in the...</td>\n",
       "      <td>573736</td>\n",
       "      <td>[todayinmaker, wired, was, a, pivotal, year, i...</td>\n",
       "      <td>[todayinmaker, wired, pivotal, year, war, clim...</td>\n",
       "      <td>[todayinmaker, wired, pivotal, year, war, clim...</td>\n",
       "      <td>[todayinmak, wire, pivot, year, war, climat, c...</td>\n",
       "      <td>todayinmaker wired pivotal year war climate ch...</td>\n",
       "      <td>todayinmak wire pivot year war climat chang ur...</td>\n",
       "      <td>0.500000</td>\n",
       "      <td>0.800000</td>\n",
       "      <td>todayinmaker wired pivotal year war climate ch...</td>\n",
       "    </tr>\n",
       "    <tr>\n",
       "      <th>4</th>\n",
       "      <td>1</td>\n",
       "      <td>soynoviodetodas its  and a racist sexist clima...</td>\n",
       "      <td>466954</td>\n",
       "      <td>[soynoviodetodas, its, and, a, racist, sexist,...</td>\n",
       "      <td>[soynoviodetodas, racist, sexist, climate, cha...</td>\n",
       "      <td>[soynoviodetodas, racist, sexist, climate, cha...</td>\n",
       "      <td>[soynoviodetoda, racist, sexist, climat, chang...</td>\n",
       "      <td>soynoviodetodas racist sexist climate change d...</td>\n",
       "      <td>soynoviodetoda racist sexist climat chang deni...</td>\n",
       "      <td>0.000000</td>\n",
       "      <td>0.000000</td>\n",
       "      <td>soynoviodetodas racist sexist climate change d...</td>\n",
       "    </tr>\n",
       "  </tbody>\n",
       "</table>\n",
       "</div>"
      ],
      "text/plain": [
       "   sentiment                                            message  tweetid  \\\n",
       "0          1  polyscimajor epa chief doesnt think carbon dio...   625221   \n",
       "1          1  its not like we lack evidence of anthropogenic...   126103   \n",
       "2          2  rawstory researchers say we have three years t...   698562   \n",
       "3          1  todayinmaker wired   was a pivotal year in the...   573736   \n",
       "4          1  soynoviodetodas its  and a racist sexist clima...   466954   \n",
       "\n",
       "                                              tokens  \\\n",
       "0  [polyscimajor, epa, chief, doesnt, think, carb...   \n",
       "1  [its, not, like, we, lack, evidence, of, anthr...   \n",
       "2  [rawstory, researchers, say, we, have, three, ...   \n",
       "3  [todayinmaker, wired, was, a, pivotal, year, i...   \n",
       "4  [soynoviodetodas, its, and, a, racist, sexist,...   \n",
       "\n",
       "                                  token_no_stop_word  \\\n",
       "0  [polyscimajor, epa, chief, doesnt, think, carb...   \n",
       "1  [like, lack, evidence, anthropogenic, global, ...   \n",
       "2  [rawstory, researchers, say, three, years, act...   \n",
       "3  [todayinmaker, wired, pivotal, year, war, clim...   \n",
       "4  [soynoviodetodas, racist, sexist, climate, cha...   \n",
       "\n",
       "                                               lemma  \\\n",
       "0  [polyscimajor, epa, chief, doesnt, think, carb...   \n",
       "1  [like, lack, evidence, anthropogenic, global, ...   \n",
       "2  [rawstory, researcher, say, three, year, act, ...   \n",
       "3  [todayinmaker, wired, pivotal, year, war, clim...   \n",
       "4  [soynoviodetodas, racist, sexist, climate, cha...   \n",
       "\n",
       "                                                stem  \\\n",
       "0  [polyscimajor, epa, chief, doesnt, think, carb...   \n",
       "1      [like, lack, evid, anthropogen, global, warm]   \n",
       "2  [rawstori, research, say, three, year, act, cl...   \n",
       "3  [todayinmak, wire, pivot, year, war, climat, c...   \n",
       "4  [soynoviodetoda, racist, sexist, climat, chang...   \n",
       "\n",
       "                                     clean_sentences  \\\n",
       "0  polyscimajor epa chief doesnt think carbon dio...   \n",
       "1    like lack evidence anthropogenic global warming   \n",
       "2  rawstory researchers say three years act clima...   \n",
       "3  todayinmaker wired pivotal year war climate ch...   \n",
       "4  soynoviodetodas racist sexist climate change d...   \n",
       "\n",
       "                                stem_clean_sentences  polarity  subjectivity  \\\n",
       "0  polyscimajor epa chief doesnt think carbon dio...  0.083333      0.166667   \n",
       "1             like lack evid anthropogen global warm  0.000000      0.000000   \n",
       "2  rawstori research say three year act climat ch... -0.300000      0.600000   \n",
       "3  todayinmak wire pivot year war climat chang ur...  0.500000      0.800000   \n",
       "4  soynoviodetoda racist sexist climat chang deni...  0.000000      0.000000   \n",
       "\n",
       "                               lemma_clean_sentences  \n",
       "0  polyscimajor epa chief doesnt think carbon dio...  \n",
       "1    like lack evidence anthropogenic global warming  \n",
       "2  rawstory researcher say three year act climate...  \n",
       "3  todayinmaker wired pivotal year war climate ch...  \n",
       "4  soynoviodetodas racist sexist climate change d...  "
      ]
     },
     "execution_count": 15,
     "metadata": {},
     "output_type": "execute_result"
    }
   ],
   "source": [
    "# getting the processed for training data\n",
    "processed_df_train = token_lemmatizer_stemmer(clean_df_train)\n",
    "processed_df_train.head()"
   ]
  },
  {
   "cell_type": "code",
   "execution_count": 17,
   "metadata": {},
   "outputs": [
    {
     "data": {
      "text/html": [
       "<div>\n",
       "<style scoped>\n",
       "    .dataframe tbody tr th:only-of-type {\n",
       "        vertical-align: middle;\n",
       "    }\n",
       "\n",
       "    .dataframe tbody tr th {\n",
       "        vertical-align: top;\n",
       "    }\n",
       "\n",
       "    .dataframe thead th {\n",
       "        text-align: right;\n",
       "    }\n",
       "</style>\n",
       "<table border=\"1\" class=\"dataframe\">\n",
       "  <thead>\n",
       "    <tr style=\"text-align: right;\">\n",
       "      <th></th>\n",
       "      <th>message</th>\n",
       "      <th>tweetid</th>\n",
       "      <th>tokens</th>\n",
       "      <th>token_no_stop_word</th>\n",
       "      <th>lemma</th>\n",
       "      <th>stem</th>\n",
       "      <th>clean_sentences</th>\n",
       "      <th>stem_clean_sentences</th>\n",
       "      <th>polarity</th>\n",
       "      <th>subjectivity</th>\n",
       "      <th>lemma_clean_sentences</th>\n",
       "    </tr>\n",
       "  </thead>\n",
       "  <tbody>\n",
       "    <tr>\n",
       "      <th>0</th>\n",
       "      <td>europe will now be looking to china to make su...</td>\n",
       "      <td>169760</td>\n",
       "      <td>[europe, will, now, be, looking, to, china, to...</td>\n",
       "      <td>[europe, looking, china, make, sure, alone, fi...</td>\n",
       "      <td>[europe, looking, china, make, sure, alone, fi...</td>\n",
       "      <td>[europ, look, china, make, sure, alon, fight, ...</td>\n",
       "      <td>europe looking china make sure alone fighting ...</td>\n",
       "      <td>europ look china make sure alon fight climat c...</td>\n",
       "      <td>0.5</td>\n",
       "      <td>0.888889</td>\n",
       "      <td>europe looking china make sure alone fighting ...</td>\n",
       "    </tr>\n",
       "    <tr>\n",
       "      <th>1</th>\n",
       "      <td>combine this with the polling of staffers re c...</td>\n",
       "      <td>35326</td>\n",
       "      <td>[combine, this, with, the, polling, of, staffe...</td>\n",
       "      <td>[combine, polling, staffers, climate, change, ...</td>\n",
       "      <td>[combine, polling, staffer, climate, change, w...</td>\n",
       "      <td>[combin, poll, staffer, climat, chang, women, ...</td>\n",
       "      <td>combine polling staffers climate change womens...</td>\n",
       "      <td>combin poll staffer climat chang women right f...</td>\n",
       "      <td>0.0</td>\n",
       "      <td>0.000000</td>\n",
       "      <td>combine polling staffer climate change woman r...</td>\n",
       "    </tr>\n",
       "    <tr>\n",
       "      <th>2</th>\n",
       "      <td>the scary unimpeachable evidence that climate ...</td>\n",
       "      <td>224985</td>\n",
       "      <td>[the, scary, unimpeachable, evidence, that, cl...</td>\n",
       "      <td>[scary, unimpeachable, evidence, climate, chan...</td>\n",
       "      <td>[scary, unimpeachable, evidence, climate, chan...</td>\n",
       "      <td>[scari, unimpeach, evid, climat, chang, alread...</td>\n",
       "      <td>scary unimpeachable evidence climate change al...</td>\n",
       "      <td>scari unimpeach evid climat chang alreadi urlw...</td>\n",
       "      <td>-0.5</td>\n",
       "      <td>1.000000</td>\n",
       "      <td>scary unimpeachable evidence climate change al...</td>\n",
       "    </tr>\n",
       "    <tr>\n",
       "      <th>3</th>\n",
       "      <td>karoli morgfair osborneink dailykos putin got ...</td>\n",
       "      <td>476263</td>\n",
       "      <td>[karoli, morgfair, osborneink, dailykos, putin...</td>\n",
       "      <td>[karoli, morgfair, osborneink, dailykos, putin...</td>\n",
       "      <td>[karoli, morgfair, osborneink, dailykos, putin...</td>\n",
       "      <td>[karoli, morgfair, osborneink, dailyko, putin,...</td>\n",
       "      <td>karoli morgfair osborneink dailykos putin got ...</td>\n",
       "      <td>karoli morgfair osborneink dailyko putin got j...</td>\n",
       "      <td>0.0</td>\n",
       "      <td>0.000000</td>\n",
       "      <td>karoli morgfair osborneink dailykos putin got ...</td>\n",
       "    </tr>\n",
       "    <tr>\n",
       "      <th>4</th>\n",
       "      <td>fakewillmoore female orgasms cause global warm...</td>\n",
       "      <td>872928</td>\n",
       "      <td>[fakewillmoore, female, orgasms, cause, global...</td>\n",
       "      <td>[fakewillmoore, female, orgasms, cause, global...</td>\n",
       "      <td>[fakewillmoore, female, orgasm, cause, global,...</td>\n",
       "      <td>[fakewillmoor, femal, orgasm, caus, global, wa...</td>\n",
       "      <td>fakewillmoore female orgasms cause global warm...</td>\n",
       "      <td>fakewillmoor femal orgasm caus global warmings...</td>\n",
       "      <td>0.0</td>\n",
       "      <td>0.083333</td>\n",
       "      <td>fakewillmoore female orgasm cause global warmi...</td>\n",
       "    </tr>\n",
       "  </tbody>\n",
       "</table>\n",
       "</div>"
      ],
      "text/plain": [
       "                                             message  tweetid  \\\n",
       "0  europe will now be looking to china to make su...   169760   \n",
       "1  combine this with the polling of staffers re c...    35326   \n",
       "2  the scary unimpeachable evidence that climate ...   224985   \n",
       "3  karoli morgfair osborneink dailykos putin got ...   476263   \n",
       "4  fakewillmoore female orgasms cause global warm...   872928   \n",
       "\n",
       "                                              tokens  \\\n",
       "0  [europe, will, now, be, looking, to, china, to...   \n",
       "1  [combine, this, with, the, polling, of, staffe...   \n",
       "2  [the, scary, unimpeachable, evidence, that, cl...   \n",
       "3  [karoli, morgfair, osborneink, dailykos, putin...   \n",
       "4  [fakewillmoore, female, orgasms, cause, global...   \n",
       "\n",
       "                                  token_no_stop_word  \\\n",
       "0  [europe, looking, china, make, sure, alone, fi...   \n",
       "1  [combine, polling, staffers, climate, change, ...   \n",
       "2  [scary, unimpeachable, evidence, climate, chan...   \n",
       "3  [karoli, morgfair, osborneink, dailykos, putin...   \n",
       "4  [fakewillmoore, female, orgasms, cause, global...   \n",
       "\n",
       "                                               lemma  \\\n",
       "0  [europe, looking, china, make, sure, alone, fi...   \n",
       "1  [combine, polling, staffer, climate, change, w...   \n",
       "2  [scary, unimpeachable, evidence, climate, chan...   \n",
       "3  [karoli, morgfair, osborneink, dailykos, putin...   \n",
       "4  [fakewillmoore, female, orgasm, cause, global,...   \n",
       "\n",
       "                                                stem  \\\n",
       "0  [europ, look, china, make, sure, alon, fight, ...   \n",
       "1  [combin, poll, staffer, climat, chang, women, ...   \n",
       "2  [scari, unimpeach, evid, climat, chang, alread...   \n",
       "3  [karoli, morgfair, osborneink, dailyko, putin,...   \n",
       "4  [fakewillmoor, femal, orgasm, caus, global, wa...   \n",
       "\n",
       "                                     clean_sentences  \\\n",
       "0  europe looking china make sure alone fighting ...   \n",
       "1  combine polling staffers climate change womens...   \n",
       "2  scary unimpeachable evidence climate change al...   \n",
       "3  karoli morgfair osborneink dailykos putin got ...   \n",
       "4  fakewillmoore female orgasms cause global warm...   \n",
       "\n",
       "                                stem_clean_sentences  polarity  subjectivity  \\\n",
       "0  europ look china make sure alon fight climat c...       0.5      0.888889   \n",
       "1  combin poll staffer climat chang women right f...       0.0      0.000000   \n",
       "2  scari unimpeach evid climat chang alreadi urlw...      -0.5      1.000000   \n",
       "3  karoli morgfair osborneink dailyko putin got j...       0.0      0.000000   \n",
       "4  fakewillmoor femal orgasm caus global warmings...       0.0      0.083333   \n",
       "\n",
       "                               lemma_clean_sentences  \n",
       "0  europe looking china make sure alone fighting ...  \n",
       "1  combine polling staffer climate change woman r...  \n",
       "2  scary unimpeachable evidence climate change al...  \n",
       "3  karoli morgfair osborneink dailykos putin got ...  \n",
       "4  fakewillmoore female orgasm cause global warmi...  "
      ]
     },
     "execution_count": 17,
     "metadata": {},
     "output_type": "execute_result"
    }
   ],
   "source": [
    "# getting the processed columns for testing data\n",
    "processed_df_test = token_lemmatizer_stemmer(clean_df_test)\n",
    "processed_df_test.head()"
   ]
  },
  {
   "cell_type": "markdown",
   "metadata": {},
   "source": [
    "### Let us see the perfomance of a model trained on polarity and subjectivity\n",
    "\n",
    "the model will use the polarity and subjectivity"
   ]
  },
  {
   "cell_type": "code",
   "execution_count": 22,
   "metadata": {},
   "outputs": [
    {
     "name": "stdout",
     "output_type": "stream",
     "text": [
      "Classification Report Naive\n",
      "              precision    recall  f1-score   support\n",
      "\n",
      "          -1       0.00      0.00      0.00       336\n",
      "           0       0.00      0.00      0.00       547\n",
      "           1       0.55      1.00      0.71      2178\n",
      "           2       0.00      0.00      0.00       894\n",
      "\n",
      "    accuracy                           0.55      3955\n",
      "   macro avg       0.14      0.25      0.18      3955\n",
      "weighted avg       0.30      0.55      0.39      3955\n",
      "\n"
     ]
    }
   ],
   "source": [
    "# importing necessary libraries\n",
    "from sklearn import datasets\n",
    "from sklearn.metrics import confusion_matrix\n",
    "from sklearn.model_selection import train_test_split\n",
    " \n",
    "# X -> features, y -> label\n",
    "y =  processed_df_train['sentiment']\n",
    "X =  processed_df_train[['polarity', 'subjectivity']]\n",
    "\n",
    "# dividing X, y into train and test data\n",
    "X_train, X_test, y_train, y_test = train_test_split(X, y, \n",
    "                                random_state = 42)\n",
    "\n",
    "# Import the scaler module\n",
    "from sklearn import preprocessing\n",
    "scaler = preprocessing.MinMaxScaler()\n",
    "\n",
    "# Scale data\n",
    "X_train_scaled = scaler.fit_transform(X_train)\n",
    "X_test_scaled = scaler.transform(X_test)\n",
    "\n",
    "from sklearn.naive_bayes import MultinomialNB\n",
    "from sklearn import metrics\n",
    "\n",
    "nb_classifier = MultinomialNB()\n",
    "nb_classifier.fit(X_train_scaled, y_train)\n",
    "\n",
    "pred = nb_classifier.predict(X_test_scaled)\n",
    "metrics.accuracy_score(y_test, pred)\n",
    "\n",
    "print('Classification Report Naive')\n",
    "print(classification_report(y_test, pred))"
   ]
  },
  {
   "cell_type": "markdown",
   "metadata": {},
   "source": [
    "The model seems to perfom really bad with the use of polarity and subjectivity, we then conclude that the model will not use the polarity and subjectivity"
   ]
  },
  {
   "cell_type": "markdown",
   "metadata": {},
   "source": [
    "# Exploratory Data Analysis\n",
    "\n",
    "Looking at the token lengths and the number of times a token appears in a text can help us extract those tokens that do not add value to the model prediction, we will use the bag of words concept"
   ]
  },
  {
   "cell_type": "code",
   "execution_count": 25,
   "metadata": {},
   "outputs": [],
   "source": [
    "def bag_of_words_count(words, word_dict={}):\n",
    "    \"\"\" this function takes in a list of words and returns a dictionary \n",
    "        with each word as a key, and the value represents the number of \n",
    "        times that word appeared\"\"\"\n",
    "    for word in words:\n",
    "        if word in word_dict.keys():\n",
    "            word_dict[word] += 1\n",
    "        else:\n",
    "            word_dict[word] = 1\n",
    "    return word_dict"
   ]
  },
  {
   "cell_type": "code",
   "execution_count": 27,
   "metadata": {},
   "outputs": [
    {
     "data": {
      "text/plain": [
       "array([ 1,  2,  0, -1], dtype=int64)"
      ]
     },
     "execution_count": 27,
     "metadata": {},
     "output_type": "execute_result"
    }
   ],
   "source": [
    "type_labels = processed_df_train.sentiment.unique()\n",
    "type_labels"
   ]
  },
  {
   "cell_type": "code",
   "execution_count": 28,
   "metadata": {},
   "outputs": [],
   "source": [
    "beliver = {}\n",
    "for pp in type_labels:\n",
    "    df_label = processed_df_train.groupby('sentiment')\n",
    "    beliver[pp] = {}\n",
    "    for row in df_label.get_group(pp)['token_no_stop_word']:\n",
    "        beliver[pp] = bag_of_words_count(row, beliver[pp])"
   ]
  },
  {
   "cell_type": "code",
   "execution_count": 29,
   "metadata": {},
   "outputs": [],
   "source": [
    "all_words = set()\n",
    "for pp in type_labels:\n",
    "    for word in beliver[pp]:\n",
    "        all_words.add(word)"
   ]
  },
  {
   "cell_type": "code",
   "execution_count": 30,
   "metadata": {},
   "outputs": [],
   "source": [
    "beliver['all'] = {}\n",
    "for pp in type_labels:    \n",
    "    for word in all_words:\n",
    "        if word in beliver[pp].keys():\n",
    "            if word in beliver['all']:\n",
    "                beliver['all'][word] += beliver[pp][word]\n",
    "            else:\n",
    "                beliver['all'][word] = beliver[pp][word]"
   ]
  },
  {
   "cell_type": "code",
   "execution_count": 31,
   "metadata": {},
   "outputs": [],
   "source": [
    "df_token = pd.DataFrame(beliver, columns = [1, 2, 0, -1, 'all'])"
   ]
  },
  {
   "cell_type": "code",
   "execution_count": 32,
   "metadata": {},
   "outputs": [],
   "source": [
    "df_token = df_token.fillna(0)"
   ]
  },
  {
   "cell_type": "code",
   "execution_count": 43,
   "metadata": {},
   "outputs": [
    {
     "data": {
      "text/plain": [
       "181757"
      ]
     },
     "execution_count": 43,
     "metadata": {},
     "output_type": "execute_result"
    }
   ],
   "source": [
    "total_words = sum([v for v in beliver['all'].values()])\n",
    "total_words"
   ]
  },
  {
   "cell_type": "markdown",
   "metadata": {},
   "source": [
    "## Rare words used in the tweets \n",
    "\n",
    "Looking at the distribution of the words that are less likely, those that appear less than 10 times."
   ]
  },
  {
   "cell_type": "code",
   "execution_count": 33,
   "metadata": {},
   "outputs": [
    {
     "data": {
      "text/plain": [
       "Text(0.5, 0, 'word frequency')"
      ]
     },
     "execution_count": 33,
     "metadata": {},
     "output_type": "execute_result"
    },
    {
     "data": {
      "image/png": "[encoded data removed]",
      "text/plain": [
       "<Figure size 921.6x633.6 with 1 Axes>"
      ]
     },
     "metadata": {},
     "output_type": "display_data"
    }
   ],
   "source": [
    "_ = plt.hist([v for v in beliver['all'].values() if v < 10],bins=10)\n",
    "plt.ylabel(\"number of words\")\n",
    "plt.xlabel(\"word frequency\")"
   ]
  },
  {
   "cell_type": "code",
   "execution_count": 34,
   "metadata": {},
   "outputs": [],
   "source": [
    "# function to get the number of words with count equal to value\n",
    "def get_number_of_words(value):\n",
    "    return len([v for v in beliver['all'].values() if v == value])"
   ]
  },
  {
   "cell_type": "code",
   "execution_count": 35,
   "metadata": {},
   "outputs": [
    {
     "data": {
      "text/plain": [
       "2903"
      ]
     },
     "execution_count": 35,
     "metadata": {},
     "output_type": "execute_result"
    }
   ],
   "source": [
    "get_number_of_words(2)"
   ]
  },
  {
   "cell_type": "code",
   "execution_count": 36,
   "metadata": {},
   "outputs": [],
   "source": [
    "# See the rare words that appear less than 10\n",
    "def get_rare_words(value, start , stop):\n",
    "    \n",
    "    rare_words = [k for k, v in beliver['all'].items() if v==value] \n",
    "    print(rare_words[start:stop], len(rare_words))\n",
    "    return rare_words"
   ]
  },
  {
   "cell_type": "code",
   "execution_count": 37,
   "metadata": {},
   "outputs": [
    {
     "name": "stdout",
     "output_type": "stream",
     "text": [
      "['disprove', 'session', 'fit', 'alarm', 'sa', 'ah', 'contributed', 'removing', 'findings', 'arms', 'differ', 'solved', 'heads', 'slowing', 'mostly', 'africas', 'illegal', 'happeningand', 'confront', 'tied', 'debt', 'responds', 'lolgop', 'beliefs', 'smoking', 'tomleewalker', 'seven', 'earlier', 'antarcticas', 'backwards', 'planetary', 'held', 'cry', 'warmth', 'path', 'barely', 'unfccc', 'sued', 'trailer', 'carney', 'accurate', 'began', 'itll', 'da', 'antiabortion', 'author', 'boston', 'destroyed', 'nominee', 'immigrants', 'weatherchannel', 'changedenying', 'nuts', 'arguing', 'burn', 'el', 'funder', 'cuz', 'canadians', 'honor', 'bostonglobe', 'guns', 'initiatives', 'note', 'mcspocky', 'alexsteffen', 'necessary', 'funds', 'humanmade', 'sends', 'ending', 'proposal', 'writing', 'interests', 'narendramodi', 'freeze', 'outpace', 'syria', 'amount', 'jonriley', 'defeat', 'feds', 'belugasolar', 'mailonline', 'garage', 'reveals', 'cbs', 'worldnews', 'cernovich', 'tuckercarlson', 'usfreedomarmy', 'elitists'] 192\n"
     ]
    }
   ],
   "source": [
    "rare_words = get_rare_words(9, 100, 200)"
   ]
  },
  {
   "cell_type": "code",
   "execution_count": 38,
   "metadata": {},
   "outputs": [
    {
     "name": "stdout",
     "output_type": "stream",
     "text": [
      "2463\n",
      "143762\n"
     ]
    }
   ],
   "source": [
    "# how many words appear more than 10 times?\n",
    "# how many words of the total does that account for?\n",
    "print(len([v for v in beliver['all'].values() if v >= 9]))\n",
    "occurs_more_than_10_times = sum([v for v in beliver['all'].values() if v >= 9])\n",
    "print(occurs_more_than_10_times)"
   ]
  },
  {
   "cell_type": "code",
   "execution_count": 39,
   "metadata": {},
   "outputs": [],
   "source": [
    "# get short wordsequal to value from print start to stop\n",
    "def get_short_words(value, start , stop):\n",
    "    \n",
    "    rare_words = [k for k, v in beliver['all'].items() if len(k) <= value] \n",
    "    print(rare_words[start:stop], len(rare_words))\n",
    "    \n",
    "    return rare_words"
   ]
  },
  {
   "cell_type": "code",
   "execution_count": 40,
   "metadata": {},
   "outputs": [
    {
     "name": "stdout",
     "output_type": "stream",
     "text": [
      "['npc', 'wai', 'boy', 'k', 'bag', 'yo', 'mp', 'wo', 'nom', 'tx', 'nix', 'wit', 'nem', 'lt', 'tru', 'fnc', 'ucc', 'bec', 'min', 'vp', 'ccc', 'nws', 'gst', 'per', 'cit', 'hal', 'fan', 'mom', 'lip', 'cg', 'pod', 'esp', 'nic', 'beg', 'nsw', 'uw', 'ed', 'qs', 'dnc', 'oi', 'wow', 'gr', 'leg', 'tim', 'tha', 'lid', 'cop', 'roe', 'lgb', 'rue', 'bc', 'ax', 'fao', 'ft', 'agw', 'ng', 'bw', 'ran', 'yag', 'six', 'un', 'oh', 'gmo', 'rs', 'rin', 'tho', 'il', 'acc', 'ef', 'fck', 'gms', 'frm', 'nvm', 'ppl', 'mid', 'lbs', 'ke', 'mt', 'hed', 'pe', 'fl', 'sci', 'asc', 'tfb', 'qvc', 'ets', 'kos', 'nia', 'bl', 'ill', 'gu', 'bed', 'lie', 'fd', 'su', 'hn', 'sop', 'nye', 'lrt', 'gov', 'cm', 'lmk', 'lis', 'kid', 'fos', 'env', 'mfs', 'ad', 'tea', 'hit', 'wet', 'tnw', 'urn', 'wv', 'gla', 'pak', 'km', 'eff', 'nsf', 'ago', 'nhs', 'bo', 'bsf', 'edu', 'btw', 'bli', 'plz', 'mix', 'aid', 'et', 'cnn', 'wrp', 'dgr', 'fp', 'f', 'yr', 'nm', 'fav', 'pdi', 'law', 'fm', 'cpc', 'sue', 'sir', 'nj', 'joe', 'h', 'oct', 'nt', 'alr', 'axa', 'opp', 'caa', 'leo', 'ep', 'myc', 'thi', 'fbr', 'biz', 'ups', 'us', 'sex', 'nuc', 'op', 'two', 'fml', 'crb', 'nz', 'hel', 'civ', 'cba', 'adm', 'neo', 'ds', 'xxl', 'ff', 'gap', 'yea', 'hi', 'one', 'lcl', 'inf', 'iot', 'day', 'via', 'aca', 'mu', 'du', 'npr', 'cem', 'fun', 'si', 'fro', 'sin', 'bs', 'se', 'eq', 'win', 'clp', 'cay', 'van', 'bye', 'mn', 'ark', 'po', 'jv', 'tar', 'mpk', 'v', 'sum', 'fu', 'uga', 'fr', 'x', 'ctl', 'dnr', 'lo', 'ear', 'non', 'cur', 'gpa', 'br', 'bca', 'rep', 'far', 'ie', 'vox', 'csg', 'rly', 'dpt', 'nee', 'rip', 'god', 'lwv', 'csr', 'pic', 'ten', 'bee', 'jet', 'dip', 'nu', 'cdc', 'cat', 'ch', 'sit', 'hmu', 'fal', 'e', 'ci', 'ben', 'imm', 'pm', 'ca', 'id', 'let', 'esm', 'bu', 'c', 'pp', 'rg', 'la', 'u', 'ray', 'sot', 'cup', 'kno', 'bb', 'mum', 'pts', 'ab', 'bay', 'thn', 'cro', 'red', 'pov', 'hm', 'wqs', 'ilo', 'men', 'np', 'fo', 'jus', 'kim', 'res', 'net', 'fed', 'r', 'lee'] 1205\n"
     ]
    }
   ],
   "source": [
    "short_words = get_short_words(3, 0, 288)"
   ]
  },
  {
   "cell_type": "code",
   "execution_count": 41,
   "metadata": {},
   "outputs": [
    {
     "name": "stdout",
     "output_type": "stream",
     "text": [
      "288\n",
      "4541\n"
     ]
    }
   ],
   "source": [
    "# how many words have a length less than 2\n",
    "# how many words of the total does that account for?\n",
    "print(len([v for k, v in beliver['all'].items() if len(k) <= 2]))\n",
    "low_length = sum([v for k, v in beliver['all'].items() if len(k) <=2])\n",
    "print(low_length)"
   ]
  },
  {
   "cell_type": "markdown",
   "metadata": {},
   "source": [
    "### The amount of data left\n",
    "\n",
    "with removing the rare words and the short length words, looking at the percentage of the data left"
   ]
  },
  {
   "cell_type": "code",
   "execution_count": 44,
   "metadata": {},
   "outputs": [
    {
     "data": {
      "text/plain": [
       "0.7659732499986245"
      ]
     },
     "execution_count": 44,
     "metadata": {},
     "output_type": "execute_result"
    }
   ],
   "source": [
    "# Looking at the data that appears more than 10 times\n",
    "(occurs_more_than_10_times - low_length) / total_words"
   ]
  },
  {
   "cell_type": "code",
   "execution_count": 45,
   "metadata": {},
   "outputs": [],
   "source": [
    "df_token['perc_1'] = (df_token[1] / df_token['all']) * 100\n",
    "df_token['perc_0'] = (df_token[0] / df_token['all']) * 100\n",
    "df_token['perc_2'] = (df_token[2] / df_token['all']) * 100\n",
    "df_token['perc_-1'] = (df_token[-1] / df_token['all']) * 100"
   ]
  },
  {
   "cell_type": "markdown",
   "metadata": {},
   "source": [
    "# Removing redundant data\n",
    "\n",
    "there are words that may be considered to be important because of their appearance in every class which is not reall an advantage to our model"
   ]
  },
  {
   "cell_type": "code",
   "execution_count": 46,
   "metadata": {},
   "outputs": [
    {
     "data": {
      "text/html": [
       "<div>\n",
       "<style scoped>\n",
       "    .dataframe tbody tr th:only-of-type {\n",
       "        vertical-align: middle;\n",
       "    }\n",
       "\n",
       "    .dataframe tbody tr th {\n",
       "        vertical-align: top;\n",
       "    }\n",
       "\n",
       "    .dataframe thead th {\n",
       "        text-align: right;\n",
       "    }\n",
       "</style>\n",
       "<table border=\"1\" class=\"dataframe\">\n",
       "  <thead>\n",
       "    <tr style=\"text-align: right;\">\n",
       "      <th></th>\n",
       "      <th>1</th>\n",
       "      <th>2</th>\n",
       "      <th>0</th>\n",
       "      <th>-1</th>\n",
       "      <th>all</th>\n",
       "      <th>perc_1</th>\n",
       "      <th>perc_0</th>\n",
       "      <th>perc_2</th>\n",
       "      <th>perc_-1</th>\n",
       "    </tr>\n",
       "  </thead>\n",
       "  <tbody>\n",
       "    <tr>\n",
       "      <th>climate</th>\n",
       "      <td>7342.0</td>\n",
       "      <td>3345.0</td>\n",
       "      <td>1439.0</td>\n",
       "      <td>792.0</td>\n",
       "      <td>12918</td>\n",
       "      <td>56.835423</td>\n",
       "      <td>11.139495</td>\n",
       "      <td>25.894101</td>\n",
       "      <td>6.130980</td>\n",
       "    </tr>\n",
       "    <tr>\n",
       "      <th>change</th>\n",
       "      <td>7077.0</td>\n",
       "      <td>3206.0</td>\n",
       "      <td>1375.0</td>\n",
       "      <td>735.0</td>\n",
       "      <td>12393</td>\n",
       "      <td>57.104817</td>\n",
       "      <td>11.094973</td>\n",
       "      <td>25.869442</td>\n",
       "      <td>5.930767</td>\n",
       "    </tr>\n",
       "    <tr>\n",
       "      <th>urlweb</th>\n",
       "      <td>4022.0</td>\n",
       "      <td>3925.0</td>\n",
       "      <td>833.0</td>\n",
       "      <td>509.0</td>\n",
       "      <td>9289</td>\n",
       "      <td>43.298525</td>\n",
       "      <td>8.967596</td>\n",
       "      <td>42.254279</td>\n",
       "      <td>5.479600</td>\n",
       "    </tr>\n",
       "    <tr>\n",
       "      <th>global</th>\n",
       "      <td>1593.0</td>\n",
       "      <td>508.0</td>\n",
       "      <td>1037.0</td>\n",
       "      <td>634.0</td>\n",
       "      <td>3772</td>\n",
       "      <td>42.232238</td>\n",
       "      <td>27.492047</td>\n",
       "      <td>13.467656</td>\n",
       "      <td>16.808059</td>\n",
       "    </tr>\n",
       "    <tr>\n",
       "      <th>warming</th>\n",
       "      <td>1430.0</td>\n",
       "      <td>436.0</td>\n",
       "      <td>967.0</td>\n",
       "      <td>604.0</td>\n",
       "      <td>3437</td>\n",
       "      <td>41.606052</td>\n",
       "      <td>28.135001</td>\n",
       "      <td>12.685482</td>\n",
       "      <td>17.573465</td>\n",
       "    </tr>\n",
       "    <tr>\n",
       "      <th>trump</th>\n",
       "      <td>890.0</td>\n",
       "      <td>825.0</td>\n",
       "      <td>147.0</td>\n",
       "      <td>56.0</td>\n",
       "      <td>1918</td>\n",
       "      <td>46.402503</td>\n",
       "      <td>7.664234</td>\n",
       "      <td>43.013556</td>\n",
       "      <td>2.919708</td>\n",
       "    </tr>\n",
       "    <tr>\n",
       "      <th>believe</th>\n",
       "      <td>1004.0</td>\n",
       "      <td>21.0</td>\n",
       "      <td>87.0</td>\n",
       "      <td>46.0</td>\n",
       "      <td>1158</td>\n",
       "      <td>86.701209</td>\n",
       "      <td>7.512953</td>\n",
       "      <td>1.813472</td>\n",
       "      <td>3.972366</td>\n",
       "    </tr>\n",
       "    <tr>\n",
       "      <th>us</th>\n",
       "      <td>445.0</td>\n",
       "      <td>293.0</td>\n",
       "      <td>101.0</td>\n",
       "      <td>63.0</td>\n",
       "      <td>902</td>\n",
       "      <td>49.334812</td>\n",
       "      <td>11.197339</td>\n",
       "      <td>32.483370</td>\n",
       "      <td>6.984479</td>\n",
       "    </tr>\n",
       "    <tr>\n",
       "      <th>doesnt</th>\n",
       "      <td>785.0</td>\n",
       "      <td>23.0</td>\n",
       "      <td>53.0</td>\n",
       "      <td>23.0</td>\n",
       "      <td>884</td>\n",
       "      <td>88.800905</td>\n",
       "      <td>5.995475</td>\n",
       "      <td>2.601810</td>\n",
       "      <td>2.601810</td>\n",
       "    </tr>\n",
       "    <tr>\n",
       "      <th>amp</th>\n",
       "      <td>659.0</td>\n",
       "      <td>35.0</td>\n",
       "      <td>100.0</td>\n",
       "      <td>84.0</td>\n",
       "      <td>878</td>\n",
       "      <td>75.056948</td>\n",
       "      <td>11.389522</td>\n",
       "      <td>3.986333</td>\n",
       "      <td>9.567198</td>\n",
       "    </tr>\n",
       "    <tr>\n",
       "      <th>real</th>\n",
       "      <td>502.0</td>\n",
       "      <td>39.0</td>\n",
       "      <td>94.0</td>\n",
       "      <td>60.0</td>\n",
       "      <td>695</td>\n",
       "      <td>72.230216</td>\n",
       "      <td>13.525180</td>\n",
       "      <td>5.611511</td>\n",
       "      <td>8.633094</td>\n",
       "    </tr>\n",
       "    <tr>\n",
       "      <th>going</th>\n",
       "      <td>590.0</td>\n",
       "      <td>16.0</td>\n",
       "      <td>35.0</td>\n",
       "      <td>28.0</td>\n",
       "      <td>669</td>\n",
       "      <td>88.191330</td>\n",
       "      <td>5.231689</td>\n",
       "      <td>2.391629</td>\n",
       "      <td>4.185351</td>\n",
       "    </tr>\n",
       "    <tr>\n",
       "      <th>shes</th>\n",
       "      <td>627.0</td>\n",
       "      <td>1.0</td>\n",
       "      <td>9.0</td>\n",
       "      <td>1.0</td>\n",
       "      <td>638</td>\n",
       "      <td>98.275862</td>\n",
       "      <td>1.410658</td>\n",
       "      <td>0.156740</td>\n",
       "      <td>0.156740</td>\n",
       "    </tr>\n",
       "    <tr>\n",
       "      <th>world</th>\n",
       "      <td>446.0</td>\n",
       "      <td>114.0</td>\n",
       "      <td>39.0</td>\n",
       "      <td>34.0</td>\n",
       "      <td>633</td>\n",
       "      <td>70.458136</td>\n",
       "      <td>6.161137</td>\n",
       "      <td>18.009479</td>\n",
       "      <td>5.371248</td>\n",
       "    </tr>\n",
       "    <tr>\n",
       "      <th>people</th>\n",
       "      <td>454.0</td>\n",
       "      <td>28.0</td>\n",
       "      <td>65.0</td>\n",
       "      <td>57.0</td>\n",
       "      <td>604</td>\n",
       "      <td>75.165563</td>\n",
       "      <td>10.761589</td>\n",
       "      <td>4.635762</td>\n",
       "      <td>9.437086</td>\n",
       "    </tr>\n",
       "    <tr>\n",
       "      <th>epa</th>\n",
       "      <td>271.0</td>\n",
       "      <td>237.0</td>\n",
       "      <td>28.0</td>\n",
       "      <td>17.0</td>\n",
       "      <td>553</td>\n",
       "      <td>49.005425</td>\n",
       "      <td>5.063291</td>\n",
       "      <td>42.857143</td>\n",
       "      <td>3.074141</td>\n",
       "    </tr>\n",
       "    <tr>\n",
       "      <th>via</th>\n",
       "      <td>199.0</td>\n",
       "      <td>299.0</td>\n",
       "      <td>24.0</td>\n",
       "      <td>21.0</td>\n",
       "      <td>543</td>\n",
       "      <td>36.648250</td>\n",
       "      <td>4.419890</td>\n",
       "      <td>55.064457</td>\n",
       "      <td>3.867403</td>\n",
       "    </tr>\n",
       "    <tr>\n",
       "      <th>new</th>\n",
       "      <td>283.0</td>\n",
       "      <td>191.0</td>\n",
       "      <td>44.0</td>\n",
       "      <td>23.0</td>\n",
       "      <td>541</td>\n",
       "      <td>52.310536</td>\n",
       "      <td>8.133087</td>\n",
       "      <td>35.304991</td>\n",
       "      <td>4.251386</td>\n",
       "    </tr>\n",
       "    <tr>\n",
       "      <th>dont</th>\n",
       "      <td>386.0</td>\n",
       "      <td>31.0</td>\n",
       "      <td>73.0</td>\n",
       "      <td>42.0</td>\n",
       "      <td>532</td>\n",
       "      <td>72.556391</td>\n",
       "      <td>13.721805</td>\n",
       "      <td>5.827068</td>\n",
       "      <td>7.894737</td>\n",
       "    </tr>\n",
       "    <tr>\n",
       "      <th>fight</th>\n",
       "      <td>286.0</td>\n",
       "      <td>159.0</td>\n",
       "      <td>21.0</td>\n",
       "      <td>7.0</td>\n",
       "      <td>473</td>\n",
       "      <td>60.465116</td>\n",
       "      <td>4.439746</td>\n",
       "      <td>33.615222</td>\n",
       "      <td>1.479915</td>\n",
       "    </tr>\n",
       "    <tr>\n",
       "      <th>like</th>\n",
       "      <td>310.0</td>\n",
       "      <td>18.0</td>\n",
       "      <td>96.0</td>\n",
       "      <td>41.0</td>\n",
       "      <td>465</td>\n",
       "      <td>66.666667</td>\n",
       "      <td>20.645161</td>\n",
       "      <td>3.870968</td>\n",
       "      <td>8.817204</td>\n",
       "    </tr>\n",
       "    <tr>\n",
       "      <th>trumps</th>\n",
       "      <td>191.0</td>\n",
       "      <td>239.0</td>\n",
       "      <td>24.0</td>\n",
       "      <td>8.0</td>\n",
       "      <td>462</td>\n",
       "      <td>41.341991</td>\n",
       "      <td>5.194805</td>\n",
       "      <td>51.731602</td>\n",
       "      <td>1.731602</td>\n",
       "    </tr>\n",
       "    <tr>\n",
       "      <th>hoax</th>\n",
       "      <td>318.0</td>\n",
       "      <td>45.0</td>\n",
       "      <td>30.0</td>\n",
       "      <td>50.0</td>\n",
       "      <td>443</td>\n",
       "      <td>71.783296</td>\n",
       "      <td>6.772009</td>\n",
       "      <td>10.158014</td>\n",
       "      <td>11.286682</td>\n",
       "    </tr>\n",
       "    <tr>\n",
       "      <th>science</th>\n",
       "      <td>236.0</td>\n",
       "      <td>94.0</td>\n",
       "      <td>29.0</td>\n",
       "      <td>77.0</td>\n",
       "      <td>436</td>\n",
       "      <td>54.128440</td>\n",
       "      <td>6.651376</td>\n",
       "      <td>21.559633</td>\n",
       "      <td>17.660550</td>\n",
       "    </tr>\n",
       "    <tr>\n",
       "      <th>says</th>\n",
       "      <td>125.0</td>\n",
       "      <td>234.0</td>\n",
       "      <td>45.0</td>\n",
       "      <td>19.0</td>\n",
       "      <td>423</td>\n",
       "      <td>29.550827</td>\n",
       "      <td>10.638298</td>\n",
       "      <td>55.319149</td>\n",
       "      <td>4.491726</td>\n",
       "    </tr>\n",
       "  </tbody>\n",
       "</table>\n",
       "</div>"
      ],
      "text/plain": [
       "              1       2       0     -1    all     perc_1     perc_0  \\\n",
       "climate  7342.0  3345.0  1439.0  792.0  12918  56.835423  11.139495   \n",
       "change   7077.0  3206.0  1375.0  735.0  12393  57.104817  11.094973   \n",
       "urlweb   4022.0  3925.0   833.0  509.0   9289  43.298525   8.967596   \n",
       "global   1593.0   508.0  1037.0  634.0   3772  42.232238  27.492047   \n",
       "warming  1430.0   436.0   967.0  604.0   3437  41.606052  28.135001   \n",
       "trump     890.0   825.0   147.0   56.0   1918  46.402503   7.664234   \n",
       "believe  1004.0    21.0    87.0   46.0   1158  86.701209   7.512953   \n",
       "us        445.0   293.0   101.0   63.0    902  49.334812  11.197339   \n",
       "doesnt    785.0    23.0    53.0   23.0    884  88.800905   5.995475   \n",
       "amp       659.0    35.0   100.0   84.0    878  75.056948  11.389522   \n",
       "real      502.0    39.0    94.0   60.0    695  72.230216  13.525180   \n",
       "going     590.0    16.0    35.0   28.0    669  88.191330   5.231689   \n",
       "shes      627.0     1.0     9.0    1.0    638  98.275862   1.410658   \n",
       "world     446.0   114.0    39.0   34.0    633  70.458136   6.161137   \n",
       "people    454.0    28.0    65.0   57.0    604  75.165563  10.761589   \n",
       "epa       271.0   237.0    28.0   17.0    553  49.005425   5.063291   \n",
       "via       199.0   299.0    24.0   21.0    543  36.648250   4.419890   \n",
       "new       283.0   191.0    44.0   23.0    541  52.310536   8.133087   \n",
       "dont      386.0    31.0    73.0   42.0    532  72.556391  13.721805   \n",
       "fight     286.0   159.0    21.0    7.0    473  60.465116   4.439746   \n",
       "like      310.0    18.0    96.0   41.0    465  66.666667  20.645161   \n",
       "trumps    191.0   239.0    24.0    8.0    462  41.341991   5.194805   \n",
       "hoax      318.0    45.0    30.0   50.0    443  71.783296   6.772009   \n",
       "science   236.0    94.0    29.0   77.0    436  54.128440   6.651376   \n",
       "says      125.0   234.0    45.0   19.0    423  29.550827  10.638298   \n",
       "\n",
       "            perc_2    perc_-1  \n",
       "climate  25.894101   6.130980  \n",
       "change   25.869442   5.930767  \n",
       "urlweb   42.254279   5.479600  \n",
       "global   13.467656  16.808059  \n",
       "warming  12.685482  17.573465  \n",
       "trump    43.013556   2.919708  \n",
       "believe   1.813472   3.972366  \n",
       "us       32.483370   6.984479  \n",
       "doesnt    2.601810   2.601810  \n",
       "amp       3.986333   9.567198  \n",
       "real      5.611511   8.633094  \n",
       "going     2.391629   4.185351  \n",
       "shes      0.156740   0.156740  \n",
       "world    18.009479   5.371248  \n",
       "people    4.635762   9.437086  \n",
       "epa      42.857143   3.074141  \n",
       "via      55.064457   3.867403  \n",
       "new      35.304991   4.251386  \n",
       "dont      5.827068   7.894737  \n",
       "fight    33.615222   1.479915  \n",
       "like      3.870968   8.817204  \n",
       "trumps   51.731602   1.731602  \n",
       "hoax     10.158014  11.286682  \n",
       "science  21.559633  17.660550  \n",
       "says     55.319149   4.491726  "
      ]
     },
     "execution_count": 46,
     "metadata": {},
     "output_type": "execute_result"
    }
   ],
   "source": [
    "df_token.sort_values('all', ascending = False).head(25)"
   ]
  },
  {
   "cell_type": "markdown",
   "metadata": {},
   "source": [
    "tokens available in every class and in large amounts"
   ]
  },
  {
   "cell_type": "code",
   "execution_count": 48,
   "metadata": {},
   "outputs": [],
   "source": [
    "redundant_tokens = ['climate', 'change', 'urlweb', 'global', 'warming', 'trump', 'us',\n",
    "    'epa', 'via', 'trumps', 'says']"
   ]
  },
  {
   "cell_type": "code",
   "execution_count": 49,
   "metadata": {},
   "outputs": [],
   "source": [
    "unwanted = short_words + rare_words + redundant_tokens\n"
   ]
  },
  {
   "cell_type": "code",
   "execution_count": 50,
   "metadata": {},
   "outputs": [],
   "source": [
    "def token_cleaner(df):\n",
    "    \n",
    "    #tokenise the tweets and create a column of tokens\n",
    "    df['clean_tokens'] = [v for v in df['token_no_stop_word'] if v not in unwanted]\n",
    "\n",
    "    # join the clean_tokens to form a sentence\n",
    "    clean_tokens = [\" \".join(i) for i in df['clean_tokens']]\n",
    "    df['less_noise'] = clean_tokens\n",
    "    \n",
    "    return df"
   ]
  },
  {
   "cell_type": "code",
   "execution_count": 51,
   "metadata": {},
   "outputs": [],
   "source": [
    "exp = token_cleaner(processed_df_train)"
   ]
  },
  {
   "cell_type": "code",
   "execution_count": 52,
   "metadata": {},
   "outputs": [
    {
     "data": {
      "text/html": [
       "<div>\n",
       "<style scoped>\n",
       "    .dataframe tbody tr th:only-of-type {\n",
       "        vertical-align: middle;\n",
       "    }\n",
       "\n",
       "    .dataframe tbody tr th {\n",
       "        vertical-align: top;\n",
       "    }\n",
       "\n",
       "    .dataframe thead th {\n",
       "        text-align: right;\n",
       "    }\n",
       "</style>\n",
       "<table border=\"1\" class=\"dataframe\">\n",
       "  <thead>\n",
       "    <tr style=\"text-align: right;\">\n",
       "      <th></th>\n",
       "      <th>sentiment</th>\n",
       "      <th>message</th>\n",
       "      <th>tweetid</th>\n",
       "      <th>tokens</th>\n",
       "      <th>token_no_stop_word</th>\n",
       "      <th>lemma</th>\n",
       "      <th>stem</th>\n",
       "      <th>clean_sentences</th>\n",
       "      <th>stem_clean_sentences</th>\n",
       "      <th>polarity</th>\n",
       "      <th>subjectivity</th>\n",
       "      <th>lemma_clean_sentences</th>\n",
       "      <th>clean_tokens</th>\n",
       "      <th>less_noise</th>\n",
       "    </tr>\n",
       "  </thead>\n",
       "  <tbody>\n",
       "    <tr>\n",
       "      <th>0</th>\n",
       "      <td>1</td>\n",
       "      <td>polyscimajor epa chief doesnt think carbon dio...</td>\n",
       "      <td>625221</td>\n",
       "      <td>[polyscimajor, epa, chief, doesnt, think, carb...</td>\n",
       "      <td>[polyscimajor, epa, chief, doesnt, think, carb...</td>\n",
       "      <td>[polyscimajor, epa, chief, doesnt, think, carb...</td>\n",
       "      <td>[polyscimajor, epa, chief, doesnt, think, carb...</td>\n",
       "      <td>polyscimajor epa chief doesnt think carbon dio...</td>\n",
       "      <td>polyscimajor epa chief doesnt think carbon dio...</td>\n",
       "      <td>0.083333</td>\n",
       "      <td>0.166667</td>\n",
       "      <td>polyscimajor epa chief doesnt think carbon dio...</td>\n",
       "      <td>[polyscimajor, epa, chief, doesnt, think, carb...</td>\n",
       "      <td>polyscimajor epa chief doesnt think carbon dio...</td>\n",
       "    </tr>\n",
       "    <tr>\n",
       "      <th>1</th>\n",
       "      <td>1</td>\n",
       "      <td>its not like we lack evidence of anthropogenic...</td>\n",
       "      <td>126103</td>\n",
       "      <td>[its, not, like, we, lack, evidence, of, anthr...</td>\n",
       "      <td>[like, lack, evidence, anthropogenic, global, ...</td>\n",
       "      <td>[like, lack, evidence, anthropogenic, global, ...</td>\n",
       "      <td>[like, lack, evid, anthropogen, global, warm]</td>\n",
       "      <td>like lack evidence anthropogenic global warming</td>\n",
       "      <td>like lack evid anthropogen global warm</td>\n",
       "      <td>0.000000</td>\n",
       "      <td>0.000000</td>\n",
       "      <td>like lack evidence anthropogenic global warming</td>\n",
       "      <td>[like, lack, evidence, anthropogenic, global, ...</td>\n",
       "      <td>like lack evidence anthropogenic global warming</td>\n",
       "    </tr>\n",
       "    <tr>\n",
       "      <th>2</th>\n",
       "      <td>2</td>\n",
       "      <td>rawstory researchers say we have three years t...</td>\n",
       "      <td>698562</td>\n",
       "      <td>[rawstory, researchers, say, we, have, three, ...</td>\n",
       "      <td>[rawstory, researchers, say, three, years, act...</td>\n",
       "      <td>[rawstory, researcher, say, three, year, act, ...</td>\n",
       "      <td>[rawstori, research, say, three, year, act, cl...</td>\n",
       "      <td>rawstory researchers say three years act clima...</td>\n",
       "      <td>rawstori research say three year act climat ch...</td>\n",
       "      <td>-0.300000</td>\n",
       "      <td>0.600000</td>\n",
       "      <td>rawstory researcher say three year act climate...</td>\n",
       "      <td>[rawstory, researchers, say, three, years, act...</td>\n",
       "      <td>rawstory researchers say three years act clima...</td>\n",
       "    </tr>\n",
       "    <tr>\n",
       "      <th>3</th>\n",
       "      <td>1</td>\n",
       "      <td>todayinmaker wired   was a pivotal year in the...</td>\n",
       "      <td>573736</td>\n",
       "      <td>[todayinmaker, wired, was, a, pivotal, year, i...</td>\n",
       "      <td>[todayinmaker, wired, pivotal, year, war, clim...</td>\n",
       "      <td>[todayinmaker, wired, pivotal, year, war, clim...</td>\n",
       "      <td>[todayinmak, wire, pivot, year, war, climat, c...</td>\n",
       "      <td>todayinmaker wired pivotal year war climate ch...</td>\n",
       "      <td>todayinmak wire pivot year war climat chang ur...</td>\n",
       "      <td>0.500000</td>\n",
       "      <td>0.800000</td>\n",
       "      <td>todayinmaker wired pivotal year war climate ch...</td>\n",
       "      <td>[todayinmaker, wired, pivotal, year, war, clim...</td>\n",
       "      <td>todayinmaker wired pivotal year war climate ch...</td>\n",
       "    </tr>\n",
       "    <tr>\n",
       "      <th>4</th>\n",
       "      <td>1</td>\n",
       "      <td>soynoviodetodas its  and a racist sexist clima...</td>\n",
       "      <td>466954</td>\n",
       "      <td>[soynoviodetodas, its, and, a, racist, sexist,...</td>\n",
       "      <td>[soynoviodetodas, racist, sexist, climate, cha...</td>\n",
       "      <td>[soynoviodetodas, racist, sexist, climate, cha...</td>\n",
       "      <td>[soynoviodetoda, racist, sexist, climat, chang...</td>\n",
       "      <td>soynoviodetodas racist sexist climate change d...</td>\n",
       "      <td>soynoviodetoda racist sexist climat chang deni...</td>\n",
       "      <td>0.000000</td>\n",
       "      <td>0.000000</td>\n",
       "      <td>soynoviodetodas racist sexist climate change d...</td>\n",
       "      <td>[soynoviodetodas, racist, sexist, climate, cha...</td>\n",
       "      <td>soynoviodetodas racist sexist climate change d...</td>\n",
       "    </tr>\n",
       "  </tbody>\n",
       "</table>\n",
       "</div>"
      ],
      "text/plain": [
       "   sentiment                                            message  tweetid  \\\n",
       "0          1  polyscimajor epa chief doesnt think carbon dio...   625221   \n",
       "1          1  its not like we lack evidence of anthropogenic...   126103   \n",
       "2          2  rawstory researchers say we have three years t...   698562   \n",
       "3          1  todayinmaker wired   was a pivotal year in the...   573736   \n",
       "4          1  soynoviodetodas its  and a racist sexist clima...   466954   \n",
       "\n",
       "                                              tokens  \\\n",
       "0  [polyscimajor, epa, chief, doesnt, think, carb...   \n",
       "1  [its, not, like, we, lack, evidence, of, anthr...   \n",
       "2  [rawstory, researchers, say, we, have, three, ...   \n",
       "3  [todayinmaker, wired, was, a, pivotal, year, i...   \n",
       "4  [soynoviodetodas, its, and, a, racist, sexist,...   \n",
       "\n",
       "                                  token_no_stop_word  \\\n",
       "0  [polyscimajor, epa, chief, doesnt, think, carb...   \n",
       "1  [like, lack, evidence, anthropogenic, global, ...   \n",
       "2  [rawstory, researchers, say, three, years, act...   \n",
       "3  [todayinmaker, wired, pivotal, year, war, clim...   \n",
       "4  [soynoviodetodas, racist, sexist, climate, cha...   \n",
       "\n",
       "                                               lemma  \\\n",
       "0  [polyscimajor, epa, chief, doesnt, think, carb...   \n",
       "1  [like, lack, evidence, anthropogenic, global, ...   \n",
       "2  [rawstory, researcher, say, three, year, act, ...   \n",
       "3  [todayinmaker, wired, pivotal, year, war, clim...   \n",
       "4  [soynoviodetodas, racist, sexist, climate, cha...   \n",
       "\n",
       "                                                stem  \\\n",
       "0  [polyscimajor, epa, chief, doesnt, think, carb...   \n",
       "1      [like, lack, evid, anthropogen, global, warm]   \n",
       "2  [rawstori, research, say, three, year, act, cl...   \n",
       "3  [todayinmak, wire, pivot, year, war, climat, c...   \n",
       "4  [soynoviodetoda, racist, sexist, climat, chang...   \n",
       "\n",
       "                                     clean_sentences  \\\n",
       "0  polyscimajor epa chief doesnt think carbon dio...   \n",
       "1    like lack evidence anthropogenic global warming   \n",
       "2  rawstory researchers say three years act clima...   \n",
       "3  todayinmaker wired pivotal year war climate ch...   \n",
       "4  soynoviodetodas racist sexist climate change d...   \n",
       "\n",
       "                                stem_clean_sentences  polarity  subjectivity  \\\n",
       "0  polyscimajor epa chief doesnt think carbon dio...  0.083333      0.166667   \n",
       "1             like lack evid anthropogen global warm  0.000000      0.000000   \n",
       "2  rawstori research say three year act climat ch... -0.300000      0.600000   \n",
       "3  todayinmak wire pivot year war climat chang ur...  0.500000      0.800000   \n",
       "4  soynoviodetoda racist sexist climat chang deni...  0.000000      0.000000   \n",
       "\n",
       "                               lemma_clean_sentences  \\\n",
       "0  polyscimajor epa chief doesnt think carbon dio...   \n",
       "1    like lack evidence anthropogenic global warming   \n",
       "2  rawstory researcher say three year act climate...   \n",
       "3  todayinmaker wired pivotal year war climate ch...   \n",
       "4  soynoviodetodas racist sexist climate change d...   \n",
       "\n",
       "                                        clean_tokens  \\\n",
       "0  [polyscimajor, epa, chief, doesnt, think, carb...   \n",
       "1  [like, lack, evidence, anthropogenic, global, ...   \n",
       "2  [rawstory, researchers, say, three, years, act...   \n",
       "3  [todayinmaker, wired, pivotal, year, war, clim...   \n",
       "4  [soynoviodetodas, racist, sexist, climate, cha...   \n",
       "\n",
       "                                          less_noise  \n",
       "0  polyscimajor epa chief doesnt think carbon dio...  \n",
       "1    like lack evidence anthropogenic global warming  \n",
       "2  rawstory researchers say three years act clima...  \n",
       "3  todayinmaker wired pivotal year war climate ch...  \n",
       "4  soynoviodetodas racist sexist climate change d...  "
      ]
     },
     "execution_count": 52,
     "metadata": {},
     "output_type": "execute_result"
    }
   ],
   "source": [
    "exp.head()"
   ]
  },
  {
   "cell_type": "markdown",
   "metadata": {},
   "source": [
    "# Train Test split with unbalanced\n",
    "\n",
    "the train test is a very valuable part of the training and assessing the model perfomance while also avoiding data leakage and overfitting of the model\n"
   ]
  },
  {
   "cell_type": "code",
   "execution_count": 53,
   "metadata": {},
   "outputs": [],
   "source": [
    "# importing necessary libraries\n",
    "from sklearn import datasets\n",
    "from sklearn.metrics import confusion_matrix\n",
    "from sklearn.model_selection import train_test_split\n",
    " \n",
    "# X -> features, y -> label\n",
    "y =  processed_df_train['sentiment']\n",
    "X =  processed_df_train['clean_sentences']\n",
    "\n",
    "# dividing X, y into train and test data\n",
    "X_train, X_test, y_train, y_test = train_test_split(X, y, \n",
    "                                random_state = 42)\n",
    "\n",
    "# extracting features\n",
    "from sklearn.feature_extraction.text import TfidfVectorizer\n",
    "\n",
    "vectorizer = TfidfVectorizer(ngram_range = (1, 3))\n",
    "V_train_X = vectorizer.fit_transform(X_train)\n",
    "V_test_X = vectorizer.transform(X_test)\n",
    "\n",
    "\n",
    "# Import the scaler module\n",
    "from sklearn import preprocessing\n",
    "scaler = preprocessing.MaxAbsScaler ()\n",
    "\n",
    "# Scale data\n",
    "X_train_scaled = scaler.fit_transform(V_train_X)\n",
    "X_test_scaled = scaler.transform(V_test_X)\n"
   ]
  },
  {
   "cell_type": "markdown",
   "metadata": {},
   "source": [
    "# Building A model with a few algorithms\n",
    "\n",
    "\n",
    "Training the models with the original data"
   ]
  },
  {
   "cell_type": "code",
   "execution_count": 214,
   "metadata": {},
   "outputs": [
    {
     "name": "stdout",
     "output_type": "stream",
     "text": [
      "Classification Report SVM\n",
      "              precision    recall  f1-score   support\n",
      "\n",
      "          -1       0.78      0.40      0.53       336\n",
      "           0       0.62      0.39      0.48       547\n",
      "           1       0.78      0.85      0.81      2178\n",
      "           2       0.70      0.83      0.76       894\n",
      "\n",
      "    accuracy                           0.74      3955\n",
      "   macro avg       0.72      0.61      0.64      3955\n",
      "weighted avg       0.74      0.74      0.73      3955\n",
      "\n"
     ]
    }
   ],
   "source": [
    "# training a linear SVM classifier\n",
    "from sklearn.svm import SVC\n",
    "svm_model_linear = SVC(kernel = 'linear', C = 1).fit(V_train_X,y_train)\n",
    "svm_predictions = svm_model_linear.predict(V_test_X)\n",
    " \n",
    "# model accuracy for V_test_X \n",
    "accuracy = svm_model_linear.score(V_test_X, y_test)\n",
    " \n",
    "# creating a confusion matrix\n",
    "cm2 = confusion_matrix(y_test, svm_predictions)\n",
    "\n",
    "print('Classification Report SVM')\n",
    "print(classification_report(y_test, svm_predictions))"
   ]
  },
  {
   "cell_type": "code",
   "execution_count": 56,
   "metadata": {},
   "outputs": [
    {
     "name": "stdout",
     "output_type": "stream",
     "text": [
      "Classification Report Naive\n",
      "              precision    recall  f1-score   support\n",
      "\n",
      "          -1       1.00      0.05      0.10       336\n",
      "           0       1.00      0.07      0.13       547\n",
      "           1       0.62      0.99      0.76      2178\n",
      "           2       0.92      0.42      0.57       894\n",
      "\n",
      "    accuracy                           0.65      3955\n",
      "   macro avg       0.88      0.38      0.39      3955\n",
      "weighted avg       0.77      0.65      0.57      3955\n",
      "\n"
     ]
    }
   ],
   "source": [
    "from sklearn.naive_bayes import MultinomialNB\n",
    "from sklearn import metrics\n",
    "\n",
    "nb_classifier = MultinomialNB()\n",
    "nb_classifier.fit(V_train_X, y_train)\n",
    "\n",
    "pred = nb_classifier.predict(V_test_X)\n",
    "metrics.accuracy_score(y_test, pred)\n",
    "\n",
    "print('Classification Report Naive')\n",
    "print(classification_report(y_test, pred))"
   ]
  },
  {
   "cell_type": "code",
   "execution_count": 57,
   "metadata": {},
   "outputs": [
    {
     "name": "stdout",
     "output_type": "stream",
     "text": [
      "Classification Report Linear logistics\n",
      "              precision    recall  f1-score   support\n",
      "\n",
      "          -1       0.78      0.35      0.49       336\n",
      "           0       0.62      0.37      0.46       547\n",
      "           1       0.76      0.88      0.82      2178\n",
      "           2       0.74      0.80      0.77       894\n",
      "\n",
      "    accuracy                           0.75      3955\n",
      "   macro avg       0.73      0.60      0.63      3955\n",
      "weighted avg       0.74      0.75      0.73      3955\n",
      "\n"
     ]
    }
   ],
   "source": [
    "# training a Naive classifierBayes \n",
    "from sklearn.linear_model import LogisticRegression\n",
    "lm_vt = LogisticRegression(multi_class='ovr').fit(X_train_scaled, y_train)\n",
    "pred_lr_vt = lm_vt.predict(X_test_scaled)\n",
    "\n",
    "print('Classification Report Linear logistics')\n",
    "print(classification_report(y_test, pred_lr_vt))\n"
   ]
  },
  {
   "cell_type": "markdown",
   "metadata": {},
   "source": [
    "# Experimenting data with less noise\n",
    "\n",
    "Creating models for the data with more removed tokens from the length of words and from the rare words removed as well as the redundant tokens"
   ]
  },
  {
   "cell_type": "code",
   "execution_count": 54,
   "metadata": {},
   "outputs": [],
   "source": [
    "# importing necessary libraries\n",
    "from sklearn import datasets\n",
    "from sklearn.metrics import confusion_matrix\n",
    "from sklearn.model_selection import train_test_split\n",
    " \n",
    "# X -> features, y -> label\n",
    "exp_y =  exp['sentiment']\n",
    "exp_X =  exp['less_noise']\n",
    "\n",
    "# dividing X, y into train and test data\n",
    "exp_X_train, exp_X_test, exp_y_train, exp_y_test = train_test_split(exp_X, exp_y, \n",
    "                                random_state = 42)\n",
    "\n",
    "# extracting features\n",
    "from sklearn.feature_extraction.text import TfidfVectorizer\n",
    "\n",
    "vectorizer = TfidfVectorizer()\n",
    "exp_V_train_X = vectorizer.fit_transform(exp_X_train)\n",
    "exp_V_test_X = vectorizer.transform(exp_X_test)\n",
    "\n",
    "\n",
    "# Import the scaler module\n",
    "from sklearn import preprocessing\n",
    "scaler = preprocessing.MaxAbsScaler()\n",
    "\n",
    "# Scale data\n",
    "exp_X_train_scaled = scaler.fit_transform(exp_V_train_X)\n",
    "exp_X_test_scaled = scaler.transform(exp_V_test_X)\n"
   ]
  },
  {
   "cell_type": "code",
   "execution_count": 160,
   "metadata": {},
   "outputs": [
    {
     "name": "stdout",
     "output_type": "stream",
     "text": [
      "Classification Report SVM\n",
      "              precision    recall  f1-score   support\n",
      "\n",
      "          -1       0.79      0.41      0.54       336\n",
      "           0       0.60      0.40      0.48       547\n",
      "           1       0.76      0.87      0.81      2178\n",
      "           2       0.75      0.78      0.77       894\n",
      "\n",
      "    accuracy                           0.75      3955\n",
      "   macro avg       0.72      0.62      0.65      3955\n",
      "weighted avg       0.74      0.75      0.73      3955\n",
      "\n"
     ]
    }
   ],
   "source": [
    "# training a linear SVM classifier\n",
    "from sklearn.svm import SVC\n",
    "exp_svm_model_linear = SVC(kernel = 'linear', C = 1).fit(exp_V_train_X,exp_y_train)\n",
    "exp_svm_predictions = svm_model_linear.predict(exp_V_test_X)\n",
    " \n",
    "# model accuracy for V_test_X \n",
    "accuracy = svm_model_linear.score(exp_V_test_X, exp_y_test)\n",
    " \n",
    "# creating a confusion matrix\n",
    "cm2 = confusion_matrix(exp_y_test, exp_svm_predictions)\n",
    "\n",
    "print('Classification Report SVM')\n",
    "print(classification_report(exp_y_test, exp_svm_predictions))"
   ]
  },
  {
   "cell_type": "code",
   "execution_count": 58,
   "metadata": {},
   "outputs": [
    {
     "name": "stdout",
     "output_type": "stream",
     "text": [
      "Classification Report Naive\n",
      "              precision    recall  f1-score   support\n",
      "\n",
      "          -1       1.00      0.02      0.04       336\n",
      "           0       0.97      0.06      0.11       547\n",
      "           1       0.62      0.99      0.76      2178\n",
      "           2       0.89      0.44      0.59       894\n",
      "\n",
      "    accuracy                           0.65      3955\n",
      "   macro avg       0.87      0.38      0.38      3955\n",
      "weighted avg       0.76      0.65      0.57      3955\n",
      "\n"
     ]
    }
   ],
   "source": [
    "from sklearn.naive_bayes import MultinomialNB\n",
    "from sklearn import metrics\n",
    "\n",
    "nb_classifier = MultinomialNB()\n",
    "nb_classifier.fit(exp_V_train_X, exp_y_train)\n",
    "\n",
    "exp_pred = nb_classifier.predict(exp_V_test_X)\n",
    "metrics.accuracy_score(exp_y_test, exp_pred)\n",
    "\n",
    "print('Classification Report Naive')\n",
    "print(classification_report(exp_y_test, exp_pred))"
   ]
  },
  {
   "cell_type": "code",
   "execution_count": 59,
   "metadata": {},
   "outputs": [
    {
     "name": "stdout",
     "output_type": "stream",
     "text": [
      "Classification Report Linear logistics\n",
      "              precision    recall  f1-score   support\n",
      "\n",
      "          -1       0.78      0.40      0.53       336\n",
      "           0       0.62      0.39      0.48       547\n",
      "           1       0.76      0.88      0.82      2178\n",
      "           2       0.75      0.77      0.76       894\n",
      "\n",
      "    accuracy                           0.75      3955\n",
      "   macro avg       0.73      0.61      0.65      3955\n",
      "weighted avg       0.74      0.75      0.74      3955\n",
      "\n"
     ]
    }
   ],
   "source": [
    "# training a Naive classifierBayes \n",
    "from sklearn.linear_model import LogisticRegression\n",
    "lm_vt = LogisticRegression(multi_class='ovr').fit(exp_X_train_scaled, exp_y_train)\n",
    "exp_pred_lr_vt = lm_vt.predict(exp_X_test_scaled)\n",
    "\n",
    "print('Classification Report Linear logistics')\n",
    "print(classification_report(exp_y_test, exp_pred_lr_vt))\n"
   ]
  },
  {
   "cell_type": "markdown",
   "metadata": {},
   "source": [
    "# Dealing with Imbalanced Data\n",
    "\n",
    "The tweets have four classes with each class having a value count different from the other, with this imbalance available, we can train the model to be ble to presict more on who are the Pros(1) but lack the predicting ability to predict if one is Anti(-1) this leads to a problem of bias, thus with sampling our data in three follo wing ways:\n",
    "\n",
    "\n",
    "  - Upsampling the classes with less data \n",
    "  - downsampling the class with the most data \n",
    "  - Using SMOTE\n",
    "\n",
    "By investigating each type of sampling we can then pick which one is better perfoming from the f1 score, we can then follow that sammpling to make the model perfom better"
   ]
  },
  {
   "cell_type": "code",
   "execution_count": 60,
   "metadata": {},
   "outputs": [
    {
     "data": {
      "text/plain": [
       " 1    8530\n",
       " 2    3640\n",
       " 0    2353\n",
       "-1    1296\n",
       "Name: sentiment, dtype: int64"
      ]
     },
     "execution_count": 60,
     "metadata": {},
     "output_type": "execute_result"
    }
   ],
   "source": [
    "processed_df_train.sentiment.value_counts()"
   ]
  },
  {
   "cell_type": "markdown",
   "metadata": {},
   "source": [
    "## Creating the sampled data for upsampling the data to max class\n",
    "\n",
    "creating the sampled data to the maximum class and investigate the perfomance of the model, since we used duplicated data we should also expect the model to overfit"
   ]
  },
  {
   "cell_type": "code",
   "execution_count": 61,
   "metadata": {},
   "outputs": [],
   "source": [
    "# Pick a class size of roughly half the size of the largest size\n",
    "class_size = 8530\n",
    "\n",
    "# Downsample classes with more than 5000 observations\n",
    "pro_downsampled = resample(clean_df_train[clean_df_train['sentiment']==1],\n",
    "                          replace=False, # sample without replacement (no need to duplicate observations)\n",
    "                          n_samples= class_size, # match number in class_size\n",
    "                          random_state=27) # reproducible results\n",
    "\n",
    "# Upsample classes with less than 5000 observations\n",
    "neutral_upsampled = resample(clean_df_train[clean_df_train['sentiment']==0],\n",
    "                          replace=True, # sample with replacement (we need to duplicate observations)\n",
    "                          n_samples=class_size, # match number in class_size\n",
    "                          random_state=27) # reproducible results\n",
    "\n",
    "# Upsample classes with less than 5000 observations\n",
    "anti_upsampled = resample(clean_df_train[clean_df_train['sentiment']==-1],\n",
    "                          replace=True, # sample with replacement (we need to duplicate observations)\n",
    "                          n_samples=class_size, # match number in class_size\n",
    "                          random_state=27) # reproducible results\n",
    "\n",
    "# Upsample classes with less than 5000 observations\n",
    "news_upsampled = resample(clean_df_train[clean_df_train['sentiment']==2],\n",
    "                          replace=True, # sample with replacement (we need to duplicate observations)\n",
    "                          n_samples=class_size, # match number in class_size\n",
    "                          random_state=27) # reproducible results\n",
    "\n",
    "\n",
    "\n"
   ]
  },
  {
   "cell_type": "code",
   "execution_count": 62,
   "metadata": {},
   "outputs": [
    {
     "data": {
      "text/plain": [
       " 1    8530\n",
       " 0    8530\n",
       "-1    8530\n",
       " 2    8530\n",
       "Name: sentiment, dtype: int64"
      ]
     },
     "execution_count": 62,
     "metadata": {},
     "output_type": "execute_result"
    }
   ],
   "source": [
    "# Combine sampled classes with majority class\n",
    "up_sampled = pd.concat([pro_downsampled, neutral_upsampled, anti_upsampled, news_upsampled])\n",
    "\n",
    "# Check new class counts\n",
    "up_sampled['sentiment'].value_counts()\n"
   ]
  },
  {
   "cell_type": "code",
   "execution_count": 17,
   "metadata": {},
   "outputs": [
    {
     "data": {
      "text/plain": [
       "(34120, 3)"
      ]
     },
     "execution_count": 17,
     "metadata": {},
     "output_type": "execute_result"
    }
   ],
   "source": [
    "up_sampled.shape"
   ]
  },
  {
   "cell_type": "code",
   "execution_count": 168,
   "metadata": {},
   "outputs": [
    {
     "data": {
      "text/html": [
       "<div>\n",
       "<style scoped>\n",
       "    .dataframe tbody tr th:only-of-type {\n",
       "        vertical-align: middle;\n",
       "    }\n",
       "\n",
       "    .dataframe tbody tr th {\n",
       "        vertical-align: top;\n",
       "    }\n",
       "\n",
       "    .dataframe thead th {\n",
       "        text-align: right;\n",
       "    }\n",
       "</style>\n",
       "<table border=\"1\" class=\"dataframe\">\n",
       "  <thead>\n",
       "    <tr style=\"text-align: right;\">\n",
       "      <th></th>\n",
       "      <th>sentiment</th>\n",
       "      <th>message</th>\n",
       "      <th>tweetid</th>\n",
       "      <th>tokens</th>\n",
       "      <th>token_no_stop_word</th>\n",
       "      <th>lemma</th>\n",
       "      <th>stem</th>\n",
       "      <th>clean_sentences</th>\n",
       "      <th>stem_clean_sentences</th>\n",
       "      <th>polarity</th>\n",
       "      <th>subjectivity</th>\n",
       "      <th>lemma_clean_sentences</th>\n",
       "      <th>clean_tokens</th>\n",
       "      <th>less_noise</th>\n",
       "    </tr>\n",
       "  </thead>\n",
       "  <tbody>\n",
       "    <tr>\n",
       "      <th>11729</th>\n",
       "      <td>1</td>\n",
       "      <td>ubcforestry funding from genomebc will supposa...</td>\n",
       "      <td>977844</td>\n",
       "      <td>[ubcforestry, funding, from, genomebc, will, s...</td>\n",
       "      <td>[ubcforestry, funding, genomebc, supposallynai...</td>\n",
       "      <td>[ubcforestry, funding, genomebc, supposallynai...</td>\n",
       "      <td>[ubcforestri, fund, genomebc, supposallynaitke...</td>\n",
       "      <td>ubcforestry funding genomebc supposallynaitken...</td>\n",
       "      <td>ubcforestri fund genomebc supposallynaitken te...</td>\n",
       "      <td>0.000000</td>\n",
       "      <td>0.000000</td>\n",
       "      <td>ubcforestry funding genomebc supposallynaitken...</td>\n",
       "      <td>[ubcforestry, funding, genomebc, supposallynai...</td>\n",
       "      <td>ubcforestry funding genomebc supposallynaitken...</td>\n",
       "    </tr>\n",
       "    <tr>\n",
       "      <th>8308</th>\n",
       "      <td>1</td>\n",
       "      <td>yadimoiina gag orders sure hes definitely gree...</td>\n",
       "      <td>441956</td>\n",
       "      <td>[yadimoiina, gag, orders, sure, hes, definitel...</td>\n",
       "      <td>[yadimoiina, gag, orders, sure, hes, definitel...</td>\n",
       "      <td>[yadimoiina, gag, order, sure, he, definitely,...</td>\n",
       "      <td>[yadimoiina, gag, order, sure, hes, definit, g...</td>\n",
       "      <td>yadimoiina gag orders sure hes definitely gree...</td>\n",
       "      <td>yadimoiina gag order sure hes definit green do...</td>\n",
       "      <td>0.150000</td>\n",
       "      <td>0.594444</td>\n",
       "      <td>yadimoiina gag order sure he definitely green ...</td>\n",
       "      <td>[yadimoiina, gag, orders, sure, hes, definitel...</td>\n",
       "      <td>yadimoiina gag orders sure hes definitely gree...</td>\n",
       "    </tr>\n",
       "    <tr>\n",
       "      <th>7159</th>\n",
       "      <td>1</td>\n",
       "      <td>pattonoswalt not ominous at all he also wants ...</td>\n",
       "      <td>978938</td>\n",
       "      <td>[pattonoswalt, not, ominous, at, all, he, also...</td>\n",
       "      <td>[pattonoswalt, ominous, also, wants, names, an...</td>\n",
       "      <td>[pattonoswalt, ominous, also, want, name, anyo...</td>\n",
       "      <td>[pattonoswalt, omin, also, want, name, anyon, ...</td>\n",
       "      <td>pattonoswalt ominous also wants names anyone w...</td>\n",
       "      <td>pattonoswalt omin also want name anyon work cl...</td>\n",
       "      <td>0.200000</td>\n",
       "      <td>0.100000</td>\n",
       "      <td>pattonoswalt ominous also want name anyone wor...</td>\n",
       "      <td>[pattonoswalt, ominous, also, wants, names, an...</td>\n",
       "      <td>pattonoswalt ominous also wants names anyone w...</td>\n",
       "    </tr>\n",
       "    <tr>\n",
       "      <th>5644</th>\n",
       "      <td>1</td>\n",
       "      <td>melissajpeltier in case you forgot about that ...</td>\n",
       "      <td>587737</td>\n",
       "      <td>[melissajpeltier, in, case, you, forgot, about...</td>\n",
       "      <td>[melissajpeltier, case, forgot, chinese, hoax,...</td>\n",
       "      <td>[melissajpeltier, case, forgot, chinese, hoax,...</td>\n",
       "      <td>[melissajpelti, case, forgot, chines, hoax, gl...</td>\n",
       "      <td>melissajpeltier case forgot chinese hoax globa...</td>\n",
       "      <td>melissajpelti case forgot chines hoax global w...</td>\n",
       "      <td>0.000000</td>\n",
       "      <td>0.000000</td>\n",
       "      <td>melissajpeltier case forgot chinese hoax globa...</td>\n",
       "      <td>[melissajpeltier, case, forgot, chinese, hoax,...</td>\n",
       "      <td>melissajpeltier case forgot chinese hoax globa...</td>\n",
       "    </tr>\n",
       "    <tr>\n",
       "      <th>6732</th>\n",
       "      <td>1</td>\n",
       "      <td>sethmacfarlane hrc proposes installing half a ...</td>\n",
       "      <td>804767</td>\n",
       "      <td>[sethmacfarlane, hrc, proposes, installing, ha...</td>\n",
       "      <td>[sethmacfarlane, hrc, proposes, installing, ha...</td>\n",
       "      <td>[sethmacfarlane, hrc, proposes, installing, ha...</td>\n",
       "      <td>[sethmacfarlan, hrc, propos, instal, half, bil...</td>\n",
       "      <td>sethmacfarlane hrc proposes installing half bi...</td>\n",
       "      <td>sethmacfarlan hrc propos instal half billion s...</td>\n",
       "      <td>0.041667</td>\n",
       "      <td>0.250000</td>\n",
       "      <td>sethmacfarlane hrc proposes installing half bi...</td>\n",
       "      <td>[sethmacfarlane, hrc, proposes, installing, ha...</td>\n",
       "      <td>sethmacfarlane hrc proposes installing half bi...</td>\n",
       "    </tr>\n",
       "  </tbody>\n",
       "</table>\n",
       "</div>"
      ],
      "text/plain": [
       "       sentiment                                            message  tweetid  \\\n",
       "11729          1  ubcforestry funding from genomebc will supposa...   977844   \n",
       "8308           1  yadimoiina gag orders sure hes definitely gree...   441956   \n",
       "7159           1  pattonoswalt not ominous at all he also wants ...   978938   \n",
       "5644           1  melissajpeltier in case you forgot about that ...   587737   \n",
       "6732           1  sethmacfarlane hrc proposes installing half a ...   804767   \n",
       "\n",
       "                                                  tokens  \\\n",
       "11729  [ubcforestry, funding, from, genomebc, will, s...   \n",
       "8308   [yadimoiina, gag, orders, sure, hes, definitel...   \n",
       "7159   [pattonoswalt, not, ominous, at, all, he, also...   \n",
       "5644   [melissajpeltier, in, case, you, forgot, about...   \n",
       "6732   [sethmacfarlane, hrc, proposes, installing, ha...   \n",
       "\n",
       "                                      token_no_stop_word  \\\n",
       "11729  [ubcforestry, funding, genomebc, supposallynai...   \n",
       "8308   [yadimoiina, gag, orders, sure, hes, definitel...   \n",
       "7159   [pattonoswalt, ominous, also, wants, names, an...   \n",
       "5644   [melissajpeltier, case, forgot, chinese, hoax,...   \n",
       "6732   [sethmacfarlane, hrc, proposes, installing, ha...   \n",
       "\n",
       "                                                   lemma  \\\n",
       "11729  [ubcforestry, funding, genomebc, supposallynai...   \n",
       "8308   [yadimoiina, gag, order, sure, he, definitely,...   \n",
       "7159   [pattonoswalt, ominous, also, want, name, anyo...   \n",
       "5644   [melissajpeltier, case, forgot, chinese, hoax,...   \n",
       "6732   [sethmacfarlane, hrc, proposes, installing, ha...   \n",
       "\n",
       "                                                    stem  \\\n",
       "11729  [ubcforestri, fund, genomebc, supposallynaitke...   \n",
       "8308   [yadimoiina, gag, order, sure, hes, definit, g...   \n",
       "7159   [pattonoswalt, omin, also, want, name, anyon, ...   \n",
       "5644   [melissajpelti, case, forgot, chines, hoax, gl...   \n",
       "6732   [sethmacfarlan, hrc, propos, instal, half, bil...   \n",
       "\n",
       "                                         clean_sentences  \\\n",
       "11729  ubcforestry funding genomebc supposallynaitken...   \n",
       "8308   yadimoiina gag orders sure hes definitely gree...   \n",
       "7159   pattonoswalt ominous also wants names anyone w...   \n",
       "5644   melissajpeltier case forgot chinese hoax globa...   \n",
       "6732   sethmacfarlane hrc proposes installing half bi...   \n",
       "\n",
       "                                    stem_clean_sentences  polarity  \\\n",
       "11729  ubcforestri fund genomebc supposallynaitken te...  0.000000   \n",
       "8308   yadimoiina gag order sure hes definit green do...  0.150000   \n",
       "7159   pattonoswalt omin also want name anyon work cl...  0.200000   \n",
       "5644   melissajpelti case forgot chines hoax global w...  0.000000   \n",
       "6732   sethmacfarlan hrc propos instal half billion s...  0.041667   \n",
       "\n",
       "       subjectivity                              lemma_clean_sentences  \\\n",
       "11729      0.000000  ubcforestry funding genomebc supposallynaitken...   \n",
       "8308       0.594444  yadimoiina gag order sure he definitely green ...   \n",
       "7159       0.100000  pattonoswalt ominous also want name anyone wor...   \n",
       "5644       0.000000  melissajpeltier case forgot chinese hoax globa...   \n",
       "6732       0.250000  sethmacfarlane hrc proposes installing half bi...   \n",
       "\n",
       "                                            clean_tokens  \\\n",
       "11729  [ubcforestry, funding, genomebc, supposallynai...   \n",
       "8308   [yadimoiina, gag, orders, sure, hes, definitel...   \n",
       "7159   [pattonoswalt, ominous, also, wants, names, an...   \n",
       "5644   [melissajpeltier, case, forgot, chinese, hoax,...   \n",
       "6732   [sethmacfarlane, hrc, proposes, installing, ha...   \n",
       "\n",
       "                                              less_noise  \n",
       "11729  ubcforestry funding genomebc supposallynaitken...  \n",
       "8308   yadimoiina gag orders sure hes definitely gree...  \n",
       "7159   pattonoswalt ominous also wants names anyone w...  \n",
       "5644   melissajpeltier case forgot chinese hoax globa...  \n",
       "6732   sethmacfarlane hrc proposes installing half bi...  "
      ]
     },
     "execution_count": 168,
     "metadata": {},
     "output_type": "execute_result"
    }
   ],
   "source": [
    "up_sampled.head()"
   ]
  },
  {
   "cell_type": "markdown",
   "metadata": {},
   "source": [
    "## let us have a look at the new distribution of data after upsampling\n",
    "\n",
    "since we up sampled the data all the data reaches the highest point that the high class had"
   ]
  },
  {
   "cell_type": "code",
   "execution_count": 169,
   "metadata": {},
   "outputs": [
    {
     "data": {
      "image/png": "[encoded data removed]",
      "text/plain": [
       "<Figure size 921.6x633.6 with 1 Axes>"
      ]
     },
     "metadata": {},
     "output_type": "display_data"
    }
   ],
   "source": [
    "labels = ['Pro', 'News', 'Neutral', 'Anti'] \n",
    "\n",
    "# Get all possible labels\n",
    "plt.bar(labels,df_train['sentiment'].value_counts() ,color='green')\n",
    "plt.bar(labels,up_sampled['sentiment'].value_counts() ,color='orange')\n",
    "plt.xticks(labels, ['Pro', 'News', 'Neutral', 'Anti'] )\n",
    "plt.ylabel(\"# of observations\")\n",
    "plt.legend(['original','resampled'])\n",
    "plt.show()"
   ]
  },
  {
   "cell_type": "markdown",
   "metadata": {},
   "source": [
    "# Train Test split with balanced upsampled data \n",
    "\n",
    "\n",
    "The experiment on the upsampled data can help dertemine if the perfomance is better with upsampling "
   ]
  },
  {
   "cell_type": "code",
   "execution_count": 74,
   "metadata": {},
   "outputs": [],
   "source": [
    "# importing necessary libraries\n",
    "from sklearn import datasets\n",
    "from sklearn.metrics import confusion_matrix\n",
    "from sklearn.model_selection import train_test_split\n",
    " \n",
    "# X -> features, y -> label\n",
    "up_y =  up_sampled['sentiment']\n",
    "up_X =  up_sampled['message']\n",
    "\n",
    "# dividing X, y into train and test data\n",
    "up_X_train, up_X_test, up_y_train, up_y_test = train_test_split(up_X, up_y, \n",
    "                                random_state = 42)\n",
    "\n",
    "# extracting features\n",
    "from sklearn.feature_extraction.text import TfidfVectorizer\n",
    "\n",
    "vectorizer = TfidfVectorizer()\n",
    "up_V_train_X = vectorizer.fit_transform(up_X_train)\n",
    "up_V_test_X = vectorizer.transform(up_X_test)\n",
    "\n",
    "\n",
    "# Import the scaler module\n",
    "from sklearn import preprocessing\n",
    "scaler = preprocessing.MaxAbsScaler ()\n",
    "\n",
    "# Scale data\n",
    "up_X_train_scaled = scaler.fit_transform(up_V_train_X)\n",
    "up_X_test_scaled = scaler.transform(up_V_test_X)\n"
   ]
  },
  {
   "cell_type": "markdown",
   "metadata": {},
   "source": [
    "# modelling "
   ]
  },
  {
   "cell_type": "code",
   "execution_count": 220,
   "metadata": {},
   "outputs": [
    {
     "name": "stdout",
     "output_type": "stream",
     "text": [
      "Classification Report SVM\n",
      "              precision    recall  f1-score   support\n",
      "\n",
      "          -1       0.94      0.99      0.96      2070\n",
      "           0       0.88      0.93      0.90      2134\n",
      "           1       0.89      0.75      0.82      2147\n",
      "           2       0.89      0.95      0.92      2179\n",
      "\n",
      "    accuracy                           0.90      8530\n",
      "   macro avg       0.90      0.90      0.90      8530\n",
      "weighted avg       0.90      0.90      0.90      8530\n",
      "\n"
     ]
    }
   ],
   "source": [
    "# training a linear SVM classifier\n",
    "from sklearn.svm import SVC\n",
    "svm_model_linear = SVC(kernel = 'linear', C = 1).fit(up_V_train_X,up_y_train)\n",
    "up_svm_predictions = svm_model_linear.predict(up_V_test_X)\n",
    " \n",
    "# model accuracy for V_test_X \n",
    "accuracy = svm_model_linear.score(up_V_test_X, up_y_test)\n",
    " \n",
    "# creating a confusion matrix\n",
    "cm2 = confusion_matrix(up_y_test, up_svm_predictions)\n",
    "\n",
    "print('Classification Report SVM')\n",
    "print(classification_report(up_y_test, up_svm_predictions))"
   ]
  },
  {
   "cell_type": "code",
   "execution_count": 221,
   "metadata": {},
   "outputs": [
    {
     "name": "stdout",
     "output_type": "stream",
     "text": [
      "Classification Report Linear logistics\n",
      "              precision    recall  f1-score   support\n",
      "\n",
      "          -1       0.91      0.96      0.94      2070\n",
      "           0       0.84      0.87      0.86      2134\n",
      "           1       0.86      0.69      0.77      2147\n",
      "           2       0.84      0.93      0.89      2179\n",
      "\n",
      "    accuracy                           0.86      8530\n",
      "   macro avg       0.86      0.86      0.86      8530\n",
      "weighted avg       0.86      0.86      0.86      8530\n",
      "\n"
     ]
    }
   ],
   "source": [
    "# training a Linear Logistics \n",
    "from sklearn.linear_model import LogisticRegression\n",
    "lm_vt = LogisticRegression(multi_class='ovr').fit(up_V_train_X, up_y_train)\n",
    "up_pred_lr_vt = lm_vt.predict(up_V_test_X)\n",
    "\n",
    "# printing the classification report\n",
    "print('Classification Report Linear logistics')\n",
    "print(classification_report(up_y_test, up_pred_lr_vt))"
   ]
  },
  {
   "cell_type": "code",
   "execution_count": 223,
   "metadata": {},
   "outputs": [
    {
     "name": "stdout",
     "output_type": "stream",
     "text": [
      "Classification Report Linear logistics\n",
      "              precision    recall  f1-score   support\n",
      "\n",
      "          -1       0.94      0.99      0.97      2070\n",
      "           0       0.88      0.95      0.92      2134\n",
      "           1       0.93      0.75      0.83      2147\n",
      "           2       0.90      0.96      0.93      2179\n",
      "\n",
      "    accuracy                           0.91      8530\n",
      "   macro avg       0.91      0.91      0.91      8530\n",
      "weighted avg       0.91      0.91      0.91      8530\n",
      "\n"
     ]
    }
   ],
   "source": [
    "# Training the scaled data for the Linear Logistics\n",
    "\n",
    "slm_vt = LogisticRegression(multi_class='ovr').fit(up_X_train_scaled, up_y_train)\n",
    "up_spred_lr_vt = slm_vt.predict(up_X_test_scaled)\n",
    "print('Classification Report Linear logistics')\n",
    "print(classification_report(up_y_test,up_spred_lr_vt))"
   ]
  },
  {
   "cell_type": "markdown",
   "metadata": {},
   "source": [
    "The models seem to perfom better with the `upsampled data`, thus we use it to further conduct our experiments and hypertuning "
   ]
  },
  {
   "cell_type": "markdown",
   "metadata": {},
   "source": [
    "## Creating the Data for donwsampling to min class\n",
    "\n",
    "Creating a data frame with down sampled data to min data available in the classes, which is class Anti(-1) with the count of 1296"
   ]
  },
  {
   "cell_type": "code",
   "execution_count": 64,
   "metadata": {},
   "outputs": [],
   "source": [
    "# Pick a class size of roughly half the size of the largest size\n",
    "min_class_size = 1296\n",
    "\n",
    "# Downsample classes with more than 5000 observations\n",
    "pro_down_sampled = resample(processed_df_train[processed_df_train['sentiment']==1],\n",
    "                          replace=False, # sample without replacement (no need to duplicate observations)\n",
    "                          n_samples= min_class_size, # match number in class_size\n",
    "                          random_state=27) # reproducible results\n",
    "\n",
    "# Upsample classes with less than 5000 observations\n",
    "neutral_down_sampled = resample(processed_df_train[processed_df_train['sentiment']==0],\n",
    "                          replace=True, # sample with replacement (we need to duplicate observations)\n",
    "                          n_samples= min_class_size, # match number in class_size\n",
    "                          random_state=27) # reproducible results\n",
    "\n",
    "# Upsample classes with less than 5000 observations\n",
    "anti_down_sampled = resample(processed_df_train[processed_df_train['sentiment']==-1],\n",
    "                          replace=True, # sample with replacement (we need to duplicate observations)\n",
    "                          n_samples= min_class_size, # match number in class_size\n",
    "                          random_state=27) # reproducible results\n",
    "\n",
    "# Upsample classes with less than 5000 observations\n",
    "news_down_sampled = resample(processed_df_train[processed_df_train['sentiment']==2],\n",
    "                          replace=True, # sample with replacement (we need to duplicate observations)\n",
    "                          n_samples= min_class_size, # match number in class_size\n",
    "                          random_state=27) # reproducible results\n",
    "\n",
    "\n",
    "\n"
   ]
  },
  {
   "cell_type": "code",
   "execution_count": 66,
   "metadata": {},
   "outputs": [
    {
     "data": {
      "text/plain": [
       " 1    1296\n",
       " 0    1296\n",
       "-1    1296\n",
       " 2    1296\n",
       "Name: sentiment, dtype: int64"
      ]
     },
     "execution_count": 66,
     "metadata": {},
     "output_type": "execute_result"
    }
   ],
   "source": [
    "# Combine sampled classes with majority class\n",
    "down_sampled = pd.concat([pro_down_sampled, neutral_down_sampled, anti_down_sampled, news_down_sampled])\n",
    "\n",
    "# Check new class counts\n",
    "down_sampled['sentiment'].value_counts()\n"
   ]
  },
  {
   "cell_type": "code",
   "execution_count": 67,
   "metadata": {},
   "outputs": [
    {
     "data": {
      "text/plain": [
       "(5184, 14)"
      ]
     },
     "execution_count": 67,
     "metadata": {},
     "output_type": "execute_result"
    }
   ],
   "source": [
    "down_sampled.shape"
   ]
  },
  {
   "cell_type": "code",
   "execution_count": 68,
   "metadata": {},
   "outputs": [
    {
     "data": {
      "text/html": [
       "<div>\n",
       "<style scoped>\n",
       "    .dataframe tbody tr th:only-of-type {\n",
       "        vertical-align: middle;\n",
       "    }\n",
       "\n",
       "    .dataframe tbody tr th {\n",
       "        vertical-align: top;\n",
       "    }\n",
       "\n",
       "    .dataframe thead th {\n",
       "        text-align: right;\n",
       "    }\n",
       "</style>\n",
       "<table border=\"1\" class=\"dataframe\">\n",
       "  <thead>\n",
       "    <tr style=\"text-align: right;\">\n",
       "      <th></th>\n",
       "      <th>sentiment</th>\n",
       "      <th>message</th>\n",
       "      <th>tweetid</th>\n",
       "      <th>tokens</th>\n",
       "      <th>token_no_stop_word</th>\n",
       "      <th>lemma</th>\n",
       "      <th>stem</th>\n",
       "      <th>clean_sentences</th>\n",
       "      <th>stem_clean_sentences</th>\n",
       "      <th>polarity</th>\n",
       "      <th>subjectivity</th>\n",
       "      <th>lemma_clean_sentences</th>\n",
       "      <th>clean_tokens</th>\n",
       "      <th>less_noise</th>\n",
       "    </tr>\n",
       "  </thead>\n",
       "  <tbody>\n",
       "    <tr>\n",
       "      <th>11729</th>\n",
       "      <td>1</td>\n",
       "      <td>ubcforestry funding from genomebc will supposa...</td>\n",
       "      <td>977844</td>\n",
       "      <td>[ubcforestry, funding, from, genomebc, will, s...</td>\n",
       "      <td>[ubcforestry, funding, genomebc, supposallynai...</td>\n",
       "      <td>[ubcforestry, funding, genomebc, supposallynai...</td>\n",
       "      <td>[ubcforestri, fund, genomebc, supposallynaitke...</td>\n",
       "      <td>ubcforestry funding genomebc supposallynaitken...</td>\n",
       "      <td>ubcforestri fund genomebc supposallynaitken te...</td>\n",
       "      <td>0.000000</td>\n",
       "      <td>0.000000</td>\n",
       "      <td>ubcforestry funding genomebc supposallynaitken...</td>\n",
       "      <td>[ubcforestry, funding, genomebc, supposallynai...</td>\n",
       "      <td>ubcforestry funding genomebc supposallynaitken...</td>\n",
       "    </tr>\n",
       "    <tr>\n",
       "      <th>8308</th>\n",
       "      <td>1</td>\n",
       "      <td>yadimoiina gag orders sure hes definitely gree...</td>\n",
       "      <td>441956</td>\n",
       "      <td>[yadimoiina, gag, orders, sure, hes, definitel...</td>\n",
       "      <td>[yadimoiina, gag, orders, sure, hes, definitel...</td>\n",
       "      <td>[yadimoiina, gag, order, sure, he, definitely,...</td>\n",
       "      <td>[yadimoiina, gag, order, sure, hes, definit, g...</td>\n",
       "      <td>yadimoiina gag orders sure hes definitely gree...</td>\n",
       "      <td>yadimoiina gag order sure hes definit green do...</td>\n",
       "      <td>0.150000</td>\n",
       "      <td>0.594444</td>\n",
       "      <td>yadimoiina gag order sure he definitely green ...</td>\n",
       "      <td>[yadimoiina, gag, orders, sure, hes, definitel...</td>\n",
       "      <td>yadimoiina gag orders sure hes definitely gree...</td>\n",
       "    </tr>\n",
       "    <tr>\n",
       "      <th>7159</th>\n",
       "      <td>1</td>\n",
       "      <td>pattonoswalt not ominous at all he also wants ...</td>\n",
       "      <td>978938</td>\n",
       "      <td>[pattonoswalt, not, ominous, at, all, he, also...</td>\n",
       "      <td>[pattonoswalt, ominous, also, wants, names, an...</td>\n",
       "      <td>[pattonoswalt, ominous, also, want, name, anyo...</td>\n",
       "      <td>[pattonoswalt, omin, also, want, name, anyon, ...</td>\n",
       "      <td>pattonoswalt ominous also wants names anyone w...</td>\n",
       "      <td>pattonoswalt omin also want name anyon work cl...</td>\n",
       "      <td>0.200000</td>\n",
       "      <td>0.100000</td>\n",
       "      <td>pattonoswalt ominous also want name anyone wor...</td>\n",
       "      <td>[pattonoswalt, ominous, also, wants, names, an...</td>\n",
       "      <td>pattonoswalt ominous also wants names anyone w...</td>\n",
       "    </tr>\n",
       "    <tr>\n",
       "      <th>5644</th>\n",
       "      <td>1</td>\n",
       "      <td>melissajpeltier in case you forgot about that ...</td>\n",
       "      <td>587737</td>\n",
       "      <td>[melissajpeltier, in, case, you, forgot, about...</td>\n",
       "      <td>[melissajpeltier, case, forgot, chinese, hoax,...</td>\n",
       "      <td>[melissajpeltier, case, forgot, chinese, hoax,...</td>\n",
       "      <td>[melissajpelti, case, forgot, chines, hoax, gl...</td>\n",
       "      <td>melissajpeltier case forgot chinese hoax globa...</td>\n",
       "      <td>melissajpelti case forgot chines hoax global w...</td>\n",
       "      <td>0.000000</td>\n",
       "      <td>0.000000</td>\n",
       "      <td>melissajpeltier case forgot chinese hoax globa...</td>\n",
       "      <td>[melissajpeltier, case, forgot, chinese, hoax,...</td>\n",
       "      <td>melissajpeltier case forgot chinese hoax globa...</td>\n",
       "    </tr>\n",
       "    <tr>\n",
       "      <th>6732</th>\n",
       "      <td>1</td>\n",
       "      <td>sethmacfarlane hrc proposes installing half a ...</td>\n",
       "      <td>804767</td>\n",
       "      <td>[sethmacfarlane, hrc, proposes, installing, ha...</td>\n",
       "      <td>[sethmacfarlane, hrc, proposes, installing, ha...</td>\n",
       "      <td>[sethmacfarlane, hrc, proposes, installing, ha...</td>\n",
       "      <td>[sethmacfarlan, hrc, propos, instal, half, bil...</td>\n",
       "      <td>sethmacfarlane hrc proposes installing half bi...</td>\n",
       "      <td>sethmacfarlan hrc propos instal half billion s...</td>\n",
       "      <td>0.041667</td>\n",
       "      <td>0.250000</td>\n",
       "      <td>sethmacfarlane hrc proposes installing half bi...</td>\n",
       "      <td>[sethmacfarlane, hrc, proposes, installing, ha...</td>\n",
       "      <td>sethmacfarlane hrc proposes installing half bi...</td>\n",
       "    </tr>\n",
       "  </tbody>\n",
       "</table>\n",
       "</div>"
      ],
      "text/plain": [
       "       sentiment                                            message  tweetid  \\\n",
       "11729          1  ubcforestry funding from genomebc will supposa...   977844   \n",
       "8308           1  yadimoiina gag orders sure hes definitely gree...   441956   \n",
       "7159           1  pattonoswalt not ominous at all he also wants ...   978938   \n",
       "5644           1  melissajpeltier in case you forgot about that ...   587737   \n",
       "6732           1  sethmacfarlane hrc proposes installing half a ...   804767   \n",
       "\n",
       "                                                  tokens  \\\n",
       "11729  [ubcforestry, funding, from, genomebc, will, s...   \n",
       "8308   [yadimoiina, gag, orders, sure, hes, definitel...   \n",
       "7159   [pattonoswalt, not, ominous, at, all, he, also...   \n",
       "5644   [melissajpeltier, in, case, you, forgot, about...   \n",
       "6732   [sethmacfarlane, hrc, proposes, installing, ha...   \n",
       "\n",
       "                                      token_no_stop_word  \\\n",
       "11729  [ubcforestry, funding, genomebc, supposallynai...   \n",
       "8308   [yadimoiina, gag, orders, sure, hes, definitel...   \n",
       "7159   [pattonoswalt, ominous, also, wants, names, an...   \n",
       "5644   [melissajpeltier, case, forgot, chinese, hoax,...   \n",
       "6732   [sethmacfarlane, hrc, proposes, installing, ha...   \n",
       "\n",
       "                                                   lemma  \\\n",
       "11729  [ubcforestry, funding, genomebc, supposallynai...   \n",
       "8308   [yadimoiina, gag, order, sure, he, definitely,...   \n",
       "7159   [pattonoswalt, ominous, also, want, name, anyo...   \n",
       "5644   [melissajpeltier, case, forgot, chinese, hoax,...   \n",
       "6732   [sethmacfarlane, hrc, proposes, installing, ha...   \n",
       "\n",
       "                                                    stem  \\\n",
       "11729  [ubcforestri, fund, genomebc, supposallynaitke...   \n",
       "8308   [yadimoiina, gag, order, sure, hes, definit, g...   \n",
       "7159   [pattonoswalt, omin, also, want, name, anyon, ...   \n",
       "5644   [melissajpelti, case, forgot, chines, hoax, gl...   \n",
       "6732   [sethmacfarlan, hrc, propos, instal, half, bil...   \n",
       "\n",
       "                                         clean_sentences  \\\n",
       "11729  ubcforestry funding genomebc supposallynaitken...   \n",
       "8308   yadimoiina gag orders sure hes definitely gree...   \n",
       "7159   pattonoswalt ominous also wants names anyone w...   \n",
       "5644   melissajpeltier case forgot chinese hoax globa...   \n",
       "6732   sethmacfarlane hrc proposes installing half bi...   \n",
       "\n",
       "                                    stem_clean_sentences  polarity  \\\n",
       "11729  ubcforestri fund genomebc supposallynaitken te...  0.000000   \n",
       "8308   yadimoiina gag order sure hes definit green do...  0.150000   \n",
       "7159   pattonoswalt omin also want name anyon work cl...  0.200000   \n",
       "5644   melissajpelti case forgot chines hoax global w...  0.000000   \n",
       "6732   sethmacfarlan hrc propos instal half billion s...  0.041667   \n",
       "\n",
       "       subjectivity                              lemma_clean_sentences  \\\n",
       "11729      0.000000  ubcforestry funding genomebc supposallynaitken...   \n",
       "8308       0.594444  yadimoiina gag order sure he definitely green ...   \n",
       "7159       0.100000  pattonoswalt ominous also want name anyone wor...   \n",
       "5644       0.000000  melissajpeltier case forgot chinese hoax globa...   \n",
       "6732       0.250000  sethmacfarlane hrc proposes installing half bi...   \n",
       "\n",
       "                                            clean_tokens  \\\n",
       "11729  [ubcforestry, funding, genomebc, supposallynai...   \n",
       "8308   [yadimoiina, gag, orders, sure, hes, definitel...   \n",
       "7159   [pattonoswalt, ominous, also, wants, names, an...   \n",
       "5644   [melissajpeltier, case, forgot, chinese, hoax,...   \n",
       "6732   [sethmacfarlane, hrc, proposes, installing, ha...   \n",
       "\n",
       "                                              less_noise  \n",
       "11729  ubcforestry funding genomebc supposallynaitken...  \n",
       "8308   yadimoiina gag orders sure hes definitely gree...  \n",
       "7159   pattonoswalt ominous also wants names anyone w...  \n",
       "5644   melissajpeltier case forgot chinese hoax globa...  \n",
       "6732   sethmacfarlane hrc proposes installing half bi...  "
      ]
     },
     "execution_count": 68,
     "metadata": {},
     "output_type": "execute_result"
    }
   ],
   "source": [
    "down_sampled.head()"
   ]
  },
  {
   "cell_type": "markdown",
   "metadata": {},
   "source": [
    "## let us have a look at the new distribution of data after downsampling"
   ]
  },
  {
   "cell_type": "code",
   "execution_count": 212,
   "metadata": {},
   "outputs": [
    {
     "data": {
      "image/png": "[encoded data removed]",
      "text/plain": [
       "<Figure size 921.6x633.6 with 1 Axes>"
      ]
     },
     "metadata": {},
     "output_type": "display_data"
    }
   ],
   "source": [
    "labels = ['Pro', 'News', 'Neutral', 'Anti'] \n",
    "\n",
    "# Get all possible labels\n",
    "plt.bar(labels,df_train['sentiment'].value_counts() ,color='green')\n",
    "plt.bar(labels,down_sampled['sentiment'].value_counts() ,color='orange')\n",
    "plt.xticks(labels, ['Pro', 'News', 'Neutral', 'Anti'] )\n",
    "plt.ylabel(\"# of observations\")\n",
    "plt.legend(['original','resampled'])\n",
    "plt.show()"
   ]
  },
  {
   "cell_type": "markdown",
   "metadata": {},
   "source": [
    "# Train Test split with balanced downsampled data \n",
    "\n",
    "spliting and transforming the down sampled data and scaling it at the same town for those algorithms that need scaled data\n"
   ]
  },
  {
   "cell_type": "code",
   "execution_count": 69,
   "metadata": {},
   "outputs": [],
   "source": [
    "# importing necessary libraries\n",
    "from sklearn import datasets\n",
    "from sklearn.metrics import confusion_matrix\n",
    "from sklearn.model_selection import train_test_split\n",
    " \n",
    "# X -> features, y -> label\n",
    "down_y =  down_sampled['sentiment']\n",
    "down_X =  down_sampled['clean_sentences']\n",
    "\n",
    "# dividing X, y into train and test data\n",
    "down_X_train, down_X_test, down_y_train, down_y_test = train_test_split(down_X, down_y, \n",
    "                                random_state = 42)\n",
    "\n",
    "# extracting features\n",
    "from sklearn.feature_extraction.text import TfidfVectorizer\n",
    "\n",
    "vectorizer = TfidfVectorizer()\n",
    "down_V_train_X = vectorizer.fit_transform(down_X_train)\n",
    "down_V_test_X = vectorizer.transform(down_X_test)\n",
    "\n",
    "\n",
    "# Import the scaler module\n",
    "from sklearn import preprocessing\n",
    "scaler = preprocessing.MaxAbsScaler ()\n",
    "# Scale data\n",
    "down_X_train_scaled = scaler.fit_transform(down_V_train_X)\n",
    "down_X_test_scaled = scaler.transform(down_V_test_X)\n"
   ]
  },
  {
   "cell_type": "code",
   "execution_count": 288,
   "metadata": {},
   "outputs": [
    {
     "data": {
      "image/png": "[encoded data removed]",
      "text/plain": [
       "<Figure size 921.6x633.6 with 1 Axes>"
      ]
     },
     "metadata": {},
     "output_type": "display_data"
    }
   ],
   "source": [
    "from sklearn.datasets import fetch_20newsgroups\n",
    "from sklearn.feature_extraction.text import CountVectorizer, TfidfTransformer\n",
    "from sklearn.decomposition import PCA\n",
    "from sklearn.pipeline import Pipeline\n",
    "import matplotlib.pyplot as plt\n",
    "\n",
    "\n",
    "pipeline = Pipeline([\n",
    "    ('vect', CountVectorizer()),\n",
    "    ('tfidf', TfidfTransformer()),\n",
    "])\n",
    "\n",
    "X = scaler.fit_transform(pipeline.fit_transform(down_X_train).todense())\n",
    "\n",
    "pca = PCA(n_components=2).fit(X)\n",
    "data2D = pca.transform(X)\n",
    "plt.scatter(data2D[:,0], data2D[:,1], c = down_y_train)\n",
    "\n",
    "# \n",
    "from sklearn.cluster import KMeans\n",
    "\n",
    "kmeans = KMeans(n_clusters=2).fit(X)\n",
    "centers2D = pca.transform(kmeans.cluster_centers_)\n",
    "\n",
    "plt.scatter(centers2D[:,0], centers2D[:,1], \n",
    "            marker='x', s=200, linewidths=3, c='b')\n",
    "plt.show()              #not required if using ipython notebook\n"
   ]
  },
  {
   "cell_type": "markdown",
   "metadata": {},
   "source": [
    "The perfomance seems to `drop` with the `downsampled data` model"
   ]
  },
  {
   "cell_type": "markdown",
   "metadata": {},
   "source": [
    "# Creating sample data with SMOTE"
   ]
  },
  {
   "cell_type": "code",
   "execution_count": 32,
   "metadata": {},
   "outputs": [],
   "source": [
    "# importing necessary libraries\n",
    "from sklearn import datasets\n",
    "from sklearn.metrics import confusion_matrix\n",
    "from sklearn.model_selection import train_test_split\n",
    " \n",
    "# X -> features, y -> label\n",
    "y =  sampled['sentiment']\n",
    "X =  sampled['clean_sentences']\n",
    "\n",
    "# dividing X, y into train and test data\n",
    "X_train, X_test, y_train, y_test = train_test_split(X, y, \n",
    "                                random_state = 42)\n",
    "\n",
    "# extracting features\n",
    "from sklearn.feature_extraction.text import TfidfVectorizer\n",
    "\n",
    "vectorizer = TfidfVectorizer()\n",
    "V_train_X = vectorizer.fit_transform(X_train)\n",
    "V_test_X = vectorizer.transform(X_test)\n",
    "\n",
    "\n",
    "# Import the scaler module\n",
    "from sklearn import preprocessing\n",
    "scaler = preprocessing.MaxAbsScaler ()\n",
    "# Scale data\n",
    "X_train_scaled = scaler.fit_transform(V_train_X)\n",
    "x_test_scaled = scaler.transform(V_test_X)\n"
   ]
  },
  {
   "cell_type": "code",
   "execution_count": 44,
   "metadata": {},
   "outputs": [
    {
     "name": "stdout",
     "output_type": "stream",
     "text": [
      "Classification Report poly_pred \n",
      "              precision    recall  f1-score   support\n",
      "\n",
      "          -1       0.98      0.97      0.98      1203\n",
      "           0       0.98      0.82      0.89      1266\n",
      "           1       0.79      0.96      0.87      2008\n",
      "           2       0.95      0.79      0.86      1273\n",
      "\n",
      "    accuracy                           0.89      5750\n",
      "   macro avg       0.93      0.89      0.90      5750\n",
      "weighted avg       0.91      0.89      0.89      5750\n",
      "\n"
     ]
    }
   ],
   "source": [
    "rbf = SVC(kernel='rbf', gamma=0.5, C=0.1).fit(V_train_X, y_train)\n",
    "poly = SVC(kernel='poly', degree=3, C=1).fit(V_train_X, y_train)\n",
    "\n",
    "poly_pred = poly.predict(V_test_X)\n",
    "rbf_pred = rbf.predict(V_test_X)\n",
    "print('Classification Report poly_pred ')\n",
    "print(classification_report(y_test, poly_pred))"
   ]
  },
  {
   "cell_type": "code",
   "execution_count": 45,
   "metadata": {},
   "outputs": [
    {
     "name": "stdout",
     "output_type": "stream",
     "text": [
      "Classification Report rbf_pred \n",
      "              precision    recall  f1-score   support\n",
      "\n",
      "          -1       0.81      0.48      0.60      1203\n",
      "           0       0.72      0.25      0.37      1266\n",
      "           1       0.45      0.91      0.60      2008\n",
      "           2       0.82      0.34      0.48      1273\n",
      "\n",
      "    accuracy                           0.55      5750\n",
      "   macro avg       0.70      0.49      0.51      5750\n",
      "weighted avg       0.66      0.55      0.52      5750\n",
      "\n"
     ]
    }
   ],
   "source": [
    "print('Classification Report rbf_pred ')\n",
    "print(classification_report(y_test, rbf_pred))"
   ]
  },
  {
   "cell_type": "code",
   "execution_count": 36,
   "metadata": {},
   "outputs": [
    {
     "name": "stdout",
     "output_type": "stream",
     "text": [
      "0.6052173913043478\n",
      "Classification Report Naive Bayes\n",
      "              precision    recall  f1-score   support\n",
      "\n",
      "          -1       0.49      0.99      0.65      1203\n",
      "           0       0.70      0.58      0.64      1266\n",
      "           1       0.83      0.31      0.45      2008\n",
      "           2       0.62      0.73      0.67      1273\n",
      "\n",
      "    accuracy                           0.61      5750\n",
      "   macro avg       0.66      0.65      0.60      5750\n",
      "weighted avg       0.68      0.61      0.58      5750\n",
      "\n"
     ]
    }
   ],
   "source": [
    "\n",
    "# training a Naive classifierBayes \n",
    "from sklearn.naive_bayes import GaussianNB\n",
    "gnb = GaussianNB().fit(V_train_X.toarray(), y_train)\n",
    "gnb_predictions = gnb.predict(V_test_X.toarray())\n",
    " \n",
    "# accuracy on V_test_X\n",
    "accuracy = gnb.score(V_test_X.toarray(), y_test)\n",
    "print(accuracy)\n",
    " \n",
    "# creating a confusion matrix\n",
    "cm4 = confusion_matrix(y_test, gnb_predictions)\n",
    "\n",
    "\n",
    "print('Classification Report Naive Bayes')\n",
    "print(classification_report(y_test, gnb_predictions))\n"
   ]
  },
  {
   "cell_type": "markdown",
   "metadata": {},
   "source": [
    "# Hyperparameter tuning"
   ]
  },
  {
   "cell_type": "code",
   "execution_count": 79,
   "metadata": {},
   "outputs": [
    {
     "data": {
      "text/plain": [
       "{'C': 0.001, 'gamma': 0.001}"
      ]
     },
     "execution_count": 79,
     "metadata": {},
     "output_type": "execute_result"
    }
   ],
   "source": [
    "# Import Grid search for hyperparameter tuning\n",
    "from sklearn.model_selection import GridSearchCV\n",
    "# training a linear SVM classifier\n",
    "from sklearn.svm import SVC\n",
    "\n",
    "# number of folds to be tested on\n",
    "nfolds = 5\n",
    "\n",
    "# the values of c to check for\n",
    "Cs = [0.001, 0.01, 0.1, 1, 10]\n",
    "\n",
    "# the values of gamma\n",
    "gammas = [0.001, 0.01, 0.1, 1]\n",
    "\n",
    "# Creating the parameters dictionary\n",
    "param_grid = {\n",
    "    'C'     : Cs,\n",
    "    'gamma' : gammas\n",
    "    }\n",
    "\n",
    "# Applying the grid search and comparing based on the f1 score\n",
    "grid_SVM = GridSearchCV(SVC(kernel='linear'), param_grid, scoring='f1', cv=nfolds)\n",
    "grid_SVM.fit(up_V_train_X, up_y_train)\n",
    "\n",
    "# Getting the best parameters of grid search\n",
    "grid_SVM.best_params_\n"
   ]
  },
  {
   "cell_type": "code",
   "execution_count": null,
   "metadata": {},
   "outputs": [],
   "source": [
    "pipelineSVC = make_pipeline(StandardScaler(), SVC(random_state=1))\n",
    "#\n",
    "# Create the parameter grid\n",
    "#\n",
    "param_grid_svc = [{\n",
    "                    'svc__C': [0.001, 0.01, 0.05, 0.1, 0.5, 1.0, 10.0],\n",
    "                    'svc__kernel': ['linear']\n",
    "                  },\n",
    "                 {\n",
    "                    'svc__C': [0.001, 0.01, 0.05, 0.1, 0.5, 1.0, 10.0],\n",
    "                    'svc__gamma': [0.001, 0.01, 0.05, 0.1, 0.5, 1.0, 10.0],\n",
    "                    'svc__kernel': ['rbf']\n",
    "                 }]\n",
    "#\n",
    "# Create an instance of GridSearch Cross-validation estimator\n",
    "#\n",
    "gsSVC = GridSearchCV(estimator=pipelineSVC,\n",
    "                     param_grid = param_grid_svc,\n",
    "                     scoring='accuracy',\n",
    "                     cv=10,\n",
    "                     refit=True,\n",
    "                     n_jobs=1)\n",
    "#\n",
    "# Train the SVM classifier\n",
    "#\n",
    "gsSVC.fit(X_train, y_train)\n",
    "#\n",
    "# Print the training score of the best model\n",
    "#\n",
    "print(gsSVC.best_score_)\n",
    "#\n",
    "# Print the model parameters of the best model\n",
    "#\n",
    "print(gsSVC.best_params_)\n",
    "#\n",
    "# Print the model score on the test data using GridSearchCV score method\n",
    "#\n",
    "print('Test accuracy: %.3f' % gsSVC.score(X_test, y_test))\n",
    "#\n",
    "# Print the model score on the test data using Best estimator instance\n",
    "#\n",
    "clfSVC = gsSVC.best_estimator_\n",
    "print('Test accuracy: %.3f' % clfSVC.score(X_test, y_test))"
   ]
  },
  {
   "cell_type": "code",
   "execution_count": 81,
   "metadata": {},
   "outputs": [
    {
     "data": {
      "text/plain": [
       "{'C': 0.001, 'gamma': 0.001}"
      ]
     },
     "execution_count": 81,
     "metadata": {},
     "output_type": "execute_result"
    }
   ],
   "source": [
    "grid_SVM.best_params_\n"
   ]
  },
  {
   "cell_type": "code",
   "execution_count": 92,
   "metadata": {},
   "outputs": [
    {
     "name": "stdout",
     "output_type": "stream",
     "text": [
      "Classification Report poly_pred \n",
      "              precision    recall  f1-score   support\n",
      "\n",
      "          -1       0.00      0.00      0.00      1203\n",
      "           0       0.00      0.00      0.00      1266\n",
      "           1       0.35      1.00      0.52      2008\n",
      "           2       0.00      0.00      0.00      1273\n",
      "\n",
      "    accuracy                           0.35      5750\n",
      "   macro avg       0.09      0.25      0.13      5750\n",
      "weighted avg       0.12      0.35      0.18      5750\n",
      "\n"
     ]
    }
   ],
   "source": [
    "#rbf = SVC(kernel='rbf', gamma=0.001, C=0.001).fit(V_train_X, y_train)\n",
    "poly = SVC(kernel='poly', degree=0.001, C=0.100).fit(V_train_Xf, yf)\n",
    "\n",
    "poly_pred = poly.predict(V_test_X)\n",
    "#rbf_pred = rbf.predict(V_test_X)\n",
    "print('Classification Report poly_pred ')\n",
    "print(classification_report(y_test, poly_pred))"
   ]
  },
  {
   "cell_type": "markdown",
   "metadata": {},
   "source": [
    "# Selecting Best Features"
   ]
  },
  {
   "cell_type": "code",
   "execution_count": 86,
   "metadata": {},
   "outputs": [],
   "source": [
    "# Import the feature selector module\n",
    "from sklearn import feature_selection\n",
    "from sklearn.feature_selection import f_classif\n",
    "\n",
    "# Set up selector, choosing score function and number of features to retain\n",
    "selector_kbest = feature_selection.SelectKBest(score_func=f_classif, k=20)\n",
    "\n",
    "\n",
    "# Transform (i.e.: run selection on) the training data\n",
    "X_train_kbest = selector_kbest.fit_transform(V_train_X, y_train)\n",
    "\n",
    "# Fit model to the transformed data\n",
    "SVM_k_best = SVC(kernel='linear', degree=0.001, C=0.001).fit(X_train_kbest, y_train)\n",
    "\n",
    "\n",
    "# Before generating predictions, we'll need to transform the test data the same way we did the train data\n",
    "X_test_kbest = selector_kbest.transform(V_test_X)\n",
    "\n",
    "\n",
    "# Generate predictions from var thresh model\n",
    "pred_lm_kbest = SVM_k_best.predict(X_test_kbest)\n",
    "\n",
    "\n",
    "#rbf_pred = rbf.predict(V_test_X)\n",
    "print('Classification Report poly_pred ')\n",
    "print(classification_report(y_test, pred_lm_kbest))"
   ]
  },
  {
   "cell_type": "code",
   "execution_count": 87,
   "metadata": {},
   "outputs": [
    {
     "data": {
      "text/plain": [
       "(17250, 20)"
      ]
     },
     "execution_count": 87,
     "metadata": {},
     "output_type": "execute_result"
    }
   ],
   "source": [
    "X_train_kbest.shape"
   ]
  },
  {
   "cell_type": "code",
   "execution_count": 88,
   "metadata": {},
   "outputs": [],
   "source": [
    "# Fit model to the transformed data\n",
    "SVM_k_best = SVC(kernel='poly', degree=0.001, C=0.001).fit(X_train_kbest, y_train)"
   ]
  },
  {
   "cell_type": "code",
   "execution_count": 90,
   "metadata": {},
   "outputs": [],
   "source": [
    "# Before generating predictions, we'll need to transform the test data the same way we did the train data\n",
    "X_test_kbest = selector_kbest.transform(V_test_X)\n",
    "\n",
    "# Generate predictions from var thresh model\n",
    "pred_lm_kbest = SVM_k_best.predict(X_test_kbest)"
   ]
  },
  {
   "cell_type": "code",
   "execution_count": 91,
   "metadata": {},
   "outputs": [
    {
     "name": "stdout",
     "output_type": "stream",
     "text": [
      "Classification Report poly_pred \n",
      "              precision    recall  f1-score   support\n",
      "\n",
      "          -1       0.00      0.00      0.00      1203\n",
      "           0       0.00      0.00      0.00      1266\n",
      "           1       0.35      1.00      0.52      2008\n",
      "           2       0.00      0.00      0.00      1273\n",
      "\n",
      "    accuracy                           0.35      5750\n",
      "   macro avg       0.09      0.25      0.13      5750\n",
      "weighted avg       0.12      0.35      0.18      5750\n",
      "\n"
     ]
    }
   ],
   "source": [
    "#rbf_pred = rbf.predict(V_test_X)\n",
    "print('Classification Report poly_pred ')\n",
    "print(classification_report(y_test, pred_lm_kbest))"
   ]
  },
  {
   "cell_type": "markdown",
   "metadata": {},
   "source": [
    "# making a Submission"
   ]
  },
  {
   "cell_type": "code",
   "execution_count": 70,
   "metadata": {},
   "outputs": [],
   "source": [
    "# Traing the model with the entire data\n",
    "yf = up_sampled['sentiment']\n",
    "Xf = up_sampled['message']pus"
   ]
  },
  {
   "cell_type": "code",
   "execution_count": 71,
   "metadata": {},
   "outputs": [],
   "source": [
    "X_testf = clean_df_test['message']"
   ]
  },
  {
   "cell_type": "code",
   "execution_count": 72,
   "metadata": {},
   "outputs": [],
   "source": [
    "# extracting features\n",
    "from sklearn.feature_extraction.text import TfidfVectorizer\n",
    "\n",
    "vectorizer2 = TfidfVectorizer(ngram_range = (1,3))\n",
    "V_train_Xf = vectorizer2.fit_transform(Xf)\n",
    "V_test_Xf = vectorizer2.transform(X_testf)\n",
    "\n",
    "# Import the scaler module\n",
    "from sklearn import preprocessing\n",
    "scaler = preprocessing.MaxAbsScaler()\n",
    "\n",
    "# Scale data\n",
    "X_Train_f = scaler.fit_transform(V_train_Xf)\n",
    "X_Test_f = scaler.transform(V_test_Xf)"
   ]
  },
  {
   "cell_type": "code",
   "execution_count": 92,
   "metadata": {},
   "outputs": [
    {
     "data": {
      "text/plain": [
       "(10546, 260903)"
      ]
     },
     "execution_count": 92,
     "metadata": {},
     "output_type": "execute_result"
    }
   ],
   "source": [
    "V_test_Xf.shape"
   ]
  },
  {
   "cell_type": "code",
   "execution_count": 81,
   "metadata": {},
   "outputs": [],
   "source": [
    "# training a linear SVM classifier\n",
    "from sklearn.svm import SVC\n",
    "svm_model_linear_f = SVC(kernel = 'linear', C = 1, gamma = 0.5, probability= True).fit(V_train_Xf,yf)\n",
    "final_preds = svm_model_linear_f.predict(V_test_Xf)"
   ]
  },
  {
   "cell_type": "code",
   "execution_count": 84,
   "metadata": {},
   "outputs": [],
   "source": [
    "# training a Linear Logistics \n",
    "from sklearn.linear_model import LogisticRegression\n",
    "slm_vt_f_o = LogisticRegression(C = 0.5, multi_class='ovr').fit(X_Train_f, yf)\n",
    "spred_lr_vt_f = slm_vt_f_o.predict(X_Test_f)"
   ]
  },
  {
   "cell_type": "code",
   "execution_count": 85,
   "metadata": {},
   "outputs": [],
   "source": [
    "from sklearn.naive_bayes import MultinomialNB\n",
    "from sklearn import metrics\n",
    "\n",
    "nb_classifier_f = MultinomialNB(alpha = 0.5)\n",
    "nb_classifier_f.fit(X_Train_f, yf)\n",
    "\n",
    "fpred = nb_classifier_f.predict(X_Test_f)"
   ]
  },
  {
   "cell_type": "code",
   "execution_count": 86,
   "metadata": {},
   "outputs": [],
   "source": [
    "import pickle\n",
    "with open('vectorizer_4.pkl', 'wb') as fin:\n",
    "    pickle.dump(vectorizer2, fin)"
   ]
  },
  {
   "cell_type": "code",
   "execution_count": 87,
   "metadata": {},
   "outputs": [],
   "source": [
    "import pickle\n",
    "\n",
    "# save the model to disk\n",
    "model_name = ['SVC_linear', \"Linear_LogisticsC\", 'MultiNB']\n",
    "models = [svm_model_linear_f, slm_vt_f_o, nb_classifier_f]\n",
    "for i in range(len(models)):\n",
    "        filename = model_name[i] + '_final_4.pkl'\n",
    "        pickle.dump(models[i], open(filename, 'wb'))\n",
    "\n"
   ]
  },
  {
   "cell_type": "code",
   "execution_count": 88,
   "metadata": {},
   "outputs": [
    {
     "data": {
      "text/plain": [
       "array([1, 1, 1, ..., 0, 0, 1], dtype=int64)"
      ]
     },
     "execution_count": 88,
     "metadata": {},
     "output_type": "execute_result"
    }
   ],
   "source": [
    "preds = [final_preds, spred_lr_vt_f, fpred]\n",
    "preds[0]"
   ]
  },
  {
   "cell_type": "code",
   "execution_count": 89,
   "metadata": {},
   "outputs": [],
   "source": [
    "def submissions(preds): \n",
    "    \n",
    "    \n",
    "    model = ['SVC_linear', 'LogisticsRegression', 'MultinomialNB']\n",
    "    \n",
    "    for i in range(len(model)):\n",
    "        daf = pd.DataFrame(preds[i], columns=['sentiment'])\n",
    "        output = pd.DataFrame({\"tweetid\":df_test['tweetid']})\n",
    "        final = output.join(daf)\n",
    "        final_name = model[i] +\"_finalise59.csv\"\n",
    "        final.to_csv(final_name, index=False)\n",
    "        \n",
    "\n",
    "    return final"
   ]
  },
  {
   "cell_type": "code",
   "execution_count": 90,
   "metadata": {},
   "outputs": [],
   "source": [
    "df = submissions(preds)"
   ]
  },
  {
   "cell_type": "code",
   "execution_count": 91,
   "metadata": {},
   "outputs": [
    {
     "data": {
      "text/html": [
       "<div>\n",
       "<style scoped>\n",
       "    .dataframe tbody tr th:only-of-type {\n",
       "        vertical-align: middle;\n",
       "    }\n",
       "\n",
       "    .dataframe tbody tr th {\n",
       "        vertical-align: top;\n",
       "    }\n",
       "\n",
       "    .dataframe thead th {\n",
       "        text-align: right;\n",
       "    }\n",
       "</style>\n",
       "<table border=\"1\" class=\"dataframe\">\n",
       "  <thead>\n",
       "    <tr style=\"text-align: right;\">\n",
       "      <th></th>\n",
       "      <th>tweetid</th>\n",
       "      <th>sentiment</th>\n",
       "    </tr>\n",
       "  </thead>\n",
       "  <tbody>\n",
       "    <tr>\n",
       "      <th>0</th>\n",
       "      <td>169760</td>\n",
       "      <td>1</td>\n",
       "    </tr>\n",
       "    <tr>\n",
       "      <th>1</th>\n",
       "      <td>35326</td>\n",
       "      <td>1</td>\n",
       "    </tr>\n",
       "    <tr>\n",
       "      <th>2</th>\n",
       "      <td>224985</td>\n",
       "      <td>1</td>\n",
       "    </tr>\n",
       "    <tr>\n",
       "      <th>3</th>\n",
       "      <td>476263</td>\n",
       "      <td>1</td>\n",
       "    </tr>\n",
       "    <tr>\n",
       "      <th>4</th>\n",
       "      <td>872928</td>\n",
       "      <td>-1</td>\n",
       "    </tr>\n",
       "  </tbody>\n",
       "</table>\n",
       "</div>"
      ],
      "text/plain": [
       "   tweetid  sentiment\n",
       "0   169760          1\n",
       "1    35326          1\n",
       "2   224985          1\n",
       "3   476263          1\n",
       "4   872928         -1"
      ]
     },
     "execution_count": 91,
     "metadata": {},
     "output_type": "execute_result"
    }
   ],
   "source": [
    "df.head()"
   ]
  }
 ],
 "metadata": {
  "kernelspec": {
   "display_name": "Python 3",
   "language": "python",
   "name": "python3"
  },
  "language_info": {
   "codemirror_mode": {
    "name": "ipython",
    "version": 3
   },
   "file_extension": ".py",
   "mimetype": "text/x-python",
   "name": "python",
   "nbconvert_exporter": "python",
   "pygments_lexer": "ipython3",
   "version": "3.8.8"
  }
 },
 "nbformat": 4,
 "nbformat_minor": 4
}
